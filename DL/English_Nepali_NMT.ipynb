{
  "cells": [
    {
      "cell_type": "code",
      "execution_count": null,
      "metadata": {
        "id": "t84oh7HFfFc-"
      },
      "outputs": [],
      "source": [
        "import numpy as np\n",
        "import pandas as pd\n",
        "import matplotlib.pyplot as plt\n",
        "import re\n",
        "import random\n",
        "import torch\n",
        "from torch import nn\n"
      ]
    },
    {
      "cell_type": "code",
      "execution_count": null,
      "metadata": {
        "colab": {
          "base_uri": "https://localhost:8080/",
          "height": 363
        },
        "id": "fA1cXj9JfFc_",
        "outputId": "94f25be6-4613-45db-df01-ad97a045dedf"
      },
      "outputs": [
        {
          "output_type": "execute_result",
          "data": {
            "text/plain": [
              "                                                 eng  \\\n",
              "1624                  Are you still looking for Tom?   \n",
              "475                               This is my choice.   \n",
              "2534  Tom says he has never tried eating whale meat.   \n",
              "1692                  Tom always had a lot of money.   \n",
              "2511   Tom speaks three languages, including French.   \n",
              "1413                     Tom has a chemistry degree.   \n",
              "519                              I decided the same.   \n",
              "2391       Tom gave almost all his money to charity.   \n",
              "276                                 He is unmarried.   \n",
              "1108                       I took care of Tom's cat.   \n",
              "\n",
              "                                                    nep  \\\n",
              "1624               के तपाइँ अझै टमलाई खोज्दै हुनुहुन्छ?   \n",
              "475                                   यो मेरो रोजाई हो।   \n",
              "2534  टम भन्छन् कि उनले कहिल्यै ह्वेलको मासु खाने प्...   \n",
              "1692                         टमसँग सधैं धेरै पैसा थियो।   \n",
              "2511               टम फ्रान्सेली सहित तीन भाषा बोल्छन्।   \n",
              "1413                     टमसँग रसायनशास्त्रको डिग्री छ।   \n",
              "519                        मैले पनि त्यही निर्णय गरें ।   \n",
              "2391         टमले आफ्नो प्रायः सबै पैसा परोपकारलाई दिए।   \n",
              "276                           उहाँ अविवाहित हुनुहुन्छ ।   \n",
              "1108                    मैले टमको बिरालोको हेरचाह गरें।   \n",
              "\n",
              "                                                   info  \n",
              "1624  CC-BY 2.0 (France) Attribution: tatoeba.org #3...  \n",
              "475   CC-BY 2.0 (France) Attribution: tatoeba.org #5...  \n",
              "2534  CC-BY 2.0 (France) Attribution: tatoeba.org #1...  \n",
              "1692  CC-BY 2.0 (France) Attribution: tatoeba.org #5...  \n",
              "2511  CC-BY 2.0 (France) Attribution: tatoeba.org #8...  \n",
              "1413  CC-BY 2.0 (France) Attribution: tatoeba.org #4...  \n",
              "519   CC-BY 2.0 (France) Attribution: tatoeba.org #4...  \n",
              "2391  CC-BY 2.0 (France) Attribution: tatoeba.org #3...  \n",
              "276   CC-BY 2.0 (France) Attribution: tatoeba.org #2...  \n",
              "1108  CC-BY 2.0 (France) Attribution: tatoeba.org #3...  "
            ],
            "text/html": [
              "\n",
              "  <div id=\"df-d8e5a217-b08d-45dc-b9c2-9d564cc9ce41\" class=\"colab-df-container\">\n",
              "    <div>\n",
              "<style scoped>\n",
              "    .dataframe tbody tr th:only-of-type {\n",
              "        vertical-align: middle;\n",
              "    }\n",
              "\n",
              "    .dataframe tbody tr th {\n",
              "        vertical-align: top;\n",
              "    }\n",
              "\n",
              "    .dataframe thead th {\n",
              "        text-align: right;\n",
              "    }\n",
              "</style>\n",
              "<table border=\"1\" class=\"dataframe\">\n",
              "  <thead>\n",
              "    <tr style=\"text-align: right;\">\n",
              "      <th></th>\n",
              "      <th>eng</th>\n",
              "      <th>nep</th>\n",
              "      <th>info</th>\n",
              "    </tr>\n",
              "  </thead>\n",
              "  <tbody>\n",
              "    <tr>\n",
              "      <th>1624</th>\n",
              "      <td>Are you still looking for Tom?</td>\n",
              "      <td>के तपाइँ अझै टमलाई खोज्दै हुनुहुन्छ?</td>\n",
              "      <td>CC-BY 2.0 (France) Attribution: tatoeba.org #3...</td>\n",
              "    </tr>\n",
              "    <tr>\n",
              "      <th>475</th>\n",
              "      <td>This is my choice.</td>\n",
              "      <td>यो मेरो रोजाई हो।</td>\n",
              "      <td>CC-BY 2.0 (France) Attribution: tatoeba.org #5...</td>\n",
              "    </tr>\n",
              "    <tr>\n",
              "      <th>2534</th>\n",
              "      <td>Tom says he has never tried eating whale meat.</td>\n",
              "      <td>टम भन्छन् कि उनले कहिल्यै ह्वेलको मासु खाने प्...</td>\n",
              "      <td>CC-BY 2.0 (France) Attribution: tatoeba.org #1...</td>\n",
              "    </tr>\n",
              "    <tr>\n",
              "      <th>1692</th>\n",
              "      <td>Tom always had a lot of money.</td>\n",
              "      <td>टमसँग सधैं धेरै पैसा थियो।</td>\n",
              "      <td>CC-BY 2.0 (France) Attribution: tatoeba.org #5...</td>\n",
              "    </tr>\n",
              "    <tr>\n",
              "      <th>2511</th>\n",
              "      <td>Tom speaks three languages, including French.</td>\n",
              "      <td>टम फ्रान्सेली सहित तीन भाषा बोल्छन्।</td>\n",
              "      <td>CC-BY 2.0 (France) Attribution: tatoeba.org #8...</td>\n",
              "    </tr>\n",
              "    <tr>\n",
              "      <th>1413</th>\n",
              "      <td>Tom has a chemistry degree.</td>\n",
              "      <td>टमसँग रसायनशास्त्रको डिग्री छ।</td>\n",
              "      <td>CC-BY 2.0 (France) Attribution: tatoeba.org #4...</td>\n",
              "    </tr>\n",
              "    <tr>\n",
              "      <th>519</th>\n",
              "      <td>I decided the same.</td>\n",
              "      <td>मैले पनि त्यही निर्णय गरें ।</td>\n",
              "      <td>CC-BY 2.0 (France) Attribution: tatoeba.org #4...</td>\n",
              "    </tr>\n",
              "    <tr>\n",
              "      <th>2391</th>\n",
              "      <td>Tom gave almost all his money to charity.</td>\n",
              "      <td>टमले आफ्नो प्रायः सबै पैसा परोपकारलाई दिए।</td>\n",
              "      <td>CC-BY 2.0 (France) Attribution: tatoeba.org #3...</td>\n",
              "    </tr>\n",
              "    <tr>\n",
              "      <th>276</th>\n",
              "      <td>He is unmarried.</td>\n",
              "      <td>उहाँ अविवाहित हुनुहुन्छ ।</td>\n",
              "      <td>CC-BY 2.0 (France) Attribution: tatoeba.org #2...</td>\n",
              "    </tr>\n",
              "    <tr>\n",
              "      <th>1108</th>\n",
              "      <td>I took care of Tom's cat.</td>\n",
              "      <td>मैले टमको बिरालोको हेरचाह गरें।</td>\n",
              "      <td>CC-BY 2.0 (France) Attribution: tatoeba.org #3...</td>\n",
              "    </tr>\n",
              "  </tbody>\n",
              "</table>\n",
              "</div>\n",
              "    <div class=\"colab-df-buttons\">\n",
              "\n",
              "  <div class=\"colab-df-container\">\n",
              "    <button class=\"colab-df-convert\" onclick=\"convertToInteractive('df-d8e5a217-b08d-45dc-b9c2-9d564cc9ce41')\"\n",
              "            title=\"Convert this dataframe to an interactive table.\"\n",
              "            style=\"display:none;\">\n",
              "\n",
              "  <svg xmlns=\"http://www.w3.org/2000/svg\" height=\"24px\" viewBox=\"0 -960 960 960\">\n",
              "    <path d=\"M120-120v-720h720v720H120Zm60-500h600v-160H180v160Zm220 220h160v-160H400v160Zm0 220h160v-160H400v160ZM180-400h160v-160H180v160Zm440 0h160v-160H620v160ZM180-180h160v-160H180v160Zm440 0h160v-160H620v160Z\"/>\n",
              "  </svg>\n",
              "    </button>\n",
              "\n",
              "  <style>\n",
              "    .colab-df-container {\n",
              "      display:flex;\n",
              "      gap: 12px;\n",
              "    }\n",
              "\n",
              "    .colab-df-convert {\n",
              "      background-color: #E8F0FE;\n",
              "      border: none;\n",
              "      border-radius: 50%;\n",
              "      cursor: pointer;\n",
              "      display: none;\n",
              "      fill: #1967D2;\n",
              "      height: 32px;\n",
              "      padding: 0 0 0 0;\n",
              "      width: 32px;\n",
              "    }\n",
              "\n",
              "    .colab-df-convert:hover {\n",
              "      background-color: #E2EBFA;\n",
              "      box-shadow: 0px 1px 2px rgba(60, 64, 67, 0.3), 0px 1px 3px 1px rgba(60, 64, 67, 0.15);\n",
              "      fill: #174EA6;\n",
              "    }\n",
              "\n",
              "    .colab-df-buttons div {\n",
              "      margin-bottom: 4px;\n",
              "    }\n",
              "\n",
              "    [theme=dark] .colab-df-convert {\n",
              "      background-color: #3B4455;\n",
              "      fill: #D2E3FC;\n",
              "    }\n",
              "\n",
              "    [theme=dark] .colab-df-convert:hover {\n",
              "      background-color: #434B5C;\n",
              "      box-shadow: 0px 1px 3px 1px rgba(0, 0, 0, 0.15);\n",
              "      filter: drop-shadow(0px 1px 2px rgba(0, 0, 0, 0.3));\n",
              "      fill: #FFFFFF;\n",
              "    }\n",
              "  </style>\n",
              "\n",
              "    <script>\n",
              "      const buttonEl =\n",
              "        document.querySelector('#df-d8e5a217-b08d-45dc-b9c2-9d564cc9ce41 button.colab-df-convert');\n",
              "      buttonEl.style.display =\n",
              "        google.colab.kernel.accessAllowed ? 'block' : 'none';\n",
              "\n",
              "      async function convertToInteractive(key) {\n",
              "        const element = document.querySelector('#df-d8e5a217-b08d-45dc-b9c2-9d564cc9ce41');\n",
              "        const dataTable =\n",
              "          await google.colab.kernel.invokeFunction('convertToInteractive',\n",
              "                                                    [key], {});\n",
              "        if (!dataTable) return;\n",
              "\n",
              "        const docLinkHtml = 'Like what you see? Visit the ' +\n",
              "          '<a target=\"_blank\" href=https://colab.research.google.com/notebooks/data_table.ipynb>data table notebook</a>'\n",
              "          + ' to learn more about interactive tables.';\n",
              "        element.innerHTML = '';\n",
              "        dataTable['output_type'] = 'display_data';\n",
              "        await google.colab.output.renderOutput(dataTable, element);\n",
              "        const docLink = document.createElement('div');\n",
              "        docLink.innerHTML = docLinkHtml;\n",
              "        element.appendChild(docLink);\n",
              "      }\n",
              "    </script>\n",
              "  </div>\n",
              "\n",
              "\n",
              "<div id=\"df-ac0b0cfb-b3d3-452b-86bf-dbba9175c057\">\n",
              "  <button class=\"colab-df-quickchart\" onclick=\"quickchart('df-ac0b0cfb-b3d3-452b-86bf-dbba9175c057')\"\n",
              "            title=\"Suggest charts\"\n",
              "            style=\"display:none;\">\n",
              "\n",
              "<svg xmlns=\"http://www.w3.org/2000/svg\" height=\"24px\"viewBox=\"0 0 24 24\"\n",
              "     width=\"24px\">\n",
              "    <g>\n",
              "        <path d=\"M19 3H5c-1.1 0-2 .9-2 2v14c0 1.1.9 2 2 2h14c1.1 0 2-.9 2-2V5c0-1.1-.9-2-2-2zM9 17H7v-7h2v7zm4 0h-2V7h2v10zm4 0h-2v-4h2v4z\"/>\n",
              "    </g>\n",
              "</svg>\n",
              "  </button>\n",
              "\n",
              "<style>\n",
              "  .colab-df-quickchart {\n",
              "      --bg-color: #E8F0FE;\n",
              "      --fill-color: #1967D2;\n",
              "      --hover-bg-color: #E2EBFA;\n",
              "      --hover-fill-color: #174EA6;\n",
              "      --disabled-fill-color: #AAA;\n",
              "      --disabled-bg-color: #DDD;\n",
              "  }\n",
              "\n",
              "  [theme=dark] .colab-df-quickchart {\n",
              "      --bg-color: #3B4455;\n",
              "      --fill-color: #D2E3FC;\n",
              "      --hover-bg-color: #434B5C;\n",
              "      --hover-fill-color: #FFFFFF;\n",
              "      --disabled-bg-color: #3B4455;\n",
              "      --disabled-fill-color: #666;\n",
              "  }\n",
              "\n",
              "  .colab-df-quickchart {\n",
              "    background-color: var(--bg-color);\n",
              "    border: none;\n",
              "    border-radius: 50%;\n",
              "    cursor: pointer;\n",
              "    display: none;\n",
              "    fill: var(--fill-color);\n",
              "    height: 32px;\n",
              "    padding: 0;\n",
              "    width: 32px;\n",
              "  }\n",
              "\n",
              "  .colab-df-quickchart:hover {\n",
              "    background-color: var(--hover-bg-color);\n",
              "    box-shadow: 0 1px 2px rgba(60, 64, 67, 0.3), 0 1px 3px 1px rgba(60, 64, 67, 0.15);\n",
              "    fill: var(--button-hover-fill-color);\n",
              "  }\n",
              "\n",
              "  .colab-df-quickchart-complete:disabled,\n",
              "  .colab-df-quickchart-complete:disabled:hover {\n",
              "    background-color: var(--disabled-bg-color);\n",
              "    fill: var(--disabled-fill-color);\n",
              "    box-shadow: none;\n",
              "  }\n",
              "\n",
              "  .colab-df-spinner {\n",
              "    border: 2px solid var(--fill-color);\n",
              "    border-color: transparent;\n",
              "    border-bottom-color: var(--fill-color);\n",
              "    animation:\n",
              "      spin 1s steps(1) infinite;\n",
              "  }\n",
              "\n",
              "  @keyframes spin {\n",
              "    0% {\n",
              "      border-color: transparent;\n",
              "      border-bottom-color: var(--fill-color);\n",
              "      border-left-color: var(--fill-color);\n",
              "    }\n",
              "    20% {\n",
              "      border-color: transparent;\n",
              "      border-left-color: var(--fill-color);\n",
              "      border-top-color: var(--fill-color);\n",
              "    }\n",
              "    30% {\n",
              "      border-color: transparent;\n",
              "      border-left-color: var(--fill-color);\n",
              "      border-top-color: var(--fill-color);\n",
              "      border-right-color: var(--fill-color);\n",
              "    }\n",
              "    40% {\n",
              "      border-color: transparent;\n",
              "      border-right-color: var(--fill-color);\n",
              "      border-top-color: var(--fill-color);\n",
              "    }\n",
              "    60% {\n",
              "      border-color: transparent;\n",
              "      border-right-color: var(--fill-color);\n",
              "    }\n",
              "    80% {\n",
              "      border-color: transparent;\n",
              "      border-right-color: var(--fill-color);\n",
              "      border-bottom-color: var(--fill-color);\n",
              "    }\n",
              "    90% {\n",
              "      border-color: transparent;\n",
              "      border-bottom-color: var(--fill-color);\n",
              "    }\n",
              "  }\n",
              "</style>\n",
              "\n",
              "  <script>\n",
              "    async function quickchart(key) {\n",
              "      const quickchartButtonEl =\n",
              "        document.querySelector('#' + key + ' button');\n",
              "      quickchartButtonEl.disabled = true;  // To prevent multiple clicks.\n",
              "      quickchartButtonEl.classList.add('colab-df-spinner');\n",
              "      try {\n",
              "        const charts = await google.colab.kernel.invokeFunction(\n",
              "            'suggestCharts', [key], {});\n",
              "      } catch (error) {\n",
              "        console.error('Error during call to suggestCharts:', error);\n",
              "      }\n",
              "      quickchartButtonEl.classList.remove('colab-df-spinner');\n",
              "      quickchartButtonEl.classList.add('colab-df-quickchart-complete');\n",
              "    }\n",
              "    (() => {\n",
              "      let quickchartButtonEl =\n",
              "        document.querySelector('#df-ac0b0cfb-b3d3-452b-86bf-dbba9175c057 button');\n",
              "      quickchartButtonEl.style.display =\n",
              "        google.colab.kernel.accessAllowed ? 'block' : 'none';\n",
              "    })();\n",
              "  </script>\n",
              "</div>\n",
              "\n",
              "    </div>\n",
              "  </div>\n"
            ],
            "application/vnd.google.colaboratory.intrinsic+json": {
              "type": "dataframe",
              "summary": "{\n  \"name\": \"df\",\n  \"rows\": 10,\n  \"fields\": [\n    {\n      \"column\": \"eng\",\n      \"properties\": {\n        \"dtype\": \"string\",\n        \"num_unique_values\": 10,\n        \"samples\": [\n          \"He is unmarried.\",\n          \"This is my choice.\",\n          \"Tom has a chemistry degree.\"\n        ],\n        \"semantic_type\": \"\",\n        \"description\": \"\"\n      }\n    },\n    {\n      \"column\": \"nep\",\n      \"properties\": {\n        \"dtype\": \"string\",\n        \"num_unique_values\": 10,\n        \"samples\": [\n          \"\\u0909\\u0939\\u093e\\u0901 \\u0905\\u0935\\u093f\\u0935\\u093e\\u0939\\u093f\\u0924 \\u0939\\u0941\\u0928\\u0941\\u0939\\u0941\\u0928\\u094d\\u091b \\u0964\",\n          \"\\u092f\\u094b \\u092e\\u0947\\u0930\\u094b \\u0930\\u094b\\u091c\\u093e\\u0908 \\u0939\\u094b\\u0964\",\n          \"\\u091f\\u092e\\u0938\\u0901\\u0917 \\u0930\\u0938\\u093e\\u092f\\u0928\\u0936\\u093e\\u0938\\u094d\\u0924\\u094d\\u0930\\u0915\\u094b \\u0921\\u093f\\u0917\\u094d\\u0930\\u0940 \\u091b\\u0964\"\n        ],\n        \"semantic_type\": \"\",\n        \"description\": \"\"\n      }\n    },\n    {\n      \"column\": \"info\",\n      \"properties\": {\n        \"dtype\": \"string\",\n        \"num_unique_values\": 10,\n        \"samples\": [\n          \"CC-BY 2.0 (France) Attribution: tatoeba.org #295891 (CK) & #11929445 (taro)\",\n          \"CC-BY 2.0 (France) Attribution: tatoeba.org #54934 (CK) & #11831707 (taro)\",\n          \"CC-BY 2.0 (France) Attribution: tatoeba.org #4493620 (CK) & #11973642 (taro)\"\n        ],\n        \"semantic_type\": \"\",\n        \"description\": \"\"\n      }\n    }\n  ]\n}"
            }
          },
          "metadata": {},
          "execution_count": 77
        }
      ],
      "source": [
        "df = pd.read_csv('/content/npi.txt', sep='\\t', names = ['eng', 'nep', 'info'])\n",
        "df.sample(10)"
      ]
    },
    {
      "cell_type": "code",
      "execution_count": null,
      "metadata": {
        "colab": {
          "base_uri": "https://localhost:8080/"
        },
        "id": "sHRVDdwqfFdA",
        "outputId": "07127758-6ce3-477a-8419-7130f817dd67"
      },
      "outputs": [
        {
          "output_type": "execute_result",
          "data": {
            "text/plain": [
              "(2689, 3)"
            ]
          },
          "metadata": {},
          "execution_count": 78
        }
      ],
      "source": [
        "df.shape"
      ]
    },
    {
      "cell_type": "code",
      "execution_count": null,
      "metadata": {
        "id": "1eNHxiH5fFdA"
      },
      "outputs": [],
      "source": [
        "#data preprocessing\n",
        "\n",
        "#lowercase\n",
        "df['nep'] = df['nep'].str.lower()\n",
        "df['eng'] = df['eng'].str.lower()\n",
        "\n",
        "#remove punctuations\n",
        "\n",
        "import string\n",
        "df['nep'] = df['nep'].str.translate(str.maketrans('', '', string.punctuation))\n",
        "df['eng'] = df['eng'].str.translate(str.maketrans('', '', string.punctuation))"
      ]
    },
    {
      "cell_type": "code",
      "execution_count": null,
      "metadata": {
        "colab": {
          "base_uri": "https://localhost:8080/"
        },
        "id": "ZZP4iQEwfFdA",
        "outputId": "73f06ae1-bd16-4772-fd99-2cf7bd338904"
      },
      "outputs": [
        {
          "output_type": "stream",
          "name": "stdout",
          "text": [
            "!\"#$%&'()*+,-./:;<=>?@[\\]^_`{|}~\n"
          ]
        }
      ],
      "source": [
        "import string\n",
        "print(string.punctuation)"
      ]
    },
    {
      "cell_type": "code",
      "execution_count": null,
      "metadata": {
        "colab": {
          "base_uri": "https://localhost:8080/",
          "height": 206
        },
        "id": "UeSMzLiefFdA",
        "outputId": "a6ed0815-216c-47a4-aefd-8e8cdde4e7da"
      },
      "outputs": [
        {
          "output_type": "execute_result",
          "data": {
            "text/plain": [
              "                                    eng                                  nep  \\\n",
              "2012  tom works every day except monday   टम सोमबार बाहेक हरेक दिन काम गर्छ।   \n",
              "321                     where did he go                           ऊ कहाँ गयो   \n",
              "1394         no one brought us anything         हामीलाई कसैले केही ल्याएनन्।   \n",
              "358                    i eat vegetables                     म तरकारी खान्छु।   \n",
              "1987  those books are written in french  ती पुस्तकहरू फ्रेन्चमा लेखिएका छन्।   \n",
              "\n",
              "                                                   info  \n",
              "2012  CC-BY 2.0 (France) Attribution: tatoeba.org #6...  \n",
              "321   CC-BY 2.0 (France) Attribution: tatoeba.org #2...  \n",
              "1394  CC-BY 2.0 (France) Attribution: tatoeba.org #1...  \n",
              "358   CC-BY 2.0 (France) Attribution: tatoeba.org #8...  \n",
              "1987  CC-BY 2.0 (France) Attribution: tatoeba.org #1...  "
            ],
            "text/html": [
              "\n",
              "  <div id=\"df-9159beed-d6d2-4e11-9e0b-1ab50523be78\" class=\"colab-df-container\">\n",
              "    <div>\n",
              "<style scoped>\n",
              "    .dataframe tbody tr th:only-of-type {\n",
              "        vertical-align: middle;\n",
              "    }\n",
              "\n",
              "    .dataframe tbody tr th {\n",
              "        vertical-align: top;\n",
              "    }\n",
              "\n",
              "    .dataframe thead th {\n",
              "        text-align: right;\n",
              "    }\n",
              "</style>\n",
              "<table border=\"1\" class=\"dataframe\">\n",
              "  <thead>\n",
              "    <tr style=\"text-align: right;\">\n",
              "      <th></th>\n",
              "      <th>eng</th>\n",
              "      <th>nep</th>\n",
              "      <th>info</th>\n",
              "    </tr>\n",
              "  </thead>\n",
              "  <tbody>\n",
              "    <tr>\n",
              "      <th>2012</th>\n",
              "      <td>tom works every day except monday</td>\n",
              "      <td>टम सोमबार बाहेक हरेक दिन काम गर्छ।</td>\n",
              "      <td>CC-BY 2.0 (France) Attribution: tatoeba.org #6...</td>\n",
              "    </tr>\n",
              "    <tr>\n",
              "      <th>321</th>\n",
              "      <td>where did he go</td>\n",
              "      <td>ऊ कहाँ गयो</td>\n",
              "      <td>CC-BY 2.0 (France) Attribution: tatoeba.org #2...</td>\n",
              "    </tr>\n",
              "    <tr>\n",
              "      <th>1394</th>\n",
              "      <td>no one brought us anything</td>\n",
              "      <td>हामीलाई कसैले केही ल्याएनन्।</td>\n",
              "      <td>CC-BY 2.0 (France) Attribution: tatoeba.org #1...</td>\n",
              "    </tr>\n",
              "    <tr>\n",
              "      <th>358</th>\n",
              "      <td>i eat vegetables</td>\n",
              "      <td>म तरकारी खान्छु।</td>\n",
              "      <td>CC-BY 2.0 (France) Attribution: tatoeba.org #8...</td>\n",
              "    </tr>\n",
              "    <tr>\n",
              "      <th>1987</th>\n",
              "      <td>those books are written in french</td>\n",
              "      <td>ती पुस्तकहरू फ्रेन्चमा लेखिएका छन्।</td>\n",
              "      <td>CC-BY 2.0 (France) Attribution: tatoeba.org #1...</td>\n",
              "    </tr>\n",
              "  </tbody>\n",
              "</table>\n",
              "</div>\n",
              "    <div class=\"colab-df-buttons\">\n",
              "\n",
              "  <div class=\"colab-df-container\">\n",
              "    <button class=\"colab-df-convert\" onclick=\"convertToInteractive('df-9159beed-d6d2-4e11-9e0b-1ab50523be78')\"\n",
              "            title=\"Convert this dataframe to an interactive table.\"\n",
              "            style=\"display:none;\">\n",
              "\n",
              "  <svg xmlns=\"http://www.w3.org/2000/svg\" height=\"24px\" viewBox=\"0 -960 960 960\">\n",
              "    <path d=\"M120-120v-720h720v720H120Zm60-500h600v-160H180v160Zm220 220h160v-160H400v160Zm0 220h160v-160H400v160ZM180-400h160v-160H180v160Zm440 0h160v-160H620v160ZM180-180h160v-160H180v160Zm440 0h160v-160H620v160Z\"/>\n",
              "  </svg>\n",
              "    </button>\n",
              "\n",
              "  <style>\n",
              "    .colab-df-container {\n",
              "      display:flex;\n",
              "      gap: 12px;\n",
              "    }\n",
              "\n",
              "    .colab-df-convert {\n",
              "      background-color: #E8F0FE;\n",
              "      border: none;\n",
              "      border-radius: 50%;\n",
              "      cursor: pointer;\n",
              "      display: none;\n",
              "      fill: #1967D2;\n",
              "      height: 32px;\n",
              "      padding: 0 0 0 0;\n",
              "      width: 32px;\n",
              "    }\n",
              "\n",
              "    .colab-df-convert:hover {\n",
              "      background-color: #E2EBFA;\n",
              "      box-shadow: 0px 1px 2px rgba(60, 64, 67, 0.3), 0px 1px 3px 1px rgba(60, 64, 67, 0.15);\n",
              "      fill: #174EA6;\n",
              "    }\n",
              "\n",
              "    .colab-df-buttons div {\n",
              "      margin-bottom: 4px;\n",
              "    }\n",
              "\n",
              "    [theme=dark] .colab-df-convert {\n",
              "      background-color: #3B4455;\n",
              "      fill: #D2E3FC;\n",
              "    }\n",
              "\n",
              "    [theme=dark] .colab-df-convert:hover {\n",
              "      background-color: #434B5C;\n",
              "      box-shadow: 0px 1px 3px 1px rgba(0, 0, 0, 0.15);\n",
              "      filter: drop-shadow(0px 1px 2px rgba(0, 0, 0, 0.3));\n",
              "      fill: #FFFFFF;\n",
              "    }\n",
              "  </style>\n",
              "\n",
              "    <script>\n",
              "      const buttonEl =\n",
              "        document.querySelector('#df-9159beed-d6d2-4e11-9e0b-1ab50523be78 button.colab-df-convert');\n",
              "      buttonEl.style.display =\n",
              "        google.colab.kernel.accessAllowed ? 'block' : 'none';\n",
              "\n",
              "      async function convertToInteractive(key) {\n",
              "        const element = document.querySelector('#df-9159beed-d6d2-4e11-9e0b-1ab50523be78');\n",
              "        const dataTable =\n",
              "          await google.colab.kernel.invokeFunction('convertToInteractive',\n",
              "                                                    [key], {});\n",
              "        if (!dataTable) return;\n",
              "\n",
              "        const docLinkHtml = 'Like what you see? Visit the ' +\n",
              "          '<a target=\"_blank\" href=https://colab.research.google.com/notebooks/data_table.ipynb>data table notebook</a>'\n",
              "          + ' to learn more about interactive tables.';\n",
              "        element.innerHTML = '';\n",
              "        dataTable['output_type'] = 'display_data';\n",
              "        await google.colab.output.renderOutput(dataTable, element);\n",
              "        const docLink = document.createElement('div');\n",
              "        docLink.innerHTML = docLinkHtml;\n",
              "        element.appendChild(docLink);\n",
              "      }\n",
              "    </script>\n",
              "  </div>\n",
              "\n",
              "\n",
              "<div id=\"df-76e39bd9-754c-44e5-9ab7-82b609ad053a\">\n",
              "  <button class=\"colab-df-quickchart\" onclick=\"quickchart('df-76e39bd9-754c-44e5-9ab7-82b609ad053a')\"\n",
              "            title=\"Suggest charts\"\n",
              "            style=\"display:none;\">\n",
              "\n",
              "<svg xmlns=\"http://www.w3.org/2000/svg\" height=\"24px\"viewBox=\"0 0 24 24\"\n",
              "     width=\"24px\">\n",
              "    <g>\n",
              "        <path d=\"M19 3H5c-1.1 0-2 .9-2 2v14c0 1.1.9 2 2 2h14c1.1 0 2-.9 2-2V5c0-1.1-.9-2-2-2zM9 17H7v-7h2v7zm4 0h-2V7h2v10zm4 0h-2v-4h2v4z\"/>\n",
              "    </g>\n",
              "</svg>\n",
              "  </button>\n",
              "\n",
              "<style>\n",
              "  .colab-df-quickchart {\n",
              "      --bg-color: #E8F0FE;\n",
              "      --fill-color: #1967D2;\n",
              "      --hover-bg-color: #E2EBFA;\n",
              "      --hover-fill-color: #174EA6;\n",
              "      --disabled-fill-color: #AAA;\n",
              "      --disabled-bg-color: #DDD;\n",
              "  }\n",
              "\n",
              "  [theme=dark] .colab-df-quickchart {\n",
              "      --bg-color: #3B4455;\n",
              "      --fill-color: #D2E3FC;\n",
              "      --hover-bg-color: #434B5C;\n",
              "      --hover-fill-color: #FFFFFF;\n",
              "      --disabled-bg-color: #3B4455;\n",
              "      --disabled-fill-color: #666;\n",
              "  }\n",
              "\n",
              "  .colab-df-quickchart {\n",
              "    background-color: var(--bg-color);\n",
              "    border: none;\n",
              "    border-radius: 50%;\n",
              "    cursor: pointer;\n",
              "    display: none;\n",
              "    fill: var(--fill-color);\n",
              "    height: 32px;\n",
              "    padding: 0;\n",
              "    width: 32px;\n",
              "  }\n",
              "\n",
              "  .colab-df-quickchart:hover {\n",
              "    background-color: var(--hover-bg-color);\n",
              "    box-shadow: 0 1px 2px rgba(60, 64, 67, 0.3), 0 1px 3px 1px rgba(60, 64, 67, 0.15);\n",
              "    fill: var(--button-hover-fill-color);\n",
              "  }\n",
              "\n",
              "  .colab-df-quickchart-complete:disabled,\n",
              "  .colab-df-quickchart-complete:disabled:hover {\n",
              "    background-color: var(--disabled-bg-color);\n",
              "    fill: var(--disabled-fill-color);\n",
              "    box-shadow: none;\n",
              "  }\n",
              "\n",
              "  .colab-df-spinner {\n",
              "    border: 2px solid var(--fill-color);\n",
              "    border-color: transparent;\n",
              "    border-bottom-color: var(--fill-color);\n",
              "    animation:\n",
              "      spin 1s steps(1) infinite;\n",
              "  }\n",
              "\n",
              "  @keyframes spin {\n",
              "    0% {\n",
              "      border-color: transparent;\n",
              "      border-bottom-color: var(--fill-color);\n",
              "      border-left-color: var(--fill-color);\n",
              "    }\n",
              "    20% {\n",
              "      border-color: transparent;\n",
              "      border-left-color: var(--fill-color);\n",
              "      border-top-color: var(--fill-color);\n",
              "    }\n",
              "    30% {\n",
              "      border-color: transparent;\n",
              "      border-left-color: var(--fill-color);\n",
              "      border-top-color: var(--fill-color);\n",
              "      border-right-color: var(--fill-color);\n",
              "    }\n",
              "    40% {\n",
              "      border-color: transparent;\n",
              "      border-right-color: var(--fill-color);\n",
              "      border-top-color: var(--fill-color);\n",
              "    }\n",
              "    60% {\n",
              "      border-color: transparent;\n",
              "      border-right-color: var(--fill-color);\n",
              "    }\n",
              "    80% {\n",
              "      border-color: transparent;\n",
              "      border-right-color: var(--fill-color);\n",
              "      border-bottom-color: var(--fill-color);\n",
              "    }\n",
              "    90% {\n",
              "      border-color: transparent;\n",
              "      border-bottom-color: var(--fill-color);\n",
              "    }\n",
              "  }\n",
              "</style>\n",
              "\n",
              "  <script>\n",
              "    async function quickchart(key) {\n",
              "      const quickchartButtonEl =\n",
              "        document.querySelector('#' + key + ' button');\n",
              "      quickchartButtonEl.disabled = true;  // To prevent multiple clicks.\n",
              "      quickchartButtonEl.classList.add('colab-df-spinner');\n",
              "      try {\n",
              "        const charts = await google.colab.kernel.invokeFunction(\n",
              "            'suggestCharts', [key], {});\n",
              "      } catch (error) {\n",
              "        console.error('Error during call to suggestCharts:', error);\n",
              "      }\n",
              "      quickchartButtonEl.classList.remove('colab-df-spinner');\n",
              "      quickchartButtonEl.classList.add('colab-df-quickchart-complete');\n",
              "    }\n",
              "    (() => {\n",
              "      let quickchartButtonEl =\n",
              "        document.querySelector('#df-76e39bd9-754c-44e5-9ab7-82b609ad053a button');\n",
              "      quickchartButtonEl.style.display =\n",
              "        google.colab.kernel.accessAllowed ? 'block' : 'none';\n",
              "    })();\n",
              "  </script>\n",
              "</div>\n",
              "\n",
              "    </div>\n",
              "  </div>\n"
            ],
            "application/vnd.google.colaboratory.intrinsic+json": {
              "type": "dataframe",
              "summary": "{\n  \"name\": \"df\",\n  \"rows\": 5,\n  \"fields\": [\n    {\n      \"column\": \"eng\",\n      \"properties\": {\n        \"dtype\": \"string\",\n        \"num_unique_values\": 5,\n        \"samples\": [\n          \"where did he go\",\n          \"those books are written in french\",\n          \"no one brought us anything\"\n        ],\n        \"semantic_type\": \"\",\n        \"description\": \"\"\n      }\n    },\n    {\n      \"column\": \"nep\",\n      \"properties\": {\n        \"dtype\": \"string\",\n        \"num_unique_values\": 5,\n        \"samples\": [\n          \"\\u090a \\u0915\\u0939\\u093e\\u0901 \\u0917\\u092f\\u094b\",\n          \"\\u0924\\u0940 \\u092a\\u0941\\u0938\\u094d\\u0924\\u0915\\u0939\\u0930\\u0942 \\u092b\\u094d\\u0930\\u0947\\u0928\\u094d\\u091a\\u092e\\u093e \\u0932\\u0947\\u0916\\u093f\\u090f\\u0915\\u093e \\u091b\\u0928\\u094d\\u0964\",\n          \"\\u0939\\u093e\\u092e\\u0940\\u0932\\u093e\\u0908 \\u0915\\u0938\\u0948\\u0932\\u0947 \\u0915\\u0947\\u0939\\u0940 \\u0932\\u094d\\u092f\\u093e\\u090f\\u0928\\u0928\\u094d\\u0964\"\n        ],\n        \"semantic_type\": \"\",\n        \"description\": \"\"\n      }\n    },\n    {\n      \"column\": \"info\",\n      \"properties\": {\n        \"dtype\": \"string\",\n        \"num_unique_values\": 5,\n        \"samples\": [\n          \"CC-BY 2.0 (France) Attribution: tatoeba.org #292031 (CK) & #12037928 (taro)\",\n          \"CC-BY 2.0 (France) Attribution: tatoeba.org #11767945 (CK) & #11767948 (taro)\",\n          \"CC-BY 2.0 (France) Attribution: tatoeba.org #10127511 (DJ_Saidez) & #11858176 (taro)\"\n        ],\n        \"semantic_type\": \"\",\n        \"description\": \"\"\n      }\n    }\n  ]\n}"
            }
          },
          "metadata": {},
          "execution_count": 81
        }
      ],
      "source": [
        "df.sample(5)"
      ]
    },
    {
      "cell_type": "code",
      "execution_count": null,
      "metadata": {
        "id": "GAt52TGEfFdB"
      },
      "outputs": [],
      "source": [
        "# remove extra space\n",
        "df['nep'] = df['nep'].str.strip()\n",
        "df['eng'] = df['eng'].str.strip()"
      ]
    },
    {
      "cell_type": "code",
      "execution_count": null,
      "metadata": {
        "id": "WSJgCYozfFdB"
      },
      "outputs": [],
      "source": [
        "#add start and end marks as <start> and <end> respectively\n",
        "df['nep'] = '<start> ' + df['nep'] + ' <end>'\n",
        "# df['eng'] = '<start> ' + df['eng'] + ' <end>'"
      ]
    },
    {
      "cell_type": "code",
      "execution_count": null,
      "metadata": {
        "colab": {
          "base_uri": "https://localhost:8080/"
        },
        "id": "6yvuQvTufFdB",
        "outputId": "015da809-3a98-4f17-c0cf-45f848871ca5"
      },
      "outputs": [
        {
          "output_type": "stream",
          "name": "stdout",
          "text": [
            "['who', 'hide', 'stay', 'hello', 'smile'] ['<start>', 'को', '<end>', 'लुकाउनुहोस्।', 'लुक।']\n",
            "1992 3200\n"
          ]
        }
      ],
      "source": [
        "#tokenization\n",
        "#find vocab size of df['eng'] and df['cn']\n",
        "\n",
        "from collections import Counter\n",
        "eng_counter = Counter([word for line in df['eng'] for word in line.split()])\n",
        "n_counter = Counter([word for line in df['nep'] for word in line.split()])\n",
        "\n",
        "eng_vocabs = list(eng_counter.keys())\n",
        "nep_vocabs = list(n_counter.keys())\n",
        "\n",
        "\n",
        "print(eng_vocabs[:5], nep_vocabs[:5])\n",
        "\n",
        "print(len(eng_vocabs), len(nep_vocabs))\n"
      ]
    },
    {
      "cell_type": "code",
      "execution_count": null,
      "metadata": {
        "colab": {
          "base_uri": "https://localhost:8080/"
        },
        "id": "WUiDo8zHfFdB",
        "outputId": "dae64500-3615-4b4e-a7e3-51aa0d601c0e"
      },
      "outputs": [
        {
          "output_type": "stream",
          "name": "stdout",
          "text": [
            "25 22\n"
          ]
        }
      ],
      "source": [
        "#find the biggest sequence lenght with that sequence\n",
        "\n",
        "max_len_eng = max([len(line.split(' ')) for line in df['eng']])\n",
        "max_len_nep = max([len(line.split(' ')) for line in df['nep']])\n",
        "\n",
        "print(max_len_eng, max_len_nep)"
      ]
    },
    {
      "cell_type": "code",
      "execution_count": null,
      "metadata": {
        "colab": {
          "base_uri": "https://localhost:8080/",
          "height": 54
        },
        "id": "WRTasekyfFdC",
        "outputId": "bcbc9bae-7e7a-4d1d-b75a-10c3eabfd979"
      },
      "outputs": [
        {
          "output_type": "stream",
          "name": "stdout",
          "text": [
            "10\n"
          ]
        },
        {
          "output_type": "execute_result",
          "data": {
            "text/plain": [
              "'is it bad'"
            ],
            "application/vnd.google.colaboratory.intrinsic+json": {
              "type": "string"
            }
          },
          "metadata": {},
          "execution_count": 86
        }
      ],
      "source": [
        "ll =([len(line.split()) for line in df['eng']])\n",
        "print(ll.index(3))\n",
        "df['eng'][23]"
      ]
    },
    {
      "cell_type": "code",
      "execution_count": null,
      "metadata": {
        "colab": {
          "base_uri": "https://localhost:8080/"
        },
        "id": "PzC85t_XfFdC",
        "outputId": "66c01320-3eb6-4875-eb5c-73c04fb34c51"
      },
      "outputs": [
        {
          "output_type": "stream",
          "name": "stdout",
          "text": [
            "['zealand', 'zero', 'zoologist', 'zoology', '€100']\n"
          ]
        }
      ],
      "source": [
        "input_words = sorted(eng_vocabs)\n",
        "target_words = sorted(nep_vocabs)\n",
        "print(input_words[-5:])"
      ]
    },
    {
      "cell_type": "code",
      "execution_count": null,
      "metadata": {
        "colab": {
          "base_uri": "https://localhost:8080/"
        },
        "id": "5TbjIWtmfFdC",
        "outputId": "ea797e6b-cc63-43f0-8223-271d222f9f1a"
      },
      "outputs": [
        {
          "output_type": "stream",
          "name": "stdout",
          "text": [
            "1993 3201\n"
          ]
        }
      ],
      "source": [
        "#Machine translation begins\n",
        "\n",
        "num_encoder_tokens = len(input_words) + 1 #+1 for zero padding\n",
        "num_decoder_tokens = len(target_words) + 1\n",
        "\n",
        "print(num_encoder_tokens, num_decoder_tokens)"
      ]
    },
    {
      "cell_type": "markdown",
      "metadata": {
        "id": "hUnWDR0vfFdC"
      },
      "source": []
    },
    {
      "cell_type": "code",
      "execution_count": null,
      "metadata": {
        "colab": {
          "base_uri": "https://localhost:8080/"
        },
        "id": "aa6DIluxfFdD",
        "outputId": "1f133ec3-dac0-46e5-9ef0-7a97de594722"
      },
      "outputs": [
        {
          "output_type": "stream",
          "name": "stdout",
          "text": [
            "dict_items([('10', 1), ('100', 2), ('13', 3), ('14', 4), ('19', 5), ('20', 6), ('2013', 7), ('20th', 8), ('230', 9), ('30', 10), ('3000', 11), ('40', 12), ('430', 13), ('93', 14), ('a', 15), ('able', 16), ('aboard', 17), ('about', 18), ('above', 19), ('abroad', 20), ('abused', 21), ('accept', 22), ('accepted', 23), ('accident', 24), ('accountant', 25), ('accurate', 26), ('accurately', 27), ('across', 28), ('act', 29), ('active', 30), ('actor', 31), ('actually', 32), ('add', 33), ('addict', 34), ('address', 35), ('admit', 36), ('admitted', 37), ('advance', 38), ('adventures', 39), ('advice', 40), ('afraid', 41), ('after', 42), ('afternoon', 43), ('again', 44), ('age', 45), ('aggressive', 46), ('ago', 47), ('agree', 48), ('agreed', 49), ('ahead', 50), ('airport', 51), ('alcohol', 52), ('alice', 53), ('all', 54), ('allergic', 55), ('allergies', 56), ('allowed', 57), ('almost', 58), ('alone', 59), ('along', 60), ('already', 61), ('also', 62), ('alternative', 63), ('always', 64), ('am', 65), ('amazing', 66), ('ambitious', 67), ('amusing', 68), ('an', 69), ('ancient', 70), ('and', 71), ('angry', 72), ('animal', 73), ('animals', 74), ('announced', 75), ('annoying', 76), ('another', 77), ('answer', 78), ('answered', 79), ('any', 80), ('anybody', 81), ('anymore', 82), ('anyone', 83), ('anything', 84), ('anyway', 85), ('anywhere', 86), ('apart', 87), ('apartment', 88), ('apologize', 89), ('apologized', 90), ('appearance', 91), ('apple', 92), ('apples', 93), ('application', 94), ('appreciate', 95), ('approved', 96), ('are', 97), ('arent', 98), ('argued', 99), ('arizona', 100), ('arm', 101), ('army', 102), ('around', 103), ('arrive', 104), ('artist', 105), ('as', 106), ('ask', 107), ('asked', 108), ('asleep', 109), ('assume', 110), ('assure', 111), ('at', 112), ('ate', 113), ('attack', 114), ('attackers', 115), ('attend', 116), ('attention', 117), ('attitude', 118), ('attractive', 119), ('aunts', 120), ('australia', 121), ('awards', 122), ('aware', 123), ('away', 124), ('awful', 125), ('awkward', 126), ('b', 127), ('baby', 128), ('back', 129), ('backpack', 130), ('bad', 131), ('badly', 132), ('bag', 133), ('bags', 134), ('baking', 135), ('ball', 136), ('bananas', 137), ('bangkok', 138), ('bank', 139), ('banker', 140), ('bankrupt', 141), ('barking', 142), ('barks', 143), ('basement', 144), ('bath', 145), ('batteries', 146), ('bazaar', 147), ('be', 148), ('beans', 149), ('bear', 150), ('beat', 151), ('beautiful', 152), ('beauty', 153), ('became', 154), ('because', 155), ('become', 156), ('bed', 157), ('bee', 158), ('beef', 159), ('been', 160), ('beer', 161), ('beers', 162), ('before', 163), ('began', 164), ('begin', 165), ('beginning', 166), ('begins', 167), ('behave', 168), ('behind', 169), ('beholder', 170), ('beijing', 171), ('being', 172), ('belgium', 173), ('believe', 174), ('believed', 175), ('believing', 176), ('bell', 177), ('below', 178), ('benefits', 179), ('berlin', 180), ('bern', 181), ('best', 182), ('bestselling', 183), ('bet', 184), ('better', 185), ('between', 186), ('bicycle', 187), ('big', 188), ('bigger', 189), ('biggest', 190), ('billionaire', 191), ('billionaires', 192), ('biologist', 193), ('bird', 194), ('birthday', 195), ('bit', 196), ('bitten', 197), ('bitter', 198), ('black', 199), ('blackboard', 200), ('blame', 201), ('blames', 202), ('blank', 203), ('blew', 204), ('blocked', 205), ('blossoms', 206), ('blue', 207), ('boat', 208), ('body', 209), ('book', 210), ('booked', 211), ('booklet', 212), ('books', 213), ('bored', 214), ('born', 215), ('borrow', 216), ('borrowed', 217), ('boston', 218), ('both', 219), ('bother', 220), ('bottle', 221), ('bottles', 222), ('bought', 223), ('bowline', 224), ('box', 225), ('boxes', 226), ('boxing', 227), ('boy', 228), ('boyfriend', 229), ('boyfriends', 230), ('boys', 231), ('brasilia', 232), ('brave', 233), ('braver', 234), ('brazil', 235), ('bread', 236), ('break', 237), ('breakfast', 238), ('breathe', 239), ('bridge', 240), ('briefcase', 241), ('bright', 242), ('bring', 243), ('british', 244), ('broke', 245), ('broken', 246), ('brother', 247), ('brothers', 248), ('brought', 249), ('brown', 250), ('brussels', 251), ('bug', 252), ('bugs', 253), ('build', 254), ('building', 255), ('buildings', 256), ('bull', 257), ('bullfighting', 258), ('burned', 259), ('bus', 260), ('business', 261), ('busy', 262), ('but', 263), ('buy', 264), ('buying', 265), ('buys', 266), ('by', 267), ('c', 268), ('cab', 269), ('cake', 270), ('calculator', 271), ('call', 272), ('called', 273), ('calling', 274), ('calm', 275), ('came', 276), ('camera', 277), ('cameras', 278), ('can', 279), ('canada', 280), ('canadian', 281), ('canals', 282), ('canaries', 283), ('candle', 284), ('candy', 285), ('cannot', 286), ('cant', 287), ('cap', 288), ('capital', 289), ('captain', 290), ('car', 291), ('card', 292), ('cards', 293), ('care', 294), ('careful', 295), ('carefully', 296), ('careless', 297), ('cares', 298), ('cars', 299), ('cash', 300), ('cat', 301), ('cats', 302), ('causing', 303), ('cave', 304), ('celebrate', 305), ('cell', 306), ('center', 307), ('certain', 308), ('chair', 309), ('challenge', 310), ('chance', 311), ('change', 312), ('changed', 313), ('changes', 314), ('character', 315), ('charismatic', 316), ('charity', 317), ('chased', 318), ('cheap', 319), ('cheaper', 320), ('checked', 321), ('cheerful', 322), ('cheese', 323), ('chemistry', 324), ('cherry', 325), ('chess', 326), ('chicago', 327), ('chicken', 328), ('children', 329), ('china', 330), ('chinese', 331), ('chocolate', 332), ('choice', 333), ('choose', 334), ('chopsticks', 335), ('chose', 336), ('christmas', 337), ('chubby', 338), ('citizen', 339), ('citizens', 340), ('city', 341), ('claims', 342), ('clap', 343), ('class', 344), ('classes', 345), ('classmates', 346), ('classroom', 347), ('cleaning', 348), ('clear', 349), ('clearly', 350), ('climate', 351), ('climb', 352), ('climbed', 353), ('clogs', 354), ('close', 355), ('closed', 356), ('clothes', 357), ('clothing', 358), ('clouds', 359), ('club', 360), ('coach', 361), ('coat', 362), ('coffee', 363), ('coin', 364), ('coins', 365), ('coke', 366), ('cold', 367), ('colder', 368), ('colleagues', 369), ('collect', 370), ('college', 371), ('color', 372), ('colors', 373), ('come', 374), ('comes', 375), ('comfort', 376), ('comfortable', 377), ('coming', 378), ('communication', 379), ('companies', 380), ('company', 381), ('compare', 382), ('competent', 383), ('competitive', 384), ('complain', 385), ('complained', 386), ('complaints', 387), ('complex', 388), ('complicated', 389), ('computer', 390), ('conceive', 391), ('concentrate', 392), ('concerned', 393), ('concert', 394), ('conference', 395), ('confused', 396), ('confusing', 397), ('congratulations', 398), ('cons', 399), ('conservative', 400), ('constant', 401), ('contact', 402), ('continue', 403), ('contribute', 404), ('control', 405), ('convalescing', 406), ('convince', 407), ('convinced', 408), ('convincing', 409), ('cook', 410), ('cookbooks', 411), ('cooked', 412), ('cookie', 413), ('cookies', 414), ('cooking', 415), ('cool', 416), ('cooler', 417), ('cooperative', 418), ('correct', 419), ('cost', 420), ('cough', 421), ('could', 422), ('couldnt', 423), ('countries', 424), ('couple', 425), ('courageous', 426), ('cousins', 427), ('covered', 428), ('cows', 429), ('crackers', 430), ('cranky', 431), ('crazy', 432), ('cream', 433), ('creative', 434), ('cried', 435), ('criminal', 436), ('crowded', 437), ('cry', 438), ('crying', 439), ('cultures', 440), ('cup', 441), ('cure', 442), ('curious', 443), ('curry', 444), ('cut', 445), ('cycling', 446), ('dad', 447), ('daiquiri', 448), ('damaged', 449), ('dance', 450), ('danced', 451), ('dangerous', 452), ('dark', 453), ('darker', 454), ('date', 455), ('dating', 456), ('daughter', 457), ('daughters', 458), ('day', 459), ('days', 460), ('dazed', 461), ('dead', 462), ('deal', 463), ('debt', 464), ('decide', 465), ('decided', 466), ('deeply', 467), ('defeat', 468), ('defeated', 469), ('definitely', 470), ('degree', 471), ('delete', 472), ('delicious', 473), ('delightful', 474), ('depend', 475), ('derailed', 476), ('deserve', 477), ('desk', 478), ('dessert', 479), ('destroyed', 480), ('details', 481), ('detained', 482), ('detergent', 483), ('developed', 484), ('did', 485), ('didnt', 486), ('die', 487), ('died', 488), ('dieting', 489), ('difference', 490), ('difficult', 491), ('dinner', 492), ('director', 493), ('disappeared', 494), ('disappointed', 495), ('disco', 496), ('discussed', 497), ('dishes', 498), ('disliked', 499), ('distance', 500), ('divorced', 501), ('do', 502), ('doctor', 503), ('doctors', 504), ('does', 505), ('doesnt', 506), ('dog', 507), ('dogs', 508), ('doing', 509), ('dollars', 510), ('done', 511), ('dont', 512), ('door', 513), ('doors', 514), ('doubt', 515), ('down', 516), ('downloaded', 517), ('downstairs', 518), ('drank', 519), ('draw', 520), ('drawer', 521), ('dream', 522), ('dress', 523), ('drink', 524), ('drinking', 525), ('drinks', 526), ('drive', 527), ('driver', 528), ('driving', 529), ('drops', 530), ('drugs', 531), ('drummer', 532), ('drunk', 533), ('ducks', 534), ('dumb', 535), ('durian', 536), ('duties', 537), ('dying', 538), ('each', 539), ('earlier', 540), ('earned', 541), ('easier', 542), ('easily', 543), ('easy', 544), ('eat', 545), ('eaten', 546), ('eating', 547), ('eats', 548), ('egg', 549), ('eggs', 550), ('egypt', 551), ('eight', 552), ('eighteen', 553), ('either', 554), ('elderly', 555), ('else', 556), ('emphasize', 557), ('empty', 558), ('encourage', 559), ('enemy', 560), ('engine', 561), ('england', 562), ('english', 563), ('enjoy', 564), ('enjoyed', 565), ('enjoying', 566), ('enough', 567), ('enter', 568), ('error', 569), ('escaped', 570), ('especially', 571), ('essay', 572), ('even', 573), ('evening', 574), ('ever', 575), ('everest', 576), ('every', 577), ('everybody', 578), ('everyone', 579), ('everything', 580), ('everythings', 581), ('everywhere', 582), ('exactly', 583), ('exam', 584), ('example', 585), ('exams', 586), ('excellent', 587), ('except', 588), ('exceptions', 589), ('exchange', 590), ('exchanging', 591), ('excited', 592), ('exciting', 593), ('excuse', 594), ('exercise', 595), ('exist', 596), ('expect', 597), ('expected', 598), ('expecting', 599), ('expensive', 600), ('explain', 601), ('explosion', 602), ('express', 603), ('extra', 604), ('extremely', 605), ('eye', 606), ('eyes', 607), ('eyesight', 608), ('face', 609), ('facing', 610), ('fact', 611), ('facts', 612), ('fake', 613), ('fall', 614), ('fallen', 615), ('falling', 616), ('family', 617), ('famous', 618), ('far', 619), ('fast', 620), ('faster', 621), ('father', 622), ('fathers', 623), ('fault', 624), ('favor', 625), ('favorite', 626), ('february', 627), ('feel', 628), ('feeling', 629), ('feels', 630), ('fell', 631), ('felt', 632), ('few', 633), ('fight', 634), ('figure', 635), ('files', 636), ('filled', 637), ('final', 638), ('finally', 639), ('financial', 640), ('find', 641), ('fine', 642), ('finish', 643), ('finished', 644), ('finland', 645), ('fire', 646), ('first', 647), ('fish', 648), ('fishing', 649), ('five', 650), ('fix', 651), ('fixed', 652), ('flashlight', 653), ('flew', 654), ('flowers', 655), ('flown', 656), ('fluently', 657), ('fly', 658), ('fog', 659), ('folk', 660), ('follow', 661), ('food', 662), ('foolish', 663), ('foot', 664), ('for', 665), ('foreign', 666), ('foreigner', 667), ('foreigners', 668), ('forever', 669), ('forget', 670), ('forgive', 671), ('forgot', 672), ('forgotten', 673), ('former', 674), ('fortune', 675), ('forty', 676), ('forward', 677), ('found', 678), ('fountain', 679), ('four', 680), ('france', 681), ('free', 682), ('french', 683), ('fresh', 684), ('freshman', 685), ('fried', 686), ('friend', 687), ('friendly', 688), ('friends', 689), ('fries', 690), ('from', 691), ('front', 692), ('fruit', 693), ('fuji', 694), ('full', 695), ('fully', 696), ('fun', 697), ('funny', 698), ('further', 699), ('fuse', 700), ('future', 701), ('game', 702), ('games', 703), ('gas', 704), ('gate', 705), ('gave', 706), ('generally', 707), ('gentle', 708), ('gentleman', 709), ('germany', 710), ('get', 711), ('gets', 712), ('getting', 713), ('ghosts', 714), ('gift', 715), ('gingerbread', 716), ('girl', 717), ('girlfriend', 718), ('girls', 719), ('give', 720), ('glad', 721), ('glasses', 722), ('go', 723), ('goal', 724), ('godmother', 725), ('goes', 726), ('going', 727), ('gold', 728), ('golf', 729), ('gone', 730), ('good', 731), ('goodbye', 732), ('goodlooking', 733), ('got', 734), ('gotten', 735), ('grabbed', 736), ('grade', 737), ('gradually', 738), ('graduated', 739), ('grammar', 740), ('grandfather', 741), ('grandmother', 742), ('grass', 743), ('grateful', 744), ('great', 745), ('greatest', 746), ('greatgrandmother', 747), ('grew', 748), ('group', 749), ('grow', 750), ('grows', 751), ('guess', 752), ('guide', 753), ('guilty', 754), ('guitar', 755), ('gun', 756), ('guy', 757), ('guys', 758), ('habits', 759), ('had', 760), ('hadnt', 761), ('hair', 762), ('haircut', 763), ('half', 764), ('halfbrother', 765), ('halloween', 766), ('hamburgers', 767), ('hammer', 768), ('hand', 769), ('handle', 770), ('hands', 771), ('happen', 772), ('happened', 773), ('happening', 774), ('happens', 775), ('happy', 776), ('hard', 777), ('harvard', 778), ('has', 779), ('hasnt', 780), ('hat', 781), ('hate', 782), ('hated', 783), ('hates', 784), ('haunted', 785), ('have', 786), ('havent', 787), ('having', 788), ('hayashi', 789), ('he', 790), ('head', 791), ('headache', 792), ('headed', 793), ('headline', 794), ('health', 795), ('healthy', 796), ('hear', 797), ('heard', 798), ('heart', 799), ('heat', 800), ('heaven', 801), ('heavier', 802), ('heavy', 803), ('hed', 804), ('heights', 805), ('hello', 806), ('help', 807), ('helped', 808), ('helpful', 809), ('helping', 810), ('helsinki', 811), ('her', 812), ('here', 813), ('herself', 814), ('hes', 815), ('hi', 816), ('hiccups', 817), ('hidden', 818), ('hide', 819), ('hiding', 820), ('high', 821), ('highest', 822), ('highly', 823), ('hiking', 824), ('him', 825), ('himself', 826), ('hippopotamus', 827), ('hire', 828), ('his', 829), ('history', 830), ('hit', 831), ('hobby', 832), ('hold', 833), ('holding', 834), ('holiday', 835), ('home', 836), ('homework', 837), ('honestly', 838), ('hope', 839), ('hoping', 840), ('horizon', 841), ('hospital', 842), ('hot', 843), ('hotel', 844), ('hour', 845), ('hours', 846), ('house', 847), ('houses', 848), ('how', 849), ('hows', 850), ('human', 851), ('humiliating', 852), ('hunger', 853), ('hungry', 854), ('hunting', 855), ('hurry', 856), ('hurt', 857), ('hurts', 858), ('husband', 859), ('husbands', 860), ('i', 861), ('ice', 862), ('id', 863), ('idea', 864), ('ideas', 865), ('identify', 866), ('if', 867), ('ignore', 868), ('ill', 869), ('im', 870), ('imagining', 871), ('immediately', 872), ('import', 873), ('important', 874), ('impossible', 875), ('impress', 876), ('impressed', 877), ('impressive', 878), ('improve', 879), ('in', 880), ('incentive', 881), ('including', 882), ('india', 883), ('inevitable', 884), ('influential', 885), ('injured', 886), ('insects', 887), ('insecure', 888), ('inside', 889), ('instead', 890), ('intelligent', 891), ('intends', 892), ('interested', 893), ('interesting', 894), ('internet', 895), ('intersection', 896), ('into', 897), ('involved', 898), ('irish', 899), ('iron', 900), ('is', 901), ('island', 902), ('isnt', 903), ('issues', 904), ('it', 905), ('italy', 906), ('itll', 907), ('its', 908), ('ive', 909), ('jackson', 910), ('jail', 911), ('japan', 912), ('japanese', 913), ('jazz', 914), ('jealous', 915), ('jeans', 916), ('job', 917), ('jobs', 918), ('john', 919), ('join', 920), ('joined', 921), ('joke', 922), ('judged', 923), ('juice', 924), ('july', 925), ('jumped', 926), ('just', 927), ('keep', 928), ('kept', 929), ('ketchup', 930), ('key', 931), ('keys', 932), ('kid', 933), ('kidding', 934), ('kids', 935), ('killed', 936), ('kilometers', 937), ('kind', 938), ('king', 939), ('kiss', 940), ('kissed', 941), ('kite', 942), ('kitten', 943), ('knew', 944), ('knife', 945), ('knocked', 946), ('know', 947), ('knowing', 948), ('known', 949), ('knows', 950), ('korean', 951), ('kosher', 952), ('kyiv', 953), ('lamp', 954), ('language', 955), ('languages', 956), ('laptop', 957), ('large', 958), ('larger', 959), ('last', 960), ('late', 961), ('lately', 962), ('later', 963), ('latin', 964), ('laugh', 965), ('laughing', 966), ('laughs', 967), ('laughter', 968), ('laundry', 969), ('law', 970), ('lazy', 971), ('lead', 972), ('learn', 973), ('learned', 974), ('learning', 975), ('least', 976), ('leather', 977), ('leave', 978), ('leaves', 979), ('leaving', 980), ('left', 981), ('legs', 982), ('lend', 983), ('lent', 984), ('let', 985), ('lets', 986), ('letter', 987), ('letters', 988), ('library', 989), ('lie', 990), ('lied', 991), ('life', 992), ('lifetime', 993), ('light', 994), ('lightning', 995), ('like', 996), ('liked', 997), ('likely', 998), ('likes', 999), ('limping', 1000), ('line', 1001), ('lion', 1002), ('lips', 1003), ('liquid', 1004), ('list', 1005), ('listed', 1006), ('listen', 1007), ('listened', 1008), ('listening', 1009), ('lit', 1010), ('liter', 1011), ('literally', 1012), ('little', 1013), ('live', 1014), ('lived', 1015), ('lives', 1016), ('living', 1017), ('loan', 1018), ('local', 1019), ('locked', 1020), ('log', 1021), ('london', 1022), ('lonely', 1023), ('long', 1024), ('longer', 1025), ('look', 1026), ('looked', 1027), ('looking', 1028), ('looks', 1029), ('lose', 1030), ('loss', 1031), ('lost', 1032), ('lot', 1033), ('louder', 1034), ('love', 1035), ('loved', 1036), ('lovely', 1037), ('lover', 1038), ('loves', 1039), ('low', 1040), ('lower', 1041), ('lucky', 1042), ('lunch', 1043), ('lying', 1044), ('machine', 1045), ('mad', 1046), ('made', 1047), ('madrid', 1048), ('mail', 1049), ('mailbox', 1050), ('make', 1051), ('makes', 1052), ('making', 1053), ('man', 1054), ('many', 1055), ('map', 1056), ('marine', 1057), ('mark', 1058), ('married', 1059), ('marry', 1060), ('marshmallows', 1061), ('mary', 1062), ('marys', 1063), ('mask', 1064), ('material', 1065), ('math', 1066), ('mathematics', 1067), ('matter', 1068), ('may', 1069), ('maybe', 1070), ('me', 1071), ('mean', 1072), ('meaning', 1073), ('means', 1074), ('meat', 1075), ('medicine', 1076), ('meet', 1077), ('meeting', 1078), ('meetings', 1079), ('member', 1080), ('men', 1081), ('merry', 1082), ('message', 1083), ('met', 1084), ('mexican', 1085), ('microwave', 1086), ('middle', 1087), ('might', 1088), ('mightve', 1089), ('miles', 1090), ('milk', 1091), ('million', 1092), ('millionaire', 1093), ('mind', 1094), ('mine', 1095), ('minute', 1096), ('minutes', 1097), ('misleading', 1098), ('miss', 1099), ('mistake', 1100), ('mistaken', 1101), ('mistakes', 1102), ('model', 1103), ('modest', 1104), ('moment', 1105), ('monday', 1106), ('mondays', 1107), ('money', 1108), ('mongolia', 1109), ('month', 1110), ('months', 1111), ('mood', 1112), ('moon', 1113), ('more', 1114), ('morning', 1115), ('mosquitoes', 1116), ('most', 1117), ('mother', 1118), ('motor', 1119), ('motorcycle', 1120), ('mount', 1121), ('mountain', 1122), ('mountaintops', 1123), ('mouth', 1124), ('moved', 1125), ('movie', 1126), ('movies', 1127), ('mt', 1128), ('much', 1129), ('mug', 1130), ('mushrooms', 1131), ('music', 1132), ('musician', 1133), ('must', 1134), ('my', 1135), ('myself', 1136), ('nakameguro', 1137), ('name', 1138), ('names', 1139), ('narrow', 1140), ('naughty', 1141), ('near', 1142), ('nearby', 1143), ('nearly', 1144), ('necessary', 1145), ('need', 1146), ('needed', 1147), ('needs', 1148), ('neighbor', 1149), ('neighborhood', 1150), ('neither', 1151), ('nervous', 1152), ('netherlands', 1153), ('never', 1154), ('new', 1155), ('next', 1156), ('nice', 1157), ('nickname', 1158), ('night', 1159), ('nine', 1160), ('no', 1161), ('nobel', 1162), ('nobody', 1163), ('noisy', 1164), ('nor', 1165), ('normal', 1166), ('not', 1167), ('notebook', 1168), ('notes', 1169), ('nothing', 1170), ('notice', 1171), ('novels', 1172), ('now', 1173), ('nowadays', 1174), ('number', 1175), ('numbers', 1176), ('nursing', 1177), ('nutritious', 1178), ('obnoxious', 1179), ('obvious', 1180), ('obviously', 1181), ('ocean', 1182), ('oclock', 1183), ('october', 1184), ('of', 1185), ('off', 1186), ('offended', 1187), ('offered', 1188), ('office', 1189), ('often', 1190), ('oh', 1191), ('ok', 1192), ('okay', 1193), ('old', 1194), ('older', 1195), ('on', 1196), ('once', 1197), ('one', 1198), ('ones', 1199), ('only', 1200), ('open', 1201), ('opened', 1202), ('opens', 1203), ('opinion', 1204), ('or', 1205), ('orange', 1206), ('oranges', 1207), ('ostriches', 1208), ('other', 1209), ('otherwise', 1210), ('ottawa', 1211), ('ought', 1212), ('our', 1213), ('out', 1214), ('outside', 1215), ('oven', 1216), ('over', 1217), ('overreact', 1218), ('overseas', 1219), ('overweight', 1220), ('own', 1221), ('pack', 1222), ('page', 1223), ('paid', 1224), ('pain', 1225), ('painful', 1226), ('paint', 1227), ('painted', 1228), ('palace', 1229), ('pancakes', 1230), ('papers', 1231), ('parents', 1232), ('paris', 1233), ('park', 1234), ('parked', 1235), ('parking', 1236), ('part', 1237), ('particularly', 1238), ('party', 1239), ('passed', 1240), ('passengers', 1241), ('passport', 1242), ('pattern', 1243), ('pay', 1244), ('paying', 1245), ('payment', 1246), ('peach', 1247), ('peak', 1248), ('peas', 1249), ('pen', 1250), ('pencil', 1251), ('pens', 1252), ('people', 1253), ('per', 1254), ('perfect', 1255), ('person', 1256), ('pet', 1257), ('phoenix', 1258), ('phone', 1259), ('photographs', 1260), ('pick', 1261), ('picture', 1262), ('piece', 1263), ('pig', 1264), ('pizza', 1265), ('place', 1266), ('plan', 1267), ('plane', 1268), ('planes', 1269), ('planning', 1270), ('plans', 1271), ('planted', 1272), ('plants', 1273), ('play', 1274), ('played', 1275), ('player', 1276), ('playing', 1277), ('plays', 1278), ('please', 1279), ('pleased', 1280), ('plumber', 1281), ('pocket', 1282), ('pocketknife', 1283), ('poem', 1284), ('poems', 1285), ('point', 1286), ('pointing', 1287), ('poland', 1288), ('police', 1289), ('policeman', 1290), ('polite', 1291), ('pond', 1292), ('poor', 1293), ('pop', 1294), ('popular', 1295), ('pork', 1296), ('positive', 1297), ('possible', 1298), ('potential', 1299), ('power', 1300), ('powerful', 1301), ('practical', 1302), ('pray', 1303), ('predict', 1304), ('predictable', 1305), ('prefer', 1306), ('preparations', 1307), ('pressure', 1308), ('pretended', 1309), ('pretty', 1310), ('price', 1311), ('prices', 1312), ('prime', 1313), ('prison', 1314), ('prize', 1315), ('proactive', 1316), ('probably', 1317), ('problem', 1318), ('problems', 1319), ('process', 1320), ('produces', 1321), ('products', 1322), ('professor', 1323), ('promised', 1324), ('pronouncing', 1325), ('proof', 1326), ('pros', 1327), ('protect', 1328), ('proved', 1329), ('public', 1330), ('pulled', 1331), ('punch', 1332), ('puppy', 1333), ('purpose', 1334), ('put', 1335), ('question', 1336), ('questions', 1337), ('quicker', 1338), ('quickly', 1339), ('quiet', 1340), ('quietly', 1341), ('quit', 1342), ('quite', 1343), ('radio', 1344), ('rain', 1345), ('rained', 1346), ('raining', 1347), ('raise', 1348), ('ramen', 1349), ('ran', 1350), ('rang', 1351), ('rare', 1352), ('rate', 1353), ('rather', 1354), ('reach', 1355), ('read', 1356), ('reading', 1357), ('ready', 1358), ('real', 1359), ('realize', 1360), ('realized', 1361), ('really', 1362), ('received', 1363), ('recent', 1364), ('red', 1365), ('refrigerator', 1366), ('refused', 1367), ('regrets', 1368), ('relationship', 1369), ('relatives', 1370), ('relax', 1371), ('reluctant', 1372), ('remained', 1373), ('remember', 1374), ('remembers', 1375), ('remind', 1376), ('rent', 1377), ('repair', 1378), ('repeat', 1379), ('repeated', 1380), ('rephrase', 1381), ('replaceable', 1382), ('reply', 1383), ('report', 1384), ('reprimanded', 1385), ('requested', 1386), ('required', 1387), ('respect', 1388), ('response', 1389), ('rest', 1390), ('restaurant', 1391), ('restroom', 1392), ('results', 1393), ('return', 1394), ('rewarded', 1395), ('rice', 1396), ('rich', 1397), ('ride', 1398), ('riding', 1399), ('right', 1400), ('ring', 1401), ('rings', 1402), ('risk', 1403), ('risky', 1404), ('rival', 1405), ('river', 1406), ('robbed', 1407), ('rock', 1408), ('rolled', 1409), ('rome', 1410), ('roof', 1411), ('room', 1412), ('roommate', 1413), ('rooms', 1414), ('rosemary', 1415), ('roses', 1416), ('round', 1417), ('rude', 1418), ('rule', 1419), ('rumored', 1420), ('run', 1421), ('runner', 1422), ('running', 1423), ('sacred', 1424), ('sad', 1425), ('safe', 1426), ('said', 1427), ('sale', 1428), ('same', 1429), ('sandwiches', 1430), ('sang', 1431), ('santas', 1432), ('sashimi', 1433), ('sat', 1434), ('save', 1435), ('saw', 1436), ('say', 1437), ('saying', 1438), ('says', 1439), ('scare', 1440), ('scared', 1441), ('scary', 1442), ('school', 1443), ('schoolbooks', 1444), ('scored', 1445), ('scripts', 1446), ('sea', 1447), ('searched', 1448), ('searching', 1449), ('seat', 1450), ('secret', 1451), ('see', 1452), ('seem', 1453), ('seemed', 1454), ('seems', 1455), ('seen', 1456), ('send', 1457), ('senior', 1458), ('seniority', 1459), ('sense', 1460), ('sent', 1461), ('sentence', 1462), ('serious', 1463), ('seriously', 1464), ('served', 1465), ('set', 1466), ('setting', 1467), ('seven', 1468), ('several', 1469), ('sewing', 1470), ('shake', 1471), ('shall', 1472), ('shallow', 1473), ('shape', 1474), ('share', 1475), ('sharkskin', 1476), ('sharp', 1477), ('she', 1478), ('sheep', 1479), ('shibuya', 1480), ('shirt', 1481), ('shirts', 1482), ('shirtsleeves', 1483), ('shock', 1484), ('shocked', 1485), ('shoe', 1486), ('shoes', 1487), ('shoot', 1488), ('shop', 1489), ('shopping', 1490), ('short', 1491), ('shortest', 1492), ('shot', 1493), ('should', 1494), ('shouldnt', 1495), ('shouldve', 1496), ('show', 1497), ('showed', 1498), ('showing', 1499), ('sick', 1500), ('side', 1501), ('sightseeing', 1502), ('sign', 1503), ('silver', 1504), ('simple', 1505), ('since', 1506), ('sing', 1507), ('singer', 1508), ('singing', 1509), ('single', 1510), ('sir', 1511), ('sister', 1512), ('sisters', 1513), ('sit', 1514), ('sitting', 1515), ('situation', 1516), ('sixteen', 1517), ('sixthirty', 1518), ('size', 1519), ('skiing', 1520), ('skin', 1521), ('skip', 1522), ('skipper', 1523), ('sleep', 1524), ('sleeping', 1525), ('sleepy', 1526), ('slept', 1527), ('slight', 1528), ('slow', 1529), ('slowly', 1530), ('small', 1531), ('smart', 1532), ('smartest', 1533), ('smell', 1534), ('smile', 1535), ('smiling', 1536), ('smoke', 1537), ('snake', 1538), ('snow', 1539), ('snowing', 1540), ('so', 1541), ('soccer', 1542), ('socks', 1543), ('sold', 1544), ('solve', 1545), ('some', 1546), ('someone', 1547), ('something', 1548), ('sometimes', 1549), ('somewhat', 1550), ('somewhere', 1551), ('son', 1552), ('song', 1553), ('soninlaw', 1554), ('soon', 1555), ('sorry', 1556), ('sound', 1557), ('sour', 1558), ('source', 1559), ('spain', 1560), ('speak', 1561), ('speaking', 1562), ('speaks', 1563), ('special', 1564), ('speeches', 1565), ('speed', 1566), ('spell', 1567), ('spend', 1568), ('spends', 1569), ('spent', 1570), ('spider', 1571), ('spilled', 1572), ('spoken', 1573), ('sports', 1574), ('spots', 1575), ('sprang', 1576), ('spread', 1577), ('staff', 1578), ('standing', 1579), ('staring', 1580), ('start', 1581), ('started', 1582), ('starved', 1583), ('starving', 1584), ('states', 1585), ('station', 1586), ('stay', 1587), ('stayed', 1588), ('staying', 1589), ('steak', 1590), ('steal', 1591), ('still', 1592), ('stole', 1593), ('stolen', 1594), ('stop', 1595), ('stopped', 1596), ('stopping', 1597), ('store', 1598), ('story', 1599), ('stove', 1600), ('straight', 1601), ('strange', 1602), ('stranger', 1603), ('strapless', 1604), ('street', 1605), ('stretch', 1606), ('strict', 1607), ('strong', 1608), ('stronger', 1609), ('student', 1610), ('students', 1611), ('study', 1612), ('studying', 1613), ('stuff', 1614), ('stupid', 1615), ('subject', 1616), ('submitted', 1617), ('submitting', 1618), ('suburbs', 1619), ('succeed', 1620), ('success', 1621), ('such', 1622), ('sugar', 1623), ('suggestion', 1624), ('suggestions', 1625), ('suitcase', 1626), ('suitcases', 1627), ('suits', 1628), ('summary', 1629), ('summer', 1630), ('sun', 1631), ('sunday', 1632), ('sunglasses', 1633), ('sunny', 1634), ('sunscreen', 1635), ('supermarket', 1636), ('supper', 1637), ('supplies', 1638), ('supply', 1639), ('suppose', 1640), ('supposed', 1641), ('sure', 1642), ('surgery', 1643), ('surprised', 1644), ('survive', 1645), ('suspect', 1646), ('suspended', 1647), ('suspension', 1648), ('swear', 1649), ('sweater', 1650), ('sweet', 1651), ('swim', 1652), ('swimming', 1653), ('switzerland', 1654), ('system', 1655), ('table', 1656), ('tag', 1657), ('tail', 1658), ('tails', 1659), ('take', 1660), ('taken', 1661), ('taking', 1662), ('talented', 1663), ('talk', 1664), ('talkative', 1665), ('talking', 1666), ('tall', 1667), ('taller', 1668), ('tallest', 1669), ('tattoo', 1670), ('taught', 1671), ('tax', 1672), ('taxi', 1673), ('tea', 1674), ('teach', 1675), ('teacher', 1676), ('teachers', 1677), ('teaches', 1678), ('teaching', 1679), ('team', 1680), ('teammate', 1681), ('teams', 1682), ('teenager', 1683), ('television', 1684), ('televisions', 1685), ('tell', 1686), ('telling', 1687), ('tells', 1688), ('temporary', 1689), ('ten', 1690), ('tends', 1691), ('tennis', 1692), ('terrible', 1693), ('terribly', 1694), ('terrified', 1695), ('tests', 1696), ('texas', 1697), ('thailand', 1698), ('than', 1699), ('thank', 1700), ('thanks', 1701), ('that', 1702), ('thatll', 1703), ('thats', 1704), ('the', 1705), ('theater', 1706), ('theft', 1707), ('them', 1708), ('then', 1709), ('there', 1710), ('theres', 1711), ('these', 1712), ('they', 1713), ('theyll', 1714), ('theyre', 1715), ('theyve', 1716), ('thick', 1717), ('thing', 1718), ('things', 1719), ('think', 1720), ('thinker', 1721), ('thinking', 1722), ('thinks', 1723), ('third', 1724), ('thirsty', 1725), ('thirteen', 1726), ('thirty', 1727), ('this', 1728), ('thisll', 1729), ('those', 1730), ('thought', 1731), ('thousand', 1732), ('threatened', 1733), ('three', 1734), ('threeyearold', 1735), ('threw', 1736), ('throw', 1737), ('ticket', 1738), ('tickets', 1739), ('tie', 1740), ('tightfitting', 1741), ('tiki', 1742), ('time', 1743), ('times', 1744), ('tired', 1745), ('title', 1746), ('to', 1747), ('today', 1748), ('todays', 1749), ('toe', 1750), ('together', 1751), ('toilet', 1752), ('tokyo', 1753), ('told', 1754), ('tom', 1755), ('tomatoes', 1756), ('tomorrow', 1757), ('tomorrows', 1758), ('toms', 1759), ('tonight', 1760), ('too', 1761), ('took', 1762), ('toolbox', 1763), ('top', 1764), ('tossed', 1765), ('totally', 1766), ('touch', 1767), ('touching', 1768), ('tour', 1769), ('toward', 1770), ('town', 1771), ('townie', 1772), ('toy', 1773), ('toys', 1774), ('train', 1775), ('trainer', 1776), ('translate', 1777), ('translated', 1778), ('translator', 1779), ('travel', 1780), ('tree', 1781), ('tried', 1782), ('trip', 1783), ('trouble', 1784), ('true', 1785), ('truly', 1786), ('trunk', 1787), ('trust', 1788), ('truth', 1789), ('truthful', 1790), ('try', 1791), ('trying', 1792), ('tuesday', 1793), ('tulips', 1794), ('tune', 1795), ('turn', 1796), ('turned', 1797), ('tv', 1798), ('twelve', 1799), ('twice', 1800), ('two', 1801), ('ugly', 1802), ('ukraine', 1803), ('ulaanbaatar', 1804), ('umbrella', 1805), ('umbrellas', 1806), ('uncomfortable', 1807), ('unconscious', 1808), ('unconstitutional', 1809), ('under', 1810), ('underestimate', 1811), ('understand', 1812), ('understands', 1813), ('understood', 1814), ('unemployed', 1815), ('unethical', 1816), ('unhappy', 1817), ('united', 1818), ('unlocked', 1819), ('unlucky', 1820), ('unmarried', 1821), ('unprofessional', 1822), ('unsociable', 1823), ('until', 1824), ('up', 1825), ('upset', 1826), ('upstairs', 1827), ('urged', 1828), ('uruguay', 1829), ('us', 1830), ('use', 1831), ('used', 1832), ('usually', 1833), ('vacation', 1834), ('van', 1835), ('vegetables', 1836), ('very', 1837), ('video', 1838), ('view', 1839), ('vinegar', 1840), ('violence', 1841), ('violent', 1842), ('violin', 1843), ('visit', 1844), ('visited', 1845), ('vitamin', 1846), ('volunteer', 1847), ('vomiting', 1848), ('wait', 1849), ('waited', 1850), ('waiter', 1851), ('waiting', 1852), ('waking', 1853), ('walk', 1854), ('walked', 1855), ('walking', 1856), ('wall', 1857), ('wallet', 1858), ('waned', 1859), ('want', 1860), ('wanted', 1861), ('wants', 1862), ('warsaw', 1863), ('was', 1864), ('wash', 1865), ('washed', 1866), ('washing', 1867), ('wasnt', 1868), ('waste', 1869), ('watch', 1870), ('watched', 1871), ('watches', 1872), ('watching', 1873), ('water', 1874), ('waxed', 1875), ('way', 1876), ('we', 1877), ('wealthy', 1878), ('wear', 1879), ('wearing', 1880), ('wears', 1881), ('weather', 1882), ('weathers', 1883), ('website', 1884), ('wed', 1885), ('week', 1886), ('weeks', 1887), ('weighed', 1888), ('weight', 1889), ('welcome', 1890), ('well', 1891), ('went', 1892), ('were', 1893), ('werent', 1894), ('weve', 1895), ('whale', 1896), ('what', 1897), ('whatever', 1898), ('whatll', 1899), ('whats', 1900), ('wheel', 1901), ('wheels', 1902), ('when', 1903), ('whenever', 1904), ('whens', 1905), ('where', 1906), ('wheres', 1907), ('whether', 1908), ('which', 1909), ('while', 1910), ('whistling', 1911), ('white', 1912), ('who', 1913), ('whoever', 1914), ('whole', 1915), ('whos', 1916), ('whose', 1917), ('why', 1918), ('wide', 1919), ('wife', 1920), ('wifes', 1921), ('will', 1922), ('willing', 1923), ('win', 1924), ('windmills', 1925), ('window', 1926), ('windows', 1927), ('windsurfing', 1928), ('wine', 1929), ('winning', 1930), ('wins', 1931), ('winter', 1932), ('wish', 1933), ('with', 1934), ('without', 1935), ('wolves', 1936), ('woman', 1937), ('women', 1938), ('won', 1939), ('wonder', 1940), ('wondering', 1941), ('wont', 1942), ('wooden', 1943), ('word', 1944), ('words', 1945), ('wore', 1946), ('work', 1947), ('worked', 1948), ('working', 1949), ('works', 1950), ('world', 1951), ('worlds', 1952), ('worried', 1953), ('worry', 1954), ('worth', 1955), ('would', 1956), ('wouldnt', 1957), ('wouldve', 1958), ('wrestling', 1959), ('write', 1960), ('writes', 1961), ('writing', 1962), ('written', 1963), ('wrong', 1964), ('wrote', 1965), ('yeah', 1966), ('year', 1967), ('years', 1968), ('yell', 1969), ('yelling', 1970), ('yellow', 1971), ('yen', 1972), ('yesterday', 1973), ('yet', 1974), ('yogurt', 1975), ('yolks', 1976), ('you', 1977), ('youd', 1978), ('youll', 1979), ('young', 1980), ('younger', 1981), ('youngest', 1982), ('your', 1983), ('youre', 1984), ('yours', 1985), ('yourself', 1986), ('youve', 1987), ('zealand', 1988), ('zero', 1989), ('zoologist', 1990), ('zoology', 1991), ('€100', 1992)])\n"
          ]
        }
      ],
      "source": [
        "#index: word\n",
        "input_word_index = dict([(word, i+1) for i, word in enumerate(input_words)])\n",
        "target_word_index = dict([(word, i+1) for i, word in enumerate(target_words)])\n",
        "print(input_word_index.items())"
      ]
    },
    {
      "cell_type": "code",
      "execution_count": null,
      "metadata": {
        "id": "AqnACKCyfFdD"
      },
      "outputs": [],
      "source": [
        "rev_input_char_index = dict((i, word) for word, i in input_word_index.items())\n",
        "rev_target_char_index = dict((i, word) for word, i in target_word_index.items())"
      ]
    },
    {
      "cell_type": "code",
      "execution_count": null,
      "metadata": {
        "colab": {
          "base_uri": "https://localhost:8080/"
        },
        "id": "BQ3D8fWZfFdD",
        "outputId": "d5497e71-2a94-44ea-abff-2d568dff7960"
      },
      "outputs": [
        {
          "output_type": "execute_result",
          "data": {
            "text/plain": [
              "((2151,), (538,))"
            ]
          },
          "metadata": {},
          "execution_count": 91
        }
      ],
      "source": [
        "#Train test split garam aba\n",
        "from sklearn.model_selection import train_test_split\n",
        "X = df['eng']\n",
        "y = df['nep']\n",
        "X_train, X_test, y_train, y_test = train_test_split(X, y, test_size=0.2, random_state=42)\n",
        "X_train.shape, X_test.shape"
      ]
    },
    {
      "cell_type": "code",
      "execution_count": null,
      "metadata": {
        "id": "gndTGygwfFdE"
      },
      "outputs": [],
      "source": [
        "#generate batch data\n",
        "def generate_batch(X = X_train, y = y_train, batch_size = 128):\n",
        "    ''' Generate a batch of data '''\n",
        "    for j in range(0, len(X), batch_size):\n",
        "\n",
        "        encoder_input_data = np.zeros((max_len_eng, batch_size),dtype='float32')\n",
        "        decoder_input_data = np.zeros((max_len_nep, batch_size),dtype='float32')\n",
        "        decoder_target_data = np.zeros((max_len_nep, batch_size, num_decoder_tokens),dtype='float32')\n",
        "\n",
        "        for i, (input_text, target_text) in enumerate(zip(X[j:j+batch_size], y[j:j+batch_size])):\n",
        "\n",
        "            for no, each in enumerate(input_text.split()):\n",
        "                encoder_input_data[no, i] = input_word_index[each] #encoder input sequience\n",
        "\n",
        "            for no, each in enumerate(target_text.split()):\n",
        "                if no<len(target_text.split())-1:\n",
        "                    decoder_input_data[no, i] = target_word_index[each] # decoder input sequence\n",
        "                if no>0: #decoder target seq does not include the start token so offset by 1\n",
        "                    decoder_target_data[no -1, i, target_word_index[each]] = 1.\n",
        "        yield([encoder_input_data, decoder_input_data], decoder_target_data)"
      ]
    },
    {
      "cell_type": "code",
      "execution_count": null,
      "metadata": {
        "id": "_--hxMa4fFdE"
      },
      "outputs": [],
      "source": [
        "encoder_in_data = np.zeros((len(df['eng']), 25), dtype = 'float32')\n",
        "\n",
        "decoder_in_data = np.zeros((len(df['nep']), 22), dtype = 'float32')\n",
        "\n",
        "decoder_target_data = np.zeros((len(df['nep']), 22, num_decoder_tokens), dtype = 'float32')"
      ]
    },
    {
      "cell_type": "code",
      "execution_count": null,
      "metadata": {
        "id": "5tXDEnckfFdE"
      },
      "outputs": [],
      "source": [
        "for i, (input_text, target_text) in enumerate(zip(df['eng'], df['nep'])):\n",
        "\n",
        "  for no, each in enumerate(input_text.split()):\n",
        "    encoder_in_data[i, no] = input_word_index[each] #encoder input sequience\n",
        "\n",
        "  for no, each in enumerate(target_text.split()):\n",
        "      decoder_in_data[i, no] = target_word_index[each] # decoder input sequence\n",
        "\n",
        "      if no>0: #decoder target seq does not include the start token so offset by 1\n",
        "          decoder_target_data[i, no - 1, target_word_index[each]] = 1."
      ]
    },
    {
      "cell_type": "code",
      "execution_count": null,
      "metadata": {
        "id": "r-b8y8bcfFdE"
      },
      "outputs": [],
      "source": [
        "latent_dim = 50"
      ]
    },
    {
      "cell_type": "code",
      "source": [
        "\n",
        "class Encoder(nn.Module):\n",
        "  def __init__(self, input_size, embedding_size, hidden_size):\n",
        "    super(Encoder, self).__init__()\n",
        "    self.input_size = input_size\n",
        "    self.embedding_size = embedding_size\n",
        "    self.hidden_size = hidden_size\n",
        "\n",
        "    self.embedding = nn.Embedding(self.input_size, self.embedding_size)\n",
        "    self.lstm = nn.LSTM(self.embedding_size, self.hidden_size)\n",
        "\n",
        "\n",
        "  def forward(self, x):\n",
        "    embedding = self.embedding(x)\n",
        "    output, (hidden, cell) = self.lstm(embedding)\n",
        "    encoder_state = (hidden, cell)\n",
        "    return encoder_state"
      ],
      "metadata": {
        "id": "FL05z555hT7Q"
      },
      "execution_count": null,
      "outputs": []
    },
    {
      "cell_type": "code",
      "source": [
        "encoder = Encoder(num_encoder_tokens, latent_dim, latent_dim)"
      ],
      "metadata": {
        "id": "HHSNNqoN5AW_"
      },
      "execution_count": null,
      "outputs": []
    },
    {
      "cell_type": "code",
      "source": [
        "print(encoder)"
      ],
      "metadata": {
        "colab": {
          "base_uri": "https://localhost:8080/"
        },
        "id": "97NG37Cg5GZ-",
        "outputId": "efa95220-9689-48f0-d9f5-8fae5afd8efe"
      },
      "execution_count": null,
      "outputs": [
        {
          "output_type": "stream",
          "name": "stdout",
          "text": [
            "Encoder(\n",
            "  (embedding): Embedding(1993, 50)\n",
            "  (lstm): LSTM(50, 50)\n",
            ")\n"
          ]
        }
      ]
    },
    {
      "cell_type": "code",
      "source": [
        "class Decoder(nn.Module):\n",
        "  def __init__(self, input_size, embedding_size, hidden_size, output_size):\n",
        "    super(Decoder, self).__init__()\n",
        "    self.input_size = input_size\n",
        "    self.embedding_size = embedding_size\n",
        "    self.hidden_size = hidden_size\n",
        "    self.output_size = output_size\n",
        "\n",
        "    self.embedding = nn.Embedding(self.input_size, self.embedding_size)\n",
        "    self.lstm = nn.LSTM(self.embedding_size, self.hidden_size)\n",
        "    self.fc = nn.Linear(self.hidden_size, self.output_size)\n",
        "\n",
        "  def forward(self, x, encoder_state):\n",
        "    x = x.unsqueeze(0)\n",
        "    embedding = self.embedding(x)\n",
        "\n",
        "    output, (hidden, cell) = self.lstm(embedding, encoder_state)\n",
        "    prediction = self.fc(output)\n",
        "    prediction = prediction.squeeze(0)\n",
        "    decoder_sates = (hidden, cell)\n",
        "\n",
        "    return prediction, decoder_sates"
      ],
      "metadata": {
        "id": "RoryXIKB5Ig_"
      },
      "execution_count": null,
      "outputs": []
    },
    {
      "cell_type": "code",
      "source": [
        "decoder = Decoder(num_decoder_tokens, latent_dim, latent_dim, num_decoder_tokens)"
      ],
      "metadata": {
        "id": "P_JmPChl57GY"
      },
      "execution_count": null,
      "outputs": []
    },
    {
      "cell_type": "code",
      "source": [
        "print(decoder)"
      ],
      "metadata": {
        "colab": {
          "base_uri": "https://localhost:8080/"
        },
        "id": "WHh3Bane6BXj",
        "outputId": "933353bc-22b8-403c-d082-aaa9896b5cf3"
      },
      "execution_count": null,
      "outputs": [
        {
          "output_type": "stream",
          "name": "stdout",
          "text": [
            "Decoder(\n",
            "  (embedding): Embedding(3201, 50)\n",
            "  (lstm): LSTM(50, 50)\n",
            "  (fc): Linear(in_features=50, out_features=3201, bias=True)\n",
            ")\n"
          ]
        }
      ]
    },
    {
      "cell_type": "code",
      "source": [
        "import random\n",
        "\n",
        "class Seq2Seq(nn.Module):\n",
        "  def __init__(self, encoder, decoder):\n",
        "    super(Seq2Seq, self).__init__()\n",
        "    self.encoder = encoder\n",
        "    self.decoder = decoder\n",
        "\n",
        "  def forward(self, source, target, teacher_forcing_ratio = 0.5):\n",
        "    batch_size = source.shape[1]\n",
        "    target_len = target.shape[0]\n",
        "    target_vocab_size = self.decoder.output_size\n",
        "    # target_vocab_size = num_decoder_tokens\n",
        "\n",
        "    outputs = torch.zeros(target_len, batch_size, target_vocab_size)\n",
        "    # encoder_state = self.encoder(source)\n",
        "    hidden, cell = self.encoder(source)\n",
        "\n",
        "    x = target[0]\n",
        "    for t in range(1, target_len):\n",
        "      output, (hidden, cell) = self.decoder(x, (hidden, cell))\n",
        "      outputs[t] = output\n",
        "      best_guess = output.argmax(1)\n",
        "      x = target[t] if random.random() < teacher_forcing_ratio else best_guess\n",
        "\n",
        "    return outputs"
      ],
      "metadata": {
        "id": "2BSr5gYo6Cj1"
      },
      "execution_count": null,
      "outputs": []
    },
    {
      "cell_type": "code",
      "source": [
        "lr = 0.01\n",
        "epochs = 20\n",
        "step = 0\n",
        "\n",
        "model = Seq2Seq(encoder, decoder)\n",
        "optimizer = torch.optim.Adam(model.parameters(), lr = lr)\n",
        "criterion = nn.CrossEntropyLoss()"
      ],
      "metadata": {
        "id": "98hUHc3z6xAO"
      },
      "execution_count": null,
      "outputs": []
    },
    {
      "cell_type": "code",
      "source": [
        "train_samples = len(X_train)\n",
        "val_samples = len(X_test)\n",
        "batch_size = 256"
      ],
      "metadata": {
        "id": "ZTSAYBvB68Rs"
      },
      "execution_count": null,
      "outputs": []
    },
    {
      "cell_type": "code",
      "source": [
        "epoch_loss = 0.0\n",
        "best_val_loss = float('inf')\n",
        "losses = []\n",
        "best_epoch = -1\n",
        "ts1 = [] #k ko lagi hola?\n",
        "\n",
        "\n",
        "for epoch in range(epochs):\n",
        "  epoch_loss_list = []\n",
        "  print(f'Epoch {epoch+1}/{epochs}::')\n",
        "\n",
        "  model.train(True)\n",
        "  for i, (source, target) in enumerate(generate_batch(X_train, y_train, batch_size)):\n",
        "    # optimizer.zero_grad()\n",
        "    input_data_enc = torch.tensor(source[0]).long()\n",
        "    input_data_dec = torch.tensor(source[1]).long()\n",
        "    target = torch.tensor(target.argmax(2)).long()\n",
        "\n",
        "    output = model(input_data_enc, input_data_dec)\n",
        "    output = output[1:].reshape(-1, output.shape[2])\n",
        "    target = target[1:].reshape(-1)\n",
        "\n",
        "    optimizer.zero_grad()\n",
        "    loss = criterion(output, target)\n",
        "    loss.backward()\n",
        "    optimizer.step()\n",
        "\n",
        "    step += 1\n",
        "    epoch_loss += loss.item()\n",
        "    epoch_loss_list.append(loss.item())\n",
        "\n",
        "\n",
        "    if epoch_loss < best_val_loss:\n",
        "      best_val_loss = epoch_loss\n",
        "      best_epoch = epoch\n",
        "\n",
        "\n",
        "    #early stopping\n",
        "    if((epoch - best_epoch) >= 10):\n",
        "      print('no improvement on 10 big epochs')\n",
        "      break\n",
        "\n",
        "\n",
        "    print(f\"Iterations/loss {i}: {loss.item()}\")\n",
        "    losses.append(np.mean(epoch_loss_list))\n",
        "    ts1.append(step)\n",
        "\n",
        "\n",
        "torch.save({\n",
        "    'epoch': epoch,\n",
        "    'model_state_dict': model.state_dict(),\n",
        "    'optimizer_state_dict': optimizer.state_dict(),\n",
        "    'loss': loss,\n",
        "}, 'seq2seq_lstm.pth')\n"
      ],
      "metadata": {
        "colab": {
          "base_uri": "https://localhost:8080/"
        },
        "id": "3KIhVE-I7Djo",
        "outputId": "8988c30f-850e-4fe0-b280-273f2a42feb2"
      },
      "execution_count": null,
      "outputs": [
        {
          "output_type": "stream",
          "name": "stdout",
          "text": [
            "Epoch 1/2::\n",
            "Iterations/loss 0: 1.4086347818374634\n",
            "Iterations/loss 1: 1.5799700021743774\n",
            "Iterations/loss 2: 1.6649569272994995\n",
            "Iterations/loss 3: 1.6305102109909058\n",
            "Iterations/loss 4: 1.5708730220794678\n",
            "Iterations/loss 5: 1.4610536098480225\n",
            "Iterations/loss 6: 1.5300309658050537\n",
            "Iterations/loss 7: 1.6260234117507935\n",
            "Iterations/loss 8: 0.6045559644699097\n",
            "Epoch 2/2::\n",
            "Iterations/loss 0: 1.3805632591247559\n",
            "Iterations/loss 1: 1.5453180074691772\n",
            "Iterations/loss 2: 1.6194521188735962\n",
            "Iterations/loss 3: 1.6051305532455444\n",
            "Iterations/loss 4: 1.5881344079971313\n",
            "Iterations/loss 5: 1.4936143159866333\n",
            "Iterations/loss 6: 1.5563358068466187\n",
            "Iterations/loss 7: 1.538793683052063\n",
            "Iterations/loss 8: 0.6193491220474243\n"
          ]
        }
      ]
    },
    {
      "cell_type": "code",
      "source": [
        "print(losses)"
      ],
      "metadata": {
        "id": "cDfke8Fu8Ezw",
        "colab": {
          "base_uri": "https://localhost:8080/"
        },
        "outputId": "c7e3b4f4-7b99-4f52-a4ba-66d0eef6182c"
      },
      "execution_count": null,
      "outputs": [
        {
          "output_type": "stream",
          "name": "stdout",
          "text": [
            "[1.4086347818374634, 1.4943023920059204, 1.55118723710378, 1.5710179805755615, 1.5709889888763429, 1.552666425704956, 1.5494327885763985, 1.559006616473198, 1.452956544028388, 1.3805632591247559, 1.4629406332969666, 1.5151111284891765, 1.5376159846782684, 1.547719669342041, 1.5387021104494731, 1.5412212099347795, 1.54091776907444, 1.4385212527381048]\n"
          ]
        }
      ]
    },
    {
      "cell_type": "code",
      "source": [
        "model = Seq2Seq(Encoder(num_encoder_tokens, latent_dim, latent_dim), Decoder(num_decoder_tokens, latent_dim, latent_dim, num_decoder_tokens))\n",
        "\n",
        "\n",
        "checkpoint = torch.load(\"seq2seq_lstm.pth\")\n",
        "model.load_state_dict(checkpoint['model_state_dict'])\n",
        "\n",
        "def decode_sequence(sentence, max_length=50):\n",
        "    model.eval()\n",
        "    # lower, removing punctuations,\n",
        "    tokens =  (''.join(char for char in re.sub(\" +\", \" \", re.sub(\"'\", '', sentence).lower()) if char not in string.punctuation)).split()\n",
        "\n",
        "    text_to_indices = [ input_word_index[token] for token in tokens]\n",
        "    sentence_tensor = torch.LongTensor(text_to_indices).unsqueeze(1)\n",
        "\n",
        "    # Build encoder hidden, cell state\n",
        "    with torch.no_grad():\n",
        "        hidden, cell = model.encoder(sentence_tensor)\n",
        "\n",
        "    outputs = [target_word_index[\"<start>\"]]\n",
        "\n",
        "    for _ in range(max_length):\n",
        "        previous_word = torch.LongTensor([outputs[-1]])\n",
        "\n",
        "        with torch.no_grad():\n",
        "            output, ( hidden, cell ) = model.decoder(previous_word, (hidden, cell))\n",
        "            best_guess = output.argmax(1).item()\n",
        "\n",
        "        outputs.append(best_guess)\n",
        "\n",
        "        # Model predicts it's the end of the sentence\n",
        "        if best_guess == \"<END>\":\n",
        "            break\n",
        "\n",
        "    translated_sentence = [rev_target_char_index.get(idx, '<PAD>') for idx in outputs]\n",
        "    return translated_sentence[1:]"
      ],
      "metadata": {
        "id": "wvSq1vNEG2ba"
      },
      "execution_count": null,
      "outputs": []
    },
    {
      "cell_type": "code",
      "source": [
        "k = 506"
      ],
      "metadata": {
        "id": "xCcV7UfuInzx"
      },
      "execution_count": null,
      "outputs": []
    },
    {
      "cell_type": "code",
      "source": [
        "k += 1\n",
        "decoded_sentence = decode_sequence(X_train[k:k+1].values[0])\n",
        "print('Input English sentence:', X_train[k:k+1].values[0])\n",
        "print('Actual Chinese Translation:', y_train[k:k+1].values[0])\n",
        "print('Predicted Chinese Translation:', decoded_sentence)"
      ],
      "metadata": {
        "colab": {
          "base_uri": "https://localhost:8080/"
        },
        "id": "Mnoepl0pHa37",
        "outputId": "64c12eb8-3260-4b61-cb37-d232f6e15808"
      },
      "execution_count": null,
      "outputs": [
        {
          "output_type": "stream",
          "name": "stdout",
          "text": [
            "Input English sentence: i went hiking\n",
            "Actual Chinese Translation: <start> म पदयात्रामा गएँ। <end>\n",
            "Predicted Chinese Translation: ['छैन।', '<PAD>', '<PAD>', '<PAD>', '<PAD>', '<PAD>', '<PAD>', '<PAD>', '<PAD>', '<PAD>', '<PAD>', '<PAD>', '<PAD>', '<PAD>', '<PAD>', '<PAD>', '<PAD>', '<PAD>', '<PAD>', '<PAD>', '<PAD>', '<PAD>', '<PAD>', '<PAD>', '<PAD>', '<PAD>', '<PAD>', '<PAD>', '<PAD>', '<PAD>', '<PAD>', '<PAD>', '<PAD>', '<PAD>', '<PAD>', '<PAD>', '<PAD>', '<PAD>', '<PAD>', '<PAD>', '<PAD>', '<PAD>', '<PAD>', '<PAD>', '<PAD>', '<PAD>', '<PAD>', '<PAD>', '<PAD>', '<PAD>']\n"
          ]
        }
      ]
    },
    {
      "cell_type": "code",
      "source": [],
      "metadata": {
        "id": "VLayGgzZHiDp"
      },
      "execution_count": null,
      "outputs": []
    },
    {
      "cell_type": "code",
      "source": [],
      "metadata": {
        "id": "HgERSWdyI0uY"
      },
      "execution_count": null,
      "outputs": []
    },
    {
      "cell_type": "code",
      "source": [],
      "metadata": {
        "id": "VB1osHjqI-F4"
      },
      "execution_count": null,
      "outputs": []
    }
  ],
  "metadata": {
    "kernelspec": {
      "display_name": "Python 3",
      "language": "python",
      "name": "python3"
    },
    "language_info": {
      "codemirror_mode": {
        "name": "ipython",
        "version": 3
      },
      "file_extension": ".py",
      "mimetype": "text/x-python",
      "name": "python",
      "nbconvert_exporter": "python",
      "pygments_lexer": "ipython3",
      "version": "3.12.2"
    },
    "colab": {
      "provenance": []
    }
  },
  "nbformat": 4,
  "nbformat_minor": 0
}