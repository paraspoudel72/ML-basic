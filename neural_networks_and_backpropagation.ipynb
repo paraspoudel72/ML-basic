{
  "nbformat": 4,
  "nbformat_minor": 0,
  "metadata": {
    "colab": {
      "provenance": []
    },
    "kernelspec": {
      "name": "python3",
      "display_name": "Python 3"
    },
    "language_info": {
      "name": "python"
    }
  },
  "cells": [
    {
      "cell_type": "code",
      "execution_count": null,
      "metadata": {
        "id": "UI45YofX1Lb3"
      },
      "outputs": [],
      "source": [
        "import math\n",
        "import numpy as np\n",
        "import matplotlib.pyplot as plt"
      ]
    },
    {
      "cell_type": "code",
      "source": [
        "def f(x):\n",
        "  return (5*x**2 - 3*x + 5)"
      ],
      "metadata": {
        "id": "RuX6EsU_3xwr"
      },
      "execution_count": null,
      "outputs": []
    },
    {
      "cell_type": "code",
      "source": [
        "f(5)"
      ],
      "metadata": {
        "colab": {
          "base_uri": "https://localhost:8080/"
        },
        "id": "UK9pktQW33Bu",
        "outputId": "1df34505-71d6-4cbb-c75e-74567d0b144a"
      },
      "execution_count": null,
      "outputs": [
        {
          "output_type": "execute_result",
          "data": {
            "text/plain": [
              "115"
            ]
          },
          "metadata": {},
          "execution_count": 4
        }
      ]
    },
    {
      "cell_type": "code",
      "source": [
        "xs = np.arange(-5, 5, 0.2)\n",
        "xs"
      ],
      "metadata": {
        "colab": {
          "base_uri": "https://localhost:8080/"
        },
        "id": "qQL6EZQa334o",
        "outputId": "b1413812-250c-4832-c263-9ade65a921ff"
      },
      "execution_count": null,
      "outputs": [
        {
          "output_type": "execute_result",
          "data": {
            "text/plain": [
              "array([-5.0000000e+00, -4.8000000e+00, -4.6000000e+00, -4.4000000e+00,\n",
              "       -4.2000000e+00, -4.0000000e+00, -3.8000000e+00, -3.6000000e+00,\n",
              "       -3.4000000e+00, -3.2000000e+00, -3.0000000e+00, -2.8000000e+00,\n",
              "       -2.6000000e+00, -2.4000000e+00, -2.2000000e+00, -2.0000000e+00,\n",
              "       -1.8000000e+00, -1.6000000e+00, -1.4000000e+00, -1.2000000e+00,\n",
              "       -1.0000000e+00, -8.0000000e-01, -6.0000000e-01, -4.0000000e-01,\n",
              "       -2.0000000e-01,  4.4408921e-15,  2.0000000e-01,  4.0000000e-01,\n",
              "        6.0000000e-01,  8.0000000e-01,  1.0000000e+00,  1.2000000e+00,\n",
              "        1.4000000e+00,  1.6000000e+00,  1.8000000e+00,  2.0000000e+00,\n",
              "        2.2000000e+00,  2.4000000e+00,  2.6000000e+00,  2.8000000e+00,\n",
              "        3.0000000e+00,  3.2000000e+00,  3.4000000e+00,  3.6000000e+00,\n",
              "        3.8000000e+00,  4.0000000e+00,  4.2000000e+00,  4.4000000e+00,\n",
              "        4.6000000e+00,  4.8000000e+00])"
            ]
          },
          "metadata": {},
          "execution_count": 5
        }
      ]
    },
    {
      "cell_type": "code",
      "source": [
        "ys = f(xs)\n",
        "plt.plot(xs, ys)"
      ],
      "metadata": {
        "colab": {
          "base_uri": "https://localhost:8080/",
          "height": 447
        },
        "id": "UDoG0mOF39A_",
        "outputId": "7fb021e8-fe6e-4be6-a277-316c905fd633"
      },
      "execution_count": null,
      "outputs": [
        {
          "output_type": "execute_result",
          "data": {
            "text/plain": [
              "[<matplotlib.lines.Line2D at 0x7849347772b0>]"
            ]
          },
          "metadata": {},
          "execution_count": 6
        },
        {
          "output_type": "display_data",
          "data": {
            "text/plain": [
              "<Figure size 640x480 with 1 Axes>"
            ],
            "image/png": "[encoded data removed]"
          },
          "metadata": {}
        }
      ]
    },
    {
      "cell_type": "markdown",
      "source": [
        "So what really is derivative??\n",
        "It provides the response that we get when we try to increase the input value of the function by very small amount i.e the small amount tends to be zero."
      ],
      "metadata": {
        "id": "FEQJQoIg4R1G"
      }
    },
    {
      "cell_type": "code",
      "source": [
        "h = 0.001\n",
        "x = 3.0\n",
        "print(f(x),f(x + h))\n",
        "print((f(x + h) - f(x))/ h)"
      ],
      "metadata": {
        "colab": {
          "base_uri": "https://localhost:8080/"
        },
        "id": "A_IQqOSd5Cp-",
        "outputId": "0eea7388-3da8-463d-9a3d-265ab71ccc2f"
      },
      "execution_count": null,
      "outputs": [
        {
          "output_type": "stream",
          "name": "stdout",
          "text": [
            "41.0 41.027004999999996\n",
            "27.004999999995505\n"
          ]
        }
      ]
    },
    {
      "cell_type": "markdown",
      "source": [
        "i.e. at x = 3, the slop is 27. If we increase the value of x at point x = 3 by just 0.001, it will increse 27.004 time h."
      ],
      "metadata": {
        "id": "XvToX1T-5JpF"
      }
    },
    {
      "cell_type": "code",
      "source": [
        "h = 0.0000001\n",
        "x = -3.0\n",
        "print(f(x),f(x + h))\n",
        "print((f(x + h) - f(x))/ h)"
      ],
      "metadata": {
        "colab": {
          "base_uri": "https://localhost:8080/"
        },
        "id": "zW8qw6GZ54om",
        "outputId": "96a2e885-1924-488e-a380-8c01b4db1bcb"
      },
      "execution_count": null,
      "outputs": [
        {
          "output_type": "stream",
          "name": "stdout",
          "text": [
            "59.0 58.999996700000054\n",
            "-32.99999946193566\n"
          ]
        }
      ]
    },
    {
      "cell_type": "markdown",
      "source": [
        "here the negative sign says, on slight increase of the value of input to f(x) the output gets reduced i.e slope is negative"
      ],
      "metadata": {
        "id": "syeYwiSn6CQk"
      }
    },
    {
      "cell_type": "code",
      "source": [
        "h = 0.0000000001\n",
        "x = 0.3\n",
        "print(f(x),f(x + h))\n",
        "print((f(x + h) - f(x))/ h)"
      ],
      "metadata": {
        "colab": {
          "base_uri": "https://localhost:8080/"
        },
        "id": "glyr7Ge66Vod",
        "outputId": "a9453031-7f75-4099-cc6f-43456bb112e7"
      },
      "execution_count": null,
      "outputs": [
        {
          "output_type": "stream",
          "name": "stdout",
          "text": [
            "4.55 4.55\n",
            "0.0\n"
          ]
        }
      ]
    },
    {
      "cell_type": "code",
      "source": [
        "a = 3.0\n",
        "b = -5.0\n",
        "c = 4.0\n",
        "\n",
        "d = a * b + c\n",
        "print(d)"
      ],
      "metadata": {
        "colab": {
          "base_uri": "https://localhost:8080/"
        },
        "id": "84ewlkq46cdU",
        "outputId": "e53a7d28-8b67-46f0-ee66-dadf9de521f7"
      },
      "execution_count": null,
      "outputs": [
        {
          "output_type": "stream",
          "name": "stdout",
          "text": [
            "-11.0\n"
          ]
        }
      ]
    },
    {
      "cell_type": "code",
      "source": [
        "h = 0.0001\n",
        "\n",
        "a = 3.0\n",
        "b = -5.0\n",
        "c = 4.0\n",
        "\n",
        "d1 = a * b + c\n",
        "c += h\n",
        "d2 = a * b + c\n",
        "\n",
        "print('d1: ', d2, '   d2:', d2)\n",
        "print('slope:: ', (d2 - d1)/h)"
      ],
      "metadata": {
        "colab": {
          "base_uri": "https://localhost:8080/"
        },
        "id": "wPgIe2FC8kaz",
        "outputId": "a0a2af38-10d9-4524-eac8-98c8661a1188"
      },
      "execution_count": null,
      "outputs": [
        {
          "output_type": "stream",
          "name": "stdout",
          "text": [
            "d1:  -10.9999    d2: -10.9999\n",
            "slope::  0.9999999999976694\n"
          ]
        }
      ]
    },
    {
      "cell_type": "markdown",
      "source": [
        "So what we saw here is on increment of different variable here, namely a, b, and c. The slope are different. When we bump a by h; what it does is it increment the negative value of the b i.e it is actually increasing the output in negative direction and hence it's slope is negative.\n",
        "\n",
        "Similarly on bumping b we get slope of positive cause on adding on the value of b which is negative produce slighly less negative number and thus slope is positive."
      ],
      "metadata": {
        "id": "mO7Iy9nA-xEt"
      }
    },
    {
      "cell_type": "code",
      "source": [
        "# class Value:\n",
        "#   def __init__(self, data):\n",
        "#     self.data = data\n",
        "\n",
        "#   def __repr__(self):\n",
        "#     return f\"Value (data = {self.data})\"\n",
        "\n",
        "#   def __add__(self, other): #if a and b are Value object then on a + b, python will do a.__add__(b)\n",
        "#     return Value(self.data + other.data)\n",
        "\n",
        "#   def __mul__(self, other):\n",
        "#     return Value(self.data * other.data)\n",
        "\n",
        "#   def __div__(self, other):\n",
        "#     return Value(self.data/other.data)"
      ],
      "metadata": {
        "id": "xQHxLQfV-nNu"
      },
      "execution_count": null,
      "outputs": []
    },
    {
      "cell_type": "code",
      "source": [
        "# a = Value(2.0)\n",
        "# b = Value(3.0)\n",
        "# c = a + b\n",
        "# print(a*b + c)"
      ],
      "metadata": {
        "id": "kz5N4CT580Vi"
      },
      "execution_count": null,
      "outputs": []
    },
    {
      "cell_type": "code",
      "source": [],
      "metadata": {
        "id": "LzKlBvQQ-L_O"
      },
      "execution_count": null,
      "outputs": []
    },
    {
      "cell_type": "code",
      "source": [
        "class Value:\n",
        "  def __init__(self, data, _prev = (), _op = '', label = ''):\n",
        "    self.data = data\n",
        "    self._prev = _prev\n",
        "    self._op = _op\n",
        "    self.label = label\n",
        "    self.grad = 0 #by default we assume the grad is 0 i.e. no effect.\n",
        "\n",
        "\n",
        "  def __repr__(self):\n",
        "    return f\"Value (data = {self.data})\"\n",
        "\n",
        "  def __add__(self, other): #if a and b are Value object then on a + b, python will do a.__add__(b)\n",
        "    return Value(self.data + other.data, (self, other), '+')\n",
        "\n",
        "  def __mul__(self, other):\n",
        "    return Value(self.data * other.data, (self, other), '*')\n",
        "\n",
        "  def __div__(self, other):\n",
        "    return Value(self.data/other.data, (self, other), '/')"
      ],
      "metadata": {
        "id": "dSXbWYQqAyec"
      },
      "execution_count": null,
      "outputs": []
    },
    {
      "cell_type": "code",
      "source": [
        "a = Value(2.0, label = 'a')\n",
        "b = Value(3.0, label = 'b')\n",
        "c = a + b; c.label = 'c'\n",
        "e = a* b; e.label = 'e'\n",
        "d = e - c; d.label = 'd'\n",
        "f = Value(-1, label = 'f')\n",
        "# g = e - d; g.label = 'g'\n",
        "L = d * f; L.label = 'Output'\n",
        "print(d._prev, d._op, c._prev, a._prev)"
      ],
      "metadata": {
        "colab": {
          "base_uri": "https://localhost:8080/"
        },
        "outputId": "8f9d050a-ad53-41fb-a8dc-01d5020a5517",
        "id": "H1LqUlR5Ayed"
      },
      "execution_count": null,
      "outputs": [
        {
          "output_type": "stream",
          "name": "stdout",
          "text": [
            "(Value (data = 6.0), Value (data = 5.0)) - (Value (data = 2.0), Value (data = 3.0)) ()\n"
          ]
        }
      ]
    },
    {
      "cell_type": "code",
      "source": [
        "from graphviz import Digraph"
      ],
      "metadata": {
        "id": "89V0ppkNVlup"
      },
      "execution_count": null,
      "outputs": []
    },
    {
      "cell_type": "code",
      "source": [
        "def trace(root):\n",
        "  nodes, edges = set(), set()\n",
        "  def build(v):\n",
        "    if v not in nodes:\n",
        "      nodes.add(v)\n",
        "      for child in v._prev:\n",
        "        edges.add((child, v))\n",
        "        build(child)\n",
        "  build(root)\n",
        "  return nodes, edges\n",
        "\n",
        "def draw_dot(root):\n",
        "  dot = Digraph(format = 'svg', graph_attr = {'rankdir':'LR'})\n",
        "\n",
        "  nodes, edges = trace(root)\n",
        "  for n in nodes:\n",
        "    uid = str(id(n))\n",
        "\n",
        "    dot.node(name = uid, label =f\"{n.label} | data {n.data:.4f} | grad {n.grad:.4f}\" , shape = 'record')\n",
        "\n",
        "    if n._op: #if value is result of some operation, create an op node for it\n",
        "      dot.node(name = uid + n._op, label = n._op)\n",
        "      dot.edge(uid + n._op, uid)\n",
        "\n",
        "  for n1, n2 in edges:\n",
        "    dot.edge(str(id(n1)), str(id(n2)) + n2._op)\n",
        "\n",
        "  return dot"
      ],
      "metadata": {
        "id": "SjtvqgumEY_x"
      },
      "execution_count": null,
      "outputs": []
    },
    {
      "cell_type": "code",
      "source": [
        "draw_dot(L)"
      ],
      "metadata": {
        "colab": {
          "base_uri": "https://localhost:8080/",
          "height": 301
        },
        "id": "Y6h1NP3qVR86",
        "outputId": "94caf5df-ecdb-435d-a4c3-4d7cffffcd8f"
      },
      "execution_count": null,
      "outputs": [
        {
          "output_type": "execute_result",
          "data": {
            "image/svg+xml": "<?xml version=\"1.0\" encoding=\"UTF-8\" standalone=\"no\"?>\n<!DOCTYPE svg PUBLIC \"-//W3C//DTD SVG 1.1//EN\"\n \"http://www.w3.org/Graphics/SVG/1.1/DTD/svg11.dtd\">\n<!-- Generated by graphviz version 2.43.0 (0)\n -->\n<!-- Title: %3 Pages: 1 -->\n<svg width=\"720pt\" height=\"210pt\"\n viewBox=\"0.00 0.00 720.00 210.00\" xmlns=\"http://www.w3.org/2000/svg\" xmlns:xlink=\"http://www.w3.org/1999/xlink\">\n<g id=\"graph0\" class=\"graph\" transform=\"scale(1 1) rotate(0) translate(4 206)\">\n<title>%3</title>\n<polygon fill=\"white\" stroke=\"transparent\" points=\"-4,4 -4,-206 716,-206 716,4 -4,4\"/>\n<!-- 132255807689472 -->\n<g id=\"node1\" class=\"node\">\n<title>132255807689472</title>\n<polygon fill=\"none\" stroke=\"black\" points=\"416,-132.5 416,-201.5 501,-201.5 501,-132.5 416,-132.5\"/>\n<text text-anchor=\"middle\" x=\"458.5\" y=\"-186.3\" font-family=\"Times,serif\" font-size=\"14.00\">f</text>\n<polyline fill=\"none\" stroke=\"black\" points=\"416,-178.5 501,-178.5 \"/>\n<text text-anchor=\"middle\" x=\"458.5\" y=\"-163.3\" font-family=\"Times,serif\" font-size=\"14.00\">data &#45;1.0000</text>\n<polyline fill=\"none\" stroke=\"black\" points=\"416,-155.5 501,-155.5 \"/>\n<text text-anchor=\"middle\" x=\"458.5\" y=\"-140.3\" font-family=\"Times,serif\" font-size=\"14.00\">grad 0.0000</text>\n</g>\n<!-- 132255807692208* -->\n<g id=\"node11\" class=\"node\">\n<title>132255807692208*</title>\n<ellipse fill=\"none\" stroke=\"black\" cx=\"564\" cy=\"-123\" rx=\"27\" ry=\"18\"/>\n<text text-anchor=\"middle\" x=\"564\" y=\"-119.3\" font-family=\"Times,serif\" font-size=\"14.00\">*</text>\n</g>\n<!-- 132255807689472&#45;&gt;132255807692208* -->\n<g id=\"edge11\" class=\"edge\">\n<title>132255807689472&#45;&gt;132255807692208*</title>\n<path fill=\"none\" stroke=\"black\" d=\"M501,-149.36C511.21,-145.02 521.97,-140.44 531.61,-136.34\"/>\n<polygon fill=\"black\" stroke=\"black\" points=\"532.98,-139.56 540.81,-132.43 530.24,-133.12 532.98,-139.56\"/>\n</g>\n<!-- 132255807693072 -->\n<g id=\"node2\" class=\"node\">\n<title>132255807693072</title>\n<polygon fill=\"none\" stroke=\"black\" points=\"208,-88.5 208,-157.5 290,-157.5 290,-88.5 208,-88.5\"/>\n<text text-anchor=\"middle\" x=\"249\" y=\"-142.3\" font-family=\"Times,serif\" font-size=\"14.00\">e</text>\n<polyline fill=\"none\" stroke=\"black\" points=\"208,-134.5 290,-134.5 \"/>\n<text text-anchor=\"middle\" x=\"249\" y=\"-119.3\" font-family=\"Times,serif\" font-size=\"14.00\">data 6.0000</text>\n<polyline fill=\"none\" stroke=\"black\" points=\"208,-111.5 290,-111.5 \"/>\n<text text-anchor=\"middle\" x=\"249\" y=\"-96.3\" font-family=\"Times,serif\" font-size=\"14.00\">grad 0.0000</text>\n</g>\n<!-- 132255807692064&#45; -->\n<g id=\"node5\" class=\"node\">\n<title>132255807692064&#45;</title>\n<ellipse fill=\"none\" stroke=\"black\" cx=\"353\" cy=\"-79\" rx=\"27\" ry=\"18\"/>\n<text text-anchor=\"middle\" x=\"353\" y=\"-75.3\" font-family=\"Times,serif\" font-size=\"14.00\">&#45;</text>\n</g>\n<!-- 132255807693072&#45;&gt;132255807692064&#45; -->\n<g id=\"edge9\" class=\"edge\">\n<title>132255807693072&#45;&gt;132255807692064&#45;</title>\n<path fill=\"none\" stroke=\"black\" d=\"M290.02,-105.74C300.23,-101.33 311.06,-96.66 320.77,-92.47\"/>\n<polygon fill=\"black\" stroke=\"black\" points=\"322.23,-95.65 330.03,-88.48 319.46,-89.23 322.23,-95.65\"/>\n</g>\n<!-- 132255807693072* -->\n<g id=\"node3\" class=\"node\">\n<title>132255807693072*</title>\n<ellipse fill=\"none\" stroke=\"black\" cx=\"145\" cy=\"-123\" rx=\"27\" ry=\"18\"/>\n<text text-anchor=\"middle\" x=\"145\" y=\"-119.3\" font-family=\"Times,serif\" font-size=\"14.00\">*</text>\n</g>\n<!-- 132255807693072*&#45;&gt;132255807693072 -->\n<g id=\"edge1\" class=\"edge\">\n<title>132255807693072*&#45;&gt;132255807693072</title>\n<path fill=\"none\" stroke=\"black\" d=\"M172,-123C179.81,-123 188.65,-123 197.48,-123\"/>\n<polygon fill=\"black\" stroke=\"black\" points=\"197.76,-126.5 207.76,-123 197.76,-119.5 197.76,-126.5\"/>\n</g>\n<!-- 132255807692064 -->\n<g id=\"node4\" class=\"node\">\n<title>132255807692064</title>\n<polygon fill=\"none\" stroke=\"black\" points=\"417.5,-44.5 417.5,-113.5 499.5,-113.5 499.5,-44.5 417.5,-44.5\"/>\n<text text-anchor=\"middle\" x=\"458.5\" y=\"-98.3\" font-family=\"Times,serif\" font-size=\"14.00\">d</text>\n<polyline fill=\"none\" stroke=\"black\" points=\"417.5,-90.5 499.5,-90.5 \"/>\n<text text-anchor=\"middle\" x=\"458.5\" y=\"-75.3\" font-family=\"Times,serif\" font-size=\"14.00\">data 1.0000</text>\n<polyline fill=\"none\" stroke=\"black\" points=\"417.5,-67.5 499.5,-67.5 \"/>\n<text text-anchor=\"middle\" x=\"458.5\" y=\"-52.3\" font-family=\"Times,serif\" font-size=\"14.00\">grad 0.0000</text>\n</g>\n<!-- 132255807692064&#45;&gt;132255807692208* -->\n<g id=\"edge6\" class=\"edge\">\n<title>132255807692064&#45;&gt;132255807692208*</title>\n<path fill=\"none\" stroke=\"black\" d=\"M499.52,-96.01C510.12,-100.52 521.42,-105.32 531.5,-109.61\"/>\n<polygon fill=\"black\" stroke=\"black\" points=\"530.16,-112.84 540.73,-113.53 532.9,-106.4 530.16,-112.84\"/>\n</g>\n<!-- 132255807692064&#45;&#45;&gt;132255807692064 -->\n<g id=\"edge2\" class=\"edge\">\n<title>132255807692064&#45;&#45;&gt;132255807692064</title>\n<path fill=\"none\" stroke=\"black\" d=\"M380.12,-79C388.39,-79 397.82,-79 407.19,-79\"/>\n<polygon fill=\"black\" stroke=\"black\" points=\"407.28,-82.5 417.28,-79 407.28,-75.5 407.28,-82.5\"/>\n</g>\n<!-- 132255807694656 -->\n<g id=\"node6\" class=\"node\">\n<title>132255807694656</title>\n<polygon fill=\"none\" stroke=\"black\" points=\"208,-0.5 208,-69.5 290,-69.5 290,-0.5 208,-0.5\"/>\n<text text-anchor=\"middle\" x=\"249\" y=\"-54.3\" font-family=\"Times,serif\" font-size=\"14.00\">c</text>\n<polyline fill=\"none\" stroke=\"black\" points=\"208,-46.5 290,-46.5 \"/>\n<text text-anchor=\"middle\" x=\"249\" y=\"-31.3\" font-family=\"Times,serif\" font-size=\"14.00\">data 5.0000</text>\n<polyline fill=\"none\" stroke=\"black\" points=\"208,-23.5 290,-23.5 \"/>\n<text text-anchor=\"middle\" x=\"249\" y=\"-8.3\" font-family=\"Times,serif\" font-size=\"14.00\">grad 0.0000</text>\n</g>\n<!-- 132255807694656&#45;&gt;132255807692064&#45; -->\n<g id=\"edge7\" class=\"edge\">\n<title>132255807694656&#45;&gt;132255807692064&#45;</title>\n<path fill=\"none\" stroke=\"black\" d=\"M290.02,-52.26C300.23,-56.67 311.06,-61.34 320.77,-65.53\"/>\n<polygon fill=\"black\" stroke=\"black\" points=\"319.46,-68.77 330.03,-69.52 322.23,-62.35 319.46,-68.77\"/>\n</g>\n<!-- 132255807694656+ -->\n<g id=\"node7\" class=\"node\">\n<title>132255807694656+</title>\n<ellipse fill=\"none\" stroke=\"black\" cx=\"145\" cy=\"-35\" rx=\"27\" ry=\"18\"/>\n<text text-anchor=\"middle\" x=\"145\" y=\"-31.3\" font-family=\"Times,serif\" font-size=\"14.00\">+</text>\n</g>\n<!-- 132255807694656+&#45;&gt;132255807694656 -->\n<g id=\"edge3\" class=\"edge\">\n<title>132255807694656+&#45;&gt;132255807694656</title>\n<path fill=\"none\" stroke=\"black\" d=\"M172,-35C179.81,-35 188.65,-35 197.48,-35\"/>\n<polygon fill=\"black\" stroke=\"black\" points=\"197.76,-38.5 207.76,-35 197.76,-31.5 197.76,-38.5\"/>\n</g>\n<!-- 132255807700848 -->\n<g id=\"node8\" class=\"node\">\n<title>132255807700848</title>\n<polygon fill=\"none\" stroke=\"black\" points=\"0,-88.5 0,-157.5 82,-157.5 82,-88.5 0,-88.5\"/>\n<text text-anchor=\"middle\" x=\"41\" y=\"-142.3\" font-family=\"Times,serif\" font-size=\"14.00\">a</text>\n<polyline fill=\"none\" stroke=\"black\" points=\"0,-134.5 82,-134.5 \"/>\n<text text-anchor=\"middle\" x=\"41\" y=\"-119.3\" font-family=\"Times,serif\" font-size=\"14.00\">data 2.0000</text>\n<polyline fill=\"none\" stroke=\"black\" points=\"0,-111.5 82,-111.5 \"/>\n<text text-anchor=\"middle\" x=\"41\" y=\"-96.3\" font-family=\"Times,serif\" font-size=\"14.00\">grad 0.0000</text>\n</g>\n<!-- 132255807700848&#45;&gt;132255807693072* -->\n<g id=\"edge10\" class=\"edge\">\n<title>132255807700848&#45;&gt;132255807693072*</title>\n<path fill=\"none\" stroke=\"black\" d=\"M82.02,-123C90.5,-123 99.4,-123 107.73,-123\"/>\n<polygon fill=\"black\" stroke=\"black\" points=\"107.89,-126.5 117.89,-123 107.89,-119.5 107.89,-126.5\"/>\n</g>\n<!-- 132255807700848&#45;&gt;132255807694656+ -->\n<g id=\"edge5\" class=\"edge\">\n<title>132255807700848&#45;&gt;132255807694656+</title>\n<path fill=\"none\" stroke=\"black\" d=\"M82.02,-88.47C94.87,-77.39 108.69,-65.47 120.01,-55.7\"/>\n<polygon fill=\"black\" stroke=\"black\" points=\"122.48,-58.19 127.76,-49.01 117.91,-52.89 122.48,-58.19\"/>\n</g>\n<!-- 132255807696768 -->\n<g id=\"node9\" class=\"node\">\n<title>132255807696768</title>\n<polygon fill=\"none\" stroke=\"black\" points=\"0,-0.5 0,-69.5 82,-69.5 82,-0.5 0,-0.5\"/>\n<text text-anchor=\"middle\" x=\"41\" y=\"-54.3\" font-family=\"Times,serif\" font-size=\"14.00\">b</text>\n<polyline fill=\"none\" stroke=\"black\" points=\"0,-46.5 82,-46.5 \"/>\n<text text-anchor=\"middle\" x=\"41\" y=\"-31.3\" font-family=\"Times,serif\" font-size=\"14.00\">data 3.0000</text>\n<polyline fill=\"none\" stroke=\"black\" points=\"0,-23.5 82,-23.5 \"/>\n<text text-anchor=\"middle\" x=\"41\" y=\"-8.3\" font-family=\"Times,serif\" font-size=\"14.00\">grad 0.0000</text>\n</g>\n<!-- 132255807696768&#45;&gt;132255807693072* -->\n<g id=\"edge8\" class=\"edge\">\n<title>132255807696768&#45;&gt;132255807693072*</title>\n<path fill=\"none\" stroke=\"black\" d=\"M82.02,-69.53C94.87,-80.61 108.69,-92.53 120.01,-102.3\"/>\n<polygon fill=\"black\" stroke=\"black\" points=\"117.91,-105.11 127.76,-108.99 122.48,-99.81 117.91,-105.11\"/>\n</g>\n<!-- 132255807696768&#45;&gt;132255807694656+ -->\n<g id=\"edge12\" class=\"edge\">\n<title>132255807696768&#45;&gt;132255807694656+</title>\n<path fill=\"none\" stroke=\"black\" d=\"M82.02,-35C90.5,-35 99.4,-35 107.73,-35\"/>\n<polygon fill=\"black\" stroke=\"black\" points=\"107.89,-38.5 117.89,-35 107.89,-31.5 107.89,-38.5\"/>\n</g>\n<!-- 132255807692208 -->\n<g id=\"node10\" class=\"node\">\n<title>132255807692208</title>\n<polygon fill=\"none\" stroke=\"black\" points=\"627,-88.5 627,-157.5 712,-157.5 712,-88.5 627,-88.5\"/>\n<text text-anchor=\"middle\" x=\"669.5\" y=\"-142.3\" font-family=\"Times,serif\" font-size=\"14.00\">Output</text>\n<polyline fill=\"none\" stroke=\"black\" points=\"627,-134.5 712,-134.5 \"/>\n<text text-anchor=\"middle\" x=\"669.5\" y=\"-119.3\" font-family=\"Times,serif\" font-size=\"14.00\">data &#45;1.0000</text>\n<polyline fill=\"none\" stroke=\"black\" points=\"627,-111.5 712,-111.5 \"/>\n<text text-anchor=\"middle\" x=\"669.5\" y=\"-96.3\" font-family=\"Times,serif\" font-size=\"14.00\">grad 0.0000</text>\n</g>\n<!-- 132255807692208*&#45;&gt;132255807692208 -->\n<g id=\"edge4\" class=\"edge\">\n<title>132255807692208*&#45;&gt;132255807692208</title>\n<path fill=\"none\" stroke=\"black\" d=\"M591.12,-123C598.87,-123 607.64,-123 616.42,-123\"/>\n<polygon fill=\"black\" stroke=\"black\" points=\"616.68,-126.5 626.68,-123 616.68,-119.5 616.68,-126.5\"/>\n</g>\n</g>\n</svg>\n",
            "text/plain": [
              "<graphviz.graphs.Digraph at 0x7849346fc6a0>"
            ]
          },
          "metadata": {},
          "execution_count": 63
        }
      ]
    },
    {
      "cell_type": "code",
      "source": [
        "print(trace(c))"
      ],
      "metadata": {
        "colab": {
          "base_uri": "https://localhost:8080/"
        },
        "id": "uO4qt_LrVVxq",
        "outputId": "8ab6452e-ffe6-494a-e252-f2af39312f0f"
      },
      "execution_count": null,
      "outputs": [
        {
          "output_type": "stream",
          "name": "stdout",
          "text": [
            "({Value (data = 3.0), Value (data = 2.0), Value (data = 5.0)}, {(Value (data = 3.0), Value (data = 5.0)), (Value (data = 2.0), Value (data = 5.0))})\n"
          ]
        }
      ]
    },
    {
      "cell_type": "code",
      "source": [
        "draw_dot(c)"
      ],
      "metadata": {
        "colab": {
          "base_uri": "https://localhost:8080/",
          "height": 243
        },
        "id": "ImVsczc6Yz-4",
        "outputId": "46f4a702-35bc-4e8b-ca29-e2d120fc4293"
      },
      "execution_count": null,
      "outputs": [
        {
          "output_type": "execute_result",
          "data": {
            "image/svg+xml": "<?xml version=\"1.0\" encoding=\"UTF-8\" standalone=\"no\"?>\n<!DOCTYPE svg PUBLIC \"-//W3C//DTD SVG 1.1//EN\"\n \"http://www.w3.org/Graphics/SVG/1.1/DTD/svg11.dtd\">\n<!-- Generated by graphviz version 2.43.0 (0)\n -->\n<!-- Title: %3 Pages: 1 -->\n<svg width=\"298pt\" height=\"166pt\"\n viewBox=\"0.00 0.00 298.00 166.00\" xmlns=\"http://www.w3.org/2000/svg\" xmlns:xlink=\"http://www.w3.org/1999/xlink\">\n<g id=\"graph0\" class=\"graph\" transform=\"scale(1 1) rotate(0) translate(4 162)\">\n<title>%3</title>\n<polygon fill=\"white\" stroke=\"transparent\" points=\"-4,4 -4,-162 294,-162 294,4 -4,4\"/>\n<!-- 132255807226880 -->\n<g id=\"node1\" class=\"node\">\n<title>132255807226880</title>\n<polygon fill=\"none\" stroke=\"black\" points=\"0,-88.5 0,-157.5 82,-157.5 82,-88.5 0,-88.5\"/>\n<text text-anchor=\"middle\" x=\"41\" y=\"-142.3\" font-family=\"Times,serif\" font-size=\"14.00\">b</text>\n<polyline fill=\"none\" stroke=\"black\" points=\"0,-134.5 82,-134.5 \"/>\n<text text-anchor=\"middle\" x=\"41\" y=\"-119.3\" font-family=\"Times,serif\" font-size=\"14.00\">data 3.0000</text>\n<polyline fill=\"none\" stroke=\"black\" points=\"0,-111.5 82,-111.5 \"/>\n<text text-anchor=\"middle\" x=\"41\" y=\"-96.3\" font-family=\"Times,serif\" font-size=\"14.00\">grad 0.0000</text>\n</g>\n<!-- 132255807228368+ -->\n<g id=\"node4\" class=\"node\">\n<title>132255807228368+</title>\n<ellipse fill=\"none\" stroke=\"black\" cx=\"145\" cy=\"-79\" rx=\"27\" ry=\"18\"/>\n<text text-anchor=\"middle\" x=\"145\" y=\"-75.3\" font-family=\"Times,serif\" font-size=\"14.00\">+</text>\n</g>\n<!-- 132255807226880&#45;&gt;132255807228368+ -->\n<g id=\"edge2\" class=\"edge\">\n<title>132255807226880&#45;&gt;132255807228368+</title>\n<path fill=\"none\" stroke=\"black\" d=\"M82.02,-105.74C92.23,-101.33 103.06,-96.66 112.77,-92.47\"/>\n<polygon fill=\"black\" stroke=\"black\" points=\"114.23,-95.65 122.03,-88.48 111.46,-89.23 114.23,-95.65\"/>\n</g>\n<!-- 132255807231680 -->\n<g id=\"node2\" class=\"node\">\n<title>132255807231680</title>\n<polygon fill=\"none\" stroke=\"black\" points=\"0,-0.5 0,-69.5 82,-69.5 82,-0.5 0,-0.5\"/>\n<text text-anchor=\"middle\" x=\"41\" y=\"-54.3\" font-family=\"Times,serif\" font-size=\"14.00\">a</text>\n<polyline fill=\"none\" stroke=\"black\" points=\"0,-46.5 82,-46.5 \"/>\n<text text-anchor=\"middle\" x=\"41\" y=\"-31.3\" font-family=\"Times,serif\" font-size=\"14.00\">data 2.0000</text>\n<polyline fill=\"none\" stroke=\"black\" points=\"0,-23.5 82,-23.5 \"/>\n<text text-anchor=\"middle\" x=\"41\" y=\"-8.3\" font-family=\"Times,serif\" font-size=\"14.00\">grad 0.0000</text>\n</g>\n<!-- 132255807231680&#45;&gt;132255807228368+ -->\n<g id=\"edge3\" class=\"edge\">\n<title>132255807231680&#45;&gt;132255807228368+</title>\n<path fill=\"none\" stroke=\"black\" d=\"M82.02,-52.26C92.23,-56.67 103.06,-61.34 112.77,-65.53\"/>\n<polygon fill=\"black\" stroke=\"black\" points=\"111.46,-68.77 122.03,-69.52 114.23,-62.35 111.46,-68.77\"/>\n</g>\n<!-- 132255807228368 -->\n<g id=\"node3\" class=\"node\">\n<title>132255807228368</title>\n<polygon fill=\"none\" stroke=\"black\" points=\"208,-44.5 208,-113.5 290,-113.5 290,-44.5 208,-44.5\"/>\n<text text-anchor=\"middle\" x=\"249\" y=\"-98.3\" font-family=\"Times,serif\" font-size=\"14.00\">c</text>\n<polyline fill=\"none\" stroke=\"black\" points=\"208,-90.5 290,-90.5 \"/>\n<text text-anchor=\"middle\" x=\"249\" y=\"-75.3\" font-family=\"Times,serif\" font-size=\"14.00\">data 5.0000</text>\n<polyline fill=\"none\" stroke=\"black\" points=\"208,-67.5 290,-67.5 \"/>\n<text text-anchor=\"middle\" x=\"249\" y=\"-52.3\" font-family=\"Times,serif\" font-size=\"14.00\">grad 0.0000</text>\n</g>\n<!-- 132255807228368+&#45;&gt;132255807228368 -->\n<g id=\"edge1\" class=\"edge\">\n<title>132255807228368+&#45;&gt;132255807228368</title>\n<path fill=\"none\" stroke=\"black\" d=\"M172,-79C179.81,-79 188.65,-79 197.48,-79\"/>\n<polygon fill=\"black\" stroke=\"black\" points=\"197.76,-82.5 207.76,-79 197.76,-75.5 197.76,-82.5\"/>\n</g>\n</g>\n</svg>\n",
            "text/plain": [
              "<graphviz.graphs.Digraph at 0x7849346cedd0>"
            ]
          },
          "metadata": {},
          "execution_count": 20
        }
      ]
    },
    {
      "cell_type": "markdown",
      "source": [
        "Now we backpropagate from output to the intial nodes. As of above figure while backpropagating; first we calculate the derivative of c with respect to c; then derviative of a w.r.t. c and then derivative of a w.r.t. c.\n",
        "\n",
        "\n",
        "This shows how the input: a and b is impacting the output c."
      ],
      "metadata": {
        "id": "bM4l1MBzZajf"
      }
    },
    {
      "cell_type": "code",
      "source": [
        "def check_grad():\n",
        "\n",
        "  h = 0.0001\n",
        "\n",
        "  a = Value(2.0, label = 'a')\n",
        "  b = Value(3.0, label = 'b')\n",
        "  c = a + b; c.label = 'c'\n",
        "  e = a* b; e.label = 'e'\n",
        "  d = e + c; d.label = 'd'\n",
        "  f = Value(-1, label = 'f')\n",
        "  L = d * f; L.label = 'Output'\n",
        "  L1 = L.data\n",
        "\n",
        "  a = Value(2.0, label = 'a')\n",
        "  b = Value(3.0, label = 'b')\n",
        "  c = a + b; c.label = 'c'\n",
        "  e = a* b; e.label = 'e'\n",
        "  e.data += h\n",
        "  d = e + c; d.label = 'd'\n",
        "  f = Value(-1, label = 'f')\n",
        "  L = d * f; L.label = 'Output'\n",
        "  L2 = L.data\n",
        "\n",
        "  print((L2 - L1)/h)\n",
        "\n",
        "check_grad()"
      ],
      "metadata": {
        "id": "QhsarosLbWt-",
        "colab": {
          "base_uri": "https://localhost:8080/"
        },
        "outputId": "6570a2fb-e939-42ae-c8cb-f5dc874024a9"
      },
      "execution_count": null,
      "outputs": [
        {
          "output_type": "stream",
          "name": "stdout",
          "text": [
            "-0.9999999999976694\n"
          ]
        }
      ]
    },
    {
      "cell_type": "code",
      "source": [
        "# L = d * f\n",
        "# dL/dd = ? is what we want i.e. f\n",
        "f.grad = d.data\n",
        "d.grad = f.data\n",
        "# dL/de = dl/dd * dd/de == f * d(e+c)/de == f * 1\n",
        "e.grad = f.data * 1\n",
        "c.grad = f.data * 1\n",
        "\n",
        "# dl/db = dl/dd * dd/db = f *(d(e+c)/db) = f*(d(a*b)/db + d(a+b)/db) = f*(a + 1)\n",
        "b.grad = f.data * (a.data + 1)\n",
        "# dl/da = dl/dd * dd/da = f* (d(e + c)/da) = f * (d(ab)/da + d(a + b)/da) = f * (b + 1)\n",
        "a.grad = f.data * (b.data + 1)\n"
      ],
      "metadata": {
        "id": "bvRnXo_AQYue"
      },
      "execution_count": null,
      "outputs": []
    },
    {
      "cell_type": "code",
      "source": [
        "L.grad = 1.0\n",
        "\n",
        "draw_dot(L)"
      ],
      "metadata": {
        "colab": {
          "base_uri": "https://localhost:8080/",
          "height": 301
        },
        "id": "Iu8-p_a1N7r6",
        "outputId": "57d314f9-9895-4b94-c800-c57dc971f307"
      },
      "execution_count": null,
      "outputs": [
        {
          "output_type": "execute_result",
          "data": {
            "image/svg+xml": "<?xml version=\"1.0\" encoding=\"UTF-8\" standalone=\"no\"?>\n<!DOCTYPE svg PUBLIC \"-//W3C//DTD SVG 1.1//EN\"\n \"http://www.w3.org/Graphics/SVG/1.1/DTD/svg11.dtd\">\n<!-- Generated by graphviz version 2.43.0 (0)\n -->\n<!-- Title: %3 Pages: 1 -->\n<svg width=\"739pt\" height=\"210pt\"\n viewBox=\"0.00 0.00 739.00 210.00\" xmlns=\"http://www.w3.org/2000/svg\" xmlns:xlink=\"http://www.w3.org/1999/xlink\">\n<g id=\"graph0\" class=\"graph\" transform=\"scale(1 1) rotate(0) translate(4 206)\">\n<title>%3</title>\n<polygon fill=\"white\" stroke=\"transparent\" points=\"-4,4 -4,-206 735,-206 735,4 -4,4\"/>\n<!-- 132255807226880 -->\n<g id=\"node1\" class=\"node\">\n<title>132255807226880</title>\n<polygon fill=\"none\" stroke=\"black\" points=\"0,-88.5 0,-157.5 86,-157.5 86,-88.5 0,-88.5\"/>\n<text text-anchor=\"middle\" x=\"43\" y=\"-142.3\" font-family=\"Times,serif\" font-size=\"14.00\">b</text>\n<polyline fill=\"none\" stroke=\"black\" points=\"0,-134.5 86,-134.5 \"/>\n<text text-anchor=\"middle\" x=\"43\" y=\"-119.3\" font-family=\"Times,serif\" font-size=\"14.00\">data 3.0000</text>\n<polyline fill=\"none\" stroke=\"black\" points=\"0,-111.5 86,-111.5 \"/>\n<text text-anchor=\"middle\" x=\"43\" y=\"-96.3\" font-family=\"Times,serif\" font-size=\"14.00\">grad &#45;3.0000</text>\n</g>\n<!-- 132255807231296* -->\n<g id=\"node9\" class=\"node\">\n<title>132255807231296*</title>\n<ellipse fill=\"none\" stroke=\"black\" cx=\"149\" cy=\"-123\" rx=\"27\" ry=\"18\"/>\n<text text-anchor=\"middle\" x=\"149\" y=\"-119.3\" font-family=\"Times,serif\" font-size=\"14.00\">*</text>\n</g>\n<!-- 132255807226880&#45;&gt;132255807231296* -->\n<g id=\"edge10\" class=\"edge\">\n<title>132255807226880&#45;&gt;132255807231296*</title>\n<path fill=\"none\" stroke=\"black\" d=\"M86,-123C94.48,-123 103.34,-123 111.61,-123\"/>\n<polygon fill=\"black\" stroke=\"black\" points=\"111.7,-126.5 121.7,-123 111.7,-119.5 111.7,-126.5\"/>\n</g>\n<!-- 132255807228368+ -->\n<g id=\"node11\" class=\"node\">\n<title>132255807228368+</title>\n<ellipse fill=\"none\" stroke=\"black\" cx=\"149\" cy=\"-35\" rx=\"27\" ry=\"18\"/>\n<text text-anchor=\"middle\" x=\"149\" y=\"-31.3\" font-family=\"Times,serif\" font-size=\"14.00\">+</text>\n</g>\n<!-- 132255807226880&#45;&gt;132255807228368+ -->\n<g id=\"edge12\" class=\"edge\">\n<title>132255807226880&#45;&gt;132255807228368+</title>\n<path fill=\"none\" stroke=\"black\" d=\"M84.81,-88.47C97.9,-77.39 111.99,-65.47 123.54,-55.7\"/>\n<polygon fill=\"black\" stroke=\"black\" points=\"126.07,-58.14 131.44,-49.01 121.55,-52.8 126.07,-58.14\"/>\n</g>\n<!-- 132255807227552 -->\n<g id=\"node2\" class=\"node\">\n<title>132255807227552</title>\n<polygon fill=\"none\" stroke=\"black\" points=\"424,-132.5 424,-201.5 513,-201.5 513,-132.5 424,-132.5\"/>\n<text text-anchor=\"middle\" x=\"468.5\" y=\"-186.3\" font-family=\"Times,serif\" font-size=\"14.00\">f</text>\n<polyline fill=\"none\" stroke=\"black\" points=\"424,-178.5 513,-178.5 \"/>\n<text text-anchor=\"middle\" x=\"468.5\" y=\"-163.3\" font-family=\"Times,serif\" font-size=\"14.00\">data &#45;1.0000</text>\n<polyline fill=\"none\" stroke=\"black\" points=\"424,-155.5 513,-155.5 \"/>\n<text text-anchor=\"middle\" x=\"468.5\" y=\"-140.3\" font-family=\"Times,serif\" font-size=\"14.00\">grad 11.0000</text>\n</g>\n<!-- 132255807230720* -->\n<g id=\"node7\" class=\"node\">\n<title>132255807230720*</title>\n<ellipse fill=\"none\" stroke=\"black\" cx=\"576\" cy=\"-123\" rx=\"27\" ry=\"18\"/>\n<text text-anchor=\"middle\" x=\"576\" y=\"-119.3\" font-family=\"Times,serif\" font-size=\"14.00\">*</text>\n</g>\n<!-- 132255807227552&#45;&gt;132255807230720* -->\n<g id=\"edge5\" class=\"edge\">\n<title>132255807227552&#45;&gt;132255807230720*</title>\n<path fill=\"none\" stroke=\"black\" d=\"M513.02,-148.85C523.13,-144.63 533.71,-140.22 543.2,-136.26\"/>\n<polygon fill=\"black\" stroke=\"black\" points=\"544.76,-139.4 552.64,-132.32 542.07,-132.94 544.76,-139.4\"/>\n</g>\n<!-- 132255807231680 -->\n<g id=\"node3\" class=\"node\">\n<title>132255807231680</title>\n<polygon fill=\"none\" stroke=\"black\" points=\"0,-0.5 0,-69.5 86,-69.5 86,-0.5 0,-0.5\"/>\n<text text-anchor=\"middle\" x=\"43\" y=\"-54.3\" font-family=\"Times,serif\" font-size=\"14.00\">a</text>\n<polyline fill=\"none\" stroke=\"black\" points=\"0,-46.5 86,-46.5 \"/>\n<text text-anchor=\"middle\" x=\"43\" y=\"-31.3\" font-family=\"Times,serif\" font-size=\"14.00\">data 2.0000</text>\n<polyline fill=\"none\" stroke=\"black\" points=\"0,-23.5 86,-23.5 \"/>\n<text text-anchor=\"middle\" x=\"43\" y=\"-8.3\" font-family=\"Times,serif\" font-size=\"14.00\">grad &#45;4.0000</text>\n</g>\n<!-- 132255807231680&#45;&gt;132255807231296* -->\n<g id=\"edge8\" class=\"edge\">\n<title>132255807231680&#45;&gt;132255807231296*</title>\n<path fill=\"none\" stroke=\"black\" d=\"M84.81,-69.53C97.9,-80.61 111.99,-92.53 123.54,-102.3\"/>\n<polygon fill=\"black\" stroke=\"black\" points=\"121.55,-105.2 131.44,-108.99 126.07,-99.86 121.55,-105.2\"/>\n</g>\n<!-- 132255807231680&#45;&gt;132255807228368+ -->\n<g id=\"edge9\" class=\"edge\">\n<title>132255807231680&#45;&gt;132255807228368+</title>\n<path fill=\"none\" stroke=\"black\" d=\"M86,-35C94.48,-35 103.34,-35 111.61,-35\"/>\n<polygon fill=\"black\" stroke=\"black\" points=\"111.7,-38.5 121.7,-35 111.7,-31.5 111.7,-38.5\"/>\n</g>\n<!-- 132255807231200 -->\n<g id=\"node4\" class=\"node\">\n<title>132255807231200</title>\n<polygon fill=\"none\" stroke=\"black\" points=\"425,-44.5 425,-113.5 512,-113.5 512,-44.5 425,-44.5\"/>\n<text text-anchor=\"middle\" x=\"468.5\" y=\"-98.3\" font-family=\"Times,serif\" font-size=\"14.00\">d</text>\n<polyline fill=\"none\" stroke=\"black\" points=\"425,-90.5 512,-90.5 \"/>\n<text text-anchor=\"middle\" x=\"468.5\" y=\"-75.3\" font-family=\"Times,serif\" font-size=\"14.00\">data 11.0000</text>\n<polyline fill=\"none\" stroke=\"black\" points=\"425,-67.5 512,-67.5 \"/>\n<text text-anchor=\"middle\" x=\"468.5\" y=\"-52.3\" font-family=\"Times,serif\" font-size=\"14.00\">grad &#45;1.0000</text>\n</g>\n<!-- 132255807231200&#45;&gt;132255807230720* -->\n<g id=\"edge11\" class=\"edge\">\n<title>132255807231200&#45;&gt;132255807230720*</title>\n<path fill=\"none\" stroke=\"black\" d=\"M512.11,-96.77C522.57,-101.13 533.59,-105.73 543.43,-109.83\"/>\n<polygon fill=\"black\" stroke=\"black\" points=\"542.24,-113.13 552.81,-113.75 544.93,-106.67 542.24,-113.13\"/>\n</g>\n<!-- 132255807231200+ -->\n<g id=\"node5\" class=\"node\">\n<title>132255807231200+</title>\n<ellipse fill=\"none\" stroke=\"black\" cx=\"361\" cy=\"-79\" rx=\"27\" ry=\"18\"/>\n<text text-anchor=\"middle\" x=\"361\" y=\"-75.3\" font-family=\"Times,serif\" font-size=\"14.00\">+</text>\n</g>\n<!-- 132255807231200+&#45;&gt;132255807231200 -->\n<g id=\"edge1\" class=\"edge\">\n<title>132255807231200+&#45;&gt;132255807231200</title>\n<path fill=\"none\" stroke=\"black\" d=\"M388.08,-79C396.23,-79 405.54,-79 414.85,-79\"/>\n<polygon fill=\"black\" stroke=\"black\" points=\"414.89,-82.5 424.89,-79 414.89,-75.5 414.89,-82.5\"/>\n</g>\n<!-- 132255807230720 -->\n<g id=\"node6\" class=\"node\">\n<title>132255807230720</title>\n<polygon fill=\"none\" stroke=\"black\" points=\"639,-88.5 639,-157.5 731,-157.5 731,-88.5 639,-88.5\"/>\n<text text-anchor=\"middle\" x=\"685\" y=\"-142.3\" font-family=\"Times,serif\" font-size=\"14.00\">Output</text>\n<polyline fill=\"none\" stroke=\"black\" points=\"639,-134.5 731,-134.5 \"/>\n<text text-anchor=\"middle\" x=\"685\" y=\"-119.3\" font-family=\"Times,serif\" font-size=\"14.00\">data &#45;11.0000</text>\n<polyline fill=\"none\" stroke=\"black\" points=\"639,-111.5 731,-111.5 \"/>\n<text text-anchor=\"middle\" x=\"685\" y=\"-96.3\" font-family=\"Times,serif\" font-size=\"14.00\">grad 1.0000</text>\n</g>\n<!-- 132255807230720*&#45;&gt;132255807230720 -->\n<g id=\"edge2\" class=\"edge\">\n<title>132255807230720*&#45;&gt;132255807230720</title>\n<path fill=\"none\" stroke=\"black\" d=\"M603.18,-123C611,-123 619.88,-123 628.83,-123\"/>\n<polygon fill=\"black\" stroke=\"black\" points=\"628.91,-126.5 638.91,-123 628.91,-119.5 628.91,-126.5\"/>\n</g>\n<!-- 132255807231296 -->\n<g id=\"node8\" class=\"node\">\n<title>132255807231296</title>\n<polygon fill=\"none\" stroke=\"black\" points=\"212,-88.5 212,-157.5 298,-157.5 298,-88.5 212,-88.5\"/>\n<text text-anchor=\"middle\" x=\"255\" y=\"-142.3\" font-family=\"Times,serif\" font-size=\"14.00\">e</text>\n<polyline fill=\"none\" stroke=\"black\" points=\"212,-134.5 298,-134.5 \"/>\n<text text-anchor=\"middle\" x=\"255\" y=\"-119.3\" font-family=\"Times,serif\" font-size=\"14.00\">data 6.0000</text>\n<polyline fill=\"none\" stroke=\"black\" points=\"212,-111.5 298,-111.5 \"/>\n<text text-anchor=\"middle\" x=\"255\" y=\"-96.3\" font-family=\"Times,serif\" font-size=\"14.00\">grad &#45;1.0000</text>\n</g>\n<!-- 132255807231296&#45;&gt;132255807231200+ -->\n<g id=\"edge7\" class=\"edge\">\n<title>132255807231296&#45;&gt;132255807231200+</title>\n<path fill=\"none\" stroke=\"black\" d=\"M298,-105.23C308.13,-100.95 318.78,-96.44 328.34,-92.39\"/>\n<polygon fill=\"black\" stroke=\"black\" points=\"330,-95.49 337.84,-88.37 327.27,-89.05 330,-95.49\"/>\n</g>\n<!-- 132255807231296*&#45;&gt;132255807231296 -->\n<g id=\"edge3\" class=\"edge\">\n<title>132255807231296*&#45;&gt;132255807231296</title>\n<path fill=\"none\" stroke=\"black\" d=\"M176.24,-123C184.11,-123 193.04,-123 201.96,-123\"/>\n<polygon fill=\"black\" stroke=\"black\" points=\"201.98,-126.5 211.98,-123 201.98,-119.5 201.98,-126.5\"/>\n</g>\n<!-- 132255807228368 -->\n<g id=\"node10\" class=\"node\">\n<title>132255807228368</title>\n<polygon fill=\"none\" stroke=\"black\" points=\"212,-0.5 212,-69.5 298,-69.5 298,-0.5 212,-0.5\"/>\n<text text-anchor=\"middle\" x=\"255\" y=\"-54.3\" font-family=\"Times,serif\" font-size=\"14.00\">c</text>\n<polyline fill=\"none\" stroke=\"black\" points=\"212,-46.5 298,-46.5 \"/>\n<text text-anchor=\"middle\" x=\"255\" y=\"-31.3\" font-family=\"Times,serif\" font-size=\"14.00\">data 5.0000</text>\n<polyline fill=\"none\" stroke=\"black\" points=\"212,-23.5 298,-23.5 \"/>\n<text text-anchor=\"middle\" x=\"255\" y=\"-8.3\" font-family=\"Times,serif\" font-size=\"14.00\">grad &#45;1.0000</text>\n</g>\n<!-- 132255807228368&#45;&gt;132255807231200+ -->\n<g id=\"edge6\" class=\"edge\">\n<title>132255807228368&#45;&gt;132255807231200+</title>\n<path fill=\"none\" stroke=\"black\" d=\"M298,-52.77C308.13,-57.05 318.78,-61.56 328.34,-65.61\"/>\n<polygon fill=\"black\" stroke=\"black\" points=\"327.27,-68.95 337.84,-69.63 330,-62.51 327.27,-68.95\"/>\n</g>\n<!-- 132255807228368+&#45;&gt;132255807228368 -->\n<g id=\"edge4\" class=\"edge\">\n<title>132255807228368+&#45;&gt;132255807228368</title>\n<path fill=\"none\" stroke=\"black\" d=\"M176.24,-35C184.11,-35 193.04,-35 201.96,-35\"/>\n<polygon fill=\"black\" stroke=\"black\" points=\"201.98,-38.5 211.98,-35 201.98,-31.5 201.98,-38.5\"/>\n</g>\n</g>\n</svg>\n",
            "text/plain": [
              "<graphviz.graphs.Digraph at 0x7849346cce20>"
            ]
          },
          "metadata": {},
          "execution_count": 23
        }
      ]
    },
    {
      "cell_type": "code",
      "source": [
        "print(b.data, b.grad)"
      ],
      "metadata": {
        "colab": {
          "base_uri": "https://localhost:8080/"
        },
        "id": "ZJUM4Ihs0qLF",
        "outputId": "8b1719d5-0fec-4acd-8e03-abe06f0f8ddc"
      },
      "execution_count": null,
      "outputs": [
        {
          "output_type": "stream",
          "name": "stdout",
          "text": [
            "3.0 -3.0\n"
          ]
        }
      ]
    },
    {
      "cell_type": "code",
      "source": [
        "a.data += 0.1 * a.grad\n",
        "b.data += 0.1 * b.grad\n",
        "f.data += 0.1 * f.grad\n",
        "# c.data += c.grad\n",
        "\n",
        "e = a * b\n",
        "c = a + b\n",
        "d = e + c\n",
        "L = f * d\n",
        "\n",
        "draw_dot(L)"
      ],
      "metadata": {
        "colab": {
          "base_uri": "https://localhost:8080/",
          "height": 301
        },
        "id": "zGpxPCHxPPt1",
        "outputId": "175afab9-3cb2-43d2-e208-e75a5e578012"
      },
      "execution_count": null,
      "outputs": [
        {
          "output_type": "execute_result",
          "data": {
            "image/svg+xml": "<?xml version=\"1.0\" encoding=\"UTF-8\" standalone=\"no\"?>\n<!DOCTYPE svg PUBLIC \"-//W3C//DTD SVG 1.1//EN\"\n \"http://www.w3.org/Graphics/SVG/1.1/DTD/svg11.dtd\">\n<!-- Generated by graphviz version 2.43.0 (0)\n -->\n<!-- Title: %3 Pages: 1 -->\n<svg width=\"725pt\" height=\"210pt\"\n viewBox=\"0.00 0.00 725.00 210.00\" xmlns=\"http://www.w3.org/2000/svg\" xmlns:xlink=\"http://www.w3.org/1999/xlink\">\n<g id=\"graph0\" class=\"graph\" transform=\"scale(1 1) rotate(0) translate(4 206)\">\n<title>%3</title>\n<polygon fill=\"white\" stroke=\"transparent\" points=\"-4,4 -4,-206 721,-206 721,4 -4,4\"/>\n<!-- 132255807226880 -->\n<g id=\"node1\" class=\"node\">\n<title>132255807226880</title>\n<polygon fill=\"none\" stroke=\"black\" points=\"0,-88.5 0,-157.5 86,-157.5 86,-88.5 0,-88.5\"/>\n<text text-anchor=\"middle\" x=\"43\" y=\"-142.3\" font-family=\"Times,serif\" font-size=\"14.00\">b</text>\n<polyline fill=\"none\" stroke=\"black\" points=\"0,-134.5 86,-134.5 \"/>\n<text text-anchor=\"middle\" x=\"43\" y=\"-119.3\" font-family=\"Times,serif\" font-size=\"14.00\">data 2.7000</text>\n<polyline fill=\"none\" stroke=\"black\" points=\"0,-111.5 86,-111.5 \"/>\n<text text-anchor=\"middle\" x=\"43\" y=\"-96.3\" font-family=\"Times,serif\" font-size=\"14.00\">grad &#45;3.0000</text>\n</g>\n<!-- 132255807493776+ -->\n<g id=\"node5\" class=\"node\">\n<title>132255807493776+</title>\n<ellipse fill=\"none\" stroke=\"black\" cx=\"149\" cy=\"-123\" rx=\"27\" ry=\"18\"/>\n<text text-anchor=\"middle\" x=\"149\" y=\"-119.3\" font-family=\"Times,serif\" font-size=\"14.00\">+</text>\n</g>\n<!-- 132255807226880&#45;&gt;132255807493776+ -->\n<g id=\"edge6\" class=\"edge\">\n<title>132255807226880&#45;&gt;132255807493776+</title>\n<path fill=\"none\" stroke=\"black\" d=\"M86,-123C94.48,-123 103.34,-123 111.61,-123\"/>\n<polygon fill=\"black\" stroke=\"black\" points=\"111.7,-126.5 121.7,-123 111.7,-119.5 111.7,-126.5\"/>\n</g>\n<!-- 132255807489312* -->\n<g id=\"node11\" class=\"node\">\n<title>132255807489312*</title>\n<ellipse fill=\"none\" stroke=\"black\" cx=\"149\" cy=\"-35\" rx=\"27\" ry=\"18\"/>\n<text text-anchor=\"middle\" x=\"149\" y=\"-31.3\" font-family=\"Times,serif\" font-size=\"14.00\">*</text>\n</g>\n<!-- 132255807226880&#45;&gt;132255807489312* -->\n<g id=\"edge11\" class=\"edge\">\n<title>132255807226880&#45;&gt;132255807489312*</title>\n<path fill=\"none\" stroke=\"black\" d=\"M84.81,-88.47C97.9,-77.39 111.99,-65.47 123.54,-55.7\"/>\n<polygon fill=\"black\" stroke=\"black\" points=\"126.07,-58.14 131.44,-49.01 121.55,-52.8 126.07,-58.14\"/>\n</g>\n<!-- 132255807488064 -->\n<g id=\"node2\" class=\"node\">\n<title>132255807488064</title>\n<polygon fill=\"none\" stroke=\"black\" points=\"635,-88.5 635,-157.5 717,-157.5 717,-88.5 635,-88.5\"/>\n<text text-anchor=\"middle\" x=\"676\" y=\"-142.3\" font-family=\"Times,serif\" font-size=\"14.00\"> </text>\n<polyline fill=\"none\" stroke=\"black\" points=\"635,-134.5 717,-134.5 \"/>\n<text text-anchor=\"middle\" x=\"676\" y=\"-119.3\" font-family=\"Times,serif\" font-size=\"14.00\">data 0.8620</text>\n<polyline fill=\"none\" stroke=\"black\" points=\"635,-111.5 717,-111.5 \"/>\n<text text-anchor=\"middle\" x=\"676\" y=\"-96.3\" font-family=\"Times,serif\" font-size=\"14.00\">grad 0.0000</text>\n</g>\n<!-- 132255807488064* -->\n<g id=\"node3\" class=\"node\">\n<title>132255807488064*</title>\n<ellipse fill=\"none\" stroke=\"black\" cx=\"572\" cy=\"-123\" rx=\"27\" ry=\"18\"/>\n<text text-anchor=\"middle\" x=\"572\" y=\"-119.3\" font-family=\"Times,serif\" font-size=\"14.00\">*</text>\n</g>\n<!-- 132255807488064*&#45;&gt;132255807488064 -->\n<g id=\"edge1\" class=\"edge\">\n<title>132255807488064*&#45;&gt;132255807488064</title>\n<path fill=\"none\" stroke=\"black\" d=\"M599,-123C606.81,-123 615.65,-123 624.48,-123\"/>\n<polygon fill=\"black\" stroke=\"black\" points=\"624.76,-126.5 634.76,-123 624.76,-119.5 624.76,-126.5\"/>\n</g>\n<!-- 132255807493776 -->\n<g id=\"node4\" class=\"node\">\n<title>132255807493776</title>\n<polygon fill=\"none\" stroke=\"black\" points=\"212,-88.5 212,-157.5 294,-157.5 294,-88.5 212,-88.5\"/>\n<text text-anchor=\"middle\" x=\"253\" y=\"-142.3\" font-family=\"Times,serif\" font-size=\"14.00\"> </text>\n<polyline fill=\"none\" stroke=\"black\" points=\"212,-134.5 294,-134.5 \"/>\n<text text-anchor=\"middle\" x=\"253\" y=\"-119.3\" font-family=\"Times,serif\" font-size=\"14.00\">data 4.3000</text>\n<polyline fill=\"none\" stroke=\"black\" points=\"212,-111.5 294,-111.5 \"/>\n<text text-anchor=\"middle\" x=\"253\" y=\"-96.3\" font-family=\"Times,serif\" font-size=\"14.00\">grad 0.0000</text>\n</g>\n<!-- 132255807498480+ -->\n<g id=\"node9\" class=\"node\">\n<title>132255807498480+</title>\n<ellipse fill=\"none\" stroke=\"black\" cx=\"357\" cy=\"-79\" rx=\"27\" ry=\"18\"/>\n<text text-anchor=\"middle\" x=\"357\" y=\"-75.3\" font-family=\"Times,serif\" font-size=\"14.00\">+</text>\n</g>\n<!-- 132255807493776&#45;&gt;132255807498480+ -->\n<g id=\"edge8\" class=\"edge\">\n<title>132255807493776&#45;&gt;132255807498480+</title>\n<path fill=\"none\" stroke=\"black\" d=\"M294.02,-105.74C304.23,-101.33 315.06,-96.66 324.77,-92.47\"/>\n<polygon fill=\"black\" stroke=\"black\" points=\"326.23,-95.65 334.03,-88.48 323.46,-89.23 326.23,-95.65\"/>\n</g>\n<!-- 132255807493776+&#45;&gt;132255807493776 -->\n<g id=\"edge2\" class=\"edge\">\n<title>132255807493776+&#45;&gt;132255807493776</title>\n<path fill=\"none\" stroke=\"black\" d=\"M176,-123C183.81,-123 192.65,-123 201.48,-123\"/>\n<polygon fill=\"black\" stroke=\"black\" points=\"201.76,-126.5 211.76,-123 201.76,-119.5 201.76,-126.5\"/>\n</g>\n<!-- 132255807227552 -->\n<g id=\"node6\" class=\"node\">\n<title>132255807227552</title>\n<polygon fill=\"none\" stroke=\"black\" points=\"420,-132.5 420,-201.5 509,-201.5 509,-132.5 420,-132.5\"/>\n<text text-anchor=\"middle\" x=\"464.5\" y=\"-186.3\" font-family=\"Times,serif\" font-size=\"14.00\">f</text>\n<polyline fill=\"none\" stroke=\"black\" points=\"420,-178.5 509,-178.5 \"/>\n<text text-anchor=\"middle\" x=\"464.5\" y=\"-163.3\" font-family=\"Times,serif\" font-size=\"14.00\">data 0.1000</text>\n<polyline fill=\"none\" stroke=\"black\" points=\"420,-155.5 509,-155.5 \"/>\n<text text-anchor=\"middle\" x=\"464.5\" y=\"-140.3\" font-family=\"Times,serif\" font-size=\"14.00\">grad 11.0000</text>\n</g>\n<!-- 132255807227552&#45;&gt;132255807488064* -->\n<g id=\"edge5\" class=\"edge\">\n<title>132255807227552&#45;&gt;132255807488064*</title>\n<path fill=\"none\" stroke=\"black\" d=\"M509.02,-148.85C519.13,-144.63 529.71,-140.22 539.2,-136.26\"/>\n<polygon fill=\"black\" stroke=\"black\" points=\"540.76,-139.4 548.64,-132.32 538.07,-132.94 540.76,-139.4\"/>\n</g>\n<!-- 132255807231680 -->\n<g id=\"node7\" class=\"node\">\n<title>132255807231680</title>\n<polygon fill=\"none\" stroke=\"black\" points=\"0,-0.5 0,-69.5 86,-69.5 86,-0.5 0,-0.5\"/>\n<text text-anchor=\"middle\" x=\"43\" y=\"-54.3\" font-family=\"Times,serif\" font-size=\"14.00\">a</text>\n<polyline fill=\"none\" stroke=\"black\" points=\"0,-46.5 86,-46.5 \"/>\n<text text-anchor=\"middle\" x=\"43\" y=\"-31.3\" font-family=\"Times,serif\" font-size=\"14.00\">data 1.6000</text>\n<polyline fill=\"none\" stroke=\"black\" points=\"0,-23.5 86,-23.5 \"/>\n<text text-anchor=\"middle\" x=\"43\" y=\"-8.3\" font-family=\"Times,serif\" font-size=\"14.00\">grad &#45;4.0000</text>\n</g>\n<!-- 132255807231680&#45;&gt;132255807493776+ -->\n<g id=\"edge12\" class=\"edge\">\n<title>132255807231680&#45;&gt;132255807493776+</title>\n<path fill=\"none\" stroke=\"black\" d=\"M84.81,-69.53C97.9,-80.61 111.99,-92.53 123.54,-102.3\"/>\n<polygon fill=\"black\" stroke=\"black\" points=\"121.55,-105.2 131.44,-108.99 126.07,-99.86 121.55,-105.2\"/>\n</g>\n<!-- 132255807231680&#45;&gt;132255807489312* -->\n<g id=\"edge9\" class=\"edge\">\n<title>132255807231680&#45;&gt;132255807489312*</title>\n<path fill=\"none\" stroke=\"black\" d=\"M86,-35C94.48,-35 103.34,-35 111.61,-35\"/>\n<polygon fill=\"black\" stroke=\"black\" points=\"111.7,-38.5 121.7,-35 111.7,-31.5 111.7,-38.5\"/>\n</g>\n<!-- 132255807498480 -->\n<g id=\"node8\" class=\"node\">\n<title>132255807498480</title>\n<polygon fill=\"none\" stroke=\"black\" points=\"423.5,-44.5 423.5,-113.5 505.5,-113.5 505.5,-44.5 423.5,-44.5\"/>\n<text text-anchor=\"middle\" x=\"464.5\" y=\"-98.3\" font-family=\"Times,serif\" font-size=\"14.00\"> </text>\n<polyline fill=\"none\" stroke=\"black\" points=\"423.5,-90.5 505.5,-90.5 \"/>\n<text text-anchor=\"middle\" x=\"464.5\" y=\"-75.3\" font-family=\"Times,serif\" font-size=\"14.00\">data 8.6200</text>\n<polyline fill=\"none\" stroke=\"black\" points=\"423.5,-67.5 505.5,-67.5 \"/>\n<text text-anchor=\"middle\" x=\"464.5\" y=\"-52.3\" font-family=\"Times,serif\" font-size=\"14.00\">grad 0.0000</text>\n</g>\n<!-- 132255807498480&#45;&gt;132255807488064* -->\n<g id=\"edge7\" class=\"edge\">\n<title>132255807498480&#45;&gt;132255807488064*</title>\n<path fill=\"none\" stroke=\"black\" d=\"M505.69,-95.76C516.83,-100.41 528.77,-105.39 539.36,-109.8\"/>\n<polygon fill=\"black\" stroke=\"black\" points=\"538.05,-113.05 548.63,-113.67 540.75,-106.59 538.05,-113.05\"/>\n</g>\n<!-- 132255807498480+&#45;&gt;132255807498480 -->\n<g id=\"edge3\" class=\"edge\">\n<title>132255807498480+&#45;&gt;132255807498480</title>\n<path fill=\"none\" stroke=\"black\" d=\"M384.08,-79C392.96,-79 403.2,-79 413.32,-79\"/>\n<polygon fill=\"black\" stroke=\"black\" points=\"413.34,-82.5 423.34,-79 413.34,-75.5 413.34,-82.5\"/>\n</g>\n<!-- 132255807489312 -->\n<g id=\"node10\" class=\"node\">\n<title>132255807489312</title>\n<polygon fill=\"none\" stroke=\"black\" points=\"212,-0.5 212,-69.5 294,-69.5 294,-0.5 212,-0.5\"/>\n<text text-anchor=\"middle\" x=\"253\" y=\"-54.3\" font-family=\"Times,serif\" font-size=\"14.00\"> </text>\n<polyline fill=\"none\" stroke=\"black\" points=\"212,-46.5 294,-46.5 \"/>\n<text text-anchor=\"middle\" x=\"253\" y=\"-31.3\" font-family=\"Times,serif\" font-size=\"14.00\">data 4.3200</text>\n<polyline fill=\"none\" stroke=\"black\" points=\"212,-23.5 294,-23.5 \"/>\n<text text-anchor=\"middle\" x=\"253\" y=\"-8.3\" font-family=\"Times,serif\" font-size=\"14.00\">grad 0.0000</text>\n</g>\n<!-- 132255807489312&#45;&gt;132255807498480+ -->\n<g id=\"edge10\" class=\"edge\">\n<title>132255807489312&#45;&gt;132255807498480+</title>\n<path fill=\"none\" stroke=\"black\" d=\"M294.02,-52.26C304.23,-56.67 315.06,-61.34 324.77,-65.53\"/>\n<polygon fill=\"black\" stroke=\"black\" points=\"323.46,-68.77 334.03,-69.52 326.23,-62.35 323.46,-68.77\"/>\n</g>\n<!-- 132255807489312*&#45;&gt;132255807489312 -->\n<g id=\"edge4\" class=\"edge\">\n<title>132255807489312*&#45;&gt;132255807489312</title>\n<path fill=\"none\" stroke=\"black\" d=\"M176,-35C183.81,-35 192.65,-35 201.48,-35\"/>\n<polygon fill=\"black\" stroke=\"black\" points=\"201.76,-38.5 211.76,-35 201.76,-31.5 201.76,-38.5\"/>\n</g>\n</g>\n</svg>\n",
            "text/plain": [
              "<graphviz.graphs.Digraph at 0x7849346cf610>"
            ]
          },
          "metadata": {},
          "execution_count": 25
        }
      ]
    },
    {
      "cell_type": "markdown",
      "source": [
        "# Here the data of output node is moving forward to 0"
      ],
      "metadata": {
        "id": "-LjIUZBB0YNc"
      }
    },
    {
      "cell_type": "markdown",
      "source": [
        "---\n",
        "# A NEURON"
      ],
      "metadata": {
        "id": "9k_TNh_21Ran"
      }
    },
    {
      "cell_type": "code",
      "source": [
        "class Value:\n",
        "  def __init__(self, data, _prev = (), _op = '', label = ''):\n",
        "    self.data = data\n",
        "    self._prev = _prev\n",
        "    self._op = _op\n",
        "    self.label = label\n",
        "    self.grad = 0 #by default we assume the grad is 0 i.e. no effect.\n",
        "\n",
        "\n",
        "  def __repr__(self):\n",
        "    return f\"Value (data = {self.data})\"\n",
        "\n",
        "  def __add__(self, other): #if a and b are Value object then on a + b, python will do a.__add__(b)\n",
        "    return Value(self.data + other.data, (self, other), '+')\n",
        "\n",
        "  def __mul__(self, other):\n",
        "    return Value(self.data * other.data, (self, other), '*')\n",
        "\n",
        "  def __div__(self, other):\n",
        "    return Value(self.data/other.data, (self, other), '/')\n",
        "\n",
        "  # def tanh(self):\n",
        "  #   n = self.data\n",
        "  #   t = (math.exp(2*n) - 1)/(math.exp(2*x) + 1)\n",
        "  #   out = Value(t, (self, ), 'tanh')\n",
        "  #   return out\n",
        "  def tanh(self):\n",
        "    return Value((math.exp(2*self.data) - 1)/(math.exp(2*self.data) + 1), (self, ), 'tanh')"
      ],
      "metadata": {
        "id": "Tp92ti-G1bmL"
      },
      "execution_count": null,
      "outputs": []
    },
    {
      "cell_type": "code",
      "source": [
        "x1 = Value(-2.0, label = 'x1')\n",
        "x2 = Value(0.9, label = 'x2')\n",
        "\n",
        "w1 = Value(3.0, label = 'w1')\n",
        "w2 = Value(-1.0, label = 'w2')\n",
        "\n",
        "b = Value(4.0, label = 'b')\n",
        "print(b.data)\n",
        "\n",
        "x1w1 = x1 * w1; x1w1.label = 'x1w1'\n",
        "x2w2 = x2 * w2; x2w2.label = 'x2w2'\n",
        "\n",
        "x1w1x2w2 = x1w1 + x2w2; x1w1x2w2.label = 'x1w1 + x2w2'\n",
        "n = x1w1x2w2 + b; n.label = 'n'\n",
        "o = n.tanh(); o.label = 'Output'\n",
        "draw_dot(o)"
      ],
      "metadata": {
        "colab": {
          "base_uri": "https://localhost:8080/",
          "height": 495
        },
        "id": "M4LlAnyB7Tmm",
        "outputId": "fd23afbb-20b8-4dd9-f411-ec07e990ffbf"
      },
      "execution_count": null,
      "outputs": [
        {
          "output_type": "stream",
          "name": "stdout",
          "text": [
            "4.0\n"
          ]
        },
        {
          "output_type": "execute_result",
          "data": {
            "image/svg+xml": "<?xml version=\"1.0\" encoding=\"UTF-8\" standalone=\"no\"?>\n<!DOCTYPE svg PUBLIC \"-//W3C//DTD SVG 1.1//EN\"\n \"http://www.w3.org/Graphics/SVG/1.1/DTD/svg11.dtd\">\n<!-- Generated by graphviz version 2.43.0 (0)\n -->\n<!-- Title: %3 Pages: 1 -->\n<svg width=\"944pt\" height=\"342pt\"\n viewBox=\"0.00 0.00 944.00 342.00\" xmlns=\"http://www.w3.org/2000/svg\" xmlns:xlink=\"http://www.w3.org/1999/xlink\">\n<g id=\"graph0\" class=\"graph\" transform=\"scale(1 1) rotate(0) translate(4 338)\">\n<title>%3</title>\n<polygon fill=\"white\" stroke=\"transparent\" points=\"-4,4 -4,-338 940,-338 940,4 -4,4\"/>\n<!-- 132255806815248 -->\n<g id=\"node1\" class=\"node\">\n<title>132255806815248</title>\n<polygon fill=\"none\" stroke=\"black\" points=\"640,-88.5 640,-157.5 725,-157.5 725,-88.5 640,-88.5\"/>\n<text text-anchor=\"middle\" x=\"682.5\" y=\"-142.3\" font-family=\"Times,serif\" font-size=\"14.00\">n</text>\n<polyline fill=\"none\" stroke=\"black\" points=\"640,-134.5 725,-134.5 \"/>\n<text text-anchor=\"middle\" x=\"682.5\" y=\"-119.3\" font-family=\"Times,serif\" font-size=\"14.00\">data &#45;2.9000</text>\n<polyline fill=\"none\" stroke=\"black\" points=\"640,-111.5 725,-111.5 \"/>\n<text text-anchor=\"middle\" x=\"682.5\" y=\"-96.3\" font-family=\"Times,serif\" font-size=\"14.00\">grad 0.0000</text>\n</g>\n<!-- 132255806814960tanh -->\n<g id=\"node11\" class=\"node\">\n<title>132255806814960tanh</title>\n<ellipse fill=\"none\" stroke=\"black\" cx=\"788\" cy=\"-123\" rx=\"27\" ry=\"18\"/>\n<text text-anchor=\"middle\" x=\"788\" y=\"-119.3\" font-family=\"Times,serif\" font-size=\"14.00\">tanh</text>\n</g>\n<!-- 132255806815248&#45;&gt;132255806814960tanh -->\n<g id=\"edge6\" class=\"edge\">\n<title>132255806815248&#45;&gt;132255806814960tanh</title>\n<path fill=\"none\" stroke=\"black\" d=\"M725,-123C733.54,-123 742.47,-123 750.81,-123\"/>\n<polygon fill=\"black\" stroke=\"black\" points=\"750.97,-126.5 760.97,-123 750.97,-119.5 750.97,-126.5\"/>\n</g>\n<!-- 132255806815248+ -->\n<g id=\"node2\" class=\"node\">\n<title>132255806815248+</title>\n<ellipse fill=\"none\" stroke=\"black\" cx=\"577\" cy=\"-123\" rx=\"27\" ry=\"18\"/>\n<text text-anchor=\"middle\" x=\"577\" y=\"-119.3\" font-family=\"Times,serif\" font-size=\"14.00\">+</text>\n</g>\n<!-- 132255806815248+&#45;&gt;132255806815248 -->\n<g id=\"edge1\" class=\"edge\">\n<title>132255806815248+&#45;&gt;132255806815248</title>\n<path fill=\"none\" stroke=\"black\" d=\"M604.12,-123C611.87,-123 620.64,-123 629.42,-123\"/>\n<polygon fill=\"black\" stroke=\"black\" points=\"629.68,-126.5 639.68,-123 629.68,-119.5 629.68,-126.5\"/>\n</g>\n<!-- 132255807231008 -->\n<g id=\"node3\" class=\"node\">\n<title>132255807231008</title>\n<polygon fill=\"none\" stroke=\"black\" points=\"211,-176.5 211,-245.5 296,-245.5 296,-176.5 211,-176.5\"/>\n<text text-anchor=\"middle\" x=\"253.5\" y=\"-230.3\" font-family=\"Times,serif\" font-size=\"14.00\">x1w1</text>\n<polyline fill=\"none\" stroke=\"black\" points=\"211,-222.5 296,-222.5 \"/>\n<text text-anchor=\"middle\" x=\"253.5\" y=\"-207.3\" font-family=\"Times,serif\" font-size=\"14.00\">data &#45;6.0000</text>\n<polyline fill=\"none\" stroke=\"black\" points=\"211,-199.5 296,-199.5 \"/>\n<text text-anchor=\"middle\" x=\"253.5\" y=\"-184.3\" font-family=\"Times,serif\" font-size=\"14.00\">grad 0.0000</text>\n</g>\n<!-- 132255806816064+ -->\n<g id=\"node13\" class=\"node\">\n<title>132255806816064+</title>\n<ellipse fill=\"none\" stroke=\"black\" cx=\"359\" cy=\"-167\" rx=\"27\" ry=\"18\"/>\n<text text-anchor=\"middle\" x=\"359\" y=\"-163.3\" font-family=\"Times,serif\" font-size=\"14.00\">+</text>\n</g>\n<!-- 132255807231008&#45;&gt;132255806816064+ -->\n<g id=\"edge13\" class=\"edge\">\n<title>132255807231008&#45;&gt;132255806816064+</title>\n<path fill=\"none\" stroke=\"black\" d=\"M296,-193.36C306.21,-189.02 316.97,-184.44 326.61,-180.34\"/>\n<polygon fill=\"black\" stroke=\"black\" points=\"327.98,-183.56 335.81,-176.43 325.24,-177.12 327.98,-183.56\"/>\n</g>\n<!-- 132255807231008* -->\n<g id=\"node4\" class=\"node\">\n<title>132255807231008*</title>\n<ellipse fill=\"none\" stroke=\"black\" cx=\"148\" cy=\"-211\" rx=\"27\" ry=\"18\"/>\n<text text-anchor=\"middle\" x=\"148\" y=\"-207.3\" font-family=\"Times,serif\" font-size=\"14.00\">*</text>\n</g>\n<!-- 132255807231008*&#45;&gt;132255807231008 -->\n<g id=\"edge2\" class=\"edge\">\n<title>132255807231008*&#45;&gt;132255807231008</title>\n<path fill=\"none\" stroke=\"black\" d=\"M175.12,-211C182.87,-211 191.64,-211 200.42,-211\"/>\n<polygon fill=\"black\" stroke=\"black\" points=\"200.68,-214.5 210.68,-211 200.68,-207.5 200.68,-214.5\"/>\n</g>\n<!-- 132255807387200 -->\n<g id=\"node5\" class=\"node\">\n<title>132255807387200</title>\n<polygon fill=\"none\" stroke=\"black\" points=\"1.5,-264.5 1.5,-333.5 83.5,-333.5 83.5,-264.5 1.5,-264.5\"/>\n<text text-anchor=\"middle\" x=\"42.5\" y=\"-318.3\" font-family=\"Times,serif\" font-size=\"14.00\">w1</text>\n<polyline fill=\"none\" stroke=\"black\" points=\"1.5,-310.5 83.5,-310.5 \"/>\n<text text-anchor=\"middle\" x=\"42.5\" y=\"-295.3\" font-family=\"Times,serif\" font-size=\"14.00\">data 3.0000</text>\n<polyline fill=\"none\" stroke=\"black\" points=\"1.5,-287.5 83.5,-287.5 \"/>\n<text text-anchor=\"middle\" x=\"42.5\" y=\"-272.3\" font-family=\"Times,serif\" font-size=\"14.00\">grad 0.0000</text>\n</g>\n<!-- 132255807387200&#45;&gt;132255807231008* -->\n<g id=\"edge11\" class=\"edge\">\n<title>132255807387200&#45;&gt;132255807231008*</title>\n<path fill=\"none\" stroke=\"black\" d=\"M83.52,-264.98C96.83,-253.66 111.23,-241.41 122.95,-231.45\"/>\n<polygon fill=\"black\" stroke=\"black\" points=\"125.23,-234.1 130.59,-224.96 120.7,-228.77 125.23,-234.1\"/>\n</g>\n<!-- 132255807226448 -->\n<g id=\"node6\" class=\"node\">\n<title>132255807226448</title>\n<polygon fill=\"none\" stroke=\"black\" points=\"211,-88.5 211,-157.5 296,-157.5 296,-88.5 211,-88.5\"/>\n<text text-anchor=\"middle\" x=\"253.5\" y=\"-142.3\" font-family=\"Times,serif\" font-size=\"14.00\">x2w2</text>\n<polyline fill=\"none\" stroke=\"black\" points=\"211,-134.5 296,-134.5 \"/>\n<text text-anchor=\"middle\" x=\"253.5\" y=\"-119.3\" font-family=\"Times,serif\" font-size=\"14.00\">data &#45;0.9000</text>\n<polyline fill=\"none\" stroke=\"black\" points=\"211,-111.5 296,-111.5 \"/>\n<text text-anchor=\"middle\" x=\"253.5\" y=\"-96.3\" font-family=\"Times,serif\" font-size=\"14.00\">grad 0.0000</text>\n</g>\n<!-- 132255807226448&#45;&gt;132255806816064+ -->\n<g id=\"edge9\" class=\"edge\">\n<title>132255807226448&#45;&gt;132255806816064+</title>\n<path fill=\"none\" stroke=\"black\" d=\"M296,-140.64C306.21,-144.98 316.97,-149.56 326.61,-153.66\"/>\n<polygon fill=\"black\" stroke=\"black\" points=\"325.24,-156.88 335.81,-157.57 327.98,-150.44 325.24,-156.88\"/>\n</g>\n<!-- 132255807226448* -->\n<g id=\"node7\" class=\"node\">\n<title>132255807226448*</title>\n<ellipse fill=\"none\" stroke=\"black\" cx=\"148\" cy=\"-123\" rx=\"27\" ry=\"18\"/>\n<text text-anchor=\"middle\" x=\"148\" y=\"-119.3\" font-family=\"Times,serif\" font-size=\"14.00\">*</text>\n</g>\n<!-- 132255807226448*&#45;&gt;132255807226448 -->\n<g id=\"edge3\" class=\"edge\">\n<title>132255807226448*&#45;&gt;132255807226448</title>\n<path fill=\"none\" stroke=\"black\" d=\"M175.12,-123C182.87,-123 191.64,-123 200.42,-123\"/>\n<polygon fill=\"black\" stroke=\"black\" points=\"200.68,-126.5 210.68,-123 200.68,-119.5 200.68,-126.5\"/>\n</g>\n<!-- 132255807235136 -->\n<g id=\"node8\" class=\"node\">\n<title>132255807235136</title>\n<polygon fill=\"none\" stroke=\"black\" points=\"0,-88.5 0,-157.5 85,-157.5 85,-88.5 0,-88.5\"/>\n<text text-anchor=\"middle\" x=\"42.5\" y=\"-142.3\" font-family=\"Times,serif\" font-size=\"14.00\">w2</text>\n<polyline fill=\"none\" stroke=\"black\" points=\"0,-134.5 85,-134.5 \"/>\n<text text-anchor=\"middle\" x=\"42.5\" y=\"-119.3\" font-family=\"Times,serif\" font-size=\"14.00\">data &#45;1.0000</text>\n<polyline fill=\"none\" stroke=\"black\" points=\"0,-111.5 85,-111.5 \"/>\n<text text-anchor=\"middle\" x=\"42.5\" y=\"-96.3\" font-family=\"Times,serif\" font-size=\"14.00\">grad 0.0000</text>\n</g>\n<!-- 132255807235136&#45;&gt;132255807226448* -->\n<g id=\"edge14\" class=\"edge\">\n<title>132255807235136&#45;&gt;132255807226448*</title>\n<path fill=\"none\" stroke=\"black\" d=\"M85,-123C93.54,-123 102.47,-123 110.81,-123\"/>\n<polygon fill=\"black\" stroke=\"black\" points=\"110.97,-126.5 120.97,-123 110.97,-119.5 110.97,-126.5\"/>\n</g>\n<!-- 132255807388832 -->\n<g id=\"node9\" class=\"node\">\n<title>132255807388832</title>\n<polygon fill=\"none\" stroke=\"black\" points=\"1.5,-0.5 1.5,-69.5 83.5,-69.5 83.5,-0.5 1.5,-0.5\"/>\n<text text-anchor=\"middle\" x=\"42.5\" y=\"-54.3\" font-family=\"Times,serif\" font-size=\"14.00\">x2</text>\n<polyline fill=\"none\" stroke=\"black\" points=\"1.5,-46.5 83.5,-46.5 \"/>\n<text text-anchor=\"middle\" x=\"42.5\" y=\"-31.3\" font-family=\"Times,serif\" font-size=\"14.00\">data 0.9000</text>\n<polyline fill=\"none\" stroke=\"black\" points=\"1.5,-23.5 83.5,-23.5 \"/>\n<text text-anchor=\"middle\" x=\"42.5\" y=\"-8.3\" font-family=\"Times,serif\" font-size=\"14.00\">grad 0.0000</text>\n</g>\n<!-- 132255807388832&#45;&gt;132255807226448* -->\n<g id=\"edge10\" class=\"edge\">\n<title>132255807388832&#45;&gt;132255807226448*</title>\n<path fill=\"none\" stroke=\"black\" d=\"M83.52,-69.02C96.83,-80.34 111.23,-92.59 122.95,-102.55\"/>\n<polygon fill=\"black\" stroke=\"black\" points=\"120.7,-105.23 130.59,-109.04 125.23,-99.9 120.7,-105.23\"/>\n</g>\n<!-- 132255806814960 -->\n<g id=\"node10\" class=\"node\">\n<title>132255806814960</title>\n<polygon fill=\"none\" stroke=\"black\" points=\"851,-88.5 851,-157.5 936,-157.5 936,-88.5 851,-88.5\"/>\n<text text-anchor=\"middle\" x=\"893.5\" y=\"-142.3\" font-family=\"Times,serif\" font-size=\"14.00\">Output</text>\n<polyline fill=\"none\" stroke=\"black\" points=\"851,-134.5 936,-134.5 \"/>\n<text text-anchor=\"middle\" x=\"893.5\" y=\"-119.3\" font-family=\"Times,serif\" font-size=\"14.00\">data &#45;0.9940</text>\n<polyline fill=\"none\" stroke=\"black\" points=\"851,-111.5 936,-111.5 \"/>\n<text text-anchor=\"middle\" x=\"893.5\" y=\"-96.3\" font-family=\"Times,serif\" font-size=\"14.00\">grad 0.0000</text>\n</g>\n<!-- 132255806814960tanh&#45;&gt;132255806814960 -->\n<g id=\"edge4\" class=\"edge\">\n<title>132255806814960tanh&#45;&gt;132255806814960</title>\n<path fill=\"none\" stroke=\"black\" d=\"M815.12,-123C822.87,-123 831.64,-123 840.42,-123\"/>\n<polygon fill=\"black\" stroke=\"black\" points=\"840.68,-126.5 850.68,-123 840.68,-119.5 840.68,-126.5\"/>\n</g>\n<!-- 132255806816064 -->\n<g id=\"node12\" class=\"node\">\n<title>132255806816064</title>\n<polygon fill=\"none\" stroke=\"black\" points=\"422,-132.5 422,-201.5 514,-201.5 514,-132.5 422,-132.5\"/>\n<text text-anchor=\"middle\" x=\"468\" y=\"-186.3\" font-family=\"Times,serif\" font-size=\"14.00\">x1w1 + x2w2</text>\n<polyline fill=\"none\" stroke=\"black\" points=\"422,-178.5 514,-178.5 \"/>\n<text text-anchor=\"middle\" x=\"468\" y=\"-163.3\" font-family=\"Times,serif\" font-size=\"14.00\">data &#45;6.9000</text>\n<polyline fill=\"none\" stroke=\"black\" points=\"422,-155.5 514,-155.5 \"/>\n<text text-anchor=\"middle\" x=\"468\" y=\"-140.3\" font-family=\"Times,serif\" font-size=\"14.00\">grad 0.0000</text>\n</g>\n<!-- 132255806816064&#45;&gt;132255806815248+ -->\n<g id=\"edge7\" class=\"edge\">\n<title>132255806816064&#45;&gt;132255806815248+</title>\n<path fill=\"none\" stroke=\"black\" d=\"M514.07,-148.47C524.24,-144.28 534.83,-139.93 544.32,-136.03\"/>\n<polygon fill=\"black\" stroke=\"black\" points=\"545.82,-139.19 553.74,-132.15 543.16,-132.72 545.82,-139.19\"/>\n</g>\n<!-- 132255806816064+&#45;&gt;132255806816064 -->\n<g id=\"edge5\" class=\"edge\">\n<title>132255806816064+&#45;&gt;132255806816064</title>\n<path fill=\"none\" stroke=\"black\" d=\"M386.18,-167C394,-167 402.88,-167 411.83,-167\"/>\n<polygon fill=\"black\" stroke=\"black\" points=\"411.91,-170.5 421.91,-167 411.91,-163.5 411.91,-170.5\"/>\n</g>\n<!-- 132255807386432 -->\n<g id=\"node14\" class=\"node\">\n<title>132255807386432</title>\n<polygon fill=\"none\" stroke=\"black\" points=\"0,-176.5 0,-245.5 85,-245.5 85,-176.5 0,-176.5\"/>\n<text text-anchor=\"middle\" x=\"42.5\" y=\"-230.3\" font-family=\"Times,serif\" font-size=\"14.00\">x1</text>\n<polyline fill=\"none\" stroke=\"black\" points=\"0,-222.5 85,-222.5 \"/>\n<text text-anchor=\"middle\" x=\"42.5\" y=\"-207.3\" font-family=\"Times,serif\" font-size=\"14.00\">data &#45;2.0000</text>\n<polyline fill=\"none\" stroke=\"black\" points=\"0,-199.5 85,-199.5 \"/>\n<text text-anchor=\"middle\" x=\"42.5\" y=\"-184.3\" font-family=\"Times,serif\" font-size=\"14.00\">grad 0.0000</text>\n</g>\n<!-- 132255807386432&#45;&gt;132255807231008* -->\n<g id=\"edge12\" class=\"edge\">\n<title>132255807386432&#45;&gt;132255807231008*</title>\n<path fill=\"none\" stroke=\"black\" d=\"M85,-211C93.54,-211 102.47,-211 110.81,-211\"/>\n<polygon fill=\"black\" stroke=\"black\" points=\"110.97,-214.5 120.97,-211 110.97,-207.5 110.97,-214.5\"/>\n</g>\n<!-- 132255807229808 -->\n<g id=\"node15\" class=\"node\">\n<title>132255807229808</title>\n<polygon fill=\"none\" stroke=\"black\" points=\"427,-44.5 427,-113.5 509,-113.5 509,-44.5 427,-44.5\"/>\n<text text-anchor=\"middle\" x=\"468\" y=\"-98.3\" font-family=\"Times,serif\" font-size=\"14.00\">b</text>\n<polyline fill=\"none\" stroke=\"black\" points=\"427,-90.5 509,-90.5 \"/>\n<text text-anchor=\"middle\" x=\"468\" y=\"-75.3\" font-family=\"Times,serif\" font-size=\"14.00\">data 4.0000</text>\n<polyline fill=\"none\" stroke=\"black\" points=\"427,-67.5 509,-67.5 \"/>\n<text text-anchor=\"middle\" x=\"468\" y=\"-52.3\" font-family=\"Times,serif\" font-size=\"14.00\">grad 0.0000</text>\n</g>\n<!-- 132255807229808&#45;&gt;132255806815248+ -->\n<g id=\"edge8\" class=\"edge\">\n<title>132255807229808&#45;&gt;132255806815248+</title>\n<path fill=\"none\" stroke=\"black\" d=\"M509.15,-95.51C520.8,-100.3 533.35,-105.46 544.4,-110\"/>\n<polygon fill=\"black\" stroke=\"black\" points=\"543.08,-113.25 553.66,-113.81 545.74,-106.77 543.08,-113.25\"/>\n</g>\n</g>\n</svg>\n",
            "text/plain": [
              "<graphviz.graphs.Digraph at 0x784934627b80>"
            ]
          },
          "metadata": {},
          "execution_count": 27
        }
      ]
    },
    {
      "cell_type": "code",
      "source": [
        "#backpropagation\n",
        "o.grad = 1.0\n",
        "\n",
        "# do/dn = 1 - tanh(n) ** 2 = 1 - o** 2\n",
        "n.grad = 1 - o.data ** 2\n",
        "\n",
        "#do/db = do/dn * dn/db = (1 - o**2) * 1 = 1 - o**2\n",
        "b.grad = 1- o.data ** 2\n",
        "\n",
        "#d(o)/d(x1w1x2w2) = do/dn * dn/d(x1w1x2w2) = (1 - o** 2) * 1\n",
        "x1w1x2w2.grad = 1 - o.data** 2\n",
        "\n",
        "# do/d(x1w1) = do/dn * dn/d(x1w1x2w2) * d(x1w1x2w2)/d(x1w1) == (1 - o**2) (1) (1)\n",
        "x2w2.grad = 1- o.data**2\n",
        "x1w1.grad = 1 - o.data** 2\n",
        "\n",
        "# do/dx1 = do/dn * dn/(d(x1w1x2w2))* d(x1w1x2w2)/dx1w1 * d(x1w1)/dx1 = (1 - o**2) * (1) * (w1)\n",
        "x1.grad = (1 - o.data ** 2) * w1.data\n",
        "w1.grad = (1 - o.data ** 2) * x1.data\n",
        "\n",
        "x2.grad = (1 - o.data ** 2)  * w2.data\n",
        "w2.grad = (1- o.data**2) * x2.data"
      ],
      "metadata": {
        "id": "B9xXB4H9-4qP"
      },
      "execution_count": null,
      "outputs": []
    },
    {
      "cell_type": "code",
      "source": [
        "def check_grad():\n",
        "\n",
        "  h = 0.001\n",
        "\n",
        "  x1 = Value(-2.0, label = 'x1')\n",
        "  x2 = Value(0.9, label = 'x2')\n",
        "\n",
        "  w1 = Value(3.0, label = 'w1')\n",
        "  w2 = Value(-1.0, label = 'w2')\n",
        "\n",
        "  b = Value(4.0, label = 'b')\n",
        "\n",
        "  x1w1 = x1 * w1; x1w1.label = 'x1w1'\n",
        "  x2w2 = x2 * w2; x2w2.label = 'x2w2'\n",
        "\n",
        "  x1w1x2w2 = x1w1 + x2w2; x1w1x2w2.label = 'x1w1 + x2w2'\n",
        "  n = x1w1x2w2 + b; n.label = 'n'\n",
        "  o = n.tanh(); o.label = 'Output'\n",
        "  o1 = o.data\n",
        "\n",
        "  x1 = Value(-2.0, label = 'x1')\n",
        "  x2 = Value(0.9, label = 'x2')\n",
        "  w1 = Value(3.0, label = 'w1')\n",
        "  w2 = Value(-1.0, label = 'w2')\n",
        "  x1.data += h\n",
        "\n",
        "  b = Value(4.0, label = 'b')\n",
        "\n",
        "  x1w1 = x1 * w1; x1w1.label = 'x1w1'\n",
        "  x2w2 = x2 * w2; x2w2.label = 'x2w2'\n",
        "\n",
        "  x1w1x2w2 = x1w1 + x2w2; x1w1x2w2.label = 'x1w1 + x2w2'\n",
        "  n = x1w1x2w2 + b; n.label = 'n'\n",
        "  o = n.tanh(); o.label = 'Output'\n",
        "  o2 = o.data\n",
        "\n",
        "  print((o2 - o1)/h)\n",
        "\n",
        "check_grad()"
      ],
      "metadata": {
        "colab": {
          "base_uri": "https://localhost:8080/"
        },
        "id": "gju5v5craUp6",
        "outputId": "9b80fc59-c758-48e5-c261-ea45bf3bae3d"
      },
      "execution_count": null,
      "outputs": [
        {
          "output_type": "stream",
          "name": "stdout",
          "text": [
            "0.036219559918171385\n"
          ]
        }
      ]
    },
    {
      "cell_type": "code",
      "source": [
        "draw_dot(o)"
      ],
      "metadata": {
        "colab": {
          "base_uri": "https://localhost:8080/",
          "height": 477
        },
        "id": "83IJQJNTSfha",
        "outputId": "b86a33bf-f277-427f-eb9e-e9c4adb97b32"
      },
      "execution_count": null,
      "outputs": [
        {
          "output_type": "execute_result",
          "data": {
            "image/svg+xml": "<?xml version=\"1.0\" encoding=\"UTF-8\" standalone=\"no\"?>\n<!DOCTYPE svg PUBLIC \"-//W3C//DTD SVG 1.1//EN\"\n \"http://www.w3.org/Graphics/SVG/1.1/DTD/svg11.dtd\">\n<!-- Generated by graphviz version 2.43.0 (0)\n -->\n<!-- Title: %3 Pages: 1 -->\n<svg width=\"945pt\" height=\"342pt\"\n viewBox=\"0.00 0.00 945.00 342.00\" xmlns=\"http://www.w3.org/2000/svg\" xmlns:xlink=\"http://www.w3.org/1999/xlink\">\n<g id=\"graph0\" class=\"graph\" transform=\"scale(1 1) rotate(0) translate(4 338)\">\n<title>%3</title>\n<polygon fill=\"white\" stroke=\"transparent\" points=\"-4,4 -4,-338 941,-338 941,4 -4,4\"/>\n<!-- 132255806815248 -->\n<g id=\"node1\" class=\"node\">\n<title>132255806815248</title>\n<polygon fill=\"none\" stroke=\"black\" points=\"641,-88.5 641,-157.5 726,-157.5 726,-88.5 641,-88.5\"/>\n<text text-anchor=\"middle\" x=\"683.5\" y=\"-142.3\" font-family=\"Times,serif\" font-size=\"14.00\">n</text>\n<polyline fill=\"none\" stroke=\"black\" points=\"641,-134.5 726,-134.5 \"/>\n<text text-anchor=\"middle\" x=\"683.5\" y=\"-119.3\" font-family=\"Times,serif\" font-size=\"14.00\">data &#45;2.9000</text>\n<polyline fill=\"none\" stroke=\"black\" points=\"641,-111.5 726,-111.5 \"/>\n<text text-anchor=\"middle\" x=\"683.5\" y=\"-96.3\" font-family=\"Times,serif\" font-size=\"14.00\">grad 0.0120</text>\n</g>\n<!-- 132255806814960tanh -->\n<g id=\"node11\" class=\"node\">\n<title>132255806814960tanh</title>\n<ellipse fill=\"none\" stroke=\"black\" cx=\"789\" cy=\"-123\" rx=\"27\" ry=\"18\"/>\n<text text-anchor=\"middle\" x=\"789\" y=\"-119.3\" font-family=\"Times,serif\" font-size=\"14.00\">tanh</text>\n</g>\n<!-- 132255806815248&#45;&gt;132255806814960tanh -->\n<g id=\"edge6\" class=\"edge\">\n<title>132255806815248&#45;&gt;132255806814960tanh</title>\n<path fill=\"none\" stroke=\"black\" d=\"M726,-123C734.54,-123 743.47,-123 751.81,-123\"/>\n<polygon fill=\"black\" stroke=\"black\" points=\"751.97,-126.5 761.97,-123 751.97,-119.5 751.97,-126.5\"/>\n</g>\n<!-- 132255806815248+ -->\n<g id=\"node2\" class=\"node\">\n<title>132255806815248+</title>\n<ellipse fill=\"none\" stroke=\"black\" cx=\"578\" cy=\"-123\" rx=\"27\" ry=\"18\"/>\n<text text-anchor=\"middle\" x=\"578\" y=\"-119.3\" font-family=\"Times,serif\" font-size=\"14.00\">+</text>\n</g>\n<!-- 132255806815248+&#45;&gt;132255806815248 -->\n<g id=\"edge1\" class=\"edge\">\n<title>132255806815248+&#45;&gt;132255806815248</title>\n<path fill=\"none\" stroke=\"black\" d=\"M605.12,-123C612.87,-123 621.64,-123 630.42,-123\"/>\n<polygon fill=\"black\" stroke=\"black\" points=\"630.68,-126.5 640.68,-123 630.68,-119.5 630.68,-126.5\"/>\n</g>\n<!-- 132255807231008 -->\n<g id=\"node3\" class=\"node\">\n<title>132255807231008</title>\n<polygon fill=\"none\" stroke=\"black\" points=\"212,-176.5 212,-245.5 297,-245.5 297,-176.5 212,-176.5\"/>\n<text text-anchor=\"middle\" x=\"254.5\" y=\"-230.3\" font-family=\"Times,serif\" font-size=\"14.00\">x1w1</text>\n<polyline fill=\"none\" stroke=\"black\" points=\"212,-222.5 297,-222.5 \"/>\n<text text-anchor=\"middle\" x=\"254.5\" y=\"-207.3\" font-family=\"Times,serif\" font-size=\"14.00\">data &#45;6.0000</text>\n<polyline fill=\"none\" stroke=\"black\" points=\"212,-199.5 297,-199.5 \"/>\n<text text-anchor=\"middle\" x=\"254.5\" y=\"-184.3\" font-family=\"Times,serif\" font-size=\"14.00\">grad 0.0120</text>\n</g>\n<!-- 132255806816064+ -->\n<g id=\"node13\" class=\"node\">\n<title>132255806816064+</title>\n<ellipse fill=\"none\" stroke=\"black\" cx=\"360\" cy=\"-167\" rx=\"27\" ry=\"18\"/>\n<text text-anchor=\"middle\" x=\"360\" y=\"-163.3\" font-family=\"Times,serif\" font-size=\"14.00\">+</text>\n</g>\n<!-- 132255807231008&#45;&gt;132255806816064+ -->\n<g id=\"edge13\" class=\"edge\">\n<title>132255807231008&#45;&gt;132255806816064+</title>\n<path fill=\"none\" stroke=\"black\" d=\"M297,-193.36C307.21,-189.02 317.97,-184.44 327.61,-180.34\"/>\n<polygon fill=\"black\" stroke=\"black\" points=\"328.98,-183.56 336.81,-176.43 326.24,-177.12 328.98,-183.56\"/>\n</g>\n<!-- 132255807231008* -->\n<g id=\"node4\" class=\"node\">\n<title>132255807231008*</title>\n<ellipse fill=\"none\" stroke=\"black\" cx=\"149\" cy=\"-211\" rx=\"27\" ry=\"18\"/>\n<text text-anchor=\"middle\" x=\"149\" y=\"-207.3\" font-family=\"Times,serif\" font-size=\"14.00\">*</text>\n</g>\n<!-- 132255807231008*&#45;&gt;132255807231008 -->\n<g id=\"edge2\" class=\"edge\">\n<title>132255807231008*&#45;&gt;132255807231008</title>\n<path fill=\"none\" stroke=\"black\" d=\"M176.12,-211C183.87,-211 192.64,-211 201.42,-211\"/>\n<polygon fill=\"black\" stroke=\"black\" points=\"201.68,-214.5 211.68,-211 201.68,-207.5 201.68,-214.5\"/>\n</g>\n<!-- 132255807387200 -->\n<g id=\"node5\" class=\"node\">\n<title>132255807387200</title>\n<polygon fill=\"none\" stroke=\"black\" points=\"0,-264.5 0,-333.5 86,-333.5 86,-264.5 0,-264.5\"/>\n<text text-anchor=\"middle\" x=\"43\" y=\"-318.3\" font-family=\"Times,serif\" font-size=\"14.00\">w1</text>\n<polyline fill=\"none\" stroke=\"black\" points=\"0,-310.5 86,-310.5 \"/>\n<text text-anchor=\"middle\" x=\"43\" y=\"-295.3\" font-family=\"Times,serif\" font-size=\"14.00\">data 3.0000</text>\n<polyline fill=\"none\" stroke=\"black\" points=\"0,-287.5 86,-287.5 \"/>\n<text text-anchor=\"middle\" x=\"43\" y=\"-272.3\" font-family=\"Times,serif\" font-size=\"14.00\">grad &#45;0.0241</text>\n</g>\n<!-- 132255807387200&#45;&gt;132255807231008* -->\n<g id=\"edge11\" class=\"edge\">\n<title>132255807387200&#45;&gt;132255807231008*</title>\n<path fill=\"none\" stroke=\"black\" d=\"M84.81,-264.47C97.9,-253.39 111.99,-241.47 123.54,-231.7\"/>\n<polygon fill=\"black\" stroke=\"black\" points=\"126.07,-234.14 131.44,-225.01 121.55,-228.8 126.07,-234.14\"/>\n</g>\n<!-- 132255807226448 -->\n<g id=\"node6\" class=\"node\">\n<title>132255807226448</title>\n<polygon fill=\"none\" stroke=\"black\" points=\"212,-88.5 212,-157.5 297,-157.5 297,-88.5 212,-88.5\"/>\n<text text-anchor=\"middle\" x=\"254.5\" y=\"-142.3\" font-family=\"Times,serif\" font-size=\"14.00\">x2w2</text>\n<polyline fill=\"none\" stroke=\"black\" points=\"212,-134.5 297,-134.5 \"/>\n<text text-anchor=\"middle\" x=\"254.5\" y=\"-119.3\" font-family=\"Times,serif\" font-size=\"14.00\">data &#45;0.9000</text>\n<polyline fill=\"none\" stroke=\"black\" points=\"212,-111.5 297,-111.5 \"/>\n<text text-anchor=\"middle\" x=\"254.5\" y=\"-96.3\" font-family=\"Times,serif\" font-size=\"14.00\">grad 0.0120</text>\n</g>\n<!-- 132255807226448&#45;&gt;132255806816064+ -->\n<g id=\"edge9\" class=\"edge\">\n<title>132255807226448&#45;&gt;132255806816064+</title>\n<path fill=\"none\" stroke=\"black\" d=\"M297,-140.64C307.21,-144.98 317.97,-149.56 327.61,-153.66\"/>\n<polygon fill=\"black\" stroke=\"black\" points=\"326.24,-156.88 336.81,-157.57 328.98,-150.44 326.24,-156.88\"/>\n</g>\n<!-- 132255807226448* -->\n<g id=\"node7\" class=\"node\">\n<title>132255807226448*</title>\n<ellipse fill=\"none\" stroke=\"black\" cx=\"149\" cy=\"-123\" rx=\"27\" ry=\"18\"/>\n<text text-anchor=\"middle\" x=\"149\" y=\"-119.3\" font-family=\"Times,serif\" font-size=\"14.00\">*</text>\n</g>\n<!-- 132255807226448*&#45;&gt;132255807226448 -->\n<g id=\"edge3\" class=\"edge\">\n<title>132255807226448*&#45;&gt;132255807226448</title>\n<path fill=\"none\" stroke=\"black\" d=\"M176.12,-123C183.87,-123 192.64,-123 201.42,-123\"/>\n<polygon fill=\"black\" stroke=\"black\" points=\"201.68,-126.5 211.68,-123 201.68,-119.5 201.68,-126.5\"/>\n</g>\n<!-- 132255807235136 -->\n<g id=\"node8\" class=\"node\">\n<title>132255807235136</title>\n<polygon fill=\"none\" stroke=\"black\" points=\"0.5,-88.5 0.5,-157.5 85.5,-157.5 85.5,-88.5 0.5,-88.5\"/>\n<text text-anchor=\"middle\" x=\"43\" y=\"-142.3\" font-family=\"Times,serif\" font-size=\"14.00\">w2</text>\n<polyline fill=\"none\" stroke=\"black\" points=\"0.5,-134.5 85.5,-134.5 \"/>\n<text text-anchor=\"middle\" x=\"43\" y=\"-119.3\" font-family=\"Times,serif\" font-size=\"14.00\">data &#45;1.0000</text>\n<polyline fill=\"none\" stroke=\"black\" points=\"0.5,-111.5 85.5,-111.5 \"/>\n<text text-anchor=\"middle\" x=\"43\" y=\"-96.3\" font-family=\"Times,serif\" font-size=\"14.00\">grad 0.0108</text>\n</g>\n<!-- 132255807235136&#45;&gt;132255807226448* -->\n<g id=\"edge14\" class=\"edge\">\n<title>132255807235136&#45;&gt;132255807226448*</title>\n<path fill=\"none\" stroke=\"black\" d=\"M85.7,-123C94.28,-123 103.26,-123 111.63,-123\"/>\n<polygon fill=\"black\" stroke=\"black\" points=\"111.85,-126.5 121.85,-123 111.85,-119.5 111.85,-126.5\"/>\n</g>\n<!-- 132255807388832 -->\n<g id=\"node9\" class=\"node\">\n<title>132255807388832</title>\n<polygon fill=\"none\" stroke=\"black\" points=\"0,-0.5 0,-69.5 86,-69.5 86,-0.5 0,-0.5\"/>\n<text text-anchor=\"middle\" x=\"43\" y=\"-54.3\" font-family=\"Times,serif\" font-size=\"14.00\">x2</text>\n<polyline fill=\"none\" stroke=\"black\" points=\"0,-46.5 86,-46.5 \"/>\n<text text-anchor=\"middle\" x=\"43\" y=\"-31.3\" font-family=\"Times,serif\" font-size=\"14.00\">data 0.9000</text>\n<polyline fill=\"none\" stroke=\"black\" points=\"0,-23.5 86,-23.5 \"/>\n<text text-anchor=\"middle\" x=\"43\" y=\"-8.3\" font-family=\"Times,serif\" font-size=\"14.00\">grad &#45;0.0120</text>\n</g>\n<!-- 132255807388832&#45;&gt;132255807226448* -->\n<g id=\"edge10\" class=\"edge\">\n<title>132255807388832&#45;&gt;132255807226448*</title>\n<path fill=\"none\" stroke=\"black\" d=\"M84.81,-69.53C97.9,-80.61 111.99,-92.53 123.54,-102.3\"/>\n<polygon fill=\"black\" stroke=\"black\" points=\"121.55,-105.2 131.44,-108.99 126.07,-99.86 121.55,-105.2\"/>\n</g>\n<!-- 132255806814960 -->\n<g id=\"node10\" class=\"node\">\n<title>132255806814960</title>\n<polygon fill=\"none\" stroke=\"black\" points=\"852,-88.5 852,-157.5 937,-157.5 937,-88.5 852,-88.5\"/>\n<text text-anchor=\"middle\" x=\"894.5\" y=\"-142.3\" font-family=\"Times,serif\" font-size=\"14.00\">Output</text>\n<polyline fill=\"none\" stroke=\"black\" points=\"852,-134.5 937,-134.5 \"/>\n<text text-anchor=\"middle\" x=\"894.5\" y=\"-119.3\" font-family=\"Times,serif\" font-size=\"14.00\">data &#45;0.9940</text>\n<polyline fill=\"none\" stroke=\"black\" points=\"852,-111.5 937,-111.5 \"/>\n<text text-anchor=\"middle\" x=\"894.5\" y=\"-96.3\" font-family=\"Times,serif\" font-size=\"14.00\">grad 1.0000</text>\n</g>\n<!-- 132255806814960tanh&#45;&gt;132255806814960 -->\n<g id=\"edge4\" class=\"edge\">\n<title>132255806814960tanh&#45;&gt;132255806814960</title>\n<path fill=\"none\" stroke=\"black\" d=\"M816.12,-123C823.87,-123 832.64,-123 841.42,-123\"/>\n<polygon fill=\"black\" stroke=\"black\" points=\"841.68,-126.5 851.68,-123 841.68,-119.5 841.68,-126.5\"/>\n</g>\n<!-- 132255806816064 -->\n<g id=\"node12\" class=\"node\">\n<title>132255806816064</title>\n<polygon fill=\"none\" stroke=\"black\" points=\"423,-132.5 423,-201.5 515,-201.5 515,-132.5 423,-132.5\"/>\n<text text-anchor=\"middle\" x=\"469\" y=\"-186.3\" font-family=\"Times,serif\" font-size=\"14.00\">x1w1 + x2w2</text>\n<polyline fill=\"none\" stroke=\"black\" points=\"423,-178.5 515,-178.5 \"/>\n<text text-anchor=\"middle\" x=\"469\" y=\"-163.3\" font-family=\"Times,serif\" font-size=\"14.00\">data &#45;6.9000</text>\n<polyline fill=\"none\" stroke=\"black\" points=\"423,-155.5 515,-155.5 \"/>\n<text text-anchor=\"middle\" x=\"469\" y=\"-140.3\" font-family=\"Times,serif\" font-size=\"14.00\">grad 0.0120</text>\n</g>\n<!-- 132255806816064&#45;&gt;132255806815248+ -->\n<g id=\"edge7\" class=\"edge\">\n<title>132255806816064&#45;&gt;132255806815248+</title>\n<path fill=\"none\" stroke=\"black\" d=\"M515.07,-148.47C525.24,-144.28 535.83,-139.93 545.32,-136.03\"/>\n<polygon fill=\"black\" stroke=\"black\" points=\"546.82,-139.19 554.74,-132.15 544.16,-132.72 546.82,-139.19\"/>\n</g>\n<!-- 132255806816064+&#45;&gt;132255806816064 -->\n<g id=\"edge5\" class=\"edge\">\n<title>132255806816064+&#45;&gt;132255806816064</title>\n<path fill=\"none\" stroke=\"black\" d=\"M387.18,-167C395,-167 403.88,-167 412.83,-167\"/>\n<polygon fill=\"black\" stroke=\"black\" points=\"412.91,-170.5 422.91,-167 412.91,-163.5 412.91,-170.5\"/>\n</g>\n<!-- 132255807386432 -->\n<g id=\"node14\" class=\"node\">\n<title>132255807386432</title>\n<polygon fill=\"none\" stroke=\"black\" points=\"0.5,-176.5 0.5,-245.5 85.5,-245.5 85.5,-176.5 0.5,-176.5\"/>\n<text text-anchor=\"middle\" x=\"43\" y=\"-230.3\" font-family=\"Times,serif\" font-size=\"14.00\">x1</text>\n<polyline fill=\"none\" stroke=\"black\" points=\"0.5,-222.5 85.5,-222.5 \"/>\n<text text-anchor=\"middle\" x=\"43\" y=\"-207.3\" font-family=\"Times,serif\" font-size=\"14.00\">data &#45;2.0000</text>\n<polyline fill=\"none\" stroke=\"black\" points=\"0.5,-199.5 85.5,-199.5 \"/>\n<text text-anchor=\"middle\" x=\"43\" y=\"-184.3\" font-family=\"Times,serif\" font-size=\"14.00\">grad 0.0361</text>\n</g>\n<!-- 132255807386432&#45;&gt;132255807231008* -->\n<g id=\"edge12\" class=\"edge\">\n<title>132255807386432&#45;&gt;132255807231008*</title>\n<path fill=\"none\" stroke=\"black\" d=\"M85.7,-211C94.28,-211 103.26,-211 111.63,-211\"/>\n<polygon fill=\"black\" stroke=\"black\" points=\"111.85,-214.5 121.85,-211 111.85,-207.5 111.85,-214.5\"/>\n</g>\n<!-- 132255807229808 -->\n<g id=\"node15\" class=\"node\">\n<title>132255807229808</title>\n<polygon fill=\"none\" stroke=\"black\" points=\"428,-44.5 428,-113.5 510,-113.5 510,-44.5 428,-44.5\"/>\n<text text-anchor=\"middle\" x=\"469\" y=\"-98.3\" font-family=\"Times,serif\" font-size=\"14.00\">b</text>\n<polyline fill=\"none\" stroke=\"black\" points=\"428,-90.5 510,-90.5 \"/>\n<text text-anchor=\"middle\" x=\"469\" y=\"-75.3\" font-family=\"Times,serif\" font-size=\"14.00\">data 4.0000</text>\n<polyline fill=\"none\" stroke=\"black\" points=\"428,-67.5 510,-67.5 \"/>\n<text text-anchor=\"middle\" x=\"469\" y=\"-52.3\" font-family=\"Times,serif\" font-size=\"14.00\">grad 0.0120</text>\n</g>\n<!-- 132255807229808&#45;&gt;132255806815248+ -->\n<g id=\"edge8\" class=\"edge\">\n<title>132255807229808&#45;&gt;132255806815248+</title>\n<path fill=\"none\" stroke=\"black\" d=\"M510.15,-95.51C521.8,-100.3 534.35,-105.46 545.4,-110\"/>\n<polygon fill=\"black\" stroke=\"black\" points=\"544.08,-113.25 554.66,-113.81 546.74,-106.77 544.08,-113.25\"/>\n</g>\n</g>\n</svg>\n",
            "text/plain": [
              "<graphviz.graphs.Digraph at 0x7849346cef20>"
            ]
          },
          "metadata": {},
          "execution_count": 30
        }
      ]
    },
    {
      "cell_type": "code",
      "source": [
        "class Value:\n",
        "  def __init__(self, data, _prev = (), _op = '', label = ''):\n",
        "    self.data = data\n",
        "    self._prev = _prev\n",
        "    self._op = _op\n",
        "    self.label = label\n",
        "    self.grad = 0 #by default we assume the grad is 0 i.e. no effect.\n",
        "    self._backward = lambda: None\n",
        "\n",
        "\n",
        "  def __repr__(self):\n",
        "    return f\"Value (data = {self.data})\"\n",
        "\n",
        "  def __add__(self, other): #if a and b are Value object then on a + b, python will do a.__add__(b)\n",
        "    out = Value(self.data + other.data, (self, other), '+')\n",
        "\n",
        "    def _backward():\n",
        "      #d(a + b)/da = 1\n",
        "      self.grad = 1 * out.grad\n",
        "      other.grad = 1 * out.grad\n",
        "    out._backward = _backward\n",
        "\n",
        "    return out\n",
        "\n",
        "  def __mul__(self, other):\n",
        "    out = Value(self.data * other.data, (self, other), '*')\n",
        "    #d(ab)/da = b\n",
        "    def _backward():\n",
        "      self.grad = other.data * out.grad\n",
        "      other.grad = self.data * out.grad\n",
        "\n",
        "    out._backward = _backward\n",
        "    return out\n",
        "\n",
        "  def __div__(self, other):\n",
        "    return Value(self.data/other.data, (self, other), '/')\n",
        "\n",
        "  # def tanh(self):\n",
        "  #   n = self.data\n",
        "  #   t = (math.exp(2*n) - 1)/(math.exp(2*x) + 1)\n",
        "  #   out = Value(t, (self, ), 'tanh')\n",
        "  #   return out\n",
        "  def tanh(self):\n",
        "    t = (math.exp(2*self.data) - 1)/(math.exp(2*self.data) + 1)\n",
        "    out = Value(t, (self, ), 'tanh')\n",
        "    # d(tanh(a))/da = 1 - a ** 2\n",
        "    def _backward():\n",
        "      self.grad = (1 - t ** 2) * out.grad\n",
        "    out._backward = _backward\n",
        "\n",
        "    return out"
      ],
      "metadata": {
        "id": "m2InSsc3a2fQ"
      },
      "execution_count": null,
      "outputs": []
    },
    {
      "cell_type": "code",
      "source": [
        "x1 = Value(-2.0, label = 'x1')\n",
        "x2 = Value(0.9, label = 'x2')\n",
        "\n",
        "w1 = Value(3.0, label = 'w1')\n",
        "w2 = Value(-1.0, label = 'w2')\n",
        "\n",
        "b = Value(4.0, label = 'b')\n",
        "print(b.data)\n",
        "\n",
        "x1w1 = x1 * w1; x1w1.label = 'x1w1'\n",
        "x2w2 = x2 * w2; x2w2.label = 'x2w2'\n",
        "\n",
        "x1w1x2w2 = x1w1 + x2w2; x1w1x2w2.label = 'x1w1 + x2w2'\n",
        "n = x1w1x2w2 + b; n.label = 'n'\n",
        "o = n.tanh(); o.label = 'Output'\n",
        "draw_dot(o)"
      ],
      "metadata": {
        "colab": {
          "base_uri": "https://localhost:8080/",
          "height": 495
        },
        "id": "jBSGIi4bX5Kj",
        "outputId": "58a148ee-48d2-484b-8be2-890c00e8930e"
      },
      "execution_count": null,
      "outputs": [
        {
          "output_type": "stream",
          "name": "stdout",
          "text": [
            "4.0\n"
          ]
        },
        {
          "output_type": "execute_result",
          "data": {
            "image/svg+xml": "<?xml version=\"1.0\" encoding=\"UTF-8\" standalone=\"no\"?>\n<!DOCTYPE svg PUBLIC \"-//W3C//DTD SVG 1.1//EN\"\n \"http://www.w3.org/Graphics/SVG/1.1/DTD/svg11.dtd\">\n<!-- Generated by graphviz version 2.43.0 (0)\n -->\n<!-- Title: %3 Pages: 1 -->\n<svg width=\"944pt\" height=\"342pt\"\n viewBox=\"0.00 0.00 944.00 342.00\" xmlns=\"http://www.w3.org/2000/svg\" xmlns:xlink=\"http://www.w3.org/1999/xlink\">\n<g id=\"graph0\" class=\"graph\" transform=\"scale(1 1) rotate(0) translate(4 338)\">\n<title>%3</title>\n<polygon fill=\"white\" stroke=\"transparent\" points=\"-4,4 -4,-338 940,-338 940,4 -4,4\"/>\n<!-- 132255807496896 -->\n<g id=\"node1\" class=\"node\">\n<title>132255807496896</title>\n<polygon fill=\"none\" stroke=\"black\" points=\"851,-176.5 851,-245.5 936,-245.5 936,-176.5 851,-176.5\"/>\n<text text-anchor=\"middle\" x=\"893.5\" y=\"-230.3\" font-family=\"Times,serif\" font-size=\"14.00\">Output</text>\n<polyline fill=\"none\" stroke=\"black\" points=\"851,-222.5 936,-222.5 \"/>\n<text text-anchor=\"middle\" x=\"893.5\" y=\"-207.3\" font-family=\"Times,serif\" font-size=\"14.00\">data &#45;0.9940</text>\n<polyline fill=\"none\" stroke=\"black\" points=\"851,-199.5 936,-199.5 \"/>\n<text text-anchor=\"middle\" x=\"893.5\" y=\"-184.3\" font-family=\"Times,serif\" font-size=\"14.00\">grad 0.0000</text>\n</g>\n<!-- 132255807496896tanh -->\n<g id=\"node2\" class=\"node\">\n<title>132255807496896tanh</title>\n<ellipse fill=\"none\" stroke=\"black\" cx=\"788\" cy=\"-211\" rx=\"27\" ry=\"18\"/>\n<text text-anchor=\"middle\" x=\"788\" y=\"-207.3\" font-family=\"Times,serif\" font-size=\"14.00\">tanh</text>\n</g>\n<!-- 132255807496896tanh&#45;&gt;132255807496896 -->\n<g id=\"edge1\" class=\"edge\">\n<title>132255807496896tanh&#45;&gt;132255807496896</title>\n<path fill=\"none\" stroke=\"black\" d=\"M815.12,-211C822.87,-211 831.64,-211 840.42,-211\"/>\n<polygon fill=\"black\" stroke=\"black\" points=\"840.68,-214.5 850.68,-211 840.68,-207.5 840.68,-214.5\"/>\n</g>\n<!-- 132255807495888 -->\n<g id=\"node3\" class=\"node\">\n<title>132255807495888</title>\n<polygon fill=\"none\" stroke=\"black\" points=\"640,-176.5 640,-245.5 725,-245.5 725,-176.5 640,-176.5\"/>\n<text text-anchor=\"middle\" x=\"682.5\" y=\"-230.3\" font-family=\"Times,serif\" font-size=\"14.00\">n</text>\n<polyline fill=\"none\" stroke=\"black\" points=\"640,-222.5 725,-222.5 \"/>\n<text text-anchor=\"middle\" x=\"682.5\" y=\"-207.3\" font-family=\"Times,serif\" font-size=\"14.00\">data &#45;2.9000</text>\n<polyline fill=\"none\" stroke=\"black\" points=\"640,-199.5 725,-199.5 \"/>\n<text text-anchor=\"middle\" x=\"682.5\" y=\"-184.3\" font-family=\"Times,serif\" font-size=\"14.00\">grad 0.0000</text>\n</g>\n<!-- 132255807495888&#45;&gt;132255807496896tanh -->\n<g id=\"edge12\" class=\"edge\">\n<title>132255807495888&#45;&gt;132255807496896tanh</title>\n<path fill=\"none\" stroke=\"black\" d=\"M725,-211C733.54,-211 742.47,-211 750.81,-211\"/>\n<polygon fill=\"black\" stroke=\"black\" points=\"750.97,-214.5 760.97,-211 750.97,-207.5 750.97,-214.5\"/>\n</g>\n<!-- 132255807495888+ -->\n<g id=\"node4\" class=\"node\">\n<title>132255807495888+</title>\n<ellipse fill=\"none\" stroke=\"black\" cx=\"577\" cy=\"-211\" rx=\"27\" ry=\"18\"/>\n<text text-anchor=\"middle\" x=\"577\" y=\"-207.3\" font-family=\"Times,serif\" font-size=\"14.00\">+</text>\n</g>\n<!-- 132255807495888+&#45;&gt;132255807495888 -->\n<g id=\"edge2\" class=\"edge\">\n<title>132255807495888+&#45;&gt;132255807495888</title>\n<path fill=\"none\" stroke=\"black\" d=\"M604.12,-211C611.87,-211 620.64,-211 629.42,-211\"/>\n<polygon fill=\"black\" stroke=\"black\" points=\"629.68,-214.5 639.68,-211 629.68,-207.5 629.68,-214.5\"/>\n</g>\n<!-- 132255807386816 -->\n<g id=\"node5\" class=\"node\">\n<title>132255807386816</title>\n<polygon fill=\"none\" stroke=\"black\" points=\"1.5,-264.5 1.5,-333.5 83.5,-333.5 83.5,-264.5 1.5,-264.5\"/>\n<text text-anchor=\"middle\" x=\"42.5\" y=\"-318.3\" font-family=\"Times,serif\" font-size=\"14.00\">x2</text>\n<polyline fill=\"none\" stroke=\"black\" points=\"1.5,-310.5 83.5,-310.5 \"/>\n<text text-anchor=\"middle\" x=\"42.5\" y=\"-295.3\" font-family=\"Times,serif\" font-size=\"14.00\">data 0.9000</text>\n<polyline fill=\"none\" stroke=\"black\" points=\"1.5,-287.5 83.5,-287.5 \"/>\n<text text-anchor=\"middle\" x=\"42.5\" y=\"-272.3\" font-family=\"Times,serif\" font-size=\"14.00\">grad 0.0000</text>\n</g>\n<!-- 132255807498672* -->\n<g id=\"node12\" class=\"node\">\n<title>132255807498672*</title>\n<ellipse fill=\"none\" stroke=\"black\" cx=\"148\" cy=\"-211\" rx=\"27\" ry=\"18\"/>\n<text text-anchor=\"middle\" x=\"148\" y=\"-207.3\" font-family=\"Times,serif\" font-size=\"14.00\">*</text>\n</g>\n<!-- 132255807386816&#45;&gt;132255807498672* -->\n<g id=\"edge13\" class=\"edge\">\n<title>132255807386816&#45;&gt;132255807498672*</title>\n<path fill=\"none\" stroke=\"black\" d=\"M83.52,-264.98C96.83,-253.66 111.23,-241.41 122.95,-231.45\"/>\n<polygon fill=\"black\" stroke=\"black\" points=\"125.23,-234.1 130.59,-224.96 120.7,-228.77 125.23,-234.1\"/>\n</g>\n<!-- 132255807388976 -->\n<g id=\"node6\" class=\"node\">\n<title>132255807388976</title>\n<polygon fill=\"none\" stroke=\"black\" points=\"427,-220.5 427,-289.5 509,-289.5 509,-220.5 427,-220.5\"/>\n<text text-anchor=\"middle\" x=\"468\" y=\"-274.3\" font-family=\"Times,serif\" font-size=\"14.00\">b</text>\n<polyline fill=\"none\" stroke=\"black\" points=\"427,-266.5 509,-266.5 \"/>\n<text text-anchor=\"middle\" x=\"468\" y=\"-251.3\" font-family=\"Times,serif\" font-size=\"14.00\">data 4.0000</text>\n<polyline fill=\"none\" stroke=\"black\" points=\"427,-243.5 509,-243.5 \"/>\n<text text-anchor=\"middle\" x=\"468\" y=\"-228.3\" font-family=\"Times,serif\" font-size=\"14.00\">grad 0.0000</text>\n</g>\n<!-- 132255807388976&#45;&gt;132255807495888+ -->\n<g id=\"edge7\" class=\"edge\">\n<title>132255807388976&#45;&gt;132255807495888+</title>\n<path fill=\"none\" stroke=\"black\" d=\"M509.15,-238.49C520.8,-233.7 533.35,-228.54 544.4,-224\"/>\n<polygon fill=\"black\" stroke=\"black\" points=\"545.74,-227.23 553.66,-220.19 543.08,-220.75 545.74,-227.23\"/>\n</g>\n<!-- 132255807500640 -->\n<g id=\"node7\" class=\"node\">\n<title>132255807500640</title>\n<polygon fill=\"none\" stroke=\"black\" points=\"422,-132.5 422,-201.5 514,-201.5 514,-132.5 422,-132.5\"/>\n<text text-anchor=\"middle\" x=\"468\" y=\"-186.3\" font-family=\"Times,serif\" font-size=\"14.00\">x1w1 + x2w2</text>\n<polyline fill=\"none\" stroke=\"black\" points=\"422,-178.5 514,-178.5 \"/>\n<text text-anchor=\"middle\" x=\"468\" y=\"-163.3\" font-family=\"Times,serif\" font-size=\"14.00\">data &#45;6.9000</text>\n<polyline fill=\"none\" stroke=\"black\" points=\"422,-155.5 514,-155.5 \"/>\n<text text-anchor=\"middle\" x=\"468\" y=\"-140.3\" font-family=\"Times,serif\" font-size=\"14.00\">grad 0.0000</text>\n</g>\n<!-- 132255807500640&#45;&gt;132255807495888+ -->\n<g id=\"edge6\" class=\"edge\">\n<title>132255807500640&#45;&gt;132255807495888+</title>\n<path fill=\"none\" stroke=\"black\" d=\"M514.07,-185.53C524.24,-189.72 534.83,-194.07 544.32,-197.97\"/>\n<polygon fill=\"black\" stroke=\"black\" points=\"543.16,-201.28 553.74,-201.85 545.82,-194.81 543.16,-201.28\"/>\n</g>\n<!-- 132255807500640+ -->\n<g id=\"node8\" class=\"node\">\n<title>132255807500640+</title>\n<ellipse fill=\"none\" stroke=\"black\" cx=\"359\" cy=\"-167\" rx=\"27\" ry=\"18\"/>\n<text text-anchor=\"middle\" x=\"359\" y=\"-163.3\" font-family=\"Times,serif\" font-size=\"14.00\">+</text>\n</g>\n<!-- 132255807500640+&#45;&gt;132255807500640 -->\n<g id=\"edge3\" class=\"edge\">\n<title>132255807500640+&#45;&gt;132255807500640</title>\n<path fill=\"none\" stroke=\"black\" d=\"M386.18,-167C394,-167 402.88,-167 411.83,-167\"/>\n<polygon fill=\"black\" stroke=\"black\" points=\"411.91,-170.5 421.91,-167 411.91,-163.5 411.91,-170.5\"/>\n</g>\n<!-- 132255807388544 -->\n<g id=\"node9\" class=\"node\">\n<title>132255807388544</title>\n<polygon fill=\"none\" stroke=\"black\" points=\"0,-88.5 0,-157.5 85,-157.5 85,-88.5 0,-88.5\"/>\n<text text-anchor=\"middle\" x=\"42.5\" y=\"-142.3\" font-family=\"Times,serif\" font-size=\"14.00\">x1</text>\n<polyline fill=\"none\" stroke=\"black\" points=\"0,-134.5 85,-134.5 \"/>\n<text text-anchor=\"middle\" x=\"42.5\" y=\"-119.3\" font-family=\"Times,serif\" font-size=\"14.00\">data &#45;2.0000</text>\n<polyline fill=\"none\" stroke=\"black\" points=\"0,-111.5 85,-111.5 \"/>\n<text text-anchor=\"middle\" x=\"42.5\" y=\"-96.3\" font-family=\"Times,serif\" font-size=\"14.00\">grad 0.0000</text>\n</g>\n<!-- 132255808732128* -->\n<g id=\"node15\" class=\"node\">\n<title>132255808732128*</title>\n<ellipse fill=\"none\" stroke=\"black\" cx=\"148\" cy=\"-123\" rx=\"27\" ry=\"18\"/>\n<text text-anchor=\"middle\" x=\"148\" y=\"-119.3\" font-family=\"Times,serif\" font-size=\"14.00\">*</text>\n</g>\n<!-- 132255807388544&#45;&gt;132255808732128* -->\n<g id=\"edge9\" class=\"edge\">\n<title>132255807388544&#45;&gt;132255808732128*</title>\n<path fill=\"none\" stroke=\"black\" d=\"M85,-123C93.54,-123 102.47,-123 110.81,-123\"/>\n<polygon fill=\"black\" stroke=\"black\" points=\"110.97,-126.5 120.97,-123 110.97,-119.5 110.97,-126.5\"/>\n</g>\n<!-- 132255807389600 -->\n<g id=\"node10\" class=\"node\">\n<title>132255807389600</title>\n<polygon fill=\"none\" stroke=\"black\" points=\"1.5,-0.5 1.5,-69.5 83.5,-69.5 83.5,-0.5 1.5,-0.5\"/>\n<text text-anchor=\"middle\" x=\"42.5\" y=\"-54.3\" font-family=\"Times,serif\" font-size=\"14.00\">w1</text>\n<polyline fill=\"none\" stroke=\"black\" points=\"1.5,-46.5 83.5,-46.5 \"/>\n<text text-anchor=\"middle\" x=\"42.5\" y=\"-31.3\" font-family=\"Times,serif\" font-size=\"14.00\">data 3.0000</text>\n<polyline fill=\"none\" stroke=\"black\" points=\"1.5,-23.5 83.5,-23.5 \"/>\n<text text-anchor=\"middle\" x=\"42.5\" y=\"-8.3\" font-family=\"Times,serif\" font-size=\"14.00\">grad 0.0000</text>\n</g>\n<!-- 132255807389600&#45;&gt;132255808732128* -->\n<g id=\"edge10\" class=\"edge\">\n<title>132255807389600&#45;&gt;132255808732128*</title>\n<path fill=\"none\" stroke=\"black\" d=\"M83.52,-69.02C96.83,-80.34 111.23,-92.59 122.95,-102.55\"/>\n<polygon fill=\"black\" stroke=\"black\" points=\"120.7,-105.23 130.59,-109.04 125.23,-99.9 120.7,-105.23\"/>\n</g>\n<!-- 132255807498672 -->\n<g id=\"node11\" class=\"node\">\n<title>132255807498672</title>\n<polygon fill=\"none\" stroke=\"black\" points=\"211,-176.5 211,-245.5 296,-245.5 296,-176.5 211,-176.5\"/>\n<text text-anchor=\"middle\" x=\"253.5\" y=\"-230.3\" font-family=\"Times,serif\" font-size=\"14.00\">x2w2</text>\n<polyline fill=\"none\" stroke=\"black\" points=\"211,-222.5 296,-222.5 \"/>\n<text text-anchor=\"middle\" x=\"253.5\" y=\"-207.3\" font-family=\"Times,serif\" font-size=\"14.00\">data &#45;0.9000</text>\n<polyline fill=\"none\" stroke=\"black\" points=\"211,-199.5 296,-199.5 \"/>\n<text text-anchor=\"middle\" x=\"253.5\" y=\"-184.3\" font-family=\"Times,serif\" font-size=\"14.00\">grad 0.0000</text>\n</g>\n<!-- 132255807498672&#45;&gt;132255807500640+ -->\n<g id=\"edge14\" class=\"edge\">\n<title>132255807498672&#45;&gt;132255807500640+</title>\n<path fill=\"none\" stroke=\"black\" d=\"M296,-193.36C306.21,-189.02 316.97,-184.44 326.61,-180.34\"/>\n<polygon fill=\"black\" stroke=\"black\" points=\"327.98,-183.56 335.81,-176.43 325.24,-177.12 327.98,-183.56\"/>\n</g>\n<!-- 132255807498672*&#45;&gt;132255807498672 -->\n<g id=\"edge4\" class=\"edge\">\n<title>132255807498672*&#45;&gt;132255807498672</title>\n<path fill=\"none\" stroke=\"black\" d=\"M175.12,-211C182.87,-211 191.64,-211 200.42,-211\"/>\n<polygon fill=\"black\" stroke=\"black\" points=\"200.68,-214.5 210.68,-211 200.68,-207.5 200.68,-214.5\"/>\n</g>\n<!-- 132255807386576 -->\n<g id=\"node13\" class=\"node\">\n<title>132255807386576</title>\n<polygon fill=\"none\" stroke=\"black\" points=\"0,-176.5 0,-245.5 85,-245.5 85,-176.5 0,-176.5\"/>\n<text text-anchor=\"middle\" x=\"42.5\" y=\"-230.3\" font-family=\"Times,serif\" font-size=\"14.00\">w2</text>\n<polyline fill=\"none\" stroke=\"black\" points=\"0,-222.5 85,-222.5 \"/>\n<text text-anchor=\"middle\" x=\"42.5\" y=\"-207.3\" font-family=\"Times,serif\" font-size=\"14.00\">data &#45;1.0000</text>\n<polyline fill=\"none\" stroke=\"black\" points=\"0,-199.5 85,-199.5 \"/>\n<text text-anchor=\"middle\" x=\"42.5\" y=\"-184.3\" font-family=\"Times,serif\" font-size=\"14.00\">grad 0.0000</text>\n</g>\n<!-- 132255807386576&#45;&gt;132255807498672* -->\n<g id=\"edge8\" class=\"edge\">\n<title>132255807386576&#45;&gt;132255807498672*</title>\n<path fill=\"none\" stroke=\"black\" d=\"M85,-211C93.54,-211 102.47,-211 110.81,-211\"/>\n<polygon fill=\"black\" stroke=\"black\" points=\"110.97,-214.5 120.97,-211 110.97,-207.5 110.97,-214.5\"/>\n</g>\n<!-- 132255808732128 -->\n<g id=\"node14\" class=\"node\">\n<title>132255808732128</title>\n<polygon fill=\"none\" stroke=\"black\" points=\"211,-88.5 211,-157.5 296,-157.5 296,-88.5 211,-88.5\"/>\n<text text-anchor=\"middle\" x=\"253.5\" y=\"-142.3\" font-family=\"Times,serif\" font-size=\"14.00\">x1w1</text>\n<polyline fill=\"none\" stroke=\"black\" points=\"211,-134.5 296,-134.5 \"/>\n<text text-anchor=\"middle\" x=\"253.5\" y=\"-119.3\" font-family=\"Times,serif\" font-size=\"14.00\">data &#45;6.0000</text>\n<polyline fill=\"none\" stroke=\"black\" points=\"211,-111.5 296,-111.5 \"/>\n<text text-anchor=\"middle\" x=\"253.5\" y=\"-96.3\" font-family=\"Times,serif\" font-size=\"14.00\">grad 0.0000</text>\n</g>\n<!-- 132255808732128&#45;&gt;132255807500640+ -->\n<g id=\"edge11\" class=\"edge\">\n<title>132255808732128&#45;&gt;132255807500640+</title>\n<path fill=\"none\" stroke=\"black\" d=\"M296,-140.64C306.21,-144.98 316.97,-149.56 326.61,-153.66\"/>\n<polygon fill=\"black\" stroke=\"black\" points=\"325.24,-156.88 335.81,-157.57 327.98,-150.44 325.24,-156.88\"/>\n</g>\n<!-- 132255808732128*&#45;&gt;132255808732128 -->\n<g id=\"edge5\" class=\"edge\">\n<title>132255808732128*&#45;&gt;132255808732128</title>\n<path fill=\"none\" stroke=\"black\" d=\"M175.12,-123C182.87,-123 191.64,-123 200.42,-123\"/>\n<polygon fill=\"black\" stroke=\"black\" points=\"200.68,-126.5 210.68,-123 200.68,-119.5 200.68,-126.5\"/>\n</g>\n</g>\n</svg>\n",
            "text/plain": [
              "<graphviz.graphs.Digraph at 0x7849346cd4b0>"
            ]
          },
          "metadata": {},
          "execution_count": 32
        }
      ]
    },
    {
      "cell_type": "code",
      "source": [
        "o.grad = 1.0\n",
        "o._backward()\n",
        "n._backward()\n",
        "x1w1x2w2._backward()\n",
        "x1w1._backward()\n",
        "x2w2._backward()"
      ],
      "metadata": {
        "id": "tyw_thkgX9XC"
      },
      "execution_count": null,
      "outputs": []
    },
    {
      "cell_type": "code",
      "source": [
        "draw_dot(o)"
      ],
      "metadata": {
        "colab": {
          "base_uri": "https://localhost:8080/",
          "height": 477
        },
        "id": "_hAmGBLVYkLZ",
        "outputId": "c8895750-570b-48f3-bf14-c90e679c3c30"
      },
      "execution_count": null,
      "outputs": [
        {
          "output_type": "execute_result",
          "data": {
            "image/svg+xml": "<?xml version=\"1.0\" encoding=\"UTF-8\" standalone=\"no\"?>\n<!DOCTYPE svg PUBLIC \"-//W3C//DTD SVG 1.1//EN\"\n \"http://www.w3.org/Graphics/SVG/1.1/DTD/svg11.dtd\">\n<!-- Generated by graphviz version 2.43.0 (0)\n -->\n<!-- Title: %3 Pages: 1 -->\n<svg width=\"945pt\" height=\"342pt\"\n viewBox=\"0.00 0.00 945.00 342.00\" xmlns=\"http://www.w3.org/2000/svg\" xmlns:xlink=\"http://www.w3.org/1999/xlink\">\n<g id=\"graph0\" class=\"graph\" transform=\"scale(1 1) rotate(0) translate(4 338)\">\n<title>%3</title>\n<polygon fill=\"white\" stroke=\"transparent\" points=\"-4,4 -4,-338 941,-338 941,4 -4,4\"/>\n<!-- 132255807496896 -->\n<g id=\"node1\" class=\"node\">\n<title>132255807496896</title>\n<polygon fill=\"none\" stroke=\"black\" points=\"852,-176.5 852,-245.5 937,-245.5 937,-176.5 852,-176.5\"/>\n<text text-anchor=\"middle\" x=\"894.5\" y=\"-230.3\" font-family=\"Times,serif\" font-size=\"14.00\">Output</text>\n<polyline fill=\"none\" stroke=\"black\" points=\"852,-222.5 937,-222.5 \"/>\n<text text-anchor=\"middle\" x=\"894.5\" y=\"-207.3\" font-family=\"Times,serif\" font-size=\"14.00\">data &#45;0.9940</text>\n<polyline fill=\"none\" stroke=\"black\" points=\"852,-199.5 937,-199.5 \"/>\n<text text-anchor=\"middle\" x=\"894.5\" y=\"-184.3\" font-family=\"Times,serif\" font-size=\"14.00\">grad 1.0000</text>\n</g>\n<!-- 132255807496896tanh -->\n<g id=\"node2\" class=\"node\">\n<title>132255807496896tanh</title>\n<ellipse fill=\"none\" stroke=\"black\" cx=\"789\" cy=\"-211\" rx=\"27\" ry=\"18\"/>\n<text text-anchor=\"middle\" x=\"789\" y=\"-207.3\" font-family=\"Times,serif\" font-size=\"14.00\">tanh</text>\n</g>\n<!-- 132255807496896tanh&#45;&gt;132255807496896 -->\n<g id=\"edge1\" class=\"edge\">\n<title>132255807496896tanh&#45;&gt;132255807496896</title>\n<path fill=\"none\" stroke=\"black\" d=\"M816.12,-211C823.87,-211 832.64,-211 841.42,-211\"/>\n<polygon fill=\"black\" stroke=\"black\" points=\"841.68,-214.5 851.68,-211 841.68,-207.5 841.68,-214.5\"/>\n</g>\n<!-- 132255807495888 -->\n<g id=\"node3\" class=\"node\">\n<title>132255807495888</title>\n<polygon fill=\"none\" stroke=\"black\" points=\"641,-176.5 641,-245.5 726,-245.5 726,-176.5 641,-176.5\"/>\n<text text-anchor=\"middle\" x=\"683.5\" y=\"-230.3\" font-family=\"Times,serif\" font-size=\"14.00\">n</text>\n<polyline fill=\"none\" stroke=\"black\" points=\"641,-222.5 726,-222.5 \"/>\n<text text-anchor=\"middle\" x=\"683.5\" y=\"-207.3\" font-family=\"Times,serif\" font-size=\"14.00\">data &#45;2.9000</text>\n<polyline fill=\"none\" stroke=\"black\" points=\"641,-199.5 726,-199.5 \"/>\n<text text-anchor=\"middle\" x=\"683.5\" y=\"-184.3\" font-family=\"Times,serif\" font-size=\"14.00\">grad 0.0120</text>\n</g>\n<!-- 132255807495888&#45;&gt;132255807496896tanh -->\n<g id=\"edge12\" class=\"edge\">\n<title>132255807495888&#45;&gt;132255807496896tanh</title>\n<path fill=\"none\" stroke=\"black\" d=\"M726,-211C734.54,-211 743.47,-211 751.81,-211\"/>\n<polygon fill=\"black\" stroke=\"black\" points=\"751.97,-214.5 761.97,-211 751.97,-207.5 751.97,-214.5\"/>\n</g>\n<!-- 132255807495888+ -->\n<g id=\"node4\" class=\"node\">\n<title>132255807495888+</title>\n<ellipse fill=\"none\" stroke=\"black\" cx=\"578\" cy=\"-211\" rx=\"27\" ry=\"18\"/>\n<text text-anchor=\"middle\" x=\"578\" y=\"-207.3\" font-family=\"Times,serif\" font-size=\"14.00\">+</text>\n</g>\n<!-- 132255807495888+&#45;&gt;132255807495888 -->\n<g id=\"edge2\" class=\"edge\">\n<title>132255807495888+&#45;&gt;132255807495888</title>\n<path fill=\"none\" stroke=\"black\" d=\"M605.12,-211C612.87,-211 621.64,-211 630.42,-211\"/>\n<polygon fill=\"black\" stroke=\"black\" points=\"630.68,-214.5 640.68,-211 630.68,-207.5 630.68,-214.5\"/>\n</g>\n<!-- 132255807386816 -->\n<g id=\"node5\" class=\"node\">\n<title>132255807386816</title>\n<polygon fill=\"none\" stroke=\"black\" points=\"0,-264.5 0,-333.5 86,-333.5 86,-264.5 0,-264.5\"/>\n<text text-anchor=\"middle\" x=\"43\" y=\"-318.3\" font-family=\"Times,serif\" font-size=\"14.00\">x2</text>\n<polyline fill=\"none\" stroke=\"black\" points=\"0,-310.5 86,-310.5 \"/>\n<text text-anchor=\"middle\" x=\"43\" y=\"-295.3\" font-family=\"Times,serif\" font-size=\"14.00\">data 0.9000</text>\n<polyline fill=\"none\" stroke=\"black\" points=\"0,-287.5 86,-287.5 \"/>\n<text text-anchor=\"middle\" x=\"43\" y=\"-272.3\" font-family=\"Times,serif\" font-size=\"14.00\">grad &#45;0.0120</text>\n</g>\n<!-- 132255807498672* -->\n<g id=\"node12\" class=\"node\">\n<title>132255807498672*</title>\n<ellipse fill=\"none\" stroke=\"black\" cx=\"149\" cy=\"-211\" rx=\"27\" ry=\"18\"/>\n<text text-anchor=\"middle\" x=\"149\" y=\"-207.3\" font-family=\"Times,serif\" font-size=\"14.00\">*</text>\n</g>\n<!-- 132255807386816&#45;&gt;132255807498672* -->\n<g id=\"edge13\" class=\"edge\">\n<title>132255807386816&#45;&gt;132255807498672*</title>\n<path fill=\"none\" stroke=\"black\" d=\"M84.81,-264.47C97.9,-253.39 111.99,-241.47 123.54,-231.7\"/>\n<polygon fill=\"black\" stroke=\"black\" points=\"126.07,-234.14 131.44,-225.01 121.55,-228.8 126.07,-234.14\"/>\n</g>\n<!-- 132255807388976 -->\n<g id=\"node6\" class=\"node\">\n<title>132255807388976</title>\n<polygon fill=\"none\" stroke=\"black\" points=\"428,-220.5 428,-289.5 510,-289.5 510,-220.5 428,-220.5\"/>\n<text text-anchor=\"middle\" x=\"469\" y=\"-274.3\" font-family=\"Times,serif\" font-size=\"14.00\">b</text>\n<polyline fill=\"none\" stroke=\"black\" points=\"428,-266.5 510,-266.5 \"/>\n<text text-anchor=\"middle\" x=\"469\" y=\"-251.3\" font-family=\"Times,serif\" font-size=\"14.00\">data 4.0000</text>\n<polyline fill=\"none\" stroke=\"black\" points=\"428,-243.5 510,-243.5 \"/>\n<text text-anchor=\"middle\" x=\"469\" y=\"-228.3\" font-family=\"Times,serif\" font-size=\"14.00\">grad 0.0120</text>\n</g>\n<!-- 132255807388976&#45;&gt;132255807495888+ -->\n<g id=\"edge7\" class=\"edge\">\n<title>132255807388976&#45;&gt;132255807495888+</title>\n<path fill=\"none\" stroke=\"black\" d=\"M510.15,-238.49C521.8,-233.7 534.35,-228.54 545.4,-224\"/>\n<polygon fill=\"black\" stroke=\"black\" points=\"546.74,-227.23 554.66,-220.19 544.08,-220.75 546.74,-227.23\"/>\n</g>\n<!-- 132255807500640 -->\n<g id=\"node7\" class=\"node\">\n<title>132255807500640</title>\n<polygon fill=\"none\" stroke=\"black\" points=\"423,-132.5 423,-201.5 515,-201.5 515,-132.5 423,-132.5\"/>\n<text text-anchor=\"middle\" x=\"469\" y=\"-186.3\" font-family=\"Times,serif\" font-size=\"14.00\">x1w1 + x2w2</text>\n<polyline fill=\"none\" stroke=\"black\" points=\"423,-178.5 515,-178.5 \"/>\n<text text-anchor=\"middle\" x=\"469\" y=\"-163.3\" font-family=\"Times,serif\" font-size=\"14.00\">data &#45;6.9000</text>\n<polyline fill=\"none\" stroke=\"black\" points=\"423,-155.5 515,-155.5 \"/>\n<text text-anchor=\"middle\" x=\"469\" y=\"-140.3\" font-family=\"Times,serif\" font-size=\"14.00\">grad 0.0120</text>\n</g>\n<!-- 132255807500640&#45;&gt;132255807495888+ -->\n<g id=\"edge6\" class=\"edge\">\n<title>132255807500640&#45;&gt;132255807495888+</title>\n<path fill=\"none\" stroke=\"black\" d=\"M515.07,-185.53C525.24,-189.72 535.83,-194.07 545.32,-197.97\"/>\n<polygon fill=\"black\" stroke=\"black\" points=\"544.16,-201.28 554.74,-201.85 546.82,-194.81 544.16,-201.28\"/>\n</g>\n<!-- 132255807500640+ -->\n<g id=\"node8\" class=\"node\">\n<title>132255807500640+</title>\n<ellipse fill=\"none\" stroke=\"black\" cx=\"360\" cy=\"-167\" rx=\"27\" ry=\"18\"/>\n<text text-anchor=\"middle\" x=\"360\" y=\"-163.3\" font-family=\"Times,serif\" font-size=\"14.00\">+</text>\n</g>\n<!-- 132255807500640+&#45;&gt;132255807500640 -->\n<g id=\"edge3\" class=\"edge\">\n<title>132255807500640+&#45;&gt;132255807500640</title>\n<path fill=\"none\" stroke=\"black\" d=\"M387.18,-167C395,-167 403.88,-167 412.83,-167\"/>\n<polygon fill=\"black\" stroke=\"black\" points=\"412.91,-170.5 422.91,-167 412.91,-163.5 412.91,-170.5\"/>\n</g>\n<!-- 132255807388544 -->\n<g id=\"node9\" class=\"node\">\n<title>132255807388544</title>\n<polygon fill=\"none\" stroke=\"black\" points=\"0.5,-88.5 0.5,-157.5 85.5,-157.5 85.5,-88.5 0.5,-88.5\"/>\n<text text-anchor=\"middle\" x=\"43\" y=\"-142.3\" font-family=\"Times,serif\" font-size=\"14.00\">x1</text>\n<polyline fill=\"none\" stroke=\"black\" points=\"0.5,-134.5 85.5,-134.5 \"/>\n<text text-anchor=\"middle\" x=\"43\" y=\"-119.3\" font-family=\"Times,serif\" font-size=\"14.00\">data &#45;2.0000</text>\n<polyline fill=\"none\" stroke=\"black\" points=\"0.5,-111.5 85.5,-111.5 \"/>\n<text text-anchor=\"middle\" x=\"43\" y=\"-96.3\" font-family=\"Times,serif\" font-size=\"14.00\">grad 0.0361</text>\n</g>\n<!-- 132255808732128* -->\n<g id=\"node15\" class=\"node\">\n<title>132255808732128*</title>\n<ellipse fill=\"none\" stroke=\"black\" cx=\"149\" cy=\"-123\" rx=\"27\" ry=\"18\"/>\n<text text-anchor=\"middle\" x=\"149\" y=\"-119.3\" font-family=\"Times,serif\" font-size=\"14.00\">*</text>\n</g>\n<!-- 132255807388544&#45;&gt;132255808732128* -->\n<g id=\"edge9\" class=\"edge\">\n<title>132255807388544&#45;&gt;132255808732128*</title>\n<path fill=\"none\" stroke=\"black\" d=\"M85.7,-123C94.28,-123 103.26,-123 111.63,-123\"/>\n<polygon fill=\"black\" stroke=\"black\" points=\"111.85,-126.5 121.85,-123 111.85,-119.5 111.85,-126.5\"/>\n</g>\n<!-- 132255807389600 -->\n<g id=\"node10\" class=\"node\">\n<title>132255807389600</title>\n<polygon fill=\"none\" stroke=\"black\" points=\"0,-0.5 0,-69.5 86,-69.5 86,-0.5 0,-0.5\"/>\n<text text-anchor=\"middle\" x=\"43\" y=\"-54.3\" font-family=\"Times,serif\" font-size=\"14.00\">w1</text>\n<polyline fill=\"none\" stroke=\"black\" points=\"0,-46.5 86,-46.5 \"/>\n<text text-anchor=\"middle\" x=\"43\" y=\"-31.3\" font-family=\"Times,serif\" font-size=\"14.00\">data 3.0000</text>\n<polyline fill=\"none\" stroke=\"black\" points=\"0,-23.5 86,-23.5 \"/>\n<text text-anchor=\"middle\" x=\"43\" y=\"-8.3\" font-family=\"Times,serif\" font-size=\"14.00\">grad &#45;0.0241</text>\n</g>\n<!-- 132255807389600&#45;&gt;132255808732128* -->\n<g id=\"edge10\" class=\"edge\">\n<title>132255807389600&#45;&gt;132255808732128*</title>\n<path fill=\"none\" stroke=\"black\" d=\"M84.81,-69.53C97.9,-80.61 111.99,-92.53 123.54,-102.3\"/>\n<polygon fill=\"black\" stroke=\"black\" points=\"121.55,-105.2 131.44,-108.99 126.07,-99.86 121.55,-105.2\"/>\n</g>\n<!-- 132255807498672 -->\n<g id=\"node11\" class=\"node\">\n<title>132255807498672</title>\n<polygon fill=\"none\" stroke=\"black\" points=\"212,-176.5 212,-245.5 297,-245.5 297,-176.5 212,-176.5\"/>\n<text text-anchor=\"middle\" x=\"254.5\" y=\"-230.3\" font-family=\"Times,serif\" font-size=\"14.00\">x2w2</text>\n<polyline fill=\"none\" stroke=\"black\" points=\"212,-222.5 297,-222.5 \"/>\n<text text-anchor=\"middle\" x=\"254.5\" y=\"-207.3\" font-family=\"Times,serif\" font-size=\"14.00\">data &#45;0.9000</text>\n<polyline fill=\"none\" stroke=\"black\" points=\"212,-199.5 297,-199.5 \"/>\n<text text-anchor=\"middle\" x=\"254.5\" y=\"-184.3\" font-family=\"Times,serif\" font-size=\"14.00\">grad 0.0120</text>\n</g>\n<!-- 132255807498672&#45;&gt;132255807500640+ -->\n<g id=\"edge14\" class=\"edge\">\n<title>132255807498672&#45;&gt;132255807500640+</title>\n<path fill=\"none\" stroke=\"black\" d=\"M297,-193.36C307.21,-189.02 317.97,-184.44 327.61,-180.34\"/>\n<polygon fill=\"black\" stroke=\"black\" points=\"328.98,-183.56 336.81,-176.43 326.24,-177.12 328.98,-183.56\"/>\n</g>\n<!-- 132255807498672*&#45;&gt;132255807498672 -->\n<g id=\"edge4\" class=\"edge\">\n<title>132255807498672*&#45;&gt;132255807498672</title>\n<path fill=\"none\" stroke=\"black\" d=\"M176.12,-211C183.87,-211 192.64,-211 201.42,-211\"/>\n<polygon fill=\"black\" stroke=\"black\" points=\"201.68,-214.5 211.68,-211 201.68,-207.5 201.68,-214.5\"/>\n</g>\n<!-- 132255807386576 -->\n<g id=\"node13\" class=\"node\">\n<title>132255807386576</title>\n<polygon fill=\"none\" stroke=\"black\" points=\"0.5,-176.5 0.5,-245.5 85.5,-245.5 85.5,-176.5 0.5,-176.5\"/>\n<text text-anchor=\"middle\" x=\"43\" y=\"-230.3\" font-family=\"Times,serif\" font-size=\"14.00\">w2</text>\n<polyline fill=\"none\" stroke=\"black\" points=\"0.5,-222.5 85.5,-222.5 \"/>\n<text text-anchor=\"middle\" x=\"43\" y=\"-207.3\" font-family=\"Times,serif\" font-size=\"14.00\">data &#45;1.0000</text>\n<polyline fill=\"none\" stroke=\"black\" points=\"0.5,-199.5 85.5,-199.5 \"/>\n<text text-anchor=\"middle\" x=\"43\" y=\"-184.3\" font-family=\"Times,serif\" font-size=\"14.00\">grad 0.0108</text>\n</g>\n<!-- 132255807386576&#45;&gt;132255807498672* -->\n<g id=\"edge8\" class=\"edge\">\n<title>132255807386576&#45;&gt;132255807498672*</title>\n<path fill=\"none\" stroke=\"black\" d=\"M85.7,-211C94.28,-211 103.26,-211 111.63,-211\"/>\n<polygon fill=\"black\" stroke=\"black\" points=\"111.85,-214.5 121.85,-211 111.85,-207.5 111.85,-214.5\"/>\n</g>\n<!-- 132255808732128 -->\n<g id=\"node14\" class=\"node\">\n<title>132255808732128</title>\n<polygon fill=\"none\" stroke=\"black\" points=\"212,-88.5 212,-157.5 297,-157.5 297,-88.5 212,-88.5\"/>\n<text text-anchor=\"middle\" x=\"254.5\" y=\"-142.3\" font-family=\"Times,serif\" font-size=\"14.00\">x1w1</text>\n<polyline fill=\"none\" stroke=\"black\" points=\"212,-134.5 297,-134.5 \"/>\n<text text-anchor=\"middle\" x=\"254.5\" y=\"-119.3\" font-family=\"Times,serif\" font-size=\"14.00\">data &#45;6.0000</text>\n<polyline fill=\"none\" stroke=\"black\" points=\"212,-111.5 297,-111.5 \"/>\n<text text-anchor=\"middle\" x=\"254.5\" y=\"-96.3\" font-family=\"Times,serif\" font-size=\"14.00\">grad 0.0120</text>\n</g>\n<!-- 132255808732128&#45;&gt;132255807500640+ -->\n<g id=\"edge11\" class=\"edge\">\n<title>132255808732128&#45;&gt;132255807500640+</title>\n<path fill=\"none\" stroke=\"black\" d=\"M297,-140.64C307.21,-144.98 317.97,-149.56 327.61,-153.66\"/>\n<polygon fill=\"black\" stroke=\"black\" points=\"326.24,-156.88 336.81,-157.57 328.98,-150.44 326.24,-156.88\"/>\n</g>\n<!-- 132255808732128*&#45;&gt;132255808732128 -->\n<g id=\"edge5\" class=\"edge\">\n<title>132255808732128*&#45;&gt;132255808732128</title>\n<path fill=\"none\" stroke=\"black\" d=\"M176.12,-123C183.87,-123 192.64,-123 201.42,-123\"/>\n<polygon fill=\"black\" stroke=\"black\" points=\"201.68,-126.5 211.68,-123 201.68,-119.5 201.68,-126.5\"/>\n</g>\n</g>\n</svg>\n",
            "text/plain": [
              "<graphviz.graphs.Digraph at 0x7849346b3eb0>"
            ]
          },
          "metadata": {},
          "execution_count": 34
        }
      ]
    },
    {
      "cell_type": "code",
      "source": [
        "#topological sorting of nodes(Values) such that we can loop on that sort to backpropagate from last node to first node\n",
        "top = []\n",
        "visited = set()\n",
        "def build_top(v):\n",
        "  if v not in visited:\n",
        "    visited.add(v)\n",
        "    for child in v._prev:\n",
        "      build_top(child)\n",
        "    top.append(v)\n",
        "build_top(o)\n",
        "top\n",
        "\n",
        "for i in top:\n",
        "  i._backward()"
      ],
      "metadata": {
        "id": "_T_GQGKzZCfd"
      },
      "execution_count": null,
      "outputs": []
    },
    {
      "cell_type": "code",
      "source": [
        "class Value:\n",
        "  def __init__(self, data, _prev = (), _op = '', label = ''):\n",
        "    self.data = data\n",
        "    self._prev = _prev\n",
        "    self._op = _op\n",
        "    self.label = label\n",
        "    self.grad = 0.0 #by default we assume the grad is 0 i.e. no effect.\n",
        "    self._backward = lambda: None\n",
        "\n",
        "\n",
        "  def __repr__(self):\n",
        "    return f\"Value (data = {self.data})\"\n",
        "\n",
        "  def __add__(self, other): #if a and b are Value object then on a + b, python will do a.__add__(b)\n",
        "    out = Value(self.data + other.data, (self, other), '+')\n",
        "    def _backward():\n",
        "      #d(a + b)/da = 1\n",
        "      self.grad += 1 * out.grad\n",
        "      other.grad += 1 * out.grad\n",
        "    out._backward = _backward\n",
        "    return out\n",
        "\n",
        "  def __mul__(self, other):\n",
        "    out = Value(self.data * other.data, (self, other), '*')\n",
        "    #d(ab)/da = b\n",
        "    def _backward():\n",
        "      self.grad += other.data * out.grad\n",
        "      other.grad += self.data * out.grad\n",
        "    out._backward = _backward\n",
        "    return out\n",
        "\n",
        "  def __div__(self, other):\n",
        "    return Value(self.data/other.data, (self, other), '/')\n",
        "  # def tanh(self):\n",
        "  #   n = self.data\n",
        "  #   t = (math.exp(2*n) - 1)/(math.exp(2*x) + 1)\n",
        "  #   out = Value(t, (self, ), 'tanh')\n",
        "  #   return out\n",
        "\n",
        "  def tanh(self):\n",
        "    t = (math.exp(2*self.data) - 1)/(math.exp(2*self.data) + 1)\n",
        "    out = Value(t, (self, ), 'tanh')\n",
        "    # d(tanh(a))/da = 1 - a ** 2\n",
        "    def _backward():\n",
        "      self.grad = (1 - t ** 2) * out.grad\n",
        "    out._backward = _backward\n",
        "    return out\n",
        "\n",
        "\n",
        "  def backward(self):\n",
        "    top = []\n",
        "    visited = set()\n",
        "    def build_top(v):\n",
        "      if v not in visited:\n",
        "        visited.add(v)\n",
        "        for child in v._prev:\n",
        "          build_top(child)\n",
        "        top.append(v)\n",
        "    build_top(self)\n",
        "\n",
        "    self.grad = 1\n",
        "    for node in reversed(top):\n",
        "      node._backward()\n"
      ],
      "metadata": {
        "id": "8ZO_2sAR_83-"
      },
      "execution_count": null,
      "outputs": []
    },
    {
      "cell_type": "code",
      "source": [
        "x1 = Value(-2.0, label = 'x1')\n",
        "x2 = Value(0.9, label = 'x2')\n",
        "\n",
        "w1 = Value(3.0, label = 'w1')\n",
        "w2 = Value(-1.0, label = 'w2')\n",
        "\n",
        "b = Value(4.0, label = 'b')\n",
        "print(b.data)\n",
        "\n",
        "x1w1 = x1 * w1; x1w1.label = 'x1w1'\n",
        "x2w2 = x2 * w2; x2w2.label = 'x2w2'\n",
        "\n",
        "x1w1x2w2 = x1w1 + x2w2; x1w1x2w2.label = 'x1w1 + x2w2'\n",
        "n = x1w1x2w2 + b; n.label = 'n'\n",
        "o = n.tanh(); o.label = 'Output'\n",
        "draw_dot(o)\n"
      ],
      "metadata": {
        "colab": {
          "base_uri": "https://localhost:8080/",
          "height": 495
        },
        "id": "Jo8OogyRcAD3",
        "outputId": "a38884ea-43be-4d18-da22-8f6eefb9a060"
      },
      "execution_count": null,
      "outputs": [
        {
          "output_type": "stream",
          "name": "stdout",
          "text": [
            "4.0\n"
          ]
        },
        {
          "output_type": "execute_result",
          "data": {
            "image/svg+xml": "<?xml version=\"1.0\" encoding=\"UTF-8\" standalone=\"no\"?>\n<!DOCTYPE svg PUBLIC \"-//W3C//DTD SVG 1.1//EN\"\n \"http://www.w3.org/Graphics/SVG/1.1/DTD/svg11.dtd\">\n<!-- Generated by graphviz version 2.43.0 (0)\n -->\n<!-- Title: %3 Pages: 1 -->\n<svg width=\"944pt\" height=\"342pt\"\n viewBox=\"0.00 0.00 944.00 342.00\" xmlns=\"http://www.w3.org/2000/svg\" xmlns:xlink=\"http://www.w3.org/1999/xlink\">\n<g id=\"graph0\" class=\"graph\" transform=\"scale(1 1) rotate(0) translate(4 338)\">\n<title>%3</title>\n<polygon fill=\"white\" stroke=\"transparent\" points=\"-4,4 -4,-338 940,-338 940,4 -4,4\"/>\n<!-- 132255807686016 -->\n<g id=\"node1\" class=\"node\">\n<title>132255807686016</title>\n<polygon fill=\"none\" stroke=\"black\" points=\"0,-264.5 0,-333.5 85,-333.5 85,-264.5 0,-264.5\"/>\n<text text-anchor=\"middle\" x=\"42.5\" y=\"-318.3\" font-family=\"Times,serif\" font-size=\"14.00\">x1</text>\n<polyline fill=\"none\" stroke=\"black\" points=\"0,-310.5 85,-310.5 \"/>\n<text text-anchor=\"middle\" x=\"42.5\" y=\"-295.3\" font-family=\"Times,serif\" font-size=\"14.00\">data &#45;2.0000</text>\n<polyline fill=\"none\" stroke=\"black\" points=\"0,-287.5 85,-287.5 \"/>\n<text text-anchor=\"middle\" x=\"42.5\" y=\"-272.3\" font-family=\"Times,serif\" font-size=\"14.00\">grad 0.0000</text>\n</g>\n<!-- 132255807687552* -->\n<g id=\"node11\" class=\"node\">\n<title>132255807687552*</title>\n<ellipse fill=\"none\" stroke=\"black\" cx=\"148\" cy=\"-211\" rx=\"27\" ry=\"18\"/>\n<text text-anchor=\"middle\" x=\"148\" y=\"-207.3\" font-family=\"Times,serif\" font-size=\"14.00\">*</text>\n</g>\n<!-- 132255807686016&#45;&gt;132255807687552* -->\n<g id=\"edge9\" class=\"edge\">\n<title>132255807686016&#45;&gt;132255807687552*</title>\n<path fill=\"none\" stroke=\"black\" d=\"M84.11,-264.47C97.14,-253.39 111.17,-241.47 122.66,-231.7\"/>\n<polygon fill=\"black\" stroke=\"black\" points=\"125.17,-234.15 130.52,-225.01 120.64,-228.82 125.17,-234.15\"/>\n</g>\n<!-- 132255807693456 -->\n<g id=\"node2\" class=\"node\">\n<title>132255807693456</title>\n<polygon fill=\"none\" stroke=\"black\" points=\"422,-132.5 422,-201.5 514,-201.5 514,-132.5 422,-132.5\"/>\n<text text-anchor=\"middle\" x=\"468\" y=\"-186.3\" font-family=\"Times,serif\" font-size=\"14.00\">x1w1 + x2w2</text>\n<polyline fill=\"none\" stroke=\"black\" points=\"422,-178.5 514,-178.5 \"/>\n<text text-anchor=\"middle\" x=\"468\" y=\"-163.3\" font-family=\"Times,serif\" font-size=\"14.00\">data &#45;6.9000</text>\n<polyline fill=\"none\" stroke=\"black\" points=\"422,-155.5 514,-155.5 \"/>\n<text text-anchor=\"middle\" x=\"468\" y=\"-140.3\" font-family=\"Times,serif\" font-size=\"14.00\">grad 0.0000</text>\n</g>\n<!-- 132255807693744+ -->\n<g id=\"node15\" class=\"node\">\n<title>132255807693744+</title>\n<ellipse fill=\"none\" stroke=\"black\" cx=\"577\" cy=\"-123\" rx=\"27\" ry=\"18\"/>\n<text text-anchor=\"middle\" x=\"577\" y=\"-119.3\" font-family=\"Times,serif\" font-size=\"14.00\">+</text>\n</g>\n<!-- 132255807693456&#45;&gt;132255807693744+ -->\n<g id=\"edge8\" class=\"edge\">\n<title>132255807693456&#45;&gt;132255807693744+</title>\n<path fill=\"none\" stroke=\"black\" d=\"M514.07,-148.47C524.24,-144.28 534.83,-139.93 544.32,-136.03\"/>\n<polygon fill=\"black\" stroke=\"black\" points=\"545.82,-139.19 553.74,-132.15 543.16,-132.72 545.82,-139.19\"/>\n</g>\n<!-- 132255807693456+ -->\n<g id=\"node3\" class=\"node\">\n<title>132255807693456+</title>\n<ellipse fill=\"none\" stroke=\"black\" cx=\"359\" cy=\"-167\" rx=\"27\" ry=\"18\"/>\n<text text-anchor=\"middle\" x=\"359\" y=\"-163.3\" font-family=\"Times,serif\" font-size=\"14.00\">+</text>\n</g>\n<!-- 132255807693456+&#45;&gt;132255807693456 -->\n<g id=\"edge1\" class=\"edge\">\n<title>132255807693456+&#45;&gt;132255807693456</title>\n<path fill=\"none\" stroke=\"black\" d=\"M386.18,-167C394,-167 402.88,-167 411.83,-167\"/>\n<polygon fill=\"black\" stroke=\"black\" points=\"411.91,-170.5 421.91,-167 411.91,-163.5 411.91,-170.5\"/>\n</g>\n<!-- 132255807694992 -->\n<g id=\"node4\" class=\"node\">\n<title>132255807694992</title>\n<polygon fill=\"none\" stroke=\"black\" points=\"1.5,-88.5 1.5,-157.5 83.5,-157.5 83.5,-88.5 1.5,-88.5\"/>\n<text text-anchor=\"middle\" x=\"42.5\" y=\"-142.3\" font-family=\"Times,serif\" font-size=\"14.00\">x2</text>\n<polyline fill=\"none\" stroke=\"black\" points=\"1.5,-134.5 83.5,-134.5 \"/>\n<text text-anchor=\"middle\" x=\"42.5\" y=\"-119.3\" font-family=\"Times,serif\" font-size=\"14.00\">data 0.9000</text>\n<polyline fill=\"none\" stroke=\"black\" points=\"1.5,-111.5 83.5,-111.5 \"/>\n<text text-anchor=\"middle\" x=\"42.5\" y=\"-96.3\" font-family=\"Times,serif\" font-size=\"14.00\">grad 0.0000</text>\n</g>\n<!-- 132255807688080* -->\n<g id=\"node13\" class=\"node\">\n<title>132255807688080*</title>\n<ellipse fill=\"none\" stroke=\"black\" cx=\"148\" cy=\"-123\" rx=\"27\" ry=\"18\"/>\n<text text-anchor=\"middle\" x=\"148\" y=\"-119.3\" font-family=\"Times,serif\" font-size=\"14.00\">*</text>\n</g>\n<!-- 132255807694992&#45;&gt;132255807688080* -->\n<g id=\"edge14\" class=\"edge\">\n<title>132255807694992&#45;&gt;132255807688080*</title>\n<path fill=\"none\" stroke=\"black\" d=\"M83.52,-123C92.41,-123 101.8,-123 110.54,-123\"/>\n<polygon fill=\"black\" stroke=\"black\" points=\"110.82,-126.5 120.82,-123 110.82,-119.5 110.82,-126.5\"/>\n</g>\n<!-- 132255807695088 -->\n<g id=\"node5\" class=\"node\">\n<title>132255807695088</title>\n<polygon fill=\"none\" stroke=\"black\" points=\"427,-44.5 427,-113.5 509,-113.5 509,-44.5 427,-44.5\"/>\n<text text-anchor=\"middle\" x=\"468\" y=\"-98.3\" font-family=\"Times,serif\" font-size=\"14.00\">b</text>\n<polyline fill=\"none\" stroke=\"black\" points=\"427,-90.5 509,-90.5 \"/>\n<text text-anchor=\"middle\" x=\"468\" y=\"-75.3\" font-family=\"Times,serif\" font-size=\"14.00\">data 4.0000</text>\n<polyline fill=\"none\" stroke=\"black\" points=\"427,-67.5 509,-67.5 \"/>\n<text text-anchor=\"middle\" x=\"468\" y=\"-52.3\" font-family=\"Times,serif\" font-size=\"14.00\">grad 0.0000</text>\n</g>\n<!-- 132255807695088&#45;&gt;132255807693744+ -->\n<g id=\"edge6\" class=\"edge\">\n<title>132255807695088&#45;&gt;132255807693744+</title>\n<path fill=\"none\" stroke=\"black\" d=\"M509.15,-95.51C520.8,-100.3 533.35,-105.46 544.4,-110\"/>\n<polygon fill=\"black\" stroke=\"black\" points=\"543.08,-113.25 553.66,-113.81 545.74,-106.77 543.08,-113.25\"/>\n</g>\n<!-- 132255807693600 -->\n<g id=\"node6\" class=\"node\">\n<title>132255807693600</title>\n<polygon fill=\"none\" stroke=\"black\" points=\"851,-88.5 851,-157.5 936,-157.5 936,-88.5 851,-88.5\"/>\n<text text-anchor=\"middle\" x=\"893.5\" y=\"-142.3\" font-family=\"Times,serif\" font-size=\"14.00\">Output</text>\n<polyline fill=\"none\" stroke=\"black\" points=\"851,-134.5 936,-134.5 \"/>\n<text text-anchor=\"middle\" x=\"893.5\" y=\"-119.3\" font-family=\"Times,serif\" font-size=\"14.00\">data &#45;0.9940</text>\n<polyline fill=\"none\" stroke=\"black\" points=\"851,-111.5 936,-111.5 \"/>\n<text text-anchor=\"middle\" x=\"893.5\" y=\"-96.3\" font-family=\"Times,serif\" font-size=\"14.00\">grad 0.0000</text>\n</g>\n<!-- 132255807693600tanh -->\n<g id=\"node7\" class=\"node\">\n<title>132255807693600tanh</title>\n<ellipse fill=\"none\" stroke=\"black\" cx=\"788\" cy=\"-123\" rx=\"27\" ry=\"18\"/>\n<text text-anchor=\"middle\" x=\"788\" y=\"-119.3\" font-family=\"Times,serif\" font-size=\"14.00\">tanh</text>\n</g>\n<!-- 132255807693600tanh&#45;&gt;132255807693600 -->\n<g id=\"edge2\" class=\"edge\">\n<title>132255807693600tanh&#45;&gt;132255807693600</title>\n<path fill=\"none\" stroke=\"black\" d=\"M815.12,-123C822.87,-123 831.64,-123 840.42,-123\"/>\n<polygon fill=\"black\" stroke=\"black\" points=\"840.68,-126.5 850.68,-123 840.68,-119.5 840.68,-126.5\"/>\n</g>\n<!-- 132255807685920 -->\n<g id=\"node8\" class=\"node\">\n<title>132255807685920</title>\n<polygon fill=\"none\" stroke=\"black\" points=\"1.5,-176.5 1.5,-245.5 83.5,-245.5 83.5,-176.5 1.5,-176.5\"/>\n<text text-anchor=\"middle\" x=\"42.5\" y=\"-230.3\" font-family=\"Times,serif\" font-size=\"14.00\">w1</text>\n<polyline fill=\"none\" stroke=\"black\" points=\"1.5,-222.5 83.5,-222.5 \"/>\n<text text-anchor=\"middle\" x=\"42.5\" y=\"-207.3\" font-family=\"Times,serif\" font-size=\"14.00\">data 3.0000</text>\n<polyline fill=\"none\" stroke=\"black\" points=\"1.5,-199.5 83.5,-199.5 \"/>\n<text text-anchor=\"middle\" x=\"42.5\" y=\"-184.3\" font-family=\"Times,serif\" font-size=\"14.00\">grad 0.0000</text>\n</g>\n<!-- 132255807685920&#45;&gt;132255807687552* -->\n<g id=\"edge10\" class=\"edge\">\n<title>132255807685920&#45;&gt;132255807687552*</title>\n<path fill=\"none\" stroke=\"black\" d=\"M83.52,-211C92.41,-211 101.8,-211 110.54,-211\"/>\n<polygon fill=\"black\" stroke=\"black\" points=\"110.82,-214.5 120.82,-211 110.82,-207.5 110.82,-214.5\"/>\n</g>\n<!-- 132255807685968 -->\n<g id=\"node9\" class=\"node\">\n<title>132255807685968</title>\n<polygon fill=\"none\" stroke=\"black\" points=\"0,-0.5 0,-69.5 85,-69.5 85,-0.5 0,-0.5\"/>\n<text text-anchor=\"middle\" x=\"42.5\" y=\"-54.3\" font-family=\"Times,serif\" font-size=\"14.00\">w2</text>\n<polyline fill=\"none\" stroke=\"black\" points=\"0,-46.5 85,-46.5 \"/>\n<text text-anchor=\"middle\" x=\"42.5\" y=\"-31.3\" font-family=\"Times,serif\" font-size=\"14.00\">data &#45;1.0000</text>\n<polyline fill=\"none\" stroke=\"black\" points=\"0,-23.5 85,-23.5 \"/>\n<text text-anchor=\"middle\" x=\"42.5\" y=\"-8.3\" font-family=\"Times,serif\" font-size=\"14.00\">grad 0.0000</text>\n</g>\n<!-- 132255807685968&#45;&gt;132255807688080* -->\n<g id=\"edge7\" class=\"edge\">\n<title>132255807685968&#45;&gt;132255807688080*</title>\n<path fill=\"none\" stroke=\"black\" d=\"M84.11,-69.53C97.14,-80.61 111.17,-92.53 122.66,-102.3\"/>\n<polygon fill=\"black\" stroke=\"black\" points=\"120.64,-105.18 130.52,-108.99 125.17,-99.85 120.64,-105.18\"/>\n</g>\n<!-- 132255807687552 -->\n<g id=\"node10\" class=\"node\">\n<title>132255807687552</title>\n<polygon fill=\"none\" stroke=\"black\" points=\"211,-176.5 211,-245.5 296,-245.5 296,-176.5 211,-176.5\"/>\n<text text-anchor=\"middle\" x=\"253.5\" y=\"-230.3\" font-family=\"Times,serif\" font-size=\"14.00\">x1w1</text>\n<polyline fill=\"none\" stroke=\"black\" points=\"211,-222.5 296,-222.5 \"/>\n<text text-anchor=\"middle\" x=\"253.5\" y=\"-207.3\" font-family=\"Times,serif\" font-size=\"14.00\">data &#45;6.0000</text>\n<polyline fill=\"none\" stroke=\"black\" points=\"211,-199.5 296,-199.5 \"/>\n<text text-anchor=\"middle\" x=\"253.5\" y=\"-184.3\" font-family=\"Times,serif\" font-size=\"14.00\">grad 0.0000</text>\n</g>\n<!-- 132255807687552&#45;&gt;132255807693456+ -->\n<g id=\"edge11\" class=\"edge\">\n<title>132255807687552&#45;&gt;132255807693456+</title>\n<path fill=\"none\" stroke=\"black\" d=\"M296,-193.36C306.21,-189.02 316.97,-184.44 326.61,-180.34\"/>\n<polygon fill=\"black\" stroke=\"black\" points=\"327.98,-183.56 335.81,-176.43 325.24,-177.12 327.98,-183.56\"/>\n</g>\n<!-- 132255807687552*&#45;&gt;132255807687552 -->\n<g id=\"edge3\" class=\"edge\">\n<title>132255807687552*&#45;&gt;132255807687552</title>\n<path fill=\"none\" stroke=\"black\" d=\"M175.12,-211C182.87,-211 191.64,-211 200.42,-211\"/>\n<polygon fill=\"black\" stroke=\"black\" points=\"200.68,-214.5 210.68,-211 200.68,-207.5 200.68,-214.5\"/>\n</g>\n<!-- 132255807688080 -->\n<g id=\"node12\" class=\"node\">\n<title>132255807688080</title>\n<polygon fill=\"none\" stroke=\"black\" points=\"211,-88.5 211,-157.5 296,-157.5 296,-88.5 211,-88.5\"/>\n<text text-anchor=\"middle\" x=\"253.5\" y=\"-142.3\" font-family=\"Times,serif\" font-size=\"14.00\">x2w2</text>\n<polyline fill=\"none\" stroke=\"black\" points=\"211,-134.5 296,-134.5 \"/>\n<text text-anchor=\"middle\" x=\"253.5\" y=\"-119.3\" font-family=\"Times,serif\" font-size=\"14.00\">data &#45;0.9000</text>\n<polyline fill=\"none\" stroke=\"black\" points=\"211,-111.5 296,-111.5 \"/>\n<text text-anchor=\"middle\" x=\"253.5\" y=\"-96.3\" font-family=\"Times,serif\" font-size=\"14.00\">grad 0.0000</text>\n</g>\n<!-- 132255807688080&#45;&gt;132255807693456+ -->\n<g id=\"edge13\" class=\"edge\">\n<title>132255807688080&#45;&gt;132255807693456+</title>\n<path fill=\"none\" stroke=\"black\" d=\"M296,-140.64C306.21,-144.98 316.97,-149.56 326.61,-153.66\"/>\n<polygon fill=\"black\" stroke=\"black\" points=\"325.24,-156.88 335.81,-157.57 327.98,-150.44 325.24,-156.88\"/>\n</g>\n<!-- 132255807688080*&#45;&gt;132255807688080 -->\n<g id=\"edge4\" class=\"edge\">\n<title>132255807688080*&#45;&gt;132255807688080</title>\n<path fill=\"none\" stroke=\"black\" d=\"M175.12,-123C182.87,-123 191.64,-123 200.42,-123\"/>\n<polygon fill=\"black\" stroke=\"black\" points=\"200.68,-126.5 210.68,-123 200.68,-119.5 200.68,-126.5\"/>\n</g>\n<!-- 132255807693744 -->\n<g id=\"node14\" class=\"node\">\n<title>132255807693744</title>\n<polygon fill=\"none\" stroke=\"black\" points=\"640,-88.5 640,-157.5 725,-157.5 725,-88.5 640,-88.5\"/>\n<text text-anchor=\"middle\" x=\"682.5\" y=\"-142.3\" font-family=\"Times,serif\" font-size=\"14.00\">n</text>\n<polyline fill=\"none\" stroke=\"black\" points=\"640,-134.5 725,-134.5 \"/>\n<text text-anchor=\"middle\" x=\"682.5\" y=\"-119.3\" font-family=\"Times,serif\" font-size=\"14.00\">data &#45;2.9000</text>\n<polyline fill=\"none\" stroke=\"black\" points=\"640,-111.5 725,-111.5 \"/>\n<text text-anchor=\"middle\" x=\"682.5\" y=\"-96.3\" font-family=\"Times,serif\" font-size=\"14.00\">grad 0.0000</text>\n</g>\n<!-- 132255807693744&#45;&gt;132255807693600tanh -->\n<g id=\"edge12\" class=\"edge\">\n<title>132255807693744&#45;&gt;132255807693600tanh</title>\n<path fill=\"none\" stroke=\"black\" d=\"M725,-123C733.54,-123 742.47,-123 750.81,-123\"/>\n<polygon fill=\"black\" stroke=\"black\" points=\"750.97,-126.5 760.97,-123 750.97,-119.5 750.97,-126.5\"/>\n</g>\n<!-- 132255807693744+&#45;&gt;132255807693744 -->\n<g id=\"edge5\" class=\"edge\">\n<title>132255807693744+&#45;&gt;132255807693744</title>\n<path fill=\"none\" stroke=\"black\" d=\"M604.12,-123C611.87,-123 620.64,-123 629.42,-123\"/>\n<polygon fill=\"black\" stroke=\"black\" points=\"629.68,-126.5 639.68,-123 629.68,-119.5 629.68,-126.5\"/>\n</g>\n</g>\n</svg>\n",
            "text/plain": [
              "<graphviz.graphs.Digraph at 0x7849346fe0e0>"
            ]
          },
          "metadata": {},
          "execution_count": 37
        }
      ]
    },
    {
      "cell_type": "code",
      "source": [
        "o.backward()\n",
        "draw_dot(o)"
      ],
      "metadata": {
        "colab": {
          "base_uri": "https://localhost:8080/",
          "height": 477
        },
        "id": "S_S7RaKBdyKa",
        "outputId": "eb369429-80f1-4640-9a2d-22eb853b6f51"
      },
      "execution_count": null,
      "outputs": [
        {
          "output_type": "execute_result",
          "data": {
            "image/svg+xml": "<?xml version=\"1.0\" encoding=\"UTF-8\" standalone=\"no\"?>\n<!DOCTYPE svg PUBLIC \"-//W3C//DTD SVG 1.1//EN\"\n \"http://www.w3.org/Graphics/SVG/1.1/DTD/svg11.dtd\">\n<!-- Generated by graphviz version 2.43.0 (0)\n -->\n<!-- Title: %3 Pages: 1 -->\n<svg width=\"945pt\" height=\"342pt\"\n viewBox=\"0.00 0.00 945.00 342.00\" xmlns=\"http://www.w3.org/2000/svg\" xmlns:xlink=\"http://www.w3.org/1999/xlink\">\n<g id=\"graph0\" class=\"graph\" transform=\"scale(1 1) rotate(0) translate(4 338)\">\n<title>%3</title>\n<polygon fill=\"white\" stroke=\"transparent\" points=\"-4,4 -4,-338 941,-338 941,4 -4,4\"/>\n<!-- 132255807686016 -->\n<g id=\"node1\" class=\"node\">\n<title>132255807686016</title>\n<polygon fill=\"none\" stroke=\"black\" points=\"0.5,-264.5 0.5,-333.5 85.5,-333.5 85.5,-264.5 0.5,-264.5\"/>\n<text text-anchor=\"middle\" x=\"43\" y=\"-318.3\" font-family=\"Times,serif\" font-size=\"14.00\">x1</text>\n<polyline fill=\"none\" stroke=\"black\" points=\"0.5,-310.5 85.5,-310.5 \"/>\n<text text-anchor=\"middle\" x=\"43\" y=\"-295.3\" font-family=\"Times,serif\" font-size=\"14.00\">data &#45;2.0000</text>\n<polyline fill=\"none\" stroke=\"black\" points=\"0.5,-287.5 85.5,-287.5 \"/>\n<text text-anchor=\"middle\" x=\"43\" y=\"-272.3\" font-family=\"Times,serif\" font-size=\"14.00\">grad 0.0361</text>\n</g>\n<!-- 132255807687552* -->\n<g id=\"node11\" class=\"node\">\n<title>132255807687552*</title>\n<ellipse fill=\"none\" stroke=\"black\" cx=\"149\" cy=\"-211\" rx=\"27\" ry=\"18\"/>\n<text text-anchor=\"middle\" x=\"149\" y=\"-207.3\" font-family=\"Times,serif\" font-size=\"14.00\">*</text>\n</g>\n<!-- 132255807686016&#45;&gt;132255807687552* -->\n<g id=\"edge9\" class=\"edge\">\n<title>132255807686016&#45;&gt;132255807687552*</title>\n<path fill=\"none\" stroke=\"black\" d=\"M84.81,-264.47C97.9,-253.39 111.99,-241.47 123.54,-231.7\"/>\n<polygon fill=\"black\" stroke=\"black\" points=\"126.07,-234.14 131.44,-225.01 121.55,-228.8 126.07,-234.14\"/>\n</g>\n<!-- 132255807693456 -->\n<g id=\"node2\" class=\"node\">\n<title>132255807693456</title>\n<polygon fill=\"none\" stroke=\"black\" points=\"423,-132.5 423,-201.5 515,-201.5 515,-132.5 423,-132.5\"/>\n<text text-anchor=\"middle\" x=\"469\" y=\"-186.3\" font-family=\"Times,serif\" font-size=\"14.00\">x1w1 + x2w2</text>\n<polyline fill=\"none\" stroke=\"black\" points=\"423,-178.5 515,-178.5 \"/>\n<text text-anchor=\"middle\" x=\"469\" y=\"-163.3\" font-family=\"Times,serif\" font-size=\"14.00\">data &#45;6.9000</text>\n<polyline fill=\"none\" stroke=\"black\" points=\"423,-155.5 515,-155.5 \"/>\n<text text-anchor=\"middle\" x=\"469\" y=\"-140.3\" font-family=\"Times,serif\" font-size=\"14.00\">grad 0.0120</text>\n</g>\n<!-- 132255807693744+ -->\n<g id=\"node15\" class=\"node\">\n<title>132255807693744+</title>\n<ellipse fill=\"none\" stroke=\"black\" cx=\"578\" cy=\"-123\" rx=\"27\" ry=\"18\"/>\n<text text-anchor=\"middle\" x=\"578\" y=\"-119.3\" font-family=\"Times,serif\" font-size=\"14.00\">+</text>\n</g>\n<!-- 132255807693456&#45;&gt;132255807693744+ -->\n<g id=\"edge8\" class=\"edge\">\n<title>132255807693456&#45;&gt;132255807693744+</title>\n<path fill=\"none\" stroke=\"black\" d=\"M515.07,-148.47C525.24,-144.28 535.83,-139.93 545.32,-136.03\"/>\n<polygon fill=\"black\" stroke=\"black\" points=\"546.82,-139.19 554.74,-132.15 544.16,-132.72 546.82,-139.19\"/>\n</g>\n<!-- 132255807693456+ -->\n<g id=\"node3\" class=\"node\">\n<title>132255807693456+</title>\n<ellipse fill=\"none\" stroke=\"black\" cx=\"360\" cy=\"-167\" rx=\"27\" ry=\"18\"/>\n<text text-anchor=\"middle\" x=\"360\" y=\"-163.3\" font-family=\"Times,serif\" font-size=\"14.00\">+</text>\n</g>\n<!-- 132255807693456+&#45;&gt;132255807693456 -->\n<g id=\"edge1\" class=\"edge\">\n<title>132255807693456+&#45;&gt;132255807693456</title>\n<path fill=\"none\" stroke=\"black\" d=\"M387.18,-167C395,-167 403.88,-167 412.83,-167\"/>\n<polygon fill=\"black\" stroke=\"black\" points=\"412.91,-170.5 422.91,-167 412.91,-163.5 412.91,-170.5\"/>\n</g>\n<!-- 132255807694992 -->\n<g id=\"node4\" class=\"node\">\n<title>132255807694992</title>\n<polygon fill=\"none\" stroke=\"black\" points=\"0,-88.5 0,-157.5 86,-157.5 86,-88.5 0,-88.5\"/>\n<text text-anchor=\"middle\" x=\"43\" y=\"-142.3\" font-family=\"Times,serif\" font-size=\"14.00\">x2</text>\n<polyline fill=\"none\" stroke=\"black\" points=\"0,-134.5 86,-134.5 \"/>\n<text text-anchor=\"middle\" x=\"43\" y=\"-119.3\" font-family=\"Times,serif\" font-size=\"14.00\">data 0.9000</text>\n<polyline fill=\"none\" stroke=\"black\" points=\"0,-111.5 86,-111.5 \"/>\n<text text-anchor=\"middle\" x=\"43\" y=\"-96.3\" font-family=\"Times,serif\" font-size=\"14.00\">grad &#45;0.0120</text>\n</g>\n<!-- 132255807688080* -->\n<g id=\"node13\" class=\"node\">\n<title>132255807688080*</title>\n<ellipse fill=\"none\" stroke=\"black\" cx=\"149\" cy=\"-123\" rx=\"27\" ry=\"18\"/>\n<text text-anchor=\"middle\" x=\"149\" y=\"-119.3\" font-family=\"Times,serif\" font-size=\"14.00\">*</text>\n</g>\n<!-- 132255807694992&#45;&gt;132255807688080* -->\n<g id=\"edge14\" class=\"edge\">\n<title>132255807694992&#45;&gt;132255807688080*</title>\n<path fill=\"none\" stroke=\"black\" d=\"M86,-123C94.48,-123 103.34,-123 111.61,-123\"/>\n<polygon fill=\"black\" stroke=\"black\" points=\"111.7,-126.5 121.7,-123 111.7,-119.5 111.7,-126.5\"/>\n</g>\n<!-- 132255807695088 -->\n<g id=\"node5\" class=\"node\">\n<title>132255807695088</title>\n<polygon fill=\"none\" stroke=\"black\" points=\"428,-44.5 428,-113.5 510,-113.5 510,-44.5 428,-44.5\"/>\n<text text-anchor=\"middle\" x=\"469\" y=\"-98.3\" font-family=\"Times,serif\" font-size=\"14.00\">b</text>\n<polyline fill=\"none\" stroke=\"black\" points=\"428,-90.5 510,-90.5 \"/>\n<text text-anchor=\"middle\" x=\"469\" y=\"-75.3\" font-family=\"Times,serif\" font-size=\"14.00\">data 4.0000</text>\n<polyline fill=\"none\" stroke=\"black\" points=\"428,-67.5 510,-67.5 \"/>\n<text text-anchor=\"middle\" x=\"469\" y=\"-52.3\" font-family=\"Times,serif\" font-size=\"14.00\">grad 0.0120</text>\n</g>\n<!-- 132255807695088&#45;&gt;132255807693744+ -->\n<g id=\"edge6\" class=\"edge\">\n<title>132255807695088&#45;&gt;132255807693744+</title>\n<path fill=\"none\" stroke=\"black\" d=\"M510.15,-95.51C521.8,-100.3 534.35,-105.46 545.4,-110\"/>\n<polygon fill=\"black\" stroke=\"black\" points=\"544.08,-113.25 554.66,-113.81 546.74,-106.77 544.08,-113.25\"/>\n</g>\n<!-- 132255807693600 -->\n<g id=\"node6\" class=\"node\">\n<title>132255807693600</title>\n<polygon fill=\"none\" stroke=\"black\" points=\"852,-88.5 852,-157.5 937,-157.5 937,-88.5 852,-88.5\"/>\n<text text-anchor=\"middle\" x=\"894.5\" y=\"-142.3\" font-family=\"Times,serif\" font-size=\"14.00\">Output</text>\n<polyline fill=\"none\" stroke=\"black\" points=\"852,-134.5 937,-134.5 \"/>\n<text text-anchor=\"middle\" x=\"894.5\" y=\"-119.3\" font-family=\"Times,serif\" font-size=\"14.00\">data &#45;0.9940</text>\n<polyline fill=\"none\" stroke=\"black\" points=\"852,-111.5 937,-111.5 \"/>\n<text text-anchor=\"middle\" x=\"894.5\" y=\"-96.3\" font-family=\"Times,serif\" font-size=\"14.00\">grad 1.0000</text>\n</g>\n<!-- 132255807693600tanh -->\n<g id=\"node7\" class=\"node\">\n<title>132255807693600tanh</title>\n<ellipse fill=\"none\" stroke=\"black\" cx=\"789\" cy=\"-123\" rx=\"27\" ry=\"18\"/>\n<text text-anchor=\"middle\" x=\"789\" y=\"-119.3\" font-family=\"Times,serif\" font-size=\"14.00\">tanh</text>\n</g>\n<!-- 132255807693600tanh&#45;&gt;132255807693600 -->\n<g id=\"edge2\" class=\"edge\">\n<title>132255807693600tanh&#45;&gt;132255807693600</title>\n<path fill=\"none\" stroke=\"black\" d=\"M816.12,-123C823.87,-123 832.64,-123 841.42,-123\"/>\n<polygon fill=\"black\" stroke=\"black\" points=\"841.68,-126.5 851.68,-123 841.68,-119.5 841.68,-126.5\"/>\n</g>\n<!-- 132255807685920 -->\n<g id=\"node8\" class=\"node\">\n<title>132255807685920</title>\n<polygon fill=\"none\" stroke=\"black\" points=\"0,-176.5 0,-245.5 86,-245.5 86,-176.5 0,-176.5\"/>\n<text text-anchor=\"middle\" x=\"43\" y=\"-230.3\" font-family=\"Times,serif\" font-size=\"14.00\">w1</text>\n<polyline fill=\"none\" stroke=\"black\" points=\"0,-222.5 86,-222.5 \"/>\n<text text-anchor=\"middle\" x=\"43\" y=\"-207.3\" font-family=\"Times,serif\" font-size=\"14.00\">data 3.0000</text>\n<polyline fill=\"none\" stroke=\"black\" points=\"0,-199.5 86,-199.5 \"/>\n<text text-anchor=\"middle\" x=\"43\" y=\"-184.3\" font-family=\"Times,serif\" font-size=\"14.00\">grad &#45;0.0241</text>\n</g>\n<!-- 132255807685920&#45;&gt;132255807687552* -->\n<g id=\"edge10\" class=\"edge\">\n<title>132255807685920&#45;&gt;132255807687552*</title>\n<path fill=\"none\" stroke=\"black\" d=\"M86,-211C94.48,-211 103.34,-211 111.61,-211\"/>\n<polygon fill=\"black\" stroke=\"black\" points=\"111.7,-214.5 121.7,-211 111.7,-207.5 111.7,-214.5\"/>\n</g>\n<!-- 132255807685968 -->\n<g id=\"node9\" class=\"node\">\n<title>132255807685968</title>\n<polygon fill=\"none\" stroke=\"black\" points=\"0.5,-0.5 0.5,-69.5 85.5,-69.5 85.5,-0.5 0.5,-0.5\"/>\n<text text-anchor=\"middle\" x=\"43\" y=\"-54.3\" font-family=\"Times,serif\" font-size=\"14.00\">w2</text>\n<polyline fill=\"none\" stroke=\"black\" points=\"0.5,-46.5 85.5,-46.5 \"/>\n<text text-anchor=\"middle\" x=\"43\" y=\"-31.3\" font-family=\"Times,serif\" font-size=\"14.00\">data &#45;1.0000</text>\n<polyline fill=\"none\" stroke=\"black\" points=\"0.5,-23.5 85.5,-23.5 \"/>\n<text text-anchor=\"middle\" x=\"43\" y=\"-8.3\" font-family=\"Times,serif\" font-size=\"14.00\">grad 0.0108</text>\n</g>\n<!-- 132255807685968&#45;&gt;132255807688080* -->\n<g id=\"edge7\" class=\"edge\">\n<title>132255807685968&#45;&gt;132255807688080*</title>\n<path fill=\"none\" stroke=\"black\" d=\"M84.81,-69.53C97.9,-80.61 111.99,-92.53 123.54,-102.3\"/>\n<polygon fill=\"black\" stroke=\"black\" points=\"121.55,-105.2 131.44,-108.99 126.07,-99.86 121.55,-105.2\"/>\n</g>\n<!-- 132255807687552 -->\n<g id=\"node10\" class=\"node\">\n<title>132255807687552</title>\n<polygon fill=\"none\" stroke=\"black\" points=\"212,-176.5 212,-245.5 297,-245.5 297,-176.5 212,-176.5\"/>\n<text text-anchor=\"middle\" x=\"254.5\" y=\"-230.3\" font-family=\"Times,serif\" font-size=\"14.00\">x1w1</text>\n<polyline fill=\"none\" stroke=\"black\" points=\"212,-222.5 297,-222.5 \"/>\n<text text-anchor=\"middle\" x=\"254.5\" y=\"-207.3\" font-family=\"Times,serif\" font-size=\"14.00\">data &#45;6.0000</text>\n<polyline fill=\"none\" stroke=\"black\" points=\"212,-199.5 297,-199.5 \"/>\n<text text-anchor=\"middle\" x=\"254.5\" y=\"-184.3\" font-family=\"Times,serif\" font-size=\"14.00\">grad 0.0120</text>\n</g>\n<!-- 132255807687552&#45;&gt;132255807693456+ -->\n<g id=\"edge11\" class=\"edge\">\n<title>132255807687552&#45;&gt;132255807693456+</title>\n<path fill=\"none\" stroke=\"black\" d=\"M297,-193.36C307.21,-189.02 317.97,-184.44 327.61,-180.34\"/>\n<polygon fill=\"black\" stroke=\"black\" points=\"328.98,-183.56 336.81,-176.43 326.24,-177.12 328.98,-183.56\"/>\n</g>\n<!-- 132255807687552*&#45;&gt;132255807687552 -->\n<g id=\"edge3\" class=\"edge\">\n<title>132255807687552*&#45;&gt;132255807687552</title>\n<path fill=\"none\" stroke=\"black\" d=\"M176.12,-211C183.87,-211 192.64,-211 201.42,-211\"/>\n<polygon fill=\"black\" stroke=\"black\" points=\"201.68,-214.5 211.68,-211 201.68,-207.5 201.68,-214.5\"/>\n</g>\n<!-- 132255807688080 -->\n<g id=\"node12\" class=\"node\">\n<title>132255807688080</title>\n<polygon fill=\"none\" stroke=\"black\" points=\"212,-88.5 212,-157.5 297,-157.5 297,-88.5 212,-88.5\"/>\n<text text-anchor=\"middle\" x=\"254.5\" y=\"-142.3\" font-family=\"Times,serif\" font-size=\"14.00\">x2w2</text>\n<polyline fill=\"none\" stroke=\"black\" points=\"212,-134.5 297,-134.5 \"/>\n<text text-anchor=\"middle\" x=\"254.5\" y=\"-119.3\" font-family=\"Times,serif\" font-size=\"14.00\">data &#45;0.9000</text>\n<polyline fill=\"none\" stroke=\"black\" points=\"212,-111.5 297,-111.5 \"/>\n<text text-anchor=\"middle\" x=\"254.5\" y=\"-96.3\" font-family=\"Times,serif\" font-size=\"14.00\">grad 0.0120</text>\n</g>\n<!-- 132255807688080&#45;&gt;132255807693456+ -->\n<g id=\"edge13\" class=\"edge\">\n<title>132255807688080&#45;&gt;132255807693456+</title>\n<path fill=\"none\" stroke=\"black\" d=\"M297,-140.64C307.21,-144.98 317.97,-149.56 327.61,-153.66\"/>\n<polygon fill=\"black\" stroke=\"black\" points=\"326.24,-156.88 336.81,-157.57 328.98,-150.44 326.24,-156.88\"/>\n</g>\n<!-- 132255807688080*&#45;&gt;132255807688080 -->\n<g id=\"edge4\" class=\"edge\">\n<title>132255807688080*&#45;&gt;132255807688080</title>\n<path fill=\"none\" stroke=\"black\" d=\"M176.12,-123C183.87,-123 192.64,-123 201.42,-123\"/>\n<polygon fill=\"black\" stroke=\"black\" points=\"201.68,-126.5 211.68,-123 201.68,-119.5 201.68,-126.5\"/>\n</g>\n<!-- 132255807693744 -->\n<g id=\"node14\" class=\"node\">\n<title>132255807693744</title>\n<polygon fill=\"none\" stroke=\"black\" points=\"641,-88.5 641,-157.5 726,-157.5 726,-88.5 641,-88.5\"/>\n<text text-anchor=\"middle\" x=\"683.5\" y=\"-142.3\" font-family=\"Times,serif\" font-size=\"14.00\">n</text>\n<polyline fill=\"none\" stroke=\"black\" points=\"641,-134.5 726,-134.5 \"/>\n<text text-anchor=\"middle\" x=\"683.5\" y=\"-119.3\" font-family=\"Times,serif\" font-size=\"14.00\">data &#45;2.9000</text>\n<polyline fill=\"none\" stroke=\"black\" points=\"641,-111.5 726,-111.5 \"/>\n<text text-anchor=\"middle\" x=\"683.5\" y=\"-96.3\" font-family=\"Times,serif\" font-size=\"14.00\">grad 0.0120</text>\n</g>\n<!-- 132255807693744&#45;&gt;132255807693600tanh -->\n<g id=\"edge12\" class=\"edge\">\n<title>132255807693744&#45;&gt;132255807693600tanh</title>\n<path fill=\"none\" stroke=\"black\" d=\"M726,-123C734.54,-123 743.47,-123 751.81,-123\"/>\n<polygon fill=\"black\" stroke=\"black\" points=\"751.97,-126.5 761.97,-123 751.97,-119.5 751.97,-126.5\"/>\n</g>\n<!-- 132255807693744+&#45;&gt;132255807693744 -->\n<g id=\"edge5\" class=\"edge\">\n<title>132255807693744+&#45;&gt;132255807693744</title>\n<path fill=\"none\" stroke=\"black\" d=\"M605.12,-123C612.87,-123 621.64,-123 630.42,-123\"/>\n<polygon fill=\"black\" stroke=\"black\" points=\"630.68,-126.5 640.68,-123 630.68,-119.5 630.68,-126.5\"/>\n</g>\n</g>\n</svg>\n",
            "text/plain": [
              "<graphviz.graphs.Digraph at 0x7849346fd090>"
            ]
          },
          "metadata": {},
          "execution_count": 38
        }
      ]
    },
    {
      "cell_type": "code",
      "source": [
        "o.backward()\n",
        "draw_dot(o)"
      ],
      "metadata": {
        "colab": {
          "base_uri": "https://localhost:8080/",
          "height": 477
        },
        "id": "j_B0Hbn2fN0p",
        "outputId": "895a9465-1003-4e71-b016-70b71aa3dc38"
      },
      "execution_count": null,
      "outputs": [
        {
          "output_type": "execute_result",
          "data": {
            "image/svg+xml": "<?xml version=\"1.0\" encoding=\"UTF-8\" standalone=\"no\"?>\n<!DOCTYPE svg PUBLIC \"-//W3C//DTD SVG 1.1//EN\"\n \"http://www.w3.org/Graphics/SVG/1.1/DTD/svg11.dtd\">\n<!-- Generated by graphviz version 2.43.0 (0)\n -->\n<!-- Title: %3 Pages: 1 -->\n<svg width=\"945pt\" height=\"342pt\"\n viewBox=\"0.00 0.00 945.00 342.00\" xmlns=\"http://www.w3.org/2000/svg\" xmlns:xlink=\"http://www.w3.org/1999/xlink\">\n<g id=\"graph0\" class=\"graph\" transform=\"scale(1 1) rotate(0) translate(4 338)\">\n<title>%3</title>\n<polygon fill=\"white\" stroke=\"transparent\" points=\"-4,4 -4,-338 941,-338 941,4 -4,4\"/>\n<!-- 132255807686016 -->\n<g id=\"node1\" class=\"node\">\n<title>132255807686016</title>\n<polygon fill=\"none\" stroke=\"black\" points=\"0.5,-264.5 0.5,-333.5 85.5,-333.5 85.5,-264.5 0.5,-264.5\"/>\n<text text-anchor=\"middle\" x=\"43\" y=\"-318.3\" font-family=\"Times,serif\" font-size=\"14.00\">x1</text>\n<polyline fill=\"none\" stroke=\"black\" points=\"0.5,-310.5 85.5,-310.5 \"/>\n<text text-anchor=\"middle\" x=\"43\" y=\"-295.3\" font-family=\"Times,serif\" font-size=\"14.00\">data &#45;2.0000</text>\n<polyline fill=\"none\" stroke=\"black\" points=\"0.5,-287.5 85.5,-287.5 \"/>\n<text text-anchor=\"middle\" x=\"43\" y=\"-272.3\" font-family=\"Times,serif\" font-size=\"14.00\">grad 0.1444</text>\n</g>\n<!-- 132255807687552* -->\n<g id=\"node11\" class=\"node\">\n<title>132255807687552*</title>\n<ellipse fill=\"none\" stroke=\"black\" cx=\"149\" cy=\"-211\" rx=\"27\" ry=\"18\"/>\n<text text-anchor=\"middle\" x=\"149\" y=\"-207.3\" font-family=\"Times,serif\" font-size=\"14.00\">*</text>\n</g>\n<!-- 132255807686016&#45;&gt;132255807687552* -->\n<g id=\"edge9\" class=\"edge\">\n<title>132255807686016&#45;&gt;132255807687552*</title>\n<path fill=\"none\" stroke=\"black\" d=\"M84.81,-264.47C97.9,-253.39 111.99,-241.47 123.54,-231.7\"/>\n<polygon fill=\"black\" stroke=\"black\" points=\"126.07,-234.14 131.44,-225.01 121.55,-228.8 126.07,-234.14\"/>\n</g>\n<!-- 132255807693456 -->\n<g id=\"node2\" class=\"node\">\n<title>132255807693456</title>\n<polygon fill=\"none\" stroke=\"black\" points=\"423,-132.5 423,-201.5 515,-201.5 515,-132.5 423,-132.5\"/>\n<text text-anchor=\"middle\" x=\"469\" y=\"-186.3\" font-family=\"Times,serif\" font-size=\"14.00\">x1w1 + x2w2</text>\n<polyline fill=\"none\" stroke=\"black\" points=\"423,-178.5 515,-178.5 \"/>\n<text text-anchor=\"middle\" x=\"469\" y=\"-163.3\" font-family=\"Times,serif\" font-size=\"14.00\">data &#45;6.9000</text>\n<polyline fill=\"none\" stroke=\"black\" points=\"423,-155.5 515,-155.5 \"/>\n<text text-anchor=\"middle\" x=\"469\" y=\"-140.3\" font-family=\"Times,serif\" font-size=\"14.00\">grad 0.0241</text>\n</g>\n<!-- 132255807693744+ -->\n<g id=\"node15\" class=\"node\">\n<title>132255807693744+</title>\n<ellipse fill=\"none\" stroke=\"black\" cx=\"578\" cy=\"-123\" rx=\"27\" ry=\"18\"/>\n<text text-anchor=\"middle\" x=\"578\" y=\"-119.3\" font-family=\"Times,serif\" font-size=\"14.00\">+</text>\n</g>\n<!-- 132255807693456&#45;&gt;132255807693744+ -->\n<g id=\"edge8\" class=\"edge\">\n<title>132255807693456&#45;&gt;132255807693744+</title>\n<path fill=\"none\" stroke=\"black\" d=\"M515.07,-148.47C525.24,-144.28 535.83,-139.93 545.32,-136.03\"/>\n<polygon fill=\"black\" stroke=\"black\" points=\"546.82,-139.19 554.74,-132.15 544.16,-132.72 546.82,-139.19\"/>\n</g>\n<!-- 132255807693456+ -->\n<g id=\"node3\" class=\"node\">\n<title>132255807693456+</title>\n<ellipse fill=\"none\" stroke=\"black\" cx=\"360\" cy=\"-167\" rx=\"27\" ry=\"18\"/>\n<text text-anchor=\"middle\" x=\"360\" y=\"-163.3\" font-family=\"Times,serif\" font-size=\"14.00\">+</text>\n</g>\n<!-- 132255807693456+&#45;&gt;132255807693456 -->\n<g id=\"edge1\" class=\"edge\">\n<title>132255807693456+&#45;&gt;132255807693456</title>\n<path fill=\"none\" stroke=\"black\" d=\"M387.18,-167C395,-167 403.88,-167 412.83,-167\"/>\n<polygon fill=\"black\" stroke=\"black\" points=\"412.91,-170.5 422.91,-167 412.91,-163.5 412.91,-170.5\"/>\n</g>\n<!-- 132255807694992 -->\n<g id=\"node4\" class=\"node\">\n<title>132255807694992</title>\n<polygon fill=\"none\" stroke=\"black\" points=\"0,-88.5 0,-157.5 86,-157.5 86,-88.5 0,-88.5\"/>\n<text text-anchor=\"middle\" x=\"43\" y=\"-142.3\" font-family=\"Times,serif\" font-size=\"14.00\">x2</text>\n<polyline fill=\"none\" stroke=\"black\" points=\"0,-134.5 86,-134.5 \"/>\n<text text-anchor=\"middle\" x=\"43\" y=\"-119.3\" font-family=\"Times,serif\" font-size=\"14.00\">data 0.9000</text>\n<polyline fill=\"none\" stroke=\"black\" points=\"0,-111.5 86,-111.5 \"/>\n<text text-anchor=\"middle\" x=\"43\" y=\"-96.3\" font-family=\"Times,serif\" font-size=\"14.00\">grad &#45;0.0481</text>\n</g>\n<!-- 132255807688080* -->\n<g id=\"node13\" class=\"node\">\n<title>132255807688080*</title>\n<ellipse fill=\"none\" stroke=\"black\" cx=\"149\" cy=\"-123\" rx=\"27\" ry=\"18\"/>\n<text text-anchor=\"middle\" x=\"149\" y=\"-119.3\" font-family=\"Times,serif\" font-size=\"14.00\">*</text>\n</g>\n<!-- 132255807694992&#45;&gt;132255807688080* -->\n<g id=\"edge14\" class=\"edge\">\n<title>132255807694992&#45;&gt;132255807688080*</title>\n<path fill=\"none\" stroke=\"black\" d=\"M86,-123C94.48,-123 103.34,-123 111.61,-123\"/>\n<polygon fill=\"black\" stroke=\"black\" points=\"111.7,-126.5 121.7,-123 111.7,-119.5 111.7,-126.5\"/>\n</g>\n<!-- 132255807695088 -->\n<g id=\"node5\" class=\"node\">\n<title>132255807695088</title>\n<polygon fill=\"none\" stroke=\"black\" points=\"428,-44.5 428,-113.5 510,-113.5 510,-44.5 428,-44.5\"/>\n<text text-anchor=\"middle\" x=\"469\" y=\"-98.3\" font-family=\"Times,serif\" font-size=\"14.00\">b</text>\n<polyline fill=\"none\" stroke=\"black\" points=\"428,-90.5 510,-90.5 \"/>\n<text text-anchor=\"middle\" x=\"469\" y=\"-75.3\" font-family=\"Times,serif\" font-size=\"14.00\">data 4.0000</text>\n<polyline fill=\"none\" stroke=\"black\" points=\"428,-67.5 510,-67.5 \"/>\n<text text-anchor=\"middle\" x=\"469\" y=\"-52.3\" font-family=\"Times,serif\" font-size=\"14.00\">grad 0.0241</text>\n</g>\n<!-- 132255807695088&#45;&gt;132255807693744+ -->\n<g id=\"edge6\" class=\"edge\">\n<title>132255807695088&#45;&gt;132255807693744+</title>\n<path fill=\"none\" stroke=\"black\" d=\"M510.15,-95.51C521.8,-100.3 534.35,-105.46 545.4,-110\"/>\n<polygon fill=\"black\" stroke=\"black\" points=\"544.08,-113.25 554.66,-113.81 546.74,-106.77 544.08,-113.25\"/>\n</g>\n<!-- 132255807693600 -->\n<g id=\"node6\" class=\"node\">\n<title>132255807693600</title>\n<polygon fill=\"none\" stroke=\"black\" points=\"852,-88.5 852,-157.5 937,-157.5 937,-88.5 852,-88.5\"/>\n<text text-anchor=\"middle\" x=\"894.5\" y=\"-142.3\" font-family=\"Times,serif\" font-size=\"14.00\">Output</text>\n<polyline fill=\"none\" stroke=\"black\" points=\"852,-134.5 937,-134.5 \"/>\n<text text-anchor=\"middle\" x=\"894.5\" y=\"-119.3\" font-family=\"Times,serif\" font-size=\"14.00\">data &#45;0.9940</text>\n<polyline fill=\"none\" stroke=\"black\" points=\"852,-111.5 937,-111.5 \"/>\n<text text-anchor=\"middle\" x=\"894.5\" y=\"-96.3\" font-family=\"Times,serif\" font-size=\"14.00\">grad 1.0000</text>\n</g>\n<!-- 132255807693600tanh -->\n<g id=\"node7\" class=\"node\">\n<title>132255807693600tanh</title>\n<ellipse fill=\"none\" stroke=\"black\" cx=\"789\" cy=\"-123\" rx=\"27\" ry=\"18\"/>\n<text text-anchor=\"middle\" x=\"789\" y=\"-119.3\" font-family=\"Times,serif\" font-size=\"14.00\">tanh</text>\n</g>\n<!-- 132255807693600tanh&#45;&gt;132255807693600 -->\n<g id=\"edge2\" class=\"edge\">\n<title>132255807693600tanh&#45;&gt;132255807693600</title>\n<path fill=\"none\" stroke=\"black\" d=\"M816.12,-123C823.87,-123 832.64,-123 841.42,-123\"/>\n<polygon fill=\"black\" stroke=\"black\" points=\"841.68,-126.5 851.68,-123 841.68,-119.5 841.68,-126.5\"/>\n</g>\n<!-- 132255807685920 -->\n<g id=\"node8\" class=\"node\">\n<title>132255807685920</title>\n<polygon fill=\"none\" stroke=\"black\" points=\"0,-176.5 0,-245.5 86,-245.5 86,-176.5 0,-176.5\"/>\n<text text-anchor=\"middle\" x=\"43\" y=\"-230.3\" font-family=\"Times,serif\" font-size=\"14.00\">w1</text>\n<polyline fill=\"none\" stroke=\"black\" points=\"0,-222.5 86,-222.5 \"/>\n<text text-anchor=\"middle\" x=\"43\" y=\"-207.3\" font-family=\"Times,serif\" font-size=\"14.00\">data 3.0000</text>\n<polyline fill=\"none\" stroke=\"black\" points=\"0,-199.5 86,-199.5 \"/>\n<text text-anchor=\"middle\" x=\"43\" y=\"-184.3\" font-family=\"Times,serif\" font-size=\"14.00\">grad &#45;0.0963</text>\n</g>\n<!-- 132255807685920&#45;&gt;132255807687552* -->\n<g id=\"edge10\" class=\"edge\">\n<title>132255807685920&#45;&gt;132255807687552*</title>\n<path fill=\"none\" stroke=\"black\" d=\"M86,-211C94.48,-211 103.34,-211 111.61,-211\"/>\n<polygon fill=\"black\" stroke=\"black\" points=\"111.7,-214.5 121.7,-211 111.7,-207.5 111.7,-214.5\"/>\n</g>\n<!-- 132255807685968 -->\n<g id=\"node9\" class=\"node\">\n<title>132255807685968</title>\n<polygon fill=\"none\" stroke=\"black\" points=\"0.5,-0.5 0.5,-69.5 85.5,-69.5 85.5,-0.5 0.5,-0.5\"/>\n<text text-anchor=\"middle\" x=\"43\" y=\"-54.3\" font-family=\"Times,serif\" font-size=\"14.00\">w2</text>\n<polyline fill=\"none\" stroke=\"black\" points=\"0.5,-46.5 85.5,-46.5 \"/>\n<text text-anchor=\"middle\" x=\"43\" y=\"-31.3\" font-family=\"Times,serif\" font-size=\"14.00\">data &#45;1.0000</text>\n<polyline fill=\"none\" stroke=\"black\" points=\"0.5,-23.5 85.5,-23.5 \"/>\n<text text-anchor=\"middle\" x=\"43\" y=\"-8.3\" font-family=\"Times,serif\" font-size=\"14.00\">grad 0.0433</text>\n</g>\n<!-- 132255807685968&#45;&gt;132255807688080* -->\n<g id=\"edge7\" class=\"edge\">\n<title>132255807685968&#45;&gt;132255807688080*</title>\n<path fill=\"none\" stroke=\"black\" d=\"M84.81,-69.53C97.9,-80.61 111.99,-92.53 123.54,-102.3\"/>\n<polygon fill=\"black\" stroke=\"black\" points=\"121.55,-105.2 131.44,-108.99 126.07,-99.86 121.55,-105.2\"/>\n</g>\n<!-- 132255807687552 -->\n<g id=\"node10\" class=\"node\">\n<title>132255807687552</title>\n<polygon fill=\"none\" stroke=\"black\" points=\"212,-176.5 212,-245.5 297,-245.5 297,-176.5 212,-176.5\"/>\n<text text-anchor=\"middle\" x=\"254.5\" y=\"-230.3\" font-family=\"Times,serif\" font-size=\"14.00\">x1w1</text>\n<polyline fill=\"none\" stroke=\"black\" points=\"212,-222.5 297,-222.5 \"/>\n<text text-anchor=\"middle\" x=\"254.5\" y=\"-207.3\" font-family=\"Times,serif\" font-size=\"14.00\">data &#45;6.0000</text>\n<polyline fill=\"none\" stroke=\"black\" points=\"212,-199.5 297,-199.5 \"/>\n<text text-anchor=\"middle\" x=\"254.5\" y=\"-184.3\" font-family=\"Times,serif\" font-size=\"14.00\">grad 0.0361</text>\n</g>\n<!-- 132255807687552&#45;&gt;132255807693456+ -->\n<g id=\"edge11\" class=\"edge\">\n<title>132255807687552&#45;&gt;132255807693456+</title>\n<path fill=\"none\" stroke=\"black\" d=\"M297,-193.36C307.21,-189.02 317.97,-184.44 327.61,-180.34\"/>\n<polygon fill=\"black\" stroke=\"black\" points=\"328.98,-183.56 336.81,-176.43 326.24,-177.12 328.98,-183.56\"/>\n</g>\n<!-- 132255807687552*&#45;&gt;132255807687552 -->\n<g id=\"edge3\" class=\"edge\">\n<title>132255807687552*&#45;&gt;132255807687552</title>\n<path fill=\"none\" stroke=\"black\" d=\"M176.12,-211C183.87,-211 192.64,-211 201.42,-211\"/>\n<polygon fill=\"black\" stroke=\"black\" points=\"201.68,-214.5 211.68,-211 201.68,-207.5 201.68,-214.5\"/>\n</g>\n<!-- 132255807688080 -->\n<g id=\"node12\" class=\"node\">\n<title>132255807688080</title>\n<polygon fill=\"none\" stroke=\"black\" points=\"212,-88.5 212,-157.5 297,-157.5 297,-88.5 212,-88.5\"/>\n<text text-anchor=\"middle\" x=\"254.5\" y=\"-142.3\" font-family=\"Times,serif\" font-size=\"14.00\">x2w2</text>\n<polyline fill=\"none\" stroke=\"black\" points=\"212,-134.5 297,-134.5 \"/>\n<text text-anchor=\"middle\" x=\"254.5\" y=\"-119.3\" font-family=\"Times,serif\" font-size=\"14.00\">data &#45;0.9000</text>\n<polyline fill=\"none\" stroke=\"black\" points=\"212,-111.5 297,-111.5 \"/>\n<text text-anchor=\"middle\" x=\"254.5\" y=\"-96.3\" font-family=\"Times,serif\" font-size=\"14.00\">grad 0.0361</text>\n</g>\n<!-- 132255807688080&#45;&gt;132255807693456+ -->\n<g id=\"edge13\" class=\"edge\">\n<title>132255807688080&#45;&gt;132255807693456+</title>\n<path fill=\"none\" stroke=\"black\" d=\"M297,-140.64C307.21,-144.98 317.97,-149.56 327.61,-153.66\"/>\n<polygon fill=\"black\" stroke=\"black\" points=\"326.24,-156.88 336.81,-157.57 328.98,-150.44 326.24,-156.88\"/>\n</g>\n<!-- 132255807688080*&#45;&gt;132255807688080 -->\n<g id=\"edge4\" class=\"edge\">\n<title>132255807688080*&#45;&gt;132255807688080</title>\n<path fill=\"none\" stroke=\"black\" d=\"M176.12,-123C183.87,-123 192.64,-123 201.42,-123\"/>\n<polygon fill=\"black\" stroke=\"black\" points=\"201.68,-126.5 211.68,-123 201.68,-119.5 201.68,-126.5\"/>\n</g>\n<!-- 132255807693744 -->\n<g id=\"node14\" class=\"node\">\n<title>132255807693744</title>\n<polygon fill=\"none\" stroke=\"black\" points=\"641,-88.5 641,-157.5 726,-157.5 726,-88.5 641,-88.5\"/>\n<text text-anchor=\"middle\" x=\"683.5\" y=\"-142.3\" font-family=\"Times,serif\" font-size=\"14.00\">n</text>\n<polyline fill=\"none\" stroke=\"black\" points=\"641,-134.5 726,-134.5 \"/>\n<text text-anchor=\"middle\" x=\"683.5\" y=\"-119.3\" font-family=\"Times,serif\" font-size=\"14.00\">data &#45;2.9000</text>\n<polyline fill=\"none\" stroke=\"black\" points=\"641,-111.5 726,-111.5 \"/>\n<text text-anchor=\"middle\" x=\"683.5\" y=\"-96.3\" font-family=\"Times,serif\" font-size=\"14.00\">grad 0.0120</text>\n</g>\n<!-- 132255807693744&#45;&gt;132255807693600tanh -->\n<g id=\"edge12\" class=\"edge\">\n<title>132255807693744&#45;&gt;132255807693600tanh</title>\n<path fill=\"none\" stroke=\"black\" d=\"M726,-123C734.54,-123 743.47,-123 751.81,-123\"/>\n<polygon fill=\"black\" stroke=\"black\" points=\"751.97,-126.5 761.97,-123 751.97,-119.5 751.97,-126.5\"/>\n</g>\n<!-- 132255807693744+&#45;&gt;132255807693744 -->\n<g id=\"edge5\" class=\"edge\">\n<title>132255807693744+&#45;&gt;132255807693744</title>\n<path fill=\"none\" stroke=\"black\" d=\"M605.12,-123C612.87,-123 621.64,-123 630.42,-123\"/>\n<polygon fill=\"black\" stroke=\"black\" points=\"630.68,-126.5 640.68,-123 630.68,-119.5 630.68,-126.5\"/>\n</g>\n</g>\n</svg>\n",
            "text/plain": [
              "<graphviz.graphs.Digraph at 0x7849346fd240>"
            ]
          },
          "metadata": {},
          "execution_count": 39
        }
      ]
    },
    {
      "cell_type": "code",
      "source": [
        "a = Value(3.0, label = 'a')\n",
        "b = a + a; b.label = 'b'\n",
        "\n",
        "b.backward()\n",
        "draw_dot(b)"
      ],
      "metadata": {
        "colab": {
          "base_uri": "https://localhost:8080/",
          "height": 125
        },
        "id": "Dnqieq0sd-UN",
        "outputId": "724b8f68-2b7b-4916-f7e9-a254751197d5"
      },
      "execution_count": null,
      "outputs": [
        {
          "output_type": "execute_result",
          "data": {
            "image/svg+xml": "<?xml version=\"1.0\" encoding=\"UTF-8\" standalone=\"no\"?>\n<!DOCTYPE svg PUBLIC \"-//W3C//DTD SVG 1.1//EN\"\n \"http://www.w3.org/Graphics/SVG/1.1/DTD/svg11.dtd\">\n<!-- Generated by graphviz version 2.43.0 (0)\n -->\n<!-- Title: %3 Pages: 1 -->\n<svg width=\"298pt\" height=\"78pt\"\n viewBox=\"0.00 0.00 298.00 78.00\" xmlns=\"http://www.w3.org/2000/svg\" xmlns:xlink=\"http://www.w3.org/1999/xlink\">\n<g id=\"graph0\" class=\"graph\" transform=\"scale(1 1) rotate(0) translate(4 74)\">\n<title>%3</title>\n<polygon fill=\"white\" stroke=\"transparent\" points=\"-4,4 -4,-74 294,-74 294,4 -4,4\"/>\n<!-- 132255807695280 -->\n<g id=\"node1\" class=\"node\">\n<title>132255807695280</title>\n<polygon fill=\"none\" stroke=\"black\" points=\"208,-0.5 208,-69.5 290,-69.5 290,-0.5 208,-0.5\"/>\n<text text-anchor=\"middle\" x=\"249\" y=\"-54.3\" font-family=\"Times,serif\" font-size=\"14.00\">b</text>\n<polyline fill=\"none\" stroke=\"black\" points=\"208,-46.5 290,-46.5 \"/>\n<text text-anchor=\"middle\" x=\"249\" y=\"-31.3\" font-family=\"Times,serif\" font-size=\"14.00\">data 6.0000</text>\n<polyline fill=\"none\" stroke=\"black\" points=\"208,-23.5 290,-23.5 \"/>\n<text text-anchor=\"middle\" x=\"249\" y=\"-8.3\" font-family=\"Times,serif\" font-size=\"14.00\">grad 1.0000</text>\n</g>\n<!-- 132255807695280+ -->\n<g id=\"node2\" class=\"node\">\n<title>132255807695280+</title>\n<ellipse fill=\"none\" stroke=\"black\" cx=\"145\" cy=\"-35\" rx=\"27\" ry=\"18\"/>\n<text text-anchor=\"middle\" x=\"145\" y=\"-31.3\" font-family=\"Times,serif\" font-size=\"14.00\">+</text>\n</g>\n<!-- 132255807695280+&#45;&gt;132255807695280 -->\n<g id=\"edge1\" class=\"edge\">\n<title>132255807695280+&#45;&gt;132255807695280</title>\n<path fill=\"none\" stroke=\"black\" d=\"M172,-35C179.81,-35 188.65,-35 197.48,-35\"/>\n<polygon fill=\"black\" stroke=\"black\" points=\"197.76,-38.5 207.76,-35 197.76,-31.5 197.76,-38.5\"/>\n</g>\n<!-- 132255807684720 -->\n<g id=\"node3\" class=\"node\">\n<title>132255807684720</title>\n<polygon fill=\"none\" stroke=\"black\" points=\"0,-0.5 0,-69.5 82,-69.5 82,-0.5 0,-0.5\"/>\n<text text-anchor=\"middle\" x=\"41\" y=\"-54.3\" font-family=\"Times,serif\" font-size=\"14.00\">a</text>\n<polyline fill=\"none\" stroke=\"black\" points=\"0,-46.5 82,-46.5 \"/>\n<text text-anchor=\"middle\" x=\"41\" y=\"-31.3\" font-family=\"Times,serif\" font-size=\"14.00\">data 3.0000</text>\n<polyline fill=\"none\" stroke=\"black\" points=\"0,-23.5 82,-23.5 \"/>\n<text text-anchor=\"middle\" x=\"41\" y=\"-8.3\" font-family=\"Times,serif\" font-size=\"14.00\">grad 2.0000</text>\n</g>\n<!-- 132255807684720&#45;&gt;132255807695280+ -->\n<g id=\"edge2\" class=\"edge\">\n<title>132255807684720&#45;&gt;132255807695280+</title>\n<path fill=\"none\" stroke=\"black\" d=\"M82.02,-35C90.5,-35 99.4,-35 107.73,-35\"/>\n<polygon fill=\"black\" stroke=\"black\" points=\"107.89,-38.5 117.89,-35 107.89,-31.5 107.89,-38.5\"/>\n</g>\n</g>\n</svg>\n",
            "text/plain": [
              "<graphviz.graphs.Digraph at 0x7849346fda50>"
            ]
          },
          "metadata": {},
          "execution_count": 40
        }
      ]
    },
    {
      "cell_type": "code",
      "source": [
        "class Value:\n",
        "  def __init__(self, data, _prev = (), _op = '', label = ''):\n",
        "    self.data = data\n",
        "    self._prev = _prev\n",
        "    self._op = _op\n",
        "    self.label = label\n",
        "    self.grad = 0.0 #by default we assume the grad is 0 i.e. no effect.\n",
        "    self._backward = lambda: None\n",
        "\n",
        "\n",
        "  def __repr__(self):\n",
        "    return f\"Value (data = {self.data})\"\n",
        "\n",
        "  def __add__(self, other): #if a and b are Value object then on a + b, python will do a.__add__(b)\n",
        "    other = other if isinstance(other, Value) else Value(other)\n",
        "    out = Value(self.data + other.data, (self, other), '+')\n",
        "    def _backward():\n",
        "      #d(a + b)/da = 1\n",
        "      self.grad += 1 * out.grad\n",
        "      other.grad += 1 * out.grad\n",
        "    out._backward = _backward\n",
        "    return out\n",
        "\n",
        "  def __radd__(self, other):\n",
        "    return self + other\n",
        "\n",
        "  def __sub__(self, other):\n",
        "    other = other if isinstance(other, Value) else Value(other)\n",
        "    out = Value(self.data - other.data, (self, other), '-')\n",
        "    def _backward():\n",
        "      #d(a - b)/da = 1\n",
        "      #d(a -b)/db = -1\n",
        "      self.grad += 1 * out.grad\n",
        "      other.grad -= 1 * out.grad\n",
        "    out._backward = _backward\n",
        "    return out\n",
        "\n",
        "  def __rsub__(self, other):\n",
        "    return self - other\n",
        "\n",
        "  def __mul__(self, other):\n",
        "    other = other if isinstance(other, Value) else Value(other)\n",
        "    out = Value(self.data * other.data, (self, other), '*')\n",
        "    #d(ab)/da = b\n",
        "    def _backward():\n",
        "      self.grad += other.data * out.grad\n",
        "      other.grad += self.data * out.grad\n",
        "    out._backward = _backward\n",
        "    return out\n",
        "\n",
        "\n",
        "  def __rmul__(self, other):\n",
        "    return self * other\n",
        "\n",
        "  # def __truediv__(self, other):\n",
        "  #   other = other if isinstance(other, Value) else Value(other)\n",
        "  #   return Value(self.data/other.data, (self, other), '/')\n",
        "\n",
        "  # def __truediv__(self, other):\n",
        "  #   other = other if isinstance(other, Value) else Value(other)\n",
        "  #   out = Value(self.data*(other.data ** -1), (self, other), '/')\n",
        "  #   def _backward():\n",
        "  #     #idk so let's just follow the tutorial\n",
        "  #   out._backward = _backward\n",
        "  #   return out\n",
        "\n",
        "  def __truediv__(self, other):\n",
        "    return self * (other ** -1)\n",
        "\n",
        "\n",
        "  def __rtruediv__(self, other):\n",
        "    return other * (self ** -1)\n",
        "\n",
        "\n",
        "  def tanh(self):\n",
        "    t = (math.exp(2*self.data) - 1)/(math.exp(2*self.data) + 1)\n",
        "    out = Value(t, (self, ), 'tanh')\n",
        "    # d(tanh(a))/da = 1 - a ** 2\n",
        "    def _backward():\n",
        "      self.grad = (1 - t ** 2) * out.grad\n",
        "    out._backward = _backward\n",
        "    return out\n",
        "\n",
        "  def exp(self):\n",
        "    x = self. data\n",
        "    out = Value(math.exp(x), (self, ), 'exp')\n",
        "    def _backward():\n",
        "      self.grad += out.data * out.grad\n",
        "    out._backward = _backward\n",
        "    return out\n",
        "\n",
        "  def __pow__(self, other):\n",
        "    assert isinstance(other, (int, float, Value)), \"please have int or float or Value for this to be valid [for now]\"\n",
        "    other = other if isinstance(other, Value) else Value(other)\n",
        "    out = Value(self.data ** other.data, (self, ), f'** {other.data}')\n",
        "    def _backward():\n",
        "      self.grad += other.data * (self.data ** (other.data - 1)) * out.grad\n",
        "    out._backward = _backward\n",
        "    return out\n",
        "\n",
        "  def backward(self):\n",
        "    top = []\n",
        "    visited = set()\n",
        "    def build_top(v):\n",
        "      if v not in visited:\n",
        "        visited.add(v)\n",
        "        for child in v._prev:\n",
        "          build_top(child)\n",
        "        top.append(v)\n",
        "    build_top(self)\n",
        "\n",
        "    self.grad = 1\n",
        "    for node in reversed(top):\n",
        "      node._backward()\n"
      ],
      "metadata": {
        "id": "X7Er2nXRihHO"
      },
      "execution_count": null,
      "outputs": []
    },
    {
      "cell_type": "code",
      "source": [
        "a = Value(2.0, label = 'a')\n",
        "b = Value(3, label = 'b')\n",
        "c = a ** 2\n",
        "c._backward()\n",
        "print(c, c.grad)\n",
        "\n",
        "a - b"
      ],
      "metadata": {
        "colab": {
          "base_uri": "https://localhost:8080/"
        },
        "id": "6jL7NO4_nywk",
        "outputId": "605ef0b4-09b4-4305-e47a-f632b7f6c699"
      },
      "execution_count": null,
      "outputs": [
        {
          "output_type": "stream",
          "name": "stdout",
          "text": [
            "Value (data = 4.0) 0.0\n"
          ]
        },
        {
          "output_type": "execute_result",
          "data": {
            "text/plain": [
              "Value (data = -1.0)"
            ]
          },
          "metadata": {},
          "execution_count": 96
        }
      ]
    },
    {
      "cell_type": "code",
      "source": [
        "x1 = Value(-2.0, label = 'x1')\n",
        "x2 = Value(0.9, label = 'x2')\n",
        "\n",
        "w1 = Value(3.0, label = 'w1')\n",
        "w2 = Value(-1.0, label = 'w2')\n",
        "\n",
        "b = Value(4.0, label = 'b')\n",
        "print(b.data)\n",
        "\n",
        "x1w1 = x1 * w1; x1w1.label = 'x1w1'\n",
        "x2w2 = x2 * w2; x2w2.label = 'x2w2'\n",
        "\n",
        "# x1w1x2w2m = x1w1 - x2w2; x1w1x2w2.label = 'x1w1 - x2w2m'\n",
        "x1w1x2w2 = x1w1 + x2w2; x1w1x2w2.label = 'x1w1 + x2w2'\n",
        "\n",
        "n = x1w1x2w2 + b; n.label = 'n'\n",
        "o = n.tanh(); o.label = 'Output'\n",
        "o.backward()\n",
        "draw_dot(o)\n"
      ],
      "metadata": {
        "colab": {
          "base_uri": "https://localhost:8080/",
          "height": 495
        },
        "id": "KewbA8Pjn2zA",
        "outputId": "91f8eb6f-4dba-433f-95e7-e87505f95f8a"
      },
      "execution_count": null,
      "outputs": [
        {
          "output_type": "stream",
          "name": "stdout",
          "text": [
            "4.0\n"
          ]
        },
        {
          "output_type": "execute_result",
          "data": {
            "image/svg+xml": "<?xml version=\"1.0\" encoding=\"UTF-8\" standalone=\"no\"?>\n<!DOCTYPE svg PUBLIC \"-//W3C//DTD SVG 1.1//EN\"\n \"http://www.w3.org/Graphics/SVG/1.1/DTD/svg11.dtd\">\n<!-- Generated by graphviz version 2.43.0 (0)\n -->\n<!-- Title: %3 Pages: 1 -->\n<svg width=\"945pt\" height=\"342pt\"\n viewBox=\"0.00 0.00 945.00 342.00\" xmlns=\"http://www.w3.org/2000/svg\" xmlns:xlink=\"http://www.w3.org/1999/xlink\">\n<g id=\"graph0\" class=\"graph\" transform=\"scale(1 1) rotate(0) translate(4 338)\">\n<title>%3</title>\n<polygon fill=\"white\" stroke=\"transparent\" points=\"-4,4 -4,-338 941,-338 941,4 -4,4\"/>\n<!-- 132255807489552 -->\n<g id=\"node1\" class=\"node\">\n<title>132255807489552</title>\n<polygon fill=\"none\" stroke=\"black\" points=\"428,-220.5 428,-289.5 510,-289.5 510,-220.5 428,-220.5\"/>\n<text text-anchor=\"middle\" x=\"469\" y=\"-274.3\" font-family=\"Times,serif\" font-size=\"14.00\">b</text>\n<polyline fill=\"none\" stroke=\"black\" points=\"428,-266.5 510,-266.5 \"/>\n<text text-anchor=\"middle\" x=\"469\" y=\"-251.3\" font-family=\"Times,serif\" font-size=\"14.00\">data 4.0000</text>\n<polyline fill=\"none\" stroke=\"black\" points=\"428,-243.5 510,-243.5 \"/>\n<text text-anchor=\"middle\" x=\"469\" y=\"-228.3\" font-family=\"Times,serif\" font-size=\"14.00\">grad 0.0120</text>\n</g>\n<!-- 132255807489744+ -->\n<g id=\"node8\" class=\"node\">\n<title>132255807489744+</title>\n<ellipse fill=\"none\" stroke=\"black\" cx=\"578\" cy=\"-211\" rx=\"27\" ry=\"18\"/>\n<text text-anchor=\"middle\" x=\"578\" y=\"-207.3\" font-family=\"Times,serif\" font-size=\"14.00\">+</text>\n</g>\n<!-- 132255807489552&#45;&gt;132255807489744+ -->\n<g id=\"edge11\" class=\"edge\">\n<title>132255807489552&#45;&gt;132255807489744+</title>\n<path fill=\"none\" stroke=\"black\" d=\"M510.15,-238.49C521.8,-233.7 534.35,-228.54 545.4,-224\"/>\n<polygon fill=\"black\" stroke=\"black\" points=\"546.74,-227.23 554.66,-220.19 544.08,-220.75 546.74,-227.23\"/>\n</g>\n<!-- 132255807498816 -->\n<g id=\"node2\" class=\"node\">\n<title>132255807498816</title>\n<polygon fill=\"none\" stroke=\"black\" points=\"0,-88.5 0,-157.5 86,-157.5 86,-88.5 0,-88.5\"/>\n<text text-anchor=\"middle\" x=\"43\" y=\"-142.3\" font-family=\"Times,serif\" font-size=\"14.00\">w1</text>\n<polyline fill=\"none\" stroke=\"black\" points=\"0,-134.5 86,-134.5 \"/>\n<text text-anchor=\"middle\" x=\"43\" y=\"-119.3\" font-family=\"Times,serif\" font-size=\"14.00\">data 3.0000</text>\n<polyline fill=\"none\" stroke=\"black\" points=\"0,-111.5 86,-111.5 \"/>\n<text text-anchor=\"middle\" x=\"43\" y=\"-96.3\" font-family=\"Times,serif\" font-size=\"14.00\">grad &#45;0.0241</text>\n</g>\n<!-- 132255807501648* -->\n<g id=\"node14\" class=\"node\">\n<title>132255807501648*</title>\n<ellipse fill=\"none\" stroke=\"black\" cx=\"149\" cy=\"-123\" rx=\"27\" ry=\"18\"/>\n<text text-anchor=\"middle\" x=\"149\" y=\"-119.3\" font-family=\"Times,serif\" font-size=\"14.00\">*</text>\n</g>\n<!-- 132255807498816&#45;&gt;132255807501648* -->\n<g id=\"edge9\" class=\"edge\">\n<title>132255807498816&#45;&gt;132255807501648*</title>\n<path fill=\"none\" stroke=\"black\" d=\"M86,-123C94.48,-123 103.34,-123 111.61,-123\"/>\n<polygon fill=\"black\" stroke=\"black\" points=\"111.7,-126.5 121.7,-123 111.7,-119.5 111.7,-126.5\"/>\n</g>\n<!-- 132255807493776 -->\n<g id=\"node3\" class=\"node\">\n<title>132255807493776</title>\n<polygon fill=\"none\" stroke=\"black\" points=\"852,-176.5 852,-245.5 937,-245.5 937,-176.5 852,-176.5\"/>\n<text text-anchor=\"middle\" x=\"894.5\" y=\"-230.3\" font-family=\"Times,serif\" font-size=\"14.00\">Output</text>\n<polyline fill=\"none\" stroke=\"black\" points=\"852,-222.5 937,-222.5 \"/>\n<text text-anchor=\"middle\" x=\"894.5\" y=\"-207.3\" font-family=\"Times,serif\" font-size=\"14.00\">data &#45;0.9940</text>\n<polyline fill=\"none\" stroke=\"black\" points=\"852,-199.5 937,-199.5 \"/>\n<text text-anchor=\"middle\" x=\"894.5\" y=\"-184.3\" font-family=\"Times,serif\" font-size=\"14.00\">grad 1.0000</text>\n</g>\n<!-- 132255807493776tanh -->\n<g id=\"node4\" class=\"node\">\n<title>132255807493776tanh</title>\n<ellipse fill=\"none\" stroke=\"black\" cx=\"789\" cy=\"-211\" rx=\"27\" ry=\"18\"/>\n<text text-anchor=\"middle\" x=\"789\" y=\"-207.3\" font-family=\"Times,serif\" font-size=\"14.00\">tanh</text>\n</g>\n<!-- 132255807493776tanh&#45;&gt;132255807493776 -->\n<g id=\"edge1\" class=\"edge\">\n<title>132255807493776tanh&#45;&gt;132255807493776</title>\n<path fill=\"none\" stroke=\"black\" d=\"M816.12,-211C823.87,-211 832.64,-211 841.42,-211\"/>\n<polygon fill=\"black\" stroke=\"black\" points=\"841.68,-214.5 851.68,-211 841.68,-207.5 841.68,-214.5\"/>\n</g>\n<!-- 132255807490752 -->\n<g id=\"node5\" class=\"node\">\n<title>132255807490752</title>\n<polygon fill=\"none\" stroke=\"black\" points=\"212,-176.5 212,-245.5 297,-245.5 297,-176.5 212,-176.5\"/>\n<text text-anchor=\"middle\" x=\"254.5\" y=\"-230.3\" font-family=\"Times,serif\" font-size=\"14.00\">x2w2</text>\n<polyline fill=\"none\" stroke=\"black\" points=\"212,-222.5 297,-222.5 \"/>\n<text text-anchor=\"middle\" x=\"254.5\" y=\"-207.3\" font-family=\"Times,serif\" font-size=\"14.00\">data &#45;0.9000</text>\n<polyline fill=\"none\" stroke=\"black\" points=\"212,-199.5 297,-199.5 \"/>\n<text text-anchor=\"middle\" x=\"254.5\" y=\"-184.3\" font-family=\"Times,serif\" font-size=\"14.00\">grad 0.0120</text>\n</g>\n<!-- 132255807502560+ -->\n<g id=\"node10\" class=\"node\">\n<title>132255807502560+</title>\n<ellipse fill=\"none\" stroke=\"black\" cx=\"360\" cy=\"-167\" rx=\"27\" ry=\"18\"/>\n<text text-anchor=\"middle\" x=\"360\" y=\"-163.3\" font-family=\"Times,serif\" font-size=\"14.00\">+</text>\n</g>\n<!-- 132255807490752&#45;&gt;132255807502560+ -->\n<g id=\"edge10\" class=\"edge\">\n<title>132255807490752&#45;&gt;132255807502560+</title>\n<path fill=\"none\" stroke=\"black\" d=\"M297,-193.36C307.21,-189.02 317.97,-184.44 327.61,-180.34\"/>\n<polygon fill=\"black\" stroke=\"black\" points=\"328.98,-183.56 336.81,-176.43 326.24,-177.12 328.98,-183.56\"/>\n</g>\n<!-- 132255807490752* -->\n<g id=\"node6\" class=\"node\">\n<title>132255807490752*</title>\n<ellipse fill=\"none\" stroke=\"black\" cx=\"149\" cy=\"-211\" rx=\"27\" ry=\"18\"/>\n<text text-anchor=\"middle\" x=\"149\" y=\"-207.3\" font-family=\"Times,serif\" font-size=\"14.00\">*</text>\n</g>\n<!-- 132255807490752*&#45;&gt;132255807490752 -->\n<g id=\"edge2\" class=\"edge\">\n<title>132255807490752*&#45;&gt;132255807490752</title>\n<path fill=\"none\" stroke=\"black\" d=\"M176.12,-211C183.87,-211 192.64,-211 201.42,-211\"/>\n<polygon fill=\"black\" stroke=\"black\" points=\"201.68,-214.5 211.68,-211 201.68,-207.5 201.68,-214.5\"/>\n</g>\n<!-- 132255807489744 -->\n<g id=\"node7\" class=\"node\">\n<title>132255807489744</title>\n<polygon fill=\"none\" stroke=\"black\" points=\"641,-176.5 641,-245.5 726,-245.5 726,-176.5 641,-176.5\"/>\n<text text-anchor=\"middle\" x=\"683.5\" y=\"-230.3\" font-family=\"Times,serif\" font-size=\"14.00\">n</text>\n<polyline fill=\"none\" stroke=\"black\" points=\"641,-222.5 726,-222.5 \"/>\n<text text-anchor=\"middle\" x=\"683.5\" y=\"-207.3\" font-family=\"Times,serif\" font-size=\"14.00\">data &#45;2.9000</text>\n<polyline fill=\"none\" stroke=\"black\" points=\"641,-199.5 726,-199.5 \"/>\n<text text-anchor=\"middle\" x=\"683.5\" y=\"-184.3\" font-family=\"Times,serif\" font-size=\"14.00\">grad 0.0120</text>\n</g>\n<!-- 132255807489744&#45;&gt;132255807493776tanh -->\n<g id=\"edge8\" class=\"edge\">\n<title>132255807489744&#45;&gt;132255807493776tanh</title>\n<path fill=\"none\" stroke=\"black\" d=\"M726,-211C734.54,-211 743.47,-211 751.81,-211\"/>\n<polygon fill=\"black\" stroke=\"black\" points=\"751.97,-214.5 761.97,-211 751.97,-207.5 751.97,-214.5\"/>\n</g>\n<!-- 132255807489744+&#45;&gt;132255807489744 -->\n<g id=\"edge3\" class=\"edge\">\n<title>132255807489744+&#45;&gt;132255807489744</title>\n<path fill=\"none\" stroke=\"black\" d=\"M605.12,-211C612.87,-211 621.64,-211 630.42,-211\"/>\n<polygon fill=\"black\" stroke=\"black\" points=\"630.68,-214.5 640.68,-211 630.68,-207.5 630.68,-214.5\"/>\n</g>\n<!-- 132255807502560 -->\n<g id=\"node9\" class=\"node\">\n<title>132255807502560</title>\n<polygon fill=\"none\" stroke=\"black\" points=\"423,-132.5 423,-201.5 515,-201.5 515,-132.5 423,-132.5\"/>\n<text text-anchor=\"middle\" x=\"469\" y=\"-186.3\" font-family=\"Times,serif\" font-size=\"14.00\">x1w1 + x2w2</text>\n<polyline fill=\"none\" stroke=\"black\" points=\"423,-178.5 515,-178.5 \"/>\n<text text-anchor=\"middle\" x=\"469\" y=\"-163.3\" font-family=\"Times,serif\" font-size=\"14.00\">data &#45;6.9000</text>\n<polyline fill=\"none\" stroke=\"black\" points=\"423,-155.5 515,-155.5 \"/>\n<text text-anchor=\"middle\" x=\"469\" y=\"-140.3\" font-family=\"Times,serif\" font-size=\"14.00\">grad 0.0120</text>\n</g>\n<!-- 132255807502560&#45;&gt;132255807489744+ -->\n<g id=\"edge12\" class=\"edge\">\n<title>132255807502560&#45;&gt;132255807489744+</title>\n<path fill=\"none\" stroke=\"black\" d=\"M515.07,-185.53C525.24,-189.72 535.83,-194.07 545.32,-197.97\"/>\n<polygon fill=\"black\" stroke=\"black\" points=\"544.16,-201.28 554.74,-201.85 546.82,-194.81 544.16,-201.28\"/>\n</g>\n<!-- 132255807502560+&#45;&gt;132255807502560 -->\n<g id=\"edge4\" class=\"edge\">\n<title>132255807502560+&#45;&gt;132255807502560</title>\n<path fill=\"none\" stroke=\"black\" d=\"M387.18,-167C395,-167 403.88,-167 412.83,-167\"/>\n<polygon fill=\"black\" stroke=\"black\" points=\"412.91,-170.5 422.91,-167 412.91,-163.5 412.91,-170.5\"/>\n</g>\n<!-- 132255807497616 -->\n<g id=\"node11\" class=\"node\">\n<title>132255807497616</title>\n<polygon fill=\"none\" stroke=\"black\" points=\"0.5,-264.5 0.5,-333.5 85.5,-333.5 85.5,-264.5 0.5,-264.5\"/>\n<text text-anchor=\"middle\" x=\"43\" y=\"-318.3\" font-family=\"Times,serif\" font-size=\"14.00\">w2</text>\n<polyline fill=\"none\" stroke=\"black\" points=\"0.5,-310.5 85.5,-310.5 \"/>\n<text text-anchor=\"middle\" x=\"43\" y=\"-295.3\" font-family=\"Times,serif\" font-size=\"14.00\">data &#45;1.0000</text>\n<polyline fill=\"none\" stroke=\"black\" points=\"0.5,-287.5 85.5,-287.5 \"/>\n<text text-anchor=\"middle\" x=\"43\" y=\"-272.3\" font-family=\"Times,serif\" font-size=\"14.00\">grad 0.0108</text>\n</g>\n<!-- 132255807497616&#45;&gt;132255807490752* -->\n<g id=\"edge14\" class=\"edge\">\n<title>132255807497616&#45;&gt;132255807490752*</title>\n<path fill=\"none\" stroke=\"black\" d=\"M84.81,-264.47C97.9,-253.39 111.99,-241.47 123.54,-231.7\"/>\n<polygon fill=\"black\" stroke=\"black\" points=\"126.07,-234.14 131.44,-225.01 121.55,-228.8 126.07,-234.14\"/>\n</g>\n<!-- 132255807498528 -->\n<g id=\"node12\" class=\"node\">\n<title>132255807498528</title>\n<polygon fill=\"none\" stroke=\"black\" points=\"0.5,-0.5 0.5,-69.5 85.5,-69.5 85.5,-0.5 0.5,-0.5\"/>\n<text text-anchor=\"middle\" x=\"43\" y=\"-54.3\" font-family=\"Times,serif\" font-size=\"14.00\">x1</text>\n<polyline fill=\"none\" stroke=\"black\" points=\"0.5,-46.5 85.5,-46.5 \"/>\n<text text-anchor=\"middle\" x=\"43\" y=\"-31.3\" font-family=\"Times,serif\" font-size=\"14.00\">data &#45;2.0000</text>\n<polyline fill=\"none\" stroke=\"black\" points=\"0.5,-23.5 85.5,-23.5 \"/>\n<text text-anchor=\"middle\" x=\"43\" y=\"-8.3\" font-family=\"Times,serif\" font-size=\"14.00\">grad 0.0361</text>\n</g>\n<!-- 132255807498528&#45;&gt;132255807501648* -->\n<g id=\"edge13\" class=\"edge\">\n<title>132255807498528&#45;&gt;132255807501648*</title>\n<path fill=\"none\" stroke=\"black\" d=\"M84.81,-69.53C97.9,-80.61 111.99,-92.53 123.54,-102.3\"/>\n<polygon fill=\"black\" stroke=\"black\" points=\"121.55,-105.2 131.44,-108.99 126.07,-99.86 121.55,-105.2\"/>\n</g>\n<!-- 132255807501648 -->\n<g id=\"node13\" class=\"node\">\n<title>132255807501648</title>\n<polygon fill=\"none\" stroke=\"black\" points=\"212,-88.5 212,-157.5 297,-157.5 297,-88.5 212,-88.5\"/>\n<text text-anchor=\"middle\" x=\"254.5\" y=\"-142.3\" font-family=\"Times,serif\" font-size=\"14.00\">x1w1</text>\n<polyline fill=\"none\" stroke=\"black\" points=\"212,-134.5 297,-134.5 \"/>\n<text text-anchor=\"middle\" x=\"254.5\" y=\"-119.3\" font-family=\"Times,serif\" font-size=\"14.00\">data &#45;6.0000</text>\n<polyline fill=\"none\" stroke=\"black\" points=\"212,-111.5 297,-111.5 \"/>\n<text text-anchor=\"middle\" x=\"254.5\" y=\"-96.3\" font-family=\"Times,serif\" font-size=\"14.00\">grad 0.0120</text>\n</g>\n<!-- 132255807501648&#45;&gt;132255807502560+ -->\n<g id=\"edge7\" class=\"edge\">\n<title>132255807501648&#45;&gt;132255807502560+</title>\n<path fill=\"none\" stroke=\"black\" d=\"M297,-140.64C307.21,-144.98 317.97,-149.56 327.61,-153.66\"/>\n<polygon fill=\"black\" stroke=\"black\" points=\"326.24,-156.88 336.81,-157.57 328.98,-150.44 326.24,-156.88\"/>\n</g>\n<!-- 132255807501648*&#45;&gt;132255807501648 -->\n<g id=\"edge5\" class=\"edge\">\n<title>132255807501648*&#45;&gt;132255807501648</title>\n<path fill=\"none\" stroke=\"black\" d=\"M176.12,-123C183.87,-123 192.64,-123 201.42,-123\"/>\n<polygon fill=\"black\" stroke=\"black\" points=\"201.68,-126.5 211.68,-123 201.68,-119.5 201.68,-126.5\"/>\n</g>\n<!-- 132255807493008 -->\n<g id=\"node15\" class=\"node\">\n<title>132255807493008</title>\n<polygon fill=\"none\" stroke=\"black\" points=\"0,-176.5 0,-245.5 86,-245.5 86,-176.5 0,-176.5\"/>\n<text text-anchor=\"middle\" x=\"43\" y=\"-230.3\" font-family=\"Times,serif\" font-size=\"14.00\">x2</text>\n<polyline fill=\"none\" stroke=\"black\" points=\"0,-222.5 86,-222.5 \"/>\n<text text-anchor=\"middle\" x=\"43\" y=\"-207.3\" font-family=\"Times,serif\" font-size=\"14.00\">data 0.9000</text>\n<polyline fill=\"none\" stroke=\"black\" points=\"0,-199.5 86,-199.5 \"/>\n<text text-anchor=\"middle\" x=\"43\" y=\"-184.3\" font-family=\"Times,serif\" font-size=\"14.00\">grad &#45;0.0120</text>\n</g>\n<!-- 132255807493008&#45;&gt;132255807490752* -->\n<g id=\"edge6\" class=\"edge\">\n<title>132255807493008&#45;&gt;132255807490752*</title>\n<path fill=\"none\" stroke=\"black\" d=\"M86,-211C94.48,-211 103.34,-211 111.61,-211\"/>\n<polygon fill=\"black\" stroke=\"black\" points=\"111.7,-214.5 121.7,-211 111.7,-207.5 111.7,-214.5\"/>\n</g>\n</g>\n</svg>\n",
            "text/plain": [
              "<graphviz.graphs.Digraph at 0x7849346cfd00>"
            ]
          },
          "metadata": {},
          "execution_count": 97
        }
      ]
    },
    {
      "cell_type": "code",
      "source": [
        "x1 = Value(-2.0, label = 'x1')\n",
        "x2 = Value(0.9, label = 'x2')\n",
        "\n",
        "w1 = Value(3.0, label = 'w1')\n",
        "w2 = Value(-1.0, label = 'w2')\n",
        "\n",
        "b = Value(-5.0, label = 'b')\n",
        "print(b.data)\n",
        "\n",
        "x1w1 = x1 * w1; x1w1.label = 'x1w1'\n",
        "x2w2 = x2 * w2; x2w2.label = 'x2w2'\n",
        "\n",
        "# x1w1x2w2m = x1w1 - x2w2; x1w1x2w2.label = 'x1w1 - x2w2m'\n",
        "x1w1x2w2 = x1w1 + x2w2; x1w1x2w2.label = 'x1w1 + x2w2'\n",
        "\n",
        "n = x1w1x2w2 - b; n.label = 'n'\n",
        "o = n.tanh(); o.label = 'Output'\n",
        "o.backward()\n",
        "draw_dot(o)\n"
      ],
      "metadata": {
        "colab": {
          "base_uri": "https://localhost:8080/",
          "height": 495
        },
        "id": "9YeQExfT6Hbj",
        "outputId": "4351ce3d-d98c-4d1a-dee7-6c26e4e448a8"
      },
      "execution_count": null,
      "outputs": [
        {
          "output_type": "stream",
          "name": "stdout",
          "text": [
            "-5.0\n"
          ]
        },
        {
          "output_type": "execute_result",
          "data": {
            "image/svg+xml": "<?xml version=\"1.0\" encoding=\"UTF-8\" standalone=\"no\"?>\n<!DOCTYPE svg PUBLIC \"-//W3C//DTD SVG 1.1//EN\"\n \"http://www.w3.org/Graphics/SVG/1.1/DTD/svg11.dtd\">\n<!-- Generated by graphviz version 2.43.0 (0)\n -->\n<!-- Title: %3 Pages: 1 -->\n<svg width=\"945pt\" height=\"342pt\"\n viewBox=\"0.00 0.00 945.00 342.00\" xmlns=\"http://www.w3.org/2000/svg\" xmlns:xlink=\"http://www.w3.org/1999/xlink\">\n<g id=\"graph0\" class=\"graph\" transform=\"scale(1 1) rotate(0) translate(4 338)\">\n<title>%3</title>\n<polygon fill=\"white\" stroke=\"transparent\" points=\"-4,4 -4,-338 941,-338 941,4 -4,4\"/>\n<!-- 132255807500304 -->\n<g id=\"node1\" class=\"node\">\n<title>132255807500304</title>\n<polygon fill=\"none\" stroke=\"black\" points=\"423,-132.5 423,-201.5 515,-201.5 515,-132.5 423,-132.5\"/>\n<text text-anchor=\"middle\" x=\"469\" y=\"-186.3\" font-family=\"Times,serif\" font-size=\"14.00\">x1w1 + x2w2</text>\n<polyline fill=\"none\" stroke=\"black\" points=\"423,-178.5 515,-178.5 \"/>\n<text text-anchor=\"middle\" x=\"469\" y=\"-163.3\" font-family=\"Times,serif\" font-size=\"14.00\">data &#45;6.9000</text>\n<polyline fill=\"none\" stroke=\"black\" points=\"423,-155.5 515,-155.5 \"/>\n<text text-anchor=\"middle\" x=\"469\" y=\"-140.3\" font-family=\"Times,serif\" font-size=\"14.00\">grad 0.0856</text>\n</g>\n<!-- 132255807500784&#45; -->\n<g id=\"node15\" class=\"node\">\n<title>132255807500784&#45;</title>\n<ellipse fill=\"none\" stroke=\"black\" cx=\"578\" cy=\"-211\" rx=\"27\" ry=\"18\"/>\n<text text-anchor=\"middle\" x=\"578\" y=\"-207.3\" font-family=\"Times,serif\" font-size=\"14.00\">&#45;</text>\n</g>\n<!-- 132255807500304&#45;&gt;132255807500784&#45; -->\n<g id=\"edge13\" class=\"edge\">\n<title>132255807500304&#45;&gt;132255807500784&#45;</title>\n<path fill=\"none\" stroke=\"black\" d=\"M515.07,-185.53C525.24,-189.72 535.83,-194.07 545.32,-197.97\"/>\n<polygon fill=\"black\" stroke=\"black\" points=\"544.16,-201.28 554.74,-201.85 546.82,-194.81 544.16,-201.28\"/>\n</g>\n<!-- 132255807500304+ -->\n<g id=\"node2\" class=\"node\">\n<title>132255807500304+</title>\n<ellipse fill=\"none\" stroke=\"black\" cx=\"360\" cy=\"-167\" rx=\"27\" ry=\"18\"/>\n<text text-anchor=\"middle\" x=\"360\" y=\"-163.3\" font-family=\"Times,serif\" font-size=\"14.00\">+</text>\n</g>\n<!-- 132255807500304+&#45;&gt;132255807500304 -->\n<g id=\"edge1\" class=\"edge\">\n<title>132255807500304+&#45;&gt;132255807500304</title>\n<path fill=\"none\" stroke=\"black\" d=\"M387.18,-167C395,-167 403.88,-167 412.83,-167\"/>\n<polygon fill=\"black\" stroke=\"black\" points=\"412.91,-170.5 422.91,-167 412.91,-163.5 412.91,-170.5\"/>\n</g>\n<!-- 132255806815776 -->\n<g id=\"node3\" class=\"node\">\n<title>132255806815776</title>\n<polygon fill=\"none\" stroke=\"black\" points=\"212,-176.5 212,-245.5 297,-245.5 297,-176.5 212,-176.5\"/>\n<text text-anchor=\"middle\" x=\"254.5\" y=\"-230.3\" font-family=\"Times,serif\" font-size=\"14.00\">x1w1</text>\n<polyline fill=\"none\" stroke=\"black\" points=\"212,-222.5 297,-222.5 \"/>\n<text text-anchor=\"middle\" x=\"254.5\" y=\"-207.3\" font-family=\"Times,serif\" font-size=\"14.00\">data &#45;6.0000</text>\n<polyline fill=\"none\" stroke=\"black\" points=\"212,-199.5 297,-199.5 \"/>\n<text text-anchor=\"middle\" x=\"254.5\" y=\"-184.3\" font-family=\"Times,serif\" font-size=\"14.00\">grad 0.0856</text>\n</g>\n<!-- 132255806815776&#45;&gt;132255807500304+ -->\n<g id=\"edge7\" class=\"edge\">\n<title>132255806815776&#45;&gt;132255807500304+</title>\n<path fill=\"none\" stroke=\"black\" d=\"M297,-193.36C307.21,-189.02 317.97,-184.44 327.61,-180.34\"/>\n<polygon fill=\"black\" stroke=\"black\" points=\"328.98,-183.56 336.81,-176.43 326.24,-177.12 328.98,-183.56\"/>\n</g>\n<!-- 132255806815776* -->\n<g id=\"node4\" class=\"node\">\n<title>132255806815776*</title>\n<ellipse fill=\"none\" stroke=\"black\" cx=\"149\" cy=\"-211\" rx=\"27\" ry=\"18\"/>\n<text text-anchor=\"middle\" x=\"149\" y=\"-207.3\" font-family=\"Times,serif\" font-size=\"14.00\">*</text>\n</g>\n<!-- 132255806815776*&#45;&gt;132255806815776 -->\n<g id=\"edge2\" class=\"edge\">\n<title>132255806815776*&#45;&gt;132255806815776</title>\n<path fill=\"none\" stroke=\"black\" d=\"M176.12,-211C183.87,-211 192.64,-211 201.42,-211\"/>\n<polygon fill=\"black\" stroke=\"black\" points=\"201.68,-214.5 211.68,-211 201.68,-207.5 201.68,-214.5\"/>\n</g>\n<!-- 132255807497760 -->\n<g id=\"node5\" class=\"node\">\n<title>132255807497760</title>\n<polygon fill=\"none\" stroke=\"black\" points=\"0,-264.5 0,-333.5 86,-333.5 86,-264.5 0,-264.5\"/>\n<text text-anchor=\"middle\" x=\"43\" y=\"-318.3\" font-family=\"Times,serif\" font-size=\"14.00\">w1</text>\n<polyline fill=\"none\" stroke=\"black\" points=\"0,-310.5 86,-310.5 \"/>\n<text text-anchor=\"middle\" x=\"43\" y=\"-295.3\" font-family=\"Times,serif\" font-size=\"14.00\">data 3.0000</text>\n<polyline fill=\"none\" stroke=\"black\" points=\"0,-287.5 86,-287.5 \"/>\n<text text-anchor=\"middle\" x=\"43\" y=\"-272.3\" font-family=\"Times,serif\" font-size=\"14.00\">grad &#45;0.1712</text>\n</g>\n<!-- 132255807497760&#45;&gt;132255806815776* -->\n<g id=\"edge9\" class=\"edge\">\n<title>132255807497760&#45;&gt;132255806815776*</title>\n<path fill=\"none\" stroke=\"black\" d=\"M84.81,-264.47C97.9,-253.39 111.99,-241.47 123.54,-231.7\"/>\n<polygon fill=\"black\" stroke=\"black\" points=\"126.07,-234.14 131.44,-225.01 121.55,-228.8 126.07,-234.14\"/>\n</g>\n<!-- 132255807387680 -->\n<g id=\"node6\" class=\"node\">\n<title>132255807387680</title>\n<polygon fill=\"none\" stroke=\"black\" points=\"212,-88.5 212,-157.5 297,-157.5 297,-88.5 212,-88.5\"/>\n<text text-anchor=\"middle\" x=\"254.5\" y=\"-142.3\" font-family=\"Times,serif\" font-size=\"14.00\">x2w2</text>\n<polyline fill=\"none\" stroke=\"black\" points=\"212,-134.5 297,-134.5 \"/>\n<text text-anchor=\"middle\" x=\"254.5\" y=\"-119.3\" font-family=\"Times,serif\" font-size=\"14.00\">data &#45;0.9000</text>\n<polyline fill=\"none\" stroke=\"black\" points=\"212,-111.5 297,-111.5 \"/>\n<text text-anchor=\"middle\" x=\"254.5\" y=\"-96.3\" font-family=\"Times,serif\" font-size=\"14.00\">grad 0.0856</text>\n</g>\n<!-- 132255807387680&#45;&gt;132255807500304+ -->\n<g id=\"edge6\" class=\"edge\">\n<title>132255807387680&#45;&gt;132255807500304+</title>\n<path fill=\"none\" stroke=\"black\" d=\"M297,-140.64C307.21,-144.98 317.97,-149.56 327.61,-153.66\"/>\n<polygon fill=\"black\" stroke=\"black\" points=\"326.24,-156.88 336.81,-157.57 328.98,-150.44 326.24,-156.88\"/>\n</g>\n<!-- 132255807387680* -->\n<g id=\"node7\" class=\"node\">\n<title>132255807387680*</title>\n<ellipse fill=\"none\" stroke=\"black\" cx=\"149\" cy=\"-123\" rx=\"27\" ry=\"18\"/>\n<text text-anchor=\"middle\" x=\"149\" y=\"-119.3\" font-family=\"Times,serif\" font-size=\"14.00\">*</text>\n</g>\n<!-- 132255807387680*&#45;&gt;132255807387680 -->\n<g id=\"edge3\" class=\"edge\">\n<title>132255807387680*&#45;&gt;132255807387680</title>\n<path fill=\"none\" stroke=\"black\" d=\"M176.12,-123C183.87,-123 192.64,-123 201.42,-123\"/>\n<polygon fill=\"black\" stroke=\"black\" points=\"201.68,-126.5 211.68,-123 201.68,-119.5 201.68,-126.5\"/>\n</g>\n<!-- 132255807493248 -->\n<g id=\"node8\" class=\"node\">\n<title>132255807493248</title>\n<polygon fill=\"none\" stroke=\"black\" points=\"0,-88.5 0,-157.5 86,-157.5 86,-88.5 0,-88.5\"/>\n<text text-anchor=\"middle\" x=\"43\" y=\"-142.3\" font-family=\"Times,serif\" font-size=\"14.00\">x2</text>\n<polyline fill=\"none\" stroke=\"black\" points=\"0,-134.5 86,-134.5 \"/>\n<text text-anchor=\"middle\" x=\"43\" y=\"-119.3\" font-family=\"Times,serif\" font-size=\"14.00\">data 0.9000</text>\n<polyline fill=\"none\" stroke=\"black\" points=\"0,-111.5 86,-111.5 \"/>\n<text text-anchor=\"middle\" x=\"43\" y=\"-96.3\" font-family=\"Times,serif\" font-size=\"14.00\">grad &#45;0.0856</text>\n</g>\n<!-- 132255807493248&#45;&gt;132255807387680* -->\n<g id=\"edge11\" class=\"edge\">\n<title>132255807493248&#45;&gt;132255807387680*</title>\n<path fill=\"none\" stroke=\"black\" d=\"M86,-123C94.48,-123 103.34,-123 111.61,-123\"/>\n<polygon fill=\"black\" stroke=\"black\" points=\"111.7,-126.5 121.7,-123 111.7,-119.5 111.7,-126.5\"/>\n</g>\n<!-- 132255807495840 -->\n<g id=\"node9\" class=\"node\">\n<title>132255807495840</title>\n<polygon fill=\"none\" stroke=\"black\" points=\"852,-176.5 852,-245.5 937,-245.5 937,-176.5 852,-176.5\"/>\n<text text-anchor=\"middle\" x=\"894.5\" y=\"-230.3\" font-family=\"Times,serif\" font-size=\"14.00\">Output</text>\n<polyline fill=\"none\" stroke=\"black\" points=\"852,-222.5 937,-222.5 \"/>\n<text text-anchor=\"middle\" x=\"894.5\" y=\"-207.3\" font-family=\"Times,serif\" font-size=\"14.00\">data &#45;0.9562</text>\n<polyline fill=\"none\" stroke=\"black\" points=\"852,-199.5 937,-199.5 \"/>\n<text text-anchor=\"middle\" x=\"894.5\" y=\"-184.3\" font-family=\"Times,serif\" font-size=\"14.00\">grad 1.0000</text>\n</g>\n<!-- 132255807495840tanh -->\n<g id=\"node10\" class=\"node\">\n<title>132255807495840tanh</title>\n<ellipse fill=\"none\" stroke=\"black\" cx=\"789\" cy=\"-211\" rx=\"27\" ry=\"18\"/>\n<text text-anchor=\"middle\" x=\"789\" y=\"-207.3\" font-family=\"Times,serif\" font-size=\"14.00\">tanh</text>\n</g>\n<!-- 132255807495840tanh&#45;&gt;132255807495840 -->\n<g id=\"edge4\" class=\"edge\">\n<title>132255807495840tanh&#45;&gt;132255807495840</title>\n<path fill=\"none\" stroke=\"black\" d=\"M816.12,-211C823.87,-211 832.64,-211 841.42,-211\"/>\n<polygon fill=\"black\" stroke=\"black\" points=\"841.68,-214.5 851.68,-211 841.68,-207.5 841.68,-214.5\"/>\n</g>\n<!-- 132255807502320 -->\n<g id=\"node11\" class=\"node\">\n<title>132255807502320</title>\n<polygon fill=\"none\" stroke=\"black\" points=\"426,-220.5 426,-289.5 512,-289.5 512,-220.5 426,-220.5\"/>\n<text text-anchor=\"middle\" x=\"469\" y=\"-274.3\" font-family=\"Times,serif\" font-size=\"14.00\">b</text>\n<polyline fill=\"none\" stroke=\"black\" points=\"426,-266.5 512,-266.5 \"/>\n<text text-anchor=\"middle\" x=\"469\" y=\"-251.3\" font-family=\"Times,serif\" font-size=\"14.00\">data &#45;5.0000</text>\n<polyline fill=\"none\" stroke=\"black\" points=\"426,-243.5 512,-243.5 \"/>\n<text text-anchor=\"middle\" x=\"469\" y=\"-228.3\" font-family=\"Times,serif\" font-size=\"14.00\">grad &#45;0.0856</text>\n</g>\n<!-- 132255807502320&#45;&gt;132255807500784&#45; -->\n<g id=\"edge10\" class=\"edge\">\n<title>132255807502320&#45;&gt;132255807500784&#45;</title>\n<path fill=\"none\" stroke=\"black\" d=\"M512.29,-237.61C523.27,-233.1 534.91,-228.31 545.24,-224.06\"/>\n<polygon fill=\"black\" stroke=\"black\" points=\"546.77,-227.22 554.68,-220.18 544.1,-220.74 546.77,-227.22\"/>\n</g>\n<!-- 132255807489936 -->\n<g id=\"node12\" class=\"node\">\n<title>132255807489936</title>\n<polygon fill=\"none\" stroke=\"black\" points=\"0.5,-0.5 0.5,-69.5 85.5,-69.5 85.5,-0.5 0.5,-0.5\"/>\n<text text-anchor=\"middle\" x=\"43\" y=\"-54.3\" font-family=\"Times,serif\" font-size=\"14.00\">w2</text>\n<polyline fill=\"none\" stroke=\"black\" points=\"0.5,-46.5 85.5,-46.5 \"/>\n<text text-anchor=\"middle\" x=\"43\" y=\"-31.3\" font-family=\"Times,serif\" font-size=\"14.00\">data &#45;1.0000</text>\n<polyline fill=\"none\" stroke=\"black\" points=\"0.5,-23.5 85.5,-23.5 \"/>\n<text text-anchor=\"middle\" x=\"43\" y=\"-8.3\" font-family=\"Times,serif\" font-size=\"14.00\">grad 0.0770</text>\n</g>\n<!-- 132255807489936&#45;&gt;132255807387680* -->\n<g id=\"edge8\" class=\"edge\">\n<title>132255807489936&#45;&gt;132255807387680*</title>\n<path fill=\"none\" stroke=\"black\" d=\"M84.81,-69.53C97.9,-80.61 111.99,-92.53 123.54,-102.3\"/>\n<polygon fill=\"black\" stroke=\"black\" points=\"121.55,-105.2 131.44,-108.99 126.07,-99.86 121.55,-105.2\"/>\n</g>\n<!-- 132255807501264 -->\n<g id=\"node13\" class=\"node\">\n<title>132255807501264</title>\n<polygon fill=\"none\" stroke=\"black\" points=\"0.5,-176.5 0.5,-245.5 85.5,-245.5 85.5,-176.5 0.5,-176.5\"/>\n<text text-anchor=\"middle\" x=\"43\" y=\"-230.3\" font-family=\"Times,serif\" font-size=\"14.00\">x1</text>\n<polyline fill=\"none\" stroke=\"black\" points=\"0.5,-222.5 85.5,-222.5 \"/>\n<text text-anchor=\"middle\" x=\"43\" y=\"-207.3\" font-family=\"Times,serif\" font-size=\"14.00\">data &#45;2.0000</text>\n<polyline fill=\"none\" stroke=\"black\" points=\"0.5,-199.5 85.5,-199.5 \"/>\n<text text-anchor=\"middle\" x=\"43\" y=\"-184.3\" font-family=\"Times,serif\" font-size=\"14.00\">grad 0.2568</text>\n</g>\n<!-- 132255807501264&#45;&gt;132255806815776* -->\n<g id=\"edge14\" class=\"edge\">\n<title>132255807501264&#45;&gt;132255806815776*</title>\n<path fill=\"none\" stroke=\"black\" d=\"M85.7,-211C94.28,-211 103.26,-211 111.63,-211\"/>\n<polygon fill=\"black\" stroke=\"black\" points=\"111.85,-214.5 121.85,-211 111.85,-207.5 111.85,-214.5\"/>\n</g>\n<!-- 132255807500784 -->\n<g id=\"node14\" class=\"node\">\n<title>132255807500784</title>\n<polygon fill=\"none\" stroke=\"black\" points=\"641,-176.5 641,-245.5 726,-245.5 726,-176.5 641,-176.5\"/>\n<text text-anchor=\"middle\" x=\"683.5\" y=\"-230.3\" font-family=\"Times,serif\" font-size=\"14.00\">n</text>\n<polyline fill=\"none\" stroke=\"black\" points=\"641,-222.5 726,-222.5 \"/>\n<text text-anchor=\"middle\" x=\"683.5\" y=\"-207.3\" font-family=\"Times,serif\" font-size=\"14.00\">data &#45;1.9000</text>\n<polyline fill=\"none\" stroke=\"black\" points=\"641,-199.5 726,-199.5 \"/>\n<text text-anchor=\"middle\" x=\"683.5\" y=\"-184.3\" font-family=\"Times,serif\" font-size=\"14.00\">grad 0.0856</text>\n</g>\n<!-- 132255807500784&#45;&gt;132255807495840tanh -->\n<g id=\"edge12\" class=\"edge\">\n<title>132255807500784&#45;&gt;132255807495840tanh</title>\n<path fill=\"none\" stroke=\"black\" d=\"M726,-211C734.54,-211 743.47,-211 751.81,-211\"/>\n<polygon fill=\"black\" stroke=\"black\" points=\"751.97,-214.5 761.97,-211 751.97,-207.5 751.97,-214.5\"/>\n</g>\n<!-- 132255807500784&#45;&#45;&gt;132255807500784 -->\n<g id=\"edge5\" class=\"edge\">\n<title>132255807500784&#45;&#45;&gt;132255807500784</title>\n<path fill=\"none\" stroke=\"black\" d=\"M605.12,-211C612.87,-211 621.64,-211 630.42,-211\"/>\n<polygon fill=\"black\" stroke=\"black\" points=\"630.68,-214.5 640.68,-211 630.68,-207.5 630.68,-214.5\"/>\n</g>\n</g>\n</svg>\n",
            "text/plain": [
              "<graphviz.graphs.Digraph at 0x784934624250>"
            ]
          },
          "metadata": {},
          "execution_count": 98
        }
      ]
    },
    {
      "cell_type": "code",
      "source": [
        "x1 = Value(-2.0, label = 'x1')\n",
        "x2 = Value(0.9, label = 'x2')\n",
        "\n",
        "w1 = Value(3.0, label = 'w1')\n",
        "w2 = Value(-1.0, label = 'w2')\n",
        "\n",
        "b = Value(-5.0, label = 'b')\n",
        "# print(b.data)\n",
        "\n",
        "x1w1 = x1 * w1; x1w1.label = 'x1w1'\n",
        "x2w2 = x2 * w2; x2w2.label = 'x2w2'\n",
        "\n",
        "# x1w1x2w2m = x1w1 - x2w2; x1w1x2w2.label = 'x1w1 - x2w2m'\n",
        "x1w1x2w2 = x1w1 + x2w2; x1w1x2w2.label = 'x1w1 + x2w2'\n",
        "\n",
        "n = x1w1x2w2 + b; n.label = 'n'\n",
        "\n",
        "#-------------\n",
        "e = (2 * n).exp()\n",
        "o = (e -1 )/(e + 1); o.label = 'Output'\n",
        "# o = n.tanh(); o.label = 'Output'\n",
        "#--------\n",
        "\n",
        "o.backward()\n",
        "draw_dot(o)\n"
      ],
      "metadata": {
        "colab": {
          "base_uri": "https://localhost:8080/",
          "height": 556
        },
        "id": "Ln2gm9Ny7JRh",
        "outputId": "3eebed24-d78d-4d36-810e-c5a1e42a51d4"
      },
      "execution_count": null,
      "outputs": [
        {
          "output_type": "execute_result",
          "data": {
            "image/svg+xml": "<?xml version=\"1.0\" encoding=\"UTF-8\" standalone=\"no\"?>\n<!DOCTYPE svg PUBLIC \"-//W3C//DTD SVG 1.1//EN\"\n \"http://www.w3.org/Graphics/SVG/1.1/DTD/svg11.dtd\">\n<!-- Generated by graphviz version 2.43.0 (0)\n -->\n<!-- Title: %3 Pages: 1 -->\n<svg width=\"1833pt\" height=\"386pt\"\n viewBox=\"0.00 0.00 1833.00 386.00\" xmlns=\"http://www.w3.org/2000/svg\" xmlns:xlink=\"http://www.w3.org/1999/xlink\">\n<g id=\"graph0\" class=\"graph\" transform=\"scale(1 1) rotate(0) translate(4 382)\">\n<title>%3</title>\n<polygon fill=\"white\" stroke=\"transparent\" points=\"-4,4 -4,-382 1829,-382 1829,4 -4,4\"/>\n<!-- 132255807496128 -->\n<g id=\"node1\" class=\"node\">\n<title>132255807496128</title>\n<polygon fill=\"none\" stroke=\"black\" points=\"0.5,-308.5 0.5,-377.5 85.5,-377.5 85.5,-308.5 0.5,-308.5\"/>\n<text text-anchor=\"middle\" x=\"43\" y=\"-362.3\" font-family=\"Times,serif\" font-size=\"14.00\">w2</text>\n<polyline fill=\"none\" stroke=\"black\" points=\"0.5,-354.5 85.5,-354.5 \"/>\n<text text-anchor=\"middle\" x=\"43\" y=\"-339.3\" font-family=\"Times,serif\" font-size=\"14.00\">data &#45;1.0000</text>\n<polyline fill=\"none\" stroke=\"black\" points=\"0.5,-331.5 85.5,-331.5 \"/>\n<text text-anchor=\"middle\" x=\"43\" y=\"-316.3\" font-family=\"Times,serif\" font-size=\"14.00\">grad 0.0000</text>\n</g>\n<!-- 132255807488784* -->\n<g id=\"node12\" class=\"node\">\n<title>132255807488784*</title>\n<ellipse fill=\"none\" stroke=\"black\" cx=\"149\" cy=\"-255\" rx=\"27\" ry=\"18\"/>\n<text text-anchor=\"middle\" x=\"149\" y=\"-251.3\" font-family=\"Times,serif\" font-size=\"14.00\">*</text>\n</g>\n<!-- 132255807496128&#45;&gt;132255807488784* -->\n<g id=\"edge13\" class=\"edge\">\n<title>132255807496128&#45;&gt;132255807488784*</title>\n<path fill=\"none\" stroke=\"black\" d=\"M84.81,-308.47C97.9,-297.39 111.99,-285.47 123.54,-275.7\"/>\n<polygon fill=\"black\" stroke=\"black\" points=\"126.07,-278.14 131.44,-269.01 121.55,-272.8 126.07,-278.14\"/>\n</g>\n<!-- 132255807498768 -->\n<g id=\"node2\" class=\"node\">\n<title>132255807498768</title>\n<polygon fill=\"none\" stroke=\"black\" points=\"1079,-0.5 1079,-69.5 1161,-69.5 1161,-0.5 1079,-0.5\"/>\n<text text-anchor=\"middle\" x=\"1120\" y=\"-54.3\" font-family=\"Times,serif\" font-size=\"14.00\"> </text>\n<polyline fill=\"none\" stroke=\"black\" points=\"1079,-46.5 1161,-46.5 \"/>\n<text text-anchor=\"middle\" x=\"1120\" y=\"-31.3\" font-family=\"Times,serif\" font-size=\"14.00\">data 1.0000</text>\n<polyline fill=\"none\" stroke=\"black\" points=\"1079,-23.5 1161,-23.5 \"/>\n<text text-anchor=\"middle\" x=\"1120\" y=\"-8.3\" font-family=\"Times,serif\" font-size=\"14.00\">grad 1.0000</text>\n</g>\n<!-- 132255807493968+ -->\n<g id=\"node22\" class=\"node\">\n<title>132255807493968+</title>\n<ellipse fill=\"none\" stroke=\"black\" cx=\"1226\" cy=\"-87\" rx=\"27\" ry=\"18\"/>\n<text text-anchor=\"middle\" x=\"1226\" y=\"-83.3\" font-family=\"Times,serif\" font-size=\"14.00\">+</text>\n</g>\n<!-- 132255807498768&#45;&gt;132255807493968+ -->\n<g id=\"edge23\" class=\"edge\">\n<title>132255807498768&#45;&gt;132255807493968+</title>\n<path fill=\"none\" stroke=\"black\" d=\"M1161.21,-55.1C1172.32,-60.66 1184.2,-66.6 1194.65,-71.83\"/>\n<polygon fill=\"black\" stroke=\"black\" points=\"1193.28,-75.05 1203.79,-76.4 1196.41,-68.79 1193.28,-75.05\"/>\n</g>\n<!-- 132255807492672 -->\n<g id=\"node3\" class=\"node\">\n<title>132255807492672</title>\n<polygon fill=\"none\" stroke=\"black\" points=\"212,-132.5 212,-201.5 297,-201.5 297,-132.5 212,-132.5\"/>\n<text text-anchor=\"middle\" x=\"254.5\" y=\"-186.3\" font-family=\"Times,serif\" font-size=\"14.00\">x1w1</text>\n<polyline fill=\"none\" stroke=\"black\" points=\"212,-178.5 297,-178.5 \"/>\n<text text-anchor=\"middle\" x=\"254.5\" y=\"-163.3\" font-family=\"Times,serif\" font-size=\"14.00\">data &#45;6.0000</text>\n<polyline fill=\"none\" stroke=\"black\" points=\"212,-155.5 297,-155.5 \"/>\n<text text-anchor=\"middle\" x=\"254.5\" y=\"-140.3\" font-family=\"Times,serif\" font-size=\"14.00\">grad 0.0000</text>\n</g>\n<!-- 132255807497520+ -->\n<g id=\"node19\" class=\"node\">\n<title>132255807497520+</title>\n<ellipse fill=\"none\" stroke=\"black\" cx=\"360\" cy=\"-211\" rx=\"27\" ry=\"18\"/>\n<text text-anchor=\"middle\" x=\"360\" y=\"-207.3\" font-family=\"Times,serif\" font-size=\"14.00\">+</text>\n</g>\n<!-- 132255807492672&#45;&gt;132255807497520+ -->\n<g id=\"edge15\" class=\"edge\">\n<title>132255807492672&#45;&gt;132255807497520+</title>\n<path fill=\"none\" stroke=\"black\" d=\"M297,-184.64C307.21,-188.98 317.97,-193.56 327.61,-197.66\"/>\n<polygon fill=\"black\" stroke=\"black\" points=\"326.24,-200.88 336.81,-201.57 328.98,-194.44 326.24,-200.88\"/>\n</g>\n<!-- 132255807492672* -->\n<g id=\"node4\" class=\"node\">\n<title>132255807492672*</title>\n<ellipse fill=\"none\" stroke=\"black\" cx=\"149\" cy=\"-167\" rx=\"27\" ry=\"18\"/>\n<text text-anchor=\"middle\" x=\"149\" y=\"-163.3\" font-family=\"Times,serif\" font-size=\"14.00\">*</text>\n</g>\n<!-- 132255807492672*&#45;&gt;132255807492672 -->\n<g id=\"edge1\" class=\"edge\">\n<title>132255807492672*&#45;&gt;132255807492672</title>\n<path fill=\"none\" stroke=\"black\" d=\"M176.12,-167C183.87,-167 192.64,-167 201.42,-167\"/>\n<polygon fill=\"black\" stroke=\"black\" points=\"201.68,-170.5 211.68,-167 201.68,-163.5 201.68,-170.5\"/>\n</g>\n<!-- 132255807493200 -->\n<g id=\"node5\" class=\"node\">\n<title>132255807493200</title>\n<polygon fill=\"none\" stroke=\"black\" points=\"0.5,-132.5 0.5,-201.5 85.5,-201.5 85.5,-132.5 0.5,-132.5\"/>\n<text text-anchor=\"middle\" x=\"43\" y=\"-186.3\" font-family=\"Times,serif\" font-size=\"14.00\">x1</text>\n<polyline fill=\"none\" stroke=\"black\" points=\"0.5,-178.5 85.5,-178.5 \"/>\n<text text-anchor=\"middle\" x=\"43\" y=\"-163.3\" font-family=\"Times,serif\" font-size=\"14.00\">data &#45;2.0000</text>\n<polyline fill=\"none\" stroke=\"black\" points=\"0.5,-155.5 85.5,-155.5 \"/>\n<text text-anchor=\"middle\" x=\"43\" y=\"-140.3\" font-family=\"Times,serif\" font-size=\"14.00\">grad 0.0000</text>\n</g>\n<!-- 132255807493200&#45;&gt;132255807492672* -->\n<g id=\"edge24\" class=\"edge\">\n<title>132255807493200&#45;&gt;132255807492672*</title>\n<path fill=\"none\" stroke=\"black\" d=\"M85.7,-167C94.28,-167 103.26,-167 111.63,-167\"/>\n<polygon fill=\"black\" stroke=\"black\" points=\"111.85,-170.5 121.85,-167 111.85,-163.5 111.85,-170.5\"/>\n</g>\n<!-- 132255807503424 -->\n<g id=\"node6\" class=\"node\">\n<title>132255807503424</title>\n<polygon fill=\"none\" stroke=\"black\" points=\"1528,-56.5 1528,-125.5 1614,-125.5 1614,-56.5 1528,-56.5\"/>\n<text text-anchor=\"middle\" x=\"1571\" y=\"-110.3\" font-family=\"Times,serif\" font-size=\"14.00\"> </text>\n<polyline fill=\"none\" stroke=\"black\" points=\"1528,-102.5 1614,-102.5 \"/>\n<text text-anchor=\"middle\" x=\"1571\" y=\"-87.3\" font-family=\"Times,serif\" font-size=\"14.00\">data 1.0000</text>\n<polyline fill=\"none\" stroke=\"black\" points=\"1528,-79.5 1614,-79.5 \"/>\n<text text-anchor=\"middle\" x=\"1571\" y=\"-64.3\" font-family=\"Times,serif\" font-size=\"14.00\">grad &#45;1.0000</text>\n</g>\n<!-- 132255807503664* -->\n<g id=\"node17\" class=\"node\">\n<title>132255807503664*</title>\n<ellipse fill=\"none\" stroke=\"black\" cx=\"1677\" cy=\"-122\" rx=\"27\" ry=\"18\"/>\n<text text-anchor=\"middle\" x=\"1677\" y=\"-118.3\" font-family=\"Times,serif\" font-size=\"14.00\">*</text>\n</g>\n<!-- 132255807503424&#45;&gt;132255807503664* -->\n<g id=\"edge28\" class=\"edge\">\n<title>132255807503424&#45;&gt;132255807503664*</title>\n<path fill=\"none\" stroke=\"black\" d=\"M1614,-103.52C1623.42,-106.33 1633.3,-109.27 1642.33,-111.96\"/>\n<polygon fill=\"black\" stroke=\"black\" points=\"1641.51,-115.37 1652.09,-114.87 1643.51,-108.66 1641.51,-115.37\"/>\n</g>\n<!-- 132255807503424** &#45;1 -->\n<g id=\"node7\" class=\"node\">\n<title>132255807503424** &#45;1</title>\n<ellipse fill=\"none\" stroke=\"black\" cx=\"1449.5\" cy=\"-87\" rx=\"29.5\" ry=\"18\"/>\n<text text-anchor=\"middle\" x=\"1449.5\" y=\"-83.3\" font-family=\"Times,serif\" font-size=\"14.00\">** &#45;1</text>\n</g>\n<!-- 132255807503424** &#45;1&#45;&gt;132255807503424 -->\n<g id=\"edge2\" class=\"edge\">\n<title>132255807503424** &#45;1&#45;&gt;132255807503424</title>\n<path fill=\"none\" stroke=\"black\" d=\"M1478.82,-87.95C1490.48,-88.34 1504.37,-88.8 1517.75,-89.25\"/>\n<polygon fill=\"black\" stroke=\"black\" points=\"1517.73,-92.75 1527.84,-89.59 1517.97,-85.76 1517.73,-92.75\"/>\n</g>\n<!-- 132255807503808 -->\n<g id=\"node8\" class=\"node\">\n<title>132255807503808</title>\n<polygon fill=\"none\" stroke=\"black\" points=\"1407,-123.5 1407,-192.5 1492,-192.5 1492,-123.5 1407,-123.5\"/>\n<text text-anchor=\"middle\" x=\"1449.5\" y=\"-177.3\" font-family=\"Times,serif\" font-size=\"14.00\"> </text>\n<polyline fill=\"none\" stroke=\"black\" points=\"1407,-169.5 1492,-169.5 \"/>\n<text text-anchor=\"middle\" x=\"1449.5\" y=\"-154.3\" font-family=\"Times,serif\" font-size=\"14.00\">data &#45;1.0000</text>\n<polyline fill=\"none\" stroke=\"black\" points=\"1407,-146.5 1492,-146.5 \"/>\n<text text-anchor=\"middle\" x=\"1449.5\" y=\"-131.3\" font-family=\"Times,serif\" font-size=\"14.00\">grad 1.0000</text>\n</g>\n<!-- 132255807503808&#45;&gt;132255807503664* -->\n<g id=\"edge21\" class=\"edge\">\n<title>132255807503808&#45;&gt;132255807503664*</title>\n<path fill=\"none\" stroke=\"black\" d=\"M1492.29,-152.91C1525.39,-148.68 1572.78,-142.21 1614,-135 1622.8,-133.46 1632.26,-131.59 1641.07,-129.75\"/>\n<polygon fill=\"black\" stroke=\"black\" points=\"1641.98,-133.14 1651.03,-127.63 1640.53,-126.29 1641.98,-133.14\"/>\n</g>\n<!-- 132255807503808&#45; -->\n<g id=\"node9\" class=\"node\">\n<title>132255807503808&#45;</title>\n<ellipse fill=\"none\" stroke=\"black\" cx=\"1226\" cy=\"-158\" rx=\"27\" ry=\"18\"/>\n<text text-anchor=\"middle\" x=\"1226\" y=\"-154.3\" font-family=\"Times,serif\" font-size=\"14.00\">&#45;</text>\n</g>\n<!-- 132255807503808&#45;&#45;&gt;132255807503808 -->\n<g id=\"edge3\" class=\"edge\">\n<title>132255807503808&#45;&#45;&gt;132255807503808</title>\n<path fill=\"none\" stroke=\"black\" d=\"M1253.28,-158C1288.47,-158 1351.67,-158 1396.63,-158\"/>\n<polygon fill=\"black\" stroke=\"black\" points=\"1396.78,-161.5 1406.78,-158 1396.78,-154.5 1396.78,-161.5\"/>\n</g>\n<!-- 132255807490800 -->\n<g id=\"node10\" class=\"node\">\n<title>132255807490800</title>\n<polygon fill=\"none\" stroke=\"black\" points=\"644,-44.5 644,-113.5 730,-113.5 730,-44.5 644,-44.5\"/>\n<text text-anchor=\"middle\" x=\"687\" y=\"-98.3\" font-family=\"Times,serif\" font-size=\"14.00\"> </text>\n<polyline fill=\"none\" stroke=\"black\" points=\"644,-90.5 730,-90.5 \"/>\n<text text-anchor=\"middle\" x=\"687\" y=\"-75.3\" font-family=\"Times,serif\" font-size=\"14.00\">data 2.0000</text>\n<polyline fill=\"none\" stroke=\"black\" points=\"644,-67.5 730,-67.5 \"/>\n<text text-anchor=\"middle\" x=\"687\" y=\"-52.3\" font-family=\"Times,serif\" font-size=\"14.00\">grad &#45;0.0000</text>\n</g>\n<!-- 132255807488976* -->\n<g id=\"node28\" class=\"node\">\n<title>132255807488976*</title>\n<ellipse fill=\"none\" stroke=\"black\" cx=\"796\" cy=\"-123\" rx=\"27\" ry=\"18\"/>\n<text text-anchor=\"middle\" x=\"796\" y=\"-119.3\" font-family=\"Times,serif\" font-size=\"14.00\">*</text>\n</g>\n<!-- 132255807490800&#45;&gt;132255807488976* -->\n<g id=\"edge17\" class=\"edge\">\n<title>132255807490800&#45;&gt;132255807488976*</title>\n<path fill=\"none\" stroke=\"black\" d=\"M730.29,-96.39C741.27,-100.9 752.91,-105.69 763.24,-109.94\"/>\n<polygon fill=\"black\" stroke=\"black\" points=\"762.1,-113.26 772.68,-113.82 764.77,-106.78 762.1,-113.26\"/>\n</g>\n<!-- 132255807488784 -->\n<g id=\"node11\" class=\"node\">\n<title>132255807488784</title>\n<polygon fill=\"none\" stroke=\"black\" points=\"212,-220.5 212,-289.5 297,-289.5 297,-220.5 212,-220.5\"/>\n<text text-anchor=\"middle\" x=\"254.5\" y=\"-274.3\" font-family=\"Times,serif\" font-size=\"14.00\">x2w2</text>\n<polyline fill=\"none\" stroke=\"black\" points=\"212,-266.5 297,-266.5 \"/>\n<text text-anchor=\"middle\" x=\"254.5\" y=\"-251.3\" font-family=\"Times,serif\" font-size=\"14.00\">data &#45;0.9000</text>\n<polyline fill=\"none\" stroke=\"black\" points=\"212,-243.5 297,-243.5 \"/>\n<text text-anchor=\"middle\" x=\"254.5\" y=\"-228.3\" font-family=\"Times,serif\" font-size=\"14.00\">grad 0.0000</text>\n</g>\n<!-- 132255807488784&#45;&gt;132255807497520+ -->\n<g id=\"edge25\" class=\"edge\">\n<title>132255807488784&#45;&gt;132255807497520+</title>\n<path fill=\"none\" stroke=\"black\" d=\"M297,-237.36C307.21,-233.02 317.97,-228.44 327.61,-224.34\"/>\n<polygon fill=\"black\" stroke=\"black\" points=\"328.98,-227.56 336.81,-220.43 326.24,-221.12 328.98,-227.56\"/>\n</g>\n<!-- 132255807488784*&#45;&gt;132255807488784 -->\n<g id=\"edge4\" class=\"edge\">\n<title>132255807488784*&#45;&gt;132255807488784</title>\n<path fill=\"none\" stroke=\"black\" d=\"M176.12,-255C183.87,-255 192.64,-255 201.42,-255\"/>\n<polygon fill=\"black\" stroke=\"black\" points=\"201.68,-258.5 211.68,-255 201.68,-251.5 201.68,-258.5\"/>\n</g>\n<!-- 132255807504144 -->\n<g id=\"node13\" class=\"node\">\n<title>132255807504144</title>\n<polygon fill=\"none\" stroke=\"black\" points=\"0,-220.5 0,-289.5 86,-289.5 86,-220.5 0,-220.5\"/>\n<text text-anchor=\"middle\" x=\"43\" y=\"-274.3\" font-family=\"Times,serif\" font-size=\"14.00\">x2</text>\n<polyline fill=\"none\" stroke=\"black\" points=\"0,-266.5 86,-266.5 \"/>\n<text text-anchor=\"middle\" x=\"43\" y=\"-251.3\" font-family=\"Times,serif\" font-size=\"14.00\">data 0.9000</text>\n<polyline fill=\"none\" stroke=\"black\" points=\"0,-243.5 86,-243.5 \"/>\n<text text-anchor=\"middle\" x=\"43\" y=\"-228.3\" font-family=\"Times,serif\" font-size=\"14.00\">grad &#45;0.0000</text>\n</g>\n<!-- 132255807504144&#45;&gt;132255807488784* -->\n<g id=\"edge12\" class=\"edge\">\n<title>132255807504144&#45;&gt;132255807488784*</title>\n<path fill=\"none\" stroke=\"black\" d=\"M86,-255C94.48,-255 103.34,-255 111.61,-255\"/>\n<polygon fill=\"black\" stroke=\"black\" points=\"111.7,-258.5 121.7,-255 111.7,-251.5 111.7,-258.5\"/>\n</g>\n<!-- 132255807492912 -->\n<g id=\"node14\" class=\"node\">\n<title>132255807492912</title>\n<polygon fill=\"none\" stroke=\"black\" points=\"641,-132.5 641,-201.5 733,-201.5 733,-132.5 641,-132.5\"/>\n<text text-anchor=\"middle\" x=\"687\" y=\"-186.3\" font-family=\"Times,serif\" font-size=\"14.00\">n</text>\n<polyline fill=\"none\" stroke=\"black\" points=\"641,-178.5 733,-178.5 \"/>\n<text text-anchor=\"middle\" x=\"687\" y=\"-163.3\" font-family=\"Times,serif\" font-size=\"14.00\">data &#45;11.9000</text>\n<polyline fill=\"none\" stroke=\"black\" points=\"641,-155.5 733,-155.5 \"/>\n<text text-anchor=\"middle\" x=\"687\" y=\"-140.3\" font-family=\"Times,serif\" font-size=\"14.00\">grad 0.0000</text>\n</g>\n<!-- 132255807492912&#45;&gt;132255807488976* -->\n<g id=\"edge20\" class=\"edge\">\n<title>132255807492912&#45;&gt;132255807488976*</title>\n<path fill=\"none\" stroke=\"black\" d=\"M733.07,-148.47C743.24,-144.28 753.83,-139.93 763.32,-136.03\"/>\n<polygon fill=\"black\" stroke=\"black\" points=\"764.82,-139.19 772.74,-132.15 762.16,-132.72 764.82,-139.19\"/>\n</g>\n<!-- 132255807492912+ -->\n<g id=\"node15\" class=\"node\">\n<title>132255807492912+</title>\n<ellipse fill=\"none\" stroke=\"black\" cx=\"578\" cy=\"-167\" rx=\"27\" ry=\"18\"/>\n<text text-anchor=\"middle\" x=\"578\" y=\"-163.3\" font-family=\"Times,serif\" font-size=\"14.00\">+</text>\n</g>\n<!-- 132255807492912+&#45;&gt;132255807492912 -->\n<g id=\"edge5\" class=\"edge\">\n<title>132255807492912+&#45;&gt;132255807492912</title>\n<path fill=\"none\" stroke=\"black\" d=\"M605.18,-167C613,-167 621.88,-167 630.83,-167\"/>\n<polygon fill=\"black\" stroke=\"black\" points=\"630.91,-170.5 640.91,-167 630.91,-163.5 630.91,-170.5\"/>\n</g>\n<!-- 132255807503664 -->\n<g id=\"node16\" class=\"node\">\n<title>132255807503664</title>\n<polygon fill=\"none\" stroke=\"black\" points=\"1740,-87.5 1740,-156.5 1825,-156.5 1825,-87.5 1740,-87.5\"/>\n<text text-anchor=\"middle\" x=\"1782.5\" y=\"-141.3\" font-family=\"Times,serif\" font-size=\"14.00\">Output</text>\n<polyline fill=\"none\" stroke=\"black\" points=\"1740,-133.5 1825,-133.5 \"/>\n<text text-anchor=\"middle\" x=\"1782.5\" y=\"-118.3\" font-family=\"Times,serif\" font-size=\"14.00\">data &#45;1.0000</text>\n<polyline fill=\"none\" stroke=\"black\" points=\"1740,-110.5 1825,-110.5 \"/>\n<text text-anchor=\"middle\" x=\"1782.5\" y=\"-95.3\" font-family=\"Times,serif\" font-size=\"14.00\">grad 1.0000</text>\n</g>\n<!-- 132255807503664*&#45;&gt;132255807503664 -->\n<g id=\"edge6\" class=\"edge\">\n<title>132255807503664*&#45;&gt;132255807503664</title>\n<path fill=\"none\" stroke=\"black\" d=\"M1704.12,-122C1711.87,-122 1720.64,-122 1729.42,-122\"/>\n<polygon fill=\"black\" stroke=\"black\" points=\"1729.68,-125.5 1739.68,-122 1729.68,-118.5 1729.68,-125.5\"/>\n</g>\n<!-- 132255807497520 -->\n<g id=\"node18\" class=\"node\">\n<title>132255807497520</title>\n<polygon fill=\"none\" stroke=\"black\" points=\"423,-176.5 423,-245.5 515,-245.5 515,-176.5 423,-176.5\"/>\n<text text-anchor=\"middle\" x=\"469\" y=\"-230.3\" font-family=\"Times,serif\" font-size=\"14.00\">x1w1 + x2w2</text>\n<polyline fill=\"none\" stroke=\"black\" points=\"423,-222.5 515,-222.5 \"/>\n<text text-anchor=\"middle\" x=\"469\" y=\"-207.3\" font-family=\"Times,serif\" font-size=\"14.00\">data &#45;6.9000</text>\n<polyline fill=\"none\" stroke=\"black\" points=\"423,-199.5 515,-199.5 \"/>\n<text text-anchor=\"middle\" x=\"469\" y=\"-184.3\" font-family=\"Times,serif\" font-size=\"14.00\">grad 0.0000</text>\n</g>\n<!-- 132255807497520&#45;&gt;132255807492912+ -->\n<g id=\"edge26\" class=\"edge\">\n<title>132255807497520&#45;&gt;132255807492912+</title>\n<path fill=\"none\" stroke=\"black\" d=\"M515.07,-192.47C525.24,-188.28 535.83,-183.93 545.32,-180.03\"/>\n<polygon fill=\"black\" stroke=\"black\" points=\"546.82,-183.19 554.74,-176.15 544.16,-176.72 546.82,-183.19\"/>\n</g>\n<!-- 132255807497520+&#45;&gt;132255807497520 -->\n<g id=\"edge7\" class=\"edge\">\n<title>132255807497520+&#45;&gt;132255807497520</title>\n<path fill=\"none\" stroke=\"black\" d=\"M387.18,-211C395,-211 403.88,-211 412.83,-211\"/>\n<polygon fill=\"black\" stroke=\"black\" points=\"412.91,-214.5 422.91,-211 412.91,-207.5 412.91,-214.5\"/>\n</g>\n<!-- 132255807496032 -->\n<g id=\"node20\" class=\"node\">\n<title>132255807496032</title>\n<polygon fill=\"none\" stroke=\"black\" points=\"426.5,-88.5 426.5,-157.5 511.5,-157.5 511.5,-88.5 426.5,-88.5\"/>\n<text text-anchor=\"middle\" x=\"469\" y=\"-142.3\" font-family=\"Times,serif\" font-size=\"14.00\">b</text>\n<polyline fill=\"none\" stroke=\"black\" points=\"426.5,-134.5 511.5,-134.5 \"/>\n<text text-anchor=\"middle\" x=\"469\" y=\"-119.3\" font-family=\"Times,serif\" font-size=\"14.00\">data &#45;5.0000</text>\n<polyline fill=\"none\" stroke=\"black\" points=\"426.5,-111.5 511.5,-111.5 \"/>\n<text text-anchor=\"middle\" x=\"469\" y=\"-96.3\" font-family=\"Times,serif\" font-size=\"14.00\">grad 0.0000</text>\n</g>\n<!-- 132255807496032&#45;&gt;132255807492912+ -->\n<g id=\"edge16\" class=\"edge\">\n<title>132255807496032&#45;&gt;132255807492912+</title>\n<path fill=\"none\" stroke=\"black\" d=\"M511.68,-140.14C522.91,-144.76 534.87,-149.68 545.45,-154.03\"/>\n<polygon fill=\"black\" stroke=\"black\" points=\"544.13,-157.27 554.71,-157.84 546.8,-150.8 544.13,-157.27\"/>\n</g>\n<!-- 132255807493968 -->\n<g id=\"node21\" class=\"node\">\n<title>132255807493968</title>\n<polygon fill=\"none\" stroke=\"black\" points=\"1289,-52.5 1289,-121.5 1371,-121.5 1371,-52.5 1289,-52.5\"/>\n<text text-anchor=\"middle\" x=\"1330\" y=\"-106.3\" font-family=\"Times,serif\" font-size=\"14.00\"> </text>\n<polyline fill=\"none\" stroke=\"black\" points=\"1289,-98.5 1371,-98.5 \"/>\n<text text-anchor=\"middle\" x=\"1330\" y=\"-83.3\" font-family=\"Times,serif\" font-size=\"14.00\">data 1.0000</text>\n<polyline fill=\"none\" stroke=\"black\" points=\"1289,-75.5 1371,-75.5 \"/>\n<text text-anchor=\"middle\" x=\"1330\" y=\"-60.3\" font-family=\"Times,serif\" font-size=\"14.00\">grad 1.0000</text>\n</g>\n<!-- 132255807493968&#45;&gt;132255807503424** &#45;1 -->\n<g id=\"edge19\" class=\"edge\">\n<title>132255807493968&#45;&gt;132255807503424** &#45;1</title>\n<path fill=\"none\" stroke=\"black\" d=\"M1371.11,-87C1383.68,-87 1397.52,-87 1409.97,-87\"/>\n<polygon fill=\"black\" stroke=\"black\" points=\"1410.06,-90.5 1420.06,-87 1410.06,-83.5 1410.06,-90.5\"/>\n</g>\n<!-- 132255807493968+&#45;&gt;132255807493968 -->\n<g id=\"edge8\" class=\"edge\">\n<title>132255807493968+&#45;&gt;132255807493968</title>\n<path fill=\"none\" stroke=\"black\" d=\"M1253,-87C1260.81,-87 1269.65,-87 1278.48,-87\"/>\n<polygon fill=\"black\" stroke=\"black\" points=\"1278.76,-90.5 1288.76,-87 1278.76,-83.5 1278.76,-90.5\"/>\n</g>\n<!-- 132255807500160 -->\n<g id=\"node23\" class=\"node\">\n<title>132255807500160</title>\n<polygon fill=\"none\" stroke=\"black\" points=\"1077,-176.5 1077,-245.5 1163,-245.5 1163,-176.5 1077,-176.5\"/>\n<text text-anchor=\"middle\" x=\"1120\" y=\"-230.3\" font-family=\"Times,serif\" font-size=\"14.00\"> </text>\n<polyline fill=\"none\" stroke=\"black\" points=\"1077,-222.5 1163,-222.5 \"/>\n<text text-anchor=\"middle\" x=\"1120\" y=\"-207.3\" font-family=\"Times,serif\" font-size=\"14.00\">data 1.0000</text>\n<polyline fill=\"none\" stroke=\"black\" points=\"1077,-199.5 1163,-199.5 \"/>\n<text text-anchor=\"middle\" x=\"1120\" y=\"-184.3\" font-family=\"Times,serif\" font-size=\"14.00\">grad &#45;1.0000</text>\n</g>\n<!-- 132255807500160&#45;&gt;132255807503808&#45; -->\n<g id=\"edge11\" class=\"edge\">\n<title>132255807500160&#45;&gt;132255807503808&#45;</title>\n<path fill=\"none\" stroke=\"black\" d=\"M1163,-189.6C1173.68,-184.15 1184.95,-178.41 1194.9,-173.34\"/>\n<polygon fill=\"black\" stroke=\"black\" points=\"1196.66,-176.37 1203.98,-168.71 1193.48,-170.13 1196.66,-176.37\"/>\n</g>\n<!-- 132255807492000 -->\n<g id=\"node24\" class=\"node\">\n<title>132255807492000</title>\n<polygon fill=\"none\" stroke=\"black\" points=\"0,-44.5 0,-113.5 86,-113.5 86,-44.5 0,-44.5\"/>\n<text text-anchor=\"middle\" x=\"43\" y=\"-98.3\" font-family=\"Times,serif\" font-size=\"14.00\">w1</text>\n<polyline fill=\"none\" stroke=\"black\" points=\"0,-90.5 86,-90.5 \"/>\n<text text-anchor=\"middle\" x=\"43\" y=\"-75.3\" font-family=\"Times,serif\" font-size=\"14.00\">data 3.0000</text>\n<polyline fill=\"none\" stroke=\"black\" points=\"0,-67.5 86,-67.5 \"/>\n<text text-anchor=\"middle\" x=\"43\" y=\"-52.3\" font-family=\"Times,serif\" font-size=\"14.00\">grad &#45;0.0000</text>\n</g>\n<!-- 132255807492000&#45;&gt;132255807492672* -->\n<g id=\"edge27\" class=\"edge\">\n<title>132255807492000&#45;&gt;132255807492672*</title>\n<path fill=\"none\" stroke=\"black\" d=\"M84.81,-113.53C97.9,-124.61 111.99,-136.53 123.54,-146.3\"/>\n<polygon fill=\"black\" stroke=\"black\" points=\"121.55,-149.2 131.44,-152.99 126.07,-143.86 121.55,-149.2\"/>\n</g>\n<!-- 132255807489984 -->\n<g id=\"node25\" class=\"node\">\n<title>132255807489984</title>\n<polygon fill=\"none\" stroke=\"black\" points=\"1079,-88.5 1079,-157.5 1161,-157.5 1161,-88.5 1079,-88.5\"/>\n<text text-anchor=\"middle\" x=\"1120\" y=\"-142.3\" font-family=\"Times,serif\" font-size=\"14.00\"> </text>\n<polyline fill=\"none\" stroke=\"black\" points=\"1079,-134.5 1161,-134.5 \"/>\n<text text-anchor=\"middle\" x=\"1120\" y=\"-119.3\" font-family=\"Times,serif\" font-size=\"14.00\">data 0.0000</text>\n<polyline fill=\"none\" stroke=\"black\" points=\"1079,-111.5 1161,-111.5 \"/>\n<text text-anchor=\"middle\" x=\"1120\" y=\"-96.3\" font-family=\"Times,serif\" font-size=\"14.00\">grad 2.0000</text>\n</g>\n<!-- 132255807489984&#45;&gt;132255807503808&#45; -->\n<g id=\"edge14\" class=\"edge\">\n<title>132255807489984&#45;&gt;132255807503808&#45;</title>\n<path fill=\"none\" stroke=\"black\" d=\"M1161.21,-136.53C1171.31,-139.93 1182.03,-143.54 1191.74,-146.81\"/>\n<polygon fill=\"black\" stroke=\"black\" points=\"1190.84,-150.2 1201.43,-150.07 1193.07,-143.56 1190.84,-150.2\"/>\n</g>\n<!-- 132255807489984&#45;&gt;132255807493968+ -->\n<g id=\"edge22\" class=\"edge\">\n<title>132255807489984&#45;&gt;132255807493968+</title>\n<path fill=\"none\" stroke=\"black\" d=\"M1161.21,-109.08C1171.39,-105.56 1182.21,-101.81 1191.99,-98.43\"/>\n<polygon fill=\"black\" stroke=\"black\" points=\"1193.43,-101.63 1201.73,-95.05 1191.14,-95.02 1193.43,-101.63\"/>\n</g>\n<!-- 132255807489984exp -->\n<g id=\"node26\" class=\"node\">\n<title>132255807489984exp</title>\n<ellipse fill=\"none\" stroke=\"black\" cx=\"1014\" cy=\"-123\" rx=\"27\" ry=\"18\"/>\n<text text-anchor=\"middle\" x=\"1014\" y=\"-119.3\" font-family=\"Times,serif\" font-size=\"14.00\">exp</text>\n</g>\n<!-- 132255807489984exp&#45;&gt;132255807489984 -->\n<g id=\"edge9\" class=\"edge\">\n<title>132255807489984exp&#45;&gt;132255807489984</title>\n<path fill=\"none\" stroke=\"black\" d=\"M1041.24,-123C1049.64,-123 1059.23,-123 1068.75,-123\"/>\n<polygon fill=\"black\" stroke=\"black\" points=\"1068.99,-126.5 1078.99,-123 1068.99,-119.5 1068.99,-126.5\"/>\n</g>\n<!-- 132255807488976 -->\n<g id=\"node27\" class=\"node\">\n<title>132255807488976</title>\n<polygon fill=\"none\" stroke=\"black\" points=\"859,-88.5 859,-157.5 951,-157.5 951,-88.5 859,-88.5\"/>\n<text text-anchor=\"middle\" x=\"905\" y=\"-142.3\" font-family=\"Times,serif\" font-size=\"14.00\"> </text>\n<polyline fill=\"none\" stroke=\"black\" points=\"859,-134.5 951,-134.5 \"/>\n<text text-anchor=\"middle\" x=\"905\" y=\"-119.3\" font-family=\"Times,serif\" font-size=\"14.00\">data &#45;23.8000</text>\n<polyline fill=\"none\" stroke=\"black\" points=\"859,-111.5 951,-111.5 \"/>\n<text text-anchor=\"middle\" x=\"905\" y=\"-96.3\" font-family=\"Times,serif\" font-size=\"14.00\">grad 0.0000</text>\n</g>\n<!-- 132255807488976&#45;&gt;132255807489984exp -->\n<g id=\"edge18\" class=\"edge\">\n<title>132255807488976&#45;&gt;132255807489984exp</title>\n<path fill=\"none\" stroke=\"black\" d=\"M951.07,-123C959.66,-123 968.55,-123 976.83,-123\"/>\n<polygon fill=\"black\" stroke=\"black\" points=\"976.9,-126.5 986.9,-123 976.9,-119.5 976.9,-126.5\"/>\n</g>\n<!-- 132255807488976*&#45;&gt;132255807488976 -->\n<g id=\"edge10\" class=\"edge\">\n<title>132255807488976*&#45;&gt;132255807488976</title>\n<path fill=\"none\" stroke=\"black\" d=\"M823.18,-123C831,-123 839.88,-123 848.83,-123\"/>\n<polygon fill=\"black\" stroke=\"black\" points=\"848.91,-126.5 858.91,-123 848.91,-119.5 848.91,-126.5\"/>\n</g>\n</g>\n</svg>\n",
            "text/plain": [
              "<graphviz.graphs.Digraph at 0x7849346cfac0>"
            ]
          },
          "metadata": {},
          "execution_count": 99
        }
      ]
    },
    {
      "cell_type": "code",
      "source": [
        "#data to check with if the karpathy and Me are on same page\n",
        "\n",
        "x1 = Value(2.0, label = 'x1')\n",
        "x2 = Value(0.0, label = 'x2')\n",
        "\n",
        "w1 = Value(-3.0, label = 'w1')\n",
        "w2 = Value(1.0, label = 'w2')\n",
        "\n",
        "b = Value(6.8813735870195432, label = 'b')\n",
        "\n",
        "x1w1 = x1 * w1; x1w1.label = 'x1w1'\n",
        "x2w2 = x2 * w2; x2w2.label = 'x2w2'\n",
        "\n",
        "# x1w1x2w2m = x1w1 - x2w2; x1w1x2w2.label = 'x1w1 - x2w2m'\n",
        "x1w1x2w2 = x1w1 + x2w2; x1w1x2w2.label = 'x1w1 + x2w2'\n",
        "\n",
        "n = x1w1x2w2 + b; n.label = 'n'\n",
        "\n",
        "#-------------\n",
        "e = (2 * n).exp()\n",
        "o = (e -1 ) / ((e + 1)); o.label = 'Output'\n",
        "# o = n.tanh(); o.label = 'Output'\n",
        "#--------\n",
        "\n",
        "o.backward()\n",
        "draw_dot(o)"
      ],
      "metadata": {
        "colab": {
          "base_uri": "https://localhost:8080/",
          "height": 556
        },
        "id": "XrE6MwKP9Pd4",
        "outputId": "72e63269-7174-4c6f-892c-a6b24c0756ec"
      },
      "execution_count": null,
      "outputs": [
        {
          "output_type": "execute_result",
          "data": {
            "image/svg+xml": "<?xml version=\"1.0\" encoding=\"UTF-8\" standalone=\"no\"?>\n<!DOCTYPE svg PUBLIC \"-//W3C//DTD SVG 1.1//EN\"\n \"http://www.w3.org/Graphics/SVG/1.1/DTD/svg11.dtd\">\n<!-- Generated by graphviz version 2.43.0 (0)\n -->\n<!-- Title: %3 Pages: 1 -->\n<svg width=\"1807pt\" height=\"386pt\"\n viewBox=\"0.00 0.00 1807.00 386.00\" xmlns=\"http://www.w3.org/2000/svg\" xmlns:xlink=\"http://www.w3.org/1999/xlink\">\n<g id=\"graph0\" class=\"graph\" transform=\"scale(1 1) rotate(0) translate(4 382)\">\n<title>%3</title>\n<polygon fill=\"white\" stroke=\"transparent\" points=\"-4,4 -4,-382 1803,-382 1803,4 -4,4\"/>\n<!-- 132255807499776 -->\n<g id=\"node1\" class=\"node\">\n<title>132255807499776</title>\n<polygon fill=\"none\" stroke=\"black\" points=\"2,-308.5 2,-377.5 84,-377.5 84,-308.5 2,-308.5\"/>\n<text text-anchor=\"middle\" x=\"43\" y=\"-362.3\" font-family=\"Times,serif\" font-size=\"14.00\">w2</text>\n<polyline fill=\"none\" stroke=\"black\" points=\"2,-354.5 84,-354.5 \"/>\n<text text-anchor=\"middle\" x=\"43\" y=\"-339.3\" font-family=\"Times,serif\" font-size=\"14.00\">data 1.0000</text>\n<polyline fill=\"none\" stroke=\"black\" points=\"2,-331.5 84,-331.5 \"/>\n<text text-anchor=\"middle\" x=\"43\" y=\"-316.3\" font-family=\"Times,serif\" font-size=\"14.00\">grad 0.0000</text>\n</g>\n<!-- 132255807504096* -->\n<g id=\"node16\" class=\"node\">\n<title>132255807504096*</title>\n<ellipse fill=\"none\" stroke=\"black\" cx=\"149\" cy=\"-255\" rx=\"27\" ry=\"18\"/>\n<text text-anchor=\"middle\" x=\"149\" y=\"-251.3\" font-family=\"Times,serif\" font-size=\"14.00\">*</text>\n</g>\n<!-- 132255807499776&#45;&gt;132255807504096* -->\n<g id=\"edge14\" class=\"edge\">\n<title>132255807499776&#45;&gt;132255807504096*</title>\n<path fill=\"none\" stroke=\"black\" d=\"M84.21,-308.98C97.58,-297.66 112.06,-285.41 123.83,-275.45\"/>\n<polygon fill=\"black\" stroke=\"black\" points=\"126.13,-278.09 131.51,-268.96 121.61,-272.74 126.13,-278.09\"/>\n</g>\n<!-- 132255807493152 -->\n<g id=\"node2\" class=\"node\">\n<title>132255807493152</title>\n<polygon fill=\"none\" stroke=\"black\" points=\"1269,-123.5 1269,-192.5 1355,-192.5 1355,-123.5 1269,-123.5\"/>\n<text text-anchor=\"middle\" x=\"1312\" y=\"-177.3\" font-family=\"Times,serif\" font-size=\"14.00\"> </text>\n<polyline fill=\"none\" stroke=\"black\" points=\"1269,-169.5 1355,-169.5 \"/>\n<text text-anchor=\"middle\" x=\"1312\" y=\"-154.3\" font-family=\"Times,serif\" font-size=\"14.00\">data 6.8284</text>\n<polyline fill=\"none\" stroke=\"black\" points=\"1269,-146.5 1355,-146.5 \"/>\n<text text-anchor=\"middle\" x=\"1312\" y=\"-131.3\" font-family=\"Times,serif\" font-size=\"14.00\">grad &#45;0.1036</text>\n</g>\n<!-- 132255807499056** &#45;1 -->\n<g id=\"node22\" class=\"node\">\n<title>132255807499056** &#45;1</title>\n<ellipse fill=\"none\" stroke=\"black\" cx=\"1432\" cy=\"-158\" rx=\"29.5\" ry=\"18\"/>\n<text text-anchor=\"middle\" x=\"1432\" y=\"-154.3\" font-family=\"Times,serif\" font-size=\"14.00\">** &#45;1</text>\n</g>\n<!-- 132255807493152&#45;&gt;132255807499056** &#45;1 -->\n<g id=\"edge19\" class=\"edge\">\n<title>132255807493152&#45;&gt;132255807499056** &#45;1</title>\n<path fill=\"none\" stroke=\"black\" d=\"M1355.27,-158C1367.44,-158 1380.65,-158 1392.58,-158\"/>\n<polygon fill=\"black\" stroke=\"black\" points=\"1392.67,-161.5 1402.67,-158 1392.67,-154.5 1392.67,-161.5\"/>\n</g>\n<!-- 132255807493152+ -->\n<g id=\"node3\" class=\"node\">\n<title>132255807493152+</title>\n<ellipse fill=\"none\" stroke=\"black\" cx=\"1206\" cy=\"-158\" rx=\"27\" ry=\"18\"/>\n<text text-anchor=\"middle\" x=\"1206\" y=\"-154.3\" font-family=\"Times,serif\" font-size=\"14.00\">+</text>\n</g>\n<!-- 132255807493152+&#45;&gt;132255807493152 -->\n<g id=\"edge1\" class=\"edge\">\n<title>132255807493152+&#45;&gt;132255807493152</title>\n<path fill=\"none\" stroke=\"black\" d=\"M1233.24,-158C1241.11,-158 1250.04,-158 1258.96,-158\"/>\n<polygon fill=\"black\" stroke=\"black\" points=\"1258.98,-161.5 1268.98,-158 1258.98,-154.5 1258.98,-161.5\"/>\n</g>\n<!-- 132255807492144 -->\n<g id=\"node4\" class=\"node\">\n<title>132255807492144</title>\n<polygon fill=\"none\" stroke=\"black\" points=\"1717,-87.5 1717,-156.5 1799,-156.5 1799,-87.5 1717,-87.5\"/>\n<text text-anchor=\"middle\" x=\"1758\" y=\"-141.3\" font-family=\"Times,serif\" font-size=\"14.00\">Output</text>\n<polyline fill=\"none\" stroke=\"black\" points=\"1717,-133.5 1799,-133.5 \"/>\n<text text-anchor=\"middle\" x=\"1758\" y=\"-118.3\" font-family=\"Times,serif\" font-size=\"14.00\">data 0.7071</text>\n<polyline fill=\"none\" stroke=\"black\" points=\"1717,-110.5 1799,-110.5 \"/>\n<text text-anchor=\"middle\" x=\"1758\" y=\"-95.3\" font-family=\"Times,serif\" font-size=\"14.00\">grad 1.0000</text>\n</g>\n<!-- 132255807492144* -->\n<g id=\"node5\" class=\"node\">\n<title>132255807492144*</title>\n<ellipse fill=\"none\" stroke=\"black\" cx=\"1654\" cy=\"-122\" rx=\"27\" ry=\"18\"/>\n<text text-anchor=\"middle\" x=\"1654\" y=\"-118.3\" font-family=\"Times,serif\" font-size=\"14.00\">*</text>\n</g>\n<!-- 132255807492144*&#45;&gt;132255807492144 -->\n<g id=\"edge2\" class=\"edge\">\n<title>132255807492144*&#45;&gt;132255807492144</title>\n<path fill=\"none\" stroke=\"black\" d=\"M1681,-122C1688.81,-122 1697.65,-122 1706.48,-122\"/>\n<polygon fill=\"black\" stroke=\"black\" points=\"1706.76,-125.5 1716.76,-122 1706.76,-118.5 1706.76,-125.5\"/>\n</g>\n<!-- 132255807502896 -->\n<g id=\"node6\" class=\"node\">\n<title>132255807502896</title>\n<polygon fill=\"none\" stroke=\"black\" points=\"0,-132.5 0,-201.5 86,-201.5 86,-132.5 0,-132.5\"/>\n<text text-anchor=\"middle\" x=\"43\" y=\"-186.3\" font-family=\"Times,serif\" font-size=\"14.00\">x1</text>\n<polyline fill=\"none\" stroke=\"black\" points=\"0,-178.5 86,-178.5 \"/>\n<text text-anchor=\"middle\" x=\"43\" y=\"-163.3\" font-family=\"Times,serif\" font-size=\"14.00\">data 2.0000</text>\n<polyline fill=\"none\" stroke=\"black\" points=\"0,-155.5 86,-155.5 \"/>\n<text text-anchor=\"middle\" x=\"43\" y=\"-140.3\" font-family=\"Times,serif\" font-size=\"14.00\">grad &#45;1.5000</text>\n</g>\n<!-- 132255807498960* -->\n<g id=\"node14\" class=\"node\">\n<title>132255807498960*</title>\n<ellipse fill=\"none\" stroke=\"black\" cx=\"149\" cy=\"-167\" rx=\"27\" ry=\"18\"/>\n<text text-anchor=\"middle\" x=\"149\" y=\"-163.3\" font-family=\"Times,serif\" font-size=\"14.00\">*</text>\n</g>\n<!-- 132255807502896&#45;&gt;132255807498960* -->\n<g id=\"edge15\" class=\"edge\">\n<title>132255807502896&#45;&gt;132255807498960*</title>\n<path fill=\"none\" stroke=\"black\" d=\"M86,-167C94.48,-167 103.34,-167 111.61,-167\"/>\n<polygon fill=\"black\" stroke=\"black\" points=\"111.7,-170.5 121.7,-167 111.7,-163.5 111.7,-170.5\"/>\n</g>\n<!-- 132255807496272 -->\n<g id=\"node7\" class=\"node\">\n<title>132255807496272</title>\n<polygon fill=\"none\" stroke=\"black\" points=\"423,-176.5 423,-245.5 515,-245.5 515,-176.5 423,-176.5\"/>\n<text text-anchor=\"middle\" x=\"469\" y=\"-230.3\" font-family=\"Times,serif\" font-size=\"14.00\">x1w1 + x2w2</text>\n<polyline fill=\"none\" stroke=\"black\" points=\"423,-222.5 515,-222.5 \"/>\n<text text-anchor=\"middle\" x=\"469\" y=\"-207.3\" font-family=\"Times,serif\" font-size=\"14.00\">data &#45;6.0000</text>\n<polyline fill=\"none\" stroke=\"black\" points=\"423,-199.5 515,-199.5 \"/>\n<text text-anchor=\"middle\" x=\"469\" y=\"-184.3\" font-family=\"Times,serif\" font-size=\"14.00\">grad 0.5000</text>\n</g>\n<!-- 132255807497088+ -->\n<g id=\"node25\" class=\"node\">\n<title>132255807497088+</title>\n<ellipse fill=\"none\" stroke=\"black\" cx=\"578\" cy=\"-167\" rx=\"27\" ry=\"18\"/>\n<text text-anchor=\"middle\" x=\"578\" y=\"-163.3\" font-family=\"Times,serif\" font-size=\"14.00\">+</text>\n</g>\n<!-- 132255807496272&#45;&gt;132255807497088+ -->\n<g id=\"edge27\" class=\"edge\">\n<title>132255807496272&#45;&gt;132255807497088+</title>\n<path fill=\"none\" stroke=\"black\" d=\"M515.07,-192.47C525.24,-188.28 535.83,-183.93 545.32,-180.03\"/>\n<polygon fill=\"black\" stroke=\"black\" points=\"546.82,-183.19 554.74,-176.15 544.16,-176.72 546.82,-183.19\"/>\n</g>\n<!-- 132255807496272+ -->\n<g id=\"node8\" class=\"node\">\n<title>132255807496272+</title>\n<ellipse fill=\"none\" stroke=\"black\" cx=\"360\" cy=\"-211\" rx=\"27\" ry=\"18\"/>\n<text text-anchor=\"middle\" x=\"360\" y=\"-207.3\" font-family=\"Times,serif\" font-size=\"14.00\">+</text>\n</g>\n<!-- 132255807496272+&#45;&gt;132255807496272 -->\n<g id=\"edge3\" class=\"edge\">\n<title>132255807496272+&#45;&gt;132255807496272</title>\n<path fill=\"none\" stroke=\"black\" d=\"M387.18,-211C395,-211 403.88,-211 412.83,-211\"/>\n<polygon fill=\"black\" stroke=\"black\" points=\"412.91,-214.5 422.91,-211 412.91,-207.5 412.91,-214.5\"/>\n</g>\n<!-- 132255807492192 -->\n<g id=\"node9\" class=\"node\">\n<title>132255807492192</title>\n<polygon fill=\"none\" stroke=\"black\" points=\"1059,-88.5 1059,-157.5 1141,-157.5 1141,-88.5 1059,-88.5\"/>\n<text text-anchor=\"middle\" x=\"1100\" y=\"-142.3\" font-family=\"Times,serif\" font-size=\"14.00\"> </text>\n<polyline fill=\"none\" stroke=\"black\" points=\"1059,-134.5 1141,-134.5 \"/>\n<text text-anchor=\"middle\" x=\"1100\" y=\"-119.3\" font-family=\"Times,serif\" font-size=\"14.00\">data 5.8284</text>\n<polyline fill=\"none\" stroke=\"black\" points=\"1059,-111.5 1141,-111.5 \"/>\n<text text-anchor=\"middle\" x=\"1100\" y=\"-96.3\" font-family=\"Times,serif\" font-size=\"14.00\">grad 0.0429</text>\n</g>\n<!-- 132255807492192&#45;&gt;132255807493152+ -->\n<g id=\"edge20\" class=\"edge\">\n<title>132255807492192&#45;&gt;132255807493152+</title>\n<path fill=\"none\" stroke=\"black\" d=\"M1141.21,-136.53C1151.31,-139.93 1162.03,-143.54 1171.74,-146.81\"/>\n<polygon fill=\"black\" stroke=\"black\" points=\"1170.84,-150.2 1181.43,-150.07 1173.07,-143.56 1170.84,-150.2\"/>\n</g>\n<!-- 132255807504288&#45; -->\n<g id=\"node28\" class=\"node\">\n<title>132255807504288&#45;</title>\n<ellipse fill=\"none\" stroke=\"black\" cx=\"1206\" cy=\"-87\" rx=\"27\" ry=\"18\"/>\n<text text-anchor=\"middle\" x=\"1206\" y=\"-83.3\" font-family=\"Times,serif\" font-size=\"14.00\">&#45;</text>\n</g>\n<!-- 132255807492192&#45;&gt;132255807504288&#45; -->\n<g id=\"edge28\" class=\"edge\">\n<title>132255807492192&#45;&gt;132255807504288&#45;</title>\n<path fill=\"none\" stroke=\"black\" d=\"M1141.21,-109.08C1151.39,-105.56 1162.21,-101.81 1171.99,-98.43\"/>\n<polygon fill=\"black\" stroke=\"black\" points=\"1173.43,-101.63 1181.73,-95.05 1171.14,-95.02 1173.43,-101.63\"/>\n</g>\n<!-- 132255807492192exp -->\n<g id=\"node10\" class=\"node\">\n<title>132255807492192exp</title>\n<ellipse fill=\"none\" stroke=\"black\" cx=\"994\" cy=\"-123\" rx=\"27\" ry=\"18\"/>\n<text text-anchor=\"middle\" x=\"994\" y=\"-119.3\" font-family=\"Times,serif\" font-size=\"14.00\">exp</text>\n</g>\n<!-- 132255807492192exp&#45;&gt;132255807492192 -->\n<g id=\"edge4\" class=\"edge\">\n<title>132255807492192exp&#45;&gt;132255807492192</title>\n<path fill=\"none\" stroke=\"black\" d=\"M1021.24,-123C1029.64,-123 1039.23,-123 1048.75,-123\"/>\n<polygon fill=\"black\" stroke=\"black\" points=\"1048.99,-126.5 1058.99,-123 1048.99,-119.5 1048.99,-126.5\"/>\n</g>\n<!-- 132255807491664 -->\n<g id=\"node11\" class=\"node\">\n<title>132255807491664</title>\n<polygon fill=\"none\" stroke=\"black\" points=\"2,-220.5 2,-289.5 84,-289.5 84,-220.5 2,-220.5\"/>\n<text text-anchor=\"middle\" x=\"43\" y=\"-274.3\" font-family=\"Times,serif\" font-size=\"14.00\">x2</text>\n<polyline fill=\"none\" stroke=\"black\" points=\"2,-266.5 84,-266.5 \"/>\n<text text-anchor=\"middle\" x=\"43\" y=\"-251.3\" font-family=\"Times,serif\" font-size=\"14.00\">data 0.0000</text>\n<polyline fill=\"none\" stroke=\"black\" points=\"2,-243.5 84,-243.5 \"/>\n<text text-anchor=\"middle\" x=\"43\" y=\"-228.3\" font-family=\"Times,serif\" font-size=\"14.00\">grad 0.5000</text>\n</g>\n<!-- 132255807491664&#45;&gt;132255807504096* -->\n<g id=\"edge26\" class=\"edge\">\n<title>132255807491664&#45;&gt;132255807504096*</title>\n<path fill=\"none\" stroke=\"black\" d=\"M84.21,-255C93.25,-255 102.79,-255 111.66,-255\"/>\n<polygon fill=\"black\" stroke=\"black\" points=\"111.69,-258.5 121.69,-255 111.69,-251.5 111.69,-258.5\"/>\n</g>\n<!-- 132255807502464 -->\n<g id=\"node12\" class=\"node\">\n<title>132255807502464</title>\n<polygon fill=\"none\" stroke=\"black\" points=\"1057,-0.5 1057,-69.5 1143,-69.5 1143,-0.5 1057,-0.5\"/>\n<text text-anchor=\"middle\" x=\"1100\" y=\"-54.3\" font-family=\"Times,serif\" font-size=\"14.00\"> </text>\n<polyline fill=\"none\" stroke=\"black\" points=\"1057,-46.5 1143,-46.5 \"/>\n<text text-anchor=\"middle\" x=\"1100\" y=\"-31.3\" font-family=\"Times,serif\" font-size=\"14.00\">data 1.0000</text>\n<polyline fill=\"none\" stroke=\"black\" points=\"1057,-23.5 1143,-23.5 \"/>\n<text text-anchor=\"middle\" x=\"1100\" y=\"-8.3\" font-family=\"Times,serif\" font-size=\"14.00\">grad &#45;0.1464</text>\n</g>\n<!-- 132255807502464&#45;&gt;132255807504288&#45; -->\n<g id=\"edge24\" class=\"edge\">\n<title>132255807502464&#45;&gt;132255807504288&#45;</title>\n<path fill=\"none\" stroke=\"black\" d=\"M1143,-56C1153.68,-61.34 1164.95,-66.97 1174.9,-71.95\"/>\n<polygon fill=\"black\" stroke=\"black\" points=\"1173.47,-75.15 1183.98,-76.49 1176.6,-68.89 1173.47,-75.15\"/>\n</g>\n<!-- 132255807498960 -->\n<g id=\"node13\" class=\"node\">\n<title>132255807498960</title>\n<polygon fill=\"none\" stroke=\"black\" points=\"212,-132.5 212,-201.5 297,-201.5 297,-132.5 212,-132.5\"/>\n<text text-anchor=\"middle\" x=\"254.5\" y=\"-186.3\" font-family=\"Times,serif\" font-size=\"14.00\">x1w1</text>\n<polyline fill=\"none\" stroke=\"black\" points=\"212,-178.5 297,-178.5 \"/>\n<text text-anchor=\"middle\" x=\"254.5\" y=\"-163.3\" font-family=\"Times,serif\" font-size=\"14.00\">data &#45;6.0000</text>\n<polyline fill=\"none\" stroke=\"black\" points=\"212,-155.5 297,-155.5 \"/>\n<text text-anchor=\"middle\" x=\"254.5\" y=\"-140.3\" font-family=\"Times,serif\" font-size=\"14.00\">grad 0.5000</text>\n</g>\n<!-- 132255807498960&#45;&gt;132255807496272+ -->\n<g id=\"edge22\" class=\"edge\">\n<title>132255807498960&#45;&gt;132255807496272+</title>\n<path fill=\"none\" stroke=\"black\" d=\"M297,-184.64C307.21,-188.98 317.97,-193.56 327.61,-197.66\"/>\n<polygon fill=\"black\" stroke=\"black\" points=\"326.24,-200.88 336.81,-201.57 328.98,-194.44 326.24,-200.88\"/>\n</g>\n<!-- 132255807498960*&#45;&gt;132255807498960 -->\n<g id=\"edge5\" class=\"edge\">\n<title>132255807498960*&#45;&gt;132255807498960</title>\n<path fill=\"none\" stroke=\"black\" d=\"M176.12,-167C183.87,-167 192.64,-167 201.42,-167\"/>\n<polygon fill=\"black\" stroke=\"black\" points=\"201.68,-170.5 211.68,-167 201.68,-163.5 201.68,-170.5\"/>\n</g>\n<!-- 132255807504096 -->\n<g id=\"node15\" class=\"node\">\n<title>132255807504096</title>\n<polygon fill=\"none\" stroke=\"black\" points=\"213.5,-220.5 213.5,-289.5 295.5,-289.5 295.5,-220.5 213.5,-220.5\"/>\n<text text-anchor=\"middle\" x=\"254.5\" y=\"-274.3\" font-family=\"Times,serif\" font-size=\"14.00\">x2w2</text>\n<polyline fill=\"none\" stroke=\"black\" points=\"213.5,-266.5 295.5,-266.5 \"/>\n<text text-anchor=\"middle\" x=\"254.5\" y=\"-251.3\" font-family=\"Times,serif\" font-size=\"14.00\">data 0.0000</text>\n<polyline fill=\"none\" stroke=\"black\" points=\"213.5,-243.5 295.5,-243.5 \"/>\n<text text-anchor=\"middle\" x=\"254.5\" y=\"-228.3\" font-family=\"Times,serif\" font-size=\"14.00\">grad 0.5000</text>\n</g>\n<!-- 132255807504096&#45;&gt;132255807496272+ -->\n<g id=\"edge16\" class=\"edge\">\n<title>132255807504096&#45;&gt;132255807496272+</title>\n<path fill=\"none\" stroke=\"black\" d=\"M295.52,-237.99C306.12,-233.48 317.42,-228.68 327.5,-224.39\"/>\n<polygon fill=\"black\" stroke=\"black\" points=\"328.9,-227.6 336.73,-220.47 326.16,-221.16 328.9,-227.6\"/>\n</g>\n<!-- 132255807504096*&#45;&gt;132255807504096 -->\n<g id=\"edge6\" class=\"edge\">\n<title>132255807504096*&#45;&gt;132255807504096</title>\n<path fill=\"none\" stroke=\"black\" d=\"M176.12,-255C184.39,-255 193.82,-255 203.19,-255\"/>\n<polygon fill=\"black\" stroke=\"black\" points=\"203.28,-258.5 213.28,-255 203.28,-251.5 203.28,-258.5\"/>\n</g>\n<!-- 132255807492336 -->\n<g id=\"node17\" class=\"node\">\n<title>132255807492336</title>\n<polygon fill=\"none\" stroke=\"black\" points=\"0.5,-44.5 0.5,-113.5 85.5,-113.5 85.5,-44.5 0.5,-44.5\"/>\n<text text-anchor=\"middle\" x=\"43\" y=\"-98.3\" font-family=\"Times,serif\" font-size=\"14.00\">w1</text>\n<polyline fill=\"none\" stroke=\"black\" points=\"0.5,-90.5 85.5,-90.5 \"/>\n<text text-anchor=\"middle\" x=\"43\" y=\"-75.3\" font-family=\"Times,serif\" font-size=\"14.00\">data &#45;3.0000</text>\n<polyline fill=\"none\" stroke=\"black\" points=\"0.5,-67.5 85.5,-67.5 \"/>\n<text text-anchor=\"middle\" x=\"43\" y=\"-52.3\" font-family=\"Times,serif\" font-size=\"14.00\">grad 1.0000</text>\n</g>\n<!-- 132255807492336&#45;&gt;132255807498960* -->\n<g id=\"edge17\" class=\"edge\">\n<title>132255807492336&#45;&gt;132255807498960*</title>\n<path fill=\"none\" stroke=\"black\" d=\"M84.81,-113.53C97.9,-124.61 111.99,-136.53 123.54,-146.3\"/>\n<polygon fill=\"black\" stroke=\"black\" points=\"121.55,-149.2 131.44,-152.99 126.07,-143.86 121.55,-149.2\"/>\n</g>\n<!-- 132255807500496 -->\n<g id=\"node18\" class=\"node\">\n<title>132255807500496</title>\n<polygon fill=\"none\" stroke=\"black\" points=\"1057,-176.5 1057,-245.5 1143,-245.5 1143,-176.5 1057,-176.5\"/>\n<text text-anchor=\"middle\" x=\"1100\" y=\"-230.3\" font-family=\"Times,serif\" font-size=\"14.00\"> </text>\n<polyline fill=\"none\" stroke=\"black\" points=\"1057,-222.5 1143,-222.5 \"/>\n<text text-anchor=\"middle\" x=\"1100\" y=\"-207.3\" font-family=\"Times,serif\" font-size=\"14.00\">data 1.0000</text>\n<polyline fill=\"none\" stroke=\"black\" points=\"1057,-199.5 1143,-199.5 \"/>\n<text text-anchor=\"middle\" x=\"1100\" y=\"-184.3\" font-family=\"Times,serif\" font-size=\"14.00\">grad &#45;0.1036</text>\n</g>\n<!-- 132255807500496&#45;&gt;132255807493152+ -->\n<g id=\"edge13\" class=\"edge\">\n<title>132255807500496&#45;&gt;132255807493152+</title>\n<path fill=\"none\" stroke=\"black\" d=\"M1143,-189.6C1153.68,-184.15 1164.95,-178.41 1174.9,-173.34\"/>\n<polygon fill=\"black\" stroke=\"black\" points=\"1176.66,-176.37 1183.98,-168.71 1173.48,-170.13 1176.66,-176.37\"/>\n</g>\n<!-- 132255807490848 -->\n<g id=\"node19\" class=\"node\">\n<title>132255807490848</title>\n<polygon fill=\"none\" stroke=\"black\" points=\"849,-88.5 849,-157.5 931,-157.5 931,-88.5 849,-88.5\"/>\n<text text-anchor=\"middle\" x=\"890\" y=\"-142.3\" font-family=\"Times,serif\" font-size=\"14.00\"> </text>\n<polyline fill=\"none\" stroke=\"black\" points=\"849,-134.5 931,-134.5 \"/>\n<text text-anchor=\"middle\" x=\"890\" y=\"-119.3\" font-family=\"Times,serif\" font-size=\"14.00\">data 1.7627</text>\n<polyline fill=\"none\" stroke=\"black\" points=\"849,-111.5 931,-111.5 \"/>\n<text text-anchor=\"middle\" x=\"890\" y=\"-96.3\" font-family=\"Times,serif\" font-size=\"14.00\">grad 0.2500</text>\n</g>\n<!-- 132255807490848&#45;&gt;132255807492192exp -->\n<g id=\"edge23\" class=\"edge\">\n<title>132255807490848&#45;&gt;132255807492192exp</title>\n<path fill=\"none\" stroke=\"black\" d=\"M931.02,-123C939.5,-123 948.4,-123 956.73,-123\"/>\n<polygon fill=\"black\" stroke=\"black\" points=\"956.89,-126.5 966.89,-123 956.89,-119.5 956.89,-126.5\"/>\n</g>\n<!-- 132255807490848* -->\n<g id=\"node20\" class=\"node\">\n<title>132255807490848*</title>\n<ellipse fill=\"none\" stroke=\"black\" cx=\"786\" cy=\"-123\" rx=\"27\" ry=\"18\"/>\n<text text-anchor=\"middle\" x=\"786\" y=\"-119.3\" font-family=\"Times,serif\" font-size=\"14.00\">*</text>\n</g>\n<!-- 132255807490848*&#45;&gt;132255807490848 -->\n<g id=\"edge7\" class=\"edge\">\n<title>132255807490848*&#45;&gt;132255807490848</title>\n<path fill=\"none\" stroke=\"black\" d=\"M813,-123C820.81,-123 829.65,-123 838.48,-123\"/>\n<polygon fill=\"black\" stroke=\"black\" points=\"838.76,-126.5 848.76,-123 838.76,-119.5 838.76,-126.5\"/>\n</g>\n<!-- 132255807499056 -->\n<g id=\"node21\" class=\"node\">\n<title>132255807499056</title>\n<polygon fill=\"none\" stroke=\"black\" points=\"1509,-121.5 1509,-190.5 1591,-190.5 1591,-121.5 1509,-121.5\"/>\n<text text-anchor=\"middle\" x=\"1550\" y=\"-175.3\" font-family=\"Times,serif\" font-size=\"14.00\"> </text>\n<polyline fill=\"none\" stroke=\"black\" points=\"1509,-167.5 1591,-167.5 \"/>\n<text text-anchor=\"middle\" x=\"1550\" y=\"-152.3\" font-family=\"Times,serif\" font-size=\"14.00\">data 0.1464</text>\n<polyline fill=\"none\" stroke=\"black\" points=\"1509,-144.5 1591,-144.5 \"/>\n<text text-anchor=\"middle\" x=\"1550\" y=\"-129.3\" font-family=\"Times,serif\" font-size=\"14.00\">grad 4.8284</text>\n</g>\n<!-- 132255807499056&#45;&gt;132255807492144* -->\n<g id=\"edge18\" class=\"edge\">\n<title>132255807499056&#45;&gt;132255807492144*</title>\n<path fill=\"none\" stroke=\"black\" d=\"M1591.02,-142.66C1600.61,-139.46 1610.75,-136.08 1619.98,-133.01\"/>\n<polygon fill=\"black\" stroke=\"black\" points=\"1621.2,-136.29 1629.58,-129.81 1618.98,-129.65 1621.2,-136.29\"/>\n</g>\n<!-- 132255807499056** &#45;1&#45;&gt;132255807499056 -->\n<g id=\"edge8\" class=\"edge\">\n<title>132255807499056** &#45;1&#45;&gt;132255807499056</title>\n<path fill=\"none\" stroke=\"black\" d=\"M1461.38,-157.51C1472.6,-157.32 1485.84,-157.09 1498.58,-156.87\"/>\n<polygon fill=\"black\" stroke=\"black\" points=\"1498.71,-160.37 1508.65,-156.7 1498.59,-153.37 1498.71,-160.37\"/>\n</g>\n<!-- 132255807491952 -->\n<g id=\"node23\" class=\"node\">\n<title>132255807491952</title>\n<polygon fill=\"none\" stroke=\"black\" points=\"641,-44.5 641,-113.5 723,-113.5 723,-44.5 641,-44.5\"/>\n<text text-anchor=\"middle\" x=\"682\" y=\"-98.3\" font-family=\"Times,serif\" font-size=\"14.00\"> </text>\n<polyline fill=\"none\" stroke=\"black\" points=\"641,-90.5 723,-90.5 \"/>\n<text text-anchor=\"middle\" x=\"682\" y=\"-75.3\" font-family=\"Times,serif\" font-size=\"14.00\">data 2.0000</text>\n<polyline fill=\"none\" stroke=\"black\" points=\"641,-67.5 723,-67.5 \"/>\n<text text-anchor=\"middle\" x=\"682\" y=\"-52.3\" font-family=\"Times,serif\" font-size=\"14.00\">grad 0.2203</text>\n</g>\n<!-- 132255807491952&#45;&gt;132255807490848* -->\n<g id=\"edge12\" class=\"edge\">\n<title>132255807491952&#45;&gt;132255807490848*</title>\n<path fill=\"none\" stroke=\"black\" d=\"M723.02,-96.26C733.23,-100.67 744.06,-105.34 753.77,-109.53\"/>\n<polygon fill=\"black\" stroke=\"black\" points=\"752.46,-112.77 763.03,-113.52 755.23,-106.35 752.46,-112.77\"/>\n</g>\n<!-- 132255807497088 -->\n<g id=\"node24\" class=\"node\">\n<title>132255807497088</title>\n<polygon fill=\"none\" stroke=\"black\" points=\"641,-132.5 641,-201.5 723,-201.5 723,-132.5 641,-132.5\"/>\n<text text-anchor=\"middle\" x=\"682\" y=\"-186.3\" font-family=\"Times,serif\" font-size=\"14.00\">n</text>\n<polyline fill=\"none\" stroke=\"black\" points=\"641,-178.5 723,-178.5 \"/>\n<text text-anchor=\"middle\" x=\"682\" y=\"-163.3\" font-family=\"Times,serif\" font-size=\"14.00\">data 0.8814</text>\n<polyline fill=\"none\" stroke=\"black\" points=\"641,-155.5 723,-155.5 \"/>\n<text text-anchor=\"middle\" x=\"682\" y=\"-140.3\" font-family=\"Times,serif\" font-size=\"14.00\">grad 0.5000</text>\n</g>\n<!-- 132255807497088&#45;&gt;132255807490848* -->\n<g id=\"edge25\" class=\"edge\">\n<title>132255807497088&#45;&gt;132255807490848*</title>\n<path fill=\"none\" stroke=\"black\" d=\"M723.02,-149.74C733.23,-145.33 744.06,-140.66 753.77,-136.47\"/>\n<polygon fill=\"black\" stroke=\"black\" points=\"755.23,-139.65 763.03,-132.48 752.46,-133.23 755.23,-139.65\"/>\n</g>\n<!-- 132255807497088+&#45;&gt;132255807497088 -->\n<g id=\"edge9\" class=\"edge\">\n<title>132255807497088+&#45;&gt;132255807497088</title>\n<path fill=\"none\" stroke=\"black\" d=\"M605,-167C612.81,-167 621.65,-167 630.48,-167\"/>\n<polygon fill=\"black\" stroke=\"black\" points=\"630.76,-170.5 640.76,-167 630.76,-163.5 630.76,-170.5\"/>\n</g>\n<!-- 132255807494544 -->\n<g id=\"node26\" class=\"node\">\n<title>132255807494544</title>\n<polygon fill=\"none\" stroke=\"black\" points=\"428,-88.5 428,-157.5 510,-157.5 510,-88.5 428,-88.5\"/>\n<text text-anchor=\"middle\" x=\"469\" y=\"-142.3\" font-family=\"Times,serif\" font-size=\"14.00\">b</text>\n<polyline fill=\"none\" stroke=\"black\" points=\"428,-134.5 510,-134.5 \"/>\n<text text-anchor=\"middle\" x=\"469\" y=\"-119.3\" font-family=\"Times,serif\" font-size=\"14.00\">data 6.8814</text>\n<polyline fill=\"none\" stroke=\"black\" points=\"428,-111.5 510,-111.5 \"/>\n<text text-anchor=\"middle\" x=\"469\" y=\"-96.3\" font-family=\"Times,serif\" font-size=\"14.00\">grad 0.5000</text>\n</g>\n<!-- 132255807494544&#45;&gt;132255807497088+ -->\n<g id=\"edge11\" class=\"edge\">\n<title>132255807494544&#45;&gt;132255807497088+</title>\n<path fill=\"none\" stroke=\"black\" d=\"M510.15,-139.51C521.8,-144.3 534.35,-149.46 545.4,-154\"/>\n<polygon fill=\"black\" stroke=\"black\" points=\"544.08,-157.25 554.66,-157.81 546.74,-150.77 544.08,-157.25\"/>\n</g>\n<!-- 132255807504288 -->\n<g id=\"node27\" class=\"node\">\n<title>132255807504288</title>\n<polygon fill=\"none\" stroke=\"black\" points=\"1391,-52.5 1391,-121.5 1473,-121.5 1473,-52.5 1391,-52.5\"/>\n<text text-anchor=\"middle\" x=\"1432\" y=\"-106.3\" font-family=\"Times,serif\" font-size=\"14.00\"> </text>\n<polyline fill=\"none\" stroke=\"black\" points=\"1391,-98.5 1473,-98.5 \"/>\n<text text-anchor=\"middle\" x=\"1432\" y=\"-83.3\" font-family=\"Times,serif\" font-size=\"14.00\">data 4.8284</text>\n<polyline fill=\"none\" stroke=\"black\" points=\"1391,-75.5 1473,-75.5 \"/>\n<text text-anchor=\"middle\" x=\"1432\" y=\"-60.3\" font-family=\"Times,serif\" font-size=\"14.00\">grad 0.1464</text>\n</g>\n<!-- 132255807504288&#45;&gt;132255807492144* -->\n<g id=\"edge21\" class=\"edge\">\n<title>132255807504288&#45;&gt;132255807492144*</title>\n<path fill=\"none\" stroke=\"black\" d=\"M1473.27,-93.34C1505.2,-98.37 1550.96,-105.6 1591,-112 1599.67,-113.38 1609.01,-114.89 1617.76,-116.3\"/>\n<polygon fill=\"black\" stroke=\"black\" points=\"1617.23,-119.76 1627.66,-117.9 1618.35,-112.85 1617.23,-119.76\"/>\n</g>\n<!-- 132255807504288&#45;&#45;&gt;132255807504288 -->\n<g id=\"edge10\" class=\"edge\">\n<title>132255807504288&#45;&#45;&gt;132255807504288</title>\n<path fill=\"none\" stroke=\"black\" d=\"M1233.13,-87C1269.18,-87 1334.9,-87 1380.66,-87\"/>\n<polygon fill=\"black\" stroke=\"black\" points=\"1380.68,-90.5 1390.68,-87 1380.68,-83.5 1380.68,-90.5\"/>\n</g>\n</g>\n</svg>\n",
            "text/plain": [
              "<graphviz.graphs.Digraph at 0x7849346cea70>"
            ]
          },
          "metadata": {},
          "execution_count": 101
        }
      ]
    },
    {
      "cell_type": "code",
      "source": [
        "import torch\n",
        "\n",
        "\n",
        "x1 = torch.Tensor([2.0]).double(); x1.requires_grad = True\n",
        "w1 = torch.Tensor([0]).double(); w1.requires_grad = True\n",
        "x2 = torch.Tensor([-3.0]).double(); x2.requires_grad = True\n",
        "w2 = torch.Tensor([1.0]).double(); w2.requires_grad = True\n",
        "\n",
        "b = torch.Tensor([6.88]).double(); b.requires_grad = True\n",
        "\n",
        "n = x1 * w1 + x2 * w2 + b\n",
        "o = torch.tanh(n)\n",
        "\n",
        "print(o.data.item())\n",
        "o.backward()\n",
        "\n",
        "\n",
        "print('======')\n",
        "print('x2', x2.grad.item())\n",
        "print('x2', w2.grad.item())\n",
        "print('x1', x1.grad.item())\n",
        "print('w1', w1.grad.item())"
      ],
      "metadata": {
        "colab": {
          "base_uri": "https://localhost:8080/"
        },
        "id": "yqfG72Cb940J",
        "outputId": "8a486c3f-5b27-4beb-a1f0-54e119207adc"
      },
      "execution_count": null,
      "outputs": [
        {
          "output_type": "stream",
          "name": "stdout",
          "text": [
            "0.99914745060906\n",
            "======\n",
            "x2 0.0017043719414160845\n",
            "x2 -0.0051131158242482535\n",
            "x1 0.0\n",
            "w1 0.003408743882832169\n"
          ]
        }
      ]
    },
    {
      "cell_type": "code",
      "source": [
        "\n",
        "x1 = torch.Tensor([2.0]).double(); x1.requires_grad = True\n",
        "w1 = torch.Tensor([0.9]).double(); w1.requires_grad = True\n",
        "x2 = torch.Tensor([3.0]).double(); x2.requires_grad = True\n",
        "w2 = torch.Tensor([-1.0]).double(); w2.requires_grad = True\n",
        "\n",
        "b = torch.Tensor([-5.0]).double(); b.requires_grad = True\n",
        "\n",
        "n = x1 * w1 + x2 * w2 + b\n",
        "o = torch.tanh(n)\n",
        "\n",
        "print(o.data.item())\n",
        "o.backward()\n",
        "\n",
        "\n",
        "print('======')\n",
        "print('x2', x2.grad.item())\n",
        "print('x2', w2.grad.item())\n",
        "print('x1', x1.grad.item())\n",
        "print('w1', w1.grad.item())"
      ],
      "metadata": {
        "colab": {
          "base_uri": "https://localhost:8080/"
        },
        "id": "uox10QDbJe78",
        "outputId": "b915ac0b-9000-4661-ea8b-974bf90cb33b"
      },
      "execution_count": null,
      "outputs": [
        {
          "output_type": "stream",
          "name": "stdout",
          "text": [
            "-0.9999917628572959\n",
            "======\n",
            "x2 -1.6474217557776724e-05\n",
            "x2 4.942265267333017e-05\n",
            "x1 1.4826795409223097e-05\n",
            "w1 3.294843511555345e-05\n"
          ]
        }
      ]
    },
    {
      "cell_type": "code",
      "source": [
        "import random\n",
        "#single layer\n",
        "class Neuron:\n",
        "  def __init__(self, nin):\n",
        "    self.w = [Value(random.uniform(-1, 1)) for _ in range(nin)]\n",
        "    self.b = Value(random.uniform(-1, 1))\n",
        "\n",
        "  def parameters(self):\n",
        "    return self.w + [self.b]\n",
        "\n",
        "  def __call__(self, x):\n",
        "    #w * x + b\n",
        "    # zip(self.w, x)\n",
        "    activation = sum((wi * xi for wi, xi in zip(self.w, x)), self.b) #initializing sum equal to self.b and adding on top of it\n",
        "    out = activation.tanh()\n",
        "    return out\n",
        "\n",
        "\n",
        "x = [2.0, 3.0]\n",
        "n = Neuron(2)\n",
        "n(x)"
      ],
      "metadata": {
        "colab": {
          "base_uri": "https://localhost:8080/"
        },
        "id": "D_5wKsR0Jwmy",
        "outputId": "778fb9f6-1480-4874-ab73-4547d7b5e31c"
      },
      "execution_count": null,
      "outputs": [
        {
          "output_type": "execute_result",
          "data": {
            "text/plain": [
              "Value (data = 0.9960893966011871)"
            ]
          },
          "metadata": {},
          "execution_count": 175
        }
      ]
    },
    {
      "cell_type": "code",
      "source": [
        "#multiple layers\n",
        "class Layer:\n",
        "  def __init__(self, nin, nout):\n",
        "    self.neurons = [Neuron(nin) for _ in range(nout)]\n",
        "\n",
        "  def parameters(self):\n",
        "    # params = []\n",
        "    # for neuron in self.neurons:\n",
        "    #   ps = neuron.paramters()\n",
        "    #   params.extend(ps)\n",
        "    # return params\n",
        "    return [p for neuron in self.neurons for p in neuron.parameters()]\n",
        "\n",
        "\n",
        "  def __call__(self, x):\n",
        "    out = [n(x) for n in self.neurons]\n",
        "    return out[0] if len(out) == 1 else out\n",
        "\n",
        "\n",
        "x = [2.0, 3.0]\n",
        "n = Layer(2, 3)\n",
        "n(x)"
      ],
      "metadata": {
        "colab": {
          "base_uri": "https://localhost:8080/"
        },
        "id": "fc2E5iOmMq-8",
        "outputId": "075ec2a3-e390-41bf-8da1-0dd16cdcc63b"
      },
      "execution_count": null,
      "outputs": [
        {
          "output_type": "execute_result",
          "data": {
            "text/plain": [
              "[Value (data = 0.9986620079485523),\n",
              " Value (data = -0.9968895174558812),\n",
              " Value (data = -0.9937103818794959)]"
            ]
          },
          "metadata": {},
          "execution_count": 176
        }
      ]
    },
    {
      "cell_type": "code",
      "source": [
        "class MLP:\n",
        "  def __init__(self, nin, nouts):\n",
        "    sz = [nin] + nouts\n",
        "    self.layers = [Layer(sz[i], sz[i+ 1]) for i in range(len(nouts))]\n",
        "\n",
        "\n",
        "  def parameters(self):\n",
        "    return [p for layer in self.layers for p in layer.parameters()]\n",
        "\n",
        "  def __call__(self, x):\n",
        "    for layer in self.layers:\n",
        "      x = layer(x)\n",
        "    return x\n",
        "\n",
        "\n",
        "x = [2.0, 3.0, -1.0]\n",
        "n = MLP(3, [4,4,1]) #three layers with each having one nodes in it...the input layer is x i.e. has three nodes on it\n",
        "n(x)\n"
      ],
      "metadata": {
        "colab": {
          "base_uri": "https://localhost:8080/"
        },
        "id": "zECKFh3CgYjU",
        "outputId": "62139a8a-6e8e-492f-d557-ff19fd6782d1"
      },
      "execution_count": null,
      "outputs": [
        {
          "output_type": "execute_result",
          "data": {
            "text/plain": [
              "Value (data = 0.667576620583414)"
            ]
          },
          "metadata": {},
          "execution_count": 183
        }
      ]
    },
    {
      "cell_type": "code",
      "source": [
        "# draw_dot(n(x))"
      ],
      "metadata": {
        "id": "ErVSUOYDiP-S"
      },
      "execution_count": null,
      "outputs": []
    },
    {
      "cell_type": "code",
      "source": [
        "xs = [\n",
        "    [2, 3, -1],\n",
        "    [3, -1, 0.5],\n",
        "    [0.5, 1, 1],\n",
        "    [1 ,1, -1]\n",
        "]\n",
        "\n",
        "\n",
        "ys = [1, -1, -1, 1]"
      ],
      "metadata": {
        "id": "1g40cA5iilfD"
      },
      "execution_count": null,
      "outputs": []
    },
    {
      "cell_type": "code",
      "source": [
        "ypred = [n(x) for x in xs]\n",
        "loss = sum((yout - yht) ** 2 for yht, yout in zip(ys, ypred))\n",
        "loss"
      ],
      "metadata": {
        "colab": {
          "base_uri": "https://localhost:8080/"
        },
        "id": "18SHi5IUjoUp",
        "outputId": "a33125b1-c6ea-4b7f-edfb-3ffaf4097822"
      },
      "execution_count": null,
      "outputs": [
        {
          "output_type": "execute_result",
          "data": {
            "text/plain": [
              "Value (data = 0.12992790838643037)"
            ]
          },
          "metadata": {},
          "execution_count": 261
        }
      ]
    },
    {
      "cell_type": "code",
      "source": [
        "loss.backward()"
      ],
      "metadata": {
        "id": "h3vPsa0DnUIs"
      },
      "execution_count": null,
      "outputs": []
    },
    {
      "cell_type": "code",
      "source": [
        "for p in n.parameters():\n",
        "  p.data -= 0.01 * p.grad"
      ],
      "metadata": {
        "id": "Pkp5owXdoBU_"
      },
      "execution_count": null,
      "outputs": []
    },
    {
      "cell_type": "code",
      "source": [
        "# n.layers[0].neurons[0].w[0].grad\n",
        "ypred"
      ],
      "metadata": {
        "colab": {
          "base_uri": "https://localhost:8080/"
        },
        "id": "FQ9YslZHn5aN",
        "outputId": "f4178f9e-5ab0-44e7-fc18-e38df2edeb9c"
      },
      "execution_count": null,
      "outputs": [
        {
          "output_type": "execute_result",
          "data": {
            "text/plain": [
              "[Value (data = 0.8405243738902637),\n",
              " Value (data = -0.999134149335222),\n",
              " Value (data = -0.9955576092722607),\n",
              " Value (data = 0.6767741524404548)]"
            ]
          },
          "metadata": {},
          "execution_count": 264
        }
      ]
    },
    {
      "cell_type": "code",
      "source": [
        "# draw_dot(loss)"
      ],
      "metadata": {
        "id": "AU_g3WRcoEFN"
      },
      "execution_count": null,
      "outputs": []
    },
    {
      "cell_type": "code",
      "source": [
        "#Repeat this::\n",
        "ypred = [n(x) for x in xs]\n",
        "loss = sum((yout - yht) ** 2 for yht, yout in zip(ys, ypred))\n",
        "print(loss)\n",
        "loss.backward()\n",
        "for p in n.parameters():\n",
        "  p.data -= 0.01 * p.grad\n",
        "ypred"
      ],
      "metadata": {
        "colab": {
          "base_uri": "https://localhost:8080/"
        },
        "id": "-1TW0PIvoU95",
        "outputId": "a54316f7-57c6-4d23-a9d6-75ec94e5eb8f"
      },
      "execution_count": null,
      "outputs": [
        {
          "output_type": "stream",
          "name": "stdout",
          "text": [
            "Value (data = 1.2293530007899813e-08)\n"
          ]
        },
        {
          "output_type": "execute_result",
          "data": {
            "text/plain": [
              "[Value (data = 0.9999260640215463),\n",
              " Value (data = -0.9999990220686588),\n",
              " Value (data = -0.9999712498008604),\n",
              " Value (data = 0.9999225437491372)]"
            ]
          },
          "metadata": {},
          "execution_count": 287
        }
      ]
    },
    {
      "cell_type": "markdown",
      "source": [
        "here we can see as we rerun this cell multiple time the loss data goes on decreasing and the ypred is approx equal to the ys"
      ],
      "metadata": {
        "id": "VYyX-BcwuR5f"
      }
    },
    {
      "cell_type": "code",
      "source": [
        "n.parameters() #these are my weight and biases [trained one]"
      ],
      "metadata": {
        "colab": {
          "base_uri": "https://localhost:8080/"
        },
        "id": "QkaUKQJYujSQ",
        "outputId": "a1221e32-b779-4d19-832d-d7028039e6e1"
      },
      "execution_count": null,
      "outputs": [
        {
          "output_type": "execute_result",
          "data": {
            "text/plain": [
              "[Value (data = -1.6059188838003848),\n",
              " Value (data = -3.919090702777019),\n",
              " Value (data = 3.26062541250129),\n",
              " Value (data = -2.5658174728185568),\n",
              " Value (data = 2.198271545279142),\n",
              " Value (data = 3.0541791833140057),\n",
              " Value (data = -2.1479743420508703),\n",
              " Value (data = 2.7671426619488875),\n",
              " Value (data = 0.22611237119836772),\n",
              " Value (data = 2.3508822228626785),\n",
              " Value (data = -0.9269100402959847),\n",
              " Value (data = 0.23791065104697978),\n",
              " Value (data = -0.09086947413297673),\n",
              " Value (data = -0.7907942707320443),\n",
              " Value (data = 3.9974246020121003),\n",
              " Value (data = 1.5125306408017176),\n",
              " Value (data = 1.148023516468438),\n",
              " Value (data = 0.7602806448868945),\n",
              " Value (data = -0.26613275196684744),\n",
              " Value (data = 0.22653173740877028),\n",
              " Value (data = -0.8101190071303758),\n",
              " Value (data = 1.014215072484437),\n",
              " Value (data = 2.864036874089211),\n",
              " Value (data = 0.22676611534313473),\n",
              " Value (data = 3.076002262632313),\n",
              " Value (data = 0.5807297247400748),\n",
              " Value (data = 1.23862195942793),\n",
              " Value (data = 0.14590722866832598),\n",
              " Value (data = -0.3611763520271301),\n",
              " Value (data = 2.2464904384172817),\n",
              " Value (data = 0.7947101777067418),\n",
              " Value (data = -2.3406403039919637),\n",
              " Value (data = -1.8264813089475445),\n",
              " Value (data = 2.343033659138578),\n",
              " Value (data = -0.739206865651042),\n",
              " Value (data = -0.0409374740867473),\n",
              " Value (data = -0.6556105002843172),\n",
              " Value (data = -3.3924635930291727),\n",
              " Value (data = -3.1652577393866204),\n",
              " Value (data = 0.7148658675604224),\n",
              " Value (data = -0.5925289537873374)]"
            ]
          },
          "metadata": {},
          "execution_count": 288
        }
      ]
    },
    {
      "cell_type": "code",
      "source": [
        "for k in range(20):\n",
        "  #forward pass\n",
        "  ypred = [n(x) for x in xs]\n",
        "  loss = sum((yout - yht)** 2 for yht, yout in zip(ys, ypred))\n",
        "\n",
        "  #back pass\n",
        "  for p in n.parameters():\n",
        "    p.grad = 0\n",
        "  loss.backward()\n",
        "\n",
        "  #update\n",
        "  for p in n.parameters():\n",
        "\n",
        "    p.data -= 0.01 * p.grad  # here we have p.grad; remember to flush this value in back pass such that it won't accumulate again and again\n",
        "\n",
        "  print(k, loss.data)"
      ],
      "metadata": {
        "colab": {
          "base_uri": "https://localhost:8080/"
        },
        "id": "ARbiqVTEuw_V",
        "outputId": "d8409076-0dc0-41c1-cbdc-e06e3e2ec66f"
      },
      "execution_count": null,
      "outputs": [
        {
          "output_type": "stream",
          "name": "stdout",
          "text": [
            "0 5.638626433679897e-11\n",
            "1 5.6386264285070796e-11\n",
            "2 5.6386264234518086e-11\n",
            "3 5.638626418278992e-11\n",
            "4 5.638626413106174e-11\n",
            "5 5.638626408050939e-11\n",
            "6 5.638626402995668e-11\n",
            "7 5.6386263978228516e-11\n",
            "8 5.638626392650034e-11\n",
            "9 5.638626387594798e-11\n",
            "10 5.638626382539528e-11\n",
            "11 5.638626377366711e-11\n",
            "12 5.6386263721938934e-11\n",
            "13 5.638626367138658e-11\n",
            "14 5.6386263620833875e-11\n",
            "15 5.63862635691057e-11\n",
            "16 5.638626351737753e-11\n",
            "17 5.6386263466825175e-11\n",
            "18 5.638626341627247e-11\n",
            "19 5.63862633645443e-11\n"
          ]
        }
      ]
    },
    {
      "cell_type": "code",
      "source": [
        "ypred"
      ],
      "metadata": {
        "colab": {
          "base_uri": "https://localhost:8080/"
        },
        "id": "V7JGWsUQvOTc",
        "outputId": "f5c6d340-7dc3-480c-d403-cd337d0fd776"
      },
      "execution_count": null,
      "outputs": [
        {
          "output_type": "execute_result",
          "data": {
            "text/plain": [
              "[Value (data = 0.9999947045956272),\n",
              " Value (data = -0.9999999986106696),\n",
              " Value (data = -0.9999994339555406),\n",
              " Value (data = 0.9999947061783527)]"
            ]
          },
          "metadata": {},
          "execution_count": 295
        }
      ]
    },
    {
      "cell_type": "code",
      "source": [],
      "metadata": {
        "id": "JBNOhlpevWBG"
      },
      "execution_count": null,
      "outputs": []
    }
  ]
}