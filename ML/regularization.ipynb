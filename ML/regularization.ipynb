{
 "cells": [
  {
   "cell_type": "code",
   "execution_count": 2,
   "metadata": {},
   "outputs": [],
   "source": [
    "import pandas as pd\n",
    "import numpy as np\n",
    "import matplotlib.pyplot as plt\n",
    "\n",
    "%matplotlib inline"
   ]
  },
  {
   "cell_type": "markdown",
   "metadata": {},
   "source": [
    "### Attribute Information\n",
    "\n",
    "#### **Input Features**\n",
    "All the feature values have already been scaled to a similar range so that you won't have to apply feature scaling.\n",
    "\n",
    "- **Lot No.:** Lot number of the motorcycle. Higher Lot number signifies newer motorcycle.\n",
    "\n",
    "- **Engine Size:** Size of the eingine of the motorcycle.\n",
    "\n",
    "- **Mileage:** Measure of how long the motorcycle runs for a litre of gas.\n",
    "\n",
    "- **KM Run:** Kilometers run on the motorcycle.\n",
    "\n",
    "- **Max Power:** Maximum power output of the motorcycle.\n",
    "\n",
    "\\\n",
    "\n",
    "#### **Target Variable**\n",
    "\n",
    "- **Price:** Resale value of the motorcycle in thousands. Our target variable.\n"
   ]
  },
  {
   "cell_type": "code",
   "execution_count": 4,
   "metadata": {},
   "outputs": [
    {
     "data": {
      "text/html": [
       "<div>\n",
       "<style scoped>\n",
       "    .dataframe tbody tr th:only-of-type {\n",
       "        vertical-align: middle;\n",
       "    }\n",
       "\n",
       "    .dataframe tbody tr th {\n",
       "        vertical-align: top;\n",
       "    }\n",
       "\n",
       "    .dataframe thead th {\n",
       "        text-align: right;\n",
       "    }\n",
       "</style>\n",
       "<table border=\"1\" class=\"dataframe\">\n",
       "  <thead>\n",
       "    <tr style=\"text-align: right;\">\n",
       "      <th></th>\n",
       "      <th>Lot No.</th>\n",
       "      <th>Engine Size</th>\n",
       "      <th>Mileage</th>\n",
       "      <th>KM Run</th>\n",
       "      <th>Max Power</th>\n",
       "      <th>Price</th>\n",
       "    </tr>\n",
       "  </thead>\n",
       "  <tbody>\n",
       "    <tr>\n",
       "      <th>0</th>\n",
       "      <td>0.056646</td>\n",
       "      <td>-1.043517</td>\n",
       "      <td>0.797331</td>\n",
       "      <td>-0.222694</td>\n",
       "      <td>-1.863743</td>\n",
       "      <td>45.026610</td>\n",
       "    </tr>\n",
       "    <tr>\n",
       "      <th>1</th>\n",
       "      <td>0.238778</td>\n",
       "      <td>-0.417864</td>\n",
       "      <td>0.000508</td>\n",
       "      <td>0.866960</td>\n",
       "      <td>-0.312565</td>\n",
       "      <td>39.300833</td>\n",
       "    </tr>\n",
       "    <tr>\n",
       "      <th>2</th>\n",
       "      <td>-1.492397</td>\n",
       "      <td>0.936633</td>\n",
       "      <td>0.785432</td>\n",
       "      <td>-0.091035</td>\n",
       "      <td>2.423967</td>\n",
       "      <td>58.923446</td>\n",
       "    </tr>\n",
       "    <tr>\n",
       "      <th>3</th>\n",
       "      <td>1.132288</td>\n",
       "      <td>-0.583562</td>\n",
       "      <td>0.790543</td>\n",
       "      <td>1.262054</td>\n",
       "      <td>-1.121522</td>\n",
       "      <td>52.101286</td>\n",
       "    </tr>\n",
       "    <tr>\n",
       "      <th>4</th>\n",
       "      <td>1.318906</td>\n",
       "      <td>2.024895</td>\n",
       "      <td>0.996975</td>\n",
       "      <td>1.427730</td>\n",
       "      <td>4.410519</td>\n",
       "      <td>79.322492</td>\n",
       "    </tr>\n",
       "  </tbody>\n",
       "</table>\n",
       "</div>"
      ],
      "text/plain": [
       "    Lot No.  Engine Size   Mileage    KM Run  Max Power      Price\n",
       "0  0.056646    -1.043517  0.797331 -0.222694  -1.863743  45.026610\n",
       "1  0.238778    -0.417864  0.000508  0.866960  -0.312565  39.300833\n",
       "2 -1.492397     0.936633  0.785432 -0.091035   2.423967  58.923446\n",
       "3  1.132288    -0.583562  0.790543  1.262054  -1.121522  52.101286\n",
       "4  1.318906     2.024895  0.996975  1.427730   4.410519  79.322492"
      ]
     },
     "execution_count": 4,
     "metadata": {},
     "output_type": "execute_result"
    }
   ],
   "source": [
    "df = pd.read_csv('https://drive.google.com/uc?id=1zeE911284qKNF1q2mgoIgOa4UXYC9N2i')\n",
    "df.head()"
   ]
  },
  {
   "cell_type": "code",
   "execution_count": 6,
   "metadata": {},
   "outputs": [
    {
     "data": {
      "text/plain": [
       "(500, 6)"
      ]
     },
     "execution_count": 6,
     "metadata": {},
     "output_type": "execute_result"
    }
   ],
   "source": [
    "df.shape"
   ]
  },
  {
   "cell_type": "code",
   "execution_count": 7,
   "metadata": {},
   "outputs": [
    {
     "data": {
      "text/html": [
       "<div>\n",
       "<style scoped>\n",
       "    .dataframe tbody tr th:only-of-type {\n",
       "        vertical-align: middle;\n",
       "    }\n",
       "\n",
       "    .dataframe tbody tr th {\n",
       "        vertical-align: top;\n",
       "    }\n",
       "\n",
       "    .dataframe thead th {\n",
       "        text-align: right;\n",
       "    }\n",
       "</style>\n",
       "<table border=\"1\" class=\"dataframe\">\n",
       "  <thead>\n",
       "    <tr style=\"text-align: right;\">\n",
       "      <th></th>\n",
       "      <th>Lot No.</th>\n",
       "      <th>Engine Size</th>\n",
       "      <th>Mileage</th>\n",
       "      <th>KM Run</th>\n",
       "      <th>Max Power</th>\n",
       "      <th>Price</th>\n",
       "    </tr>\n",
       "  </thead>\n",
       "  <tbody>\n",
       "    <tr>\n",
       "      <th>count</th>\n",
       "      <td>500.000000</td>\n",
       "      <td>500.000000</td>\n",
       "      <td>500.000000</td>\n",
       "      <td>500.000000</td>\n",
       "      <td>500.000000</td>\n",
       "      <td>500.000000</td>\n",
       "    </tr>\n",
       "    <tr>\n",
       "      <th>mean</th>\n",
       "      <td>0.028943</td>\n",
       "      <td>-0.098844</td>\n",
       "      <td>0.011978</td>\n",
       "      <td>0.060914</td>\n",
       "      <td>0.290871</td>\n",
       "      <td>49.271645</td>\n",
       "    </tr>\n",
       "    <tr>\n",
       "      <th>std</th>\n",
       "      <td>1.016772</td>\n",
       "      <td>0.974530</td>\n",
       "      <td>1.037278</td>\n",
       "      <td>1.013258</td>\n",
       "      <td>1.988121</td>\n",
       "      <td>16.567155</td>\n",
       "    </tr>\n",
       "    <tr>\n",
       "      <th>min</th>\n",
       "      <td>-2.983970</td>\n",
       "      <td>-3.051313</td>\n",
       "      <td>-2.570978</td>\n",
       "      <td>-2.720897</td>\n",
       "      <td>-5.797945</td>\n",
       "      <td>0.000000</td>\n",
       "    </tr>\n",
       "    <tr>\n",
       "      <th>25%</th>\n",
       "      <td>-0.628825</td>\n",
       "      <td>-0.754901</td>\n",
       "      <td>-0.713869</td>\n",
       "      <td>-0.557405</td>\n",
       "      <td>-1.055721</td>\n",
       "      <td>38.781717</td>\n",
       "    </tr>\n",
       "    <tr>\n",
       "      <th>50%</th>\n",
       "      <td>0.044120</td>\n",
       "      <td>-0.145722</td>\n",
       "      <td>0.009085</td>\n",
       "      <td>0.059825</td>\n",
       "      <td>0.203102</td>\n",
       "      <td>49.871182</td>\n",
       "    </tr>\n",
       "    <tr>\n",
       "      <th>75%</th>\n",
       "      <td>0.741279</td>\n",
       "      <td>0.595638</td>\n",
       "      <td>0.759851</td>\n",
       "      <td>0.720886</td>\n",
       "      <td>1.687999</td>\n",
       "      <td>59.135314</td>\n",
       "    </tr>\n",
       "    <tr>\n",
       "      <th>max</th>\n",
       "      <td>3.625287</td>\n",
       "      <td>2.811878</td>\n",
       "      <td>3.702458</td>\n",
       "      <td>3.173982</td>\n",
       "      <td>6.536713</td>\n",
       "      <td>100.000000</td>\n",
       "    </tr>\n",
       "  </tbody>\n",
       "</table>\n",
       "</div>"
      ],
      "text/plain": [
       "          Lot No.  Engine Size     Mileage      KM Run   Max Power       Price\n",
       "count  500.000000   500.000000  500.000000  500.000000  500.000000  500.000000\n",
       "mean     0.028943    -0.098844    0.011978    0.060914    0.290871   49.271645\n",
       "std      1.016772     0.974530    1.037278    1.013258    1.988121   16.567155\n",
       "min     -2.983970    -3.051313   -2.570978   -2.720897   -5.797945    0.000000\n",
       "25%     -0.628825    -0.754901   -0.713869   -0.557405   -1.055721   38.781717\n",
       "50%      0.044120    -0.145722    0.009085    0.059825    0.203102   49.871182\n",
       "75%      0.741279     0.595638    0.759851    0.720886    1.687999   59.135314\n",
       "max      3.625287     2.811878    3.702458    3.173982    6.536713  100.000000"
      ]
     },
     "execution_count": 7,
     "metadata": {},
     "output_type": "execute_result"
    }
   ],
   "source": [
    "df.describe()"
   ]
  },
  {
   "cell_type": "code",
   "execution_count": 8,
   "metadata": {},
   "outputs": [
    {
     "data": {
      "text/html": [
       "<div>\n",
       "<style scoped>\n",
       "    .dataframe tbody tr th:only-of-type {\n",
       "        vertical-align: middle;\n",
       "    }\n",
       "\n",
       "    .dataframe tbody tr th {\n",
       "        vertical-align: top;\n",
       "    }\n",
       "\n",
       "    .dataframe thead th {\n",
       "        text-align: right;\n",
       "    }\n",
       "</style>\n",
       "<table border=\"1\" class=\"dataframe\">\n",
       "  <thead>\n",
       "    <tr style=\"text-align: right;\">\n",
       "      <th></th>\n",
       "      <th>Lot No.</th>\n",
       "      <th>Engine Size</th>\n",
       "      <th>Mileage</th>\n",
       "      <th>KM Run</th>\n",
       "      <th>Max Power</th>\n",
       "      <th>Price</th>\n",
       "    </tr>\n",
       "  </thead>\n",
       "  <tbody>\n",
       "    <tr>\n",
       "      <th>Lot No.</th>\n",
       "      <td>1.000000</td>\n",
       "      <td>-0.075511</td>\n",
       "      <td>-0.030721</td>\n",
       "      <td>-0.026450</td>\n",
       "      <td>-0.072469</td>\n",
       "      <td>0.394459</td>\n",
       "    </tr>\n",
       "    <tr>\n",
       "      <th>Engine Size</th>\n",
       "      <td>-0.075511</td>\n",
       "      <td>1.000000</td>\n",
       "      <td>-0.051029</td>\n",
       "      <td>0.043970</td>\n",
       "      <td>0.989369</td>\n",
       "      <td>0.487538</td>\n",
       "    </tr>\n",
       "    <tr>\n",
       "      <th>Mileage</th>\n",
       "      <td>-0.030721</td>\n",
       "      <td>-0.051029</td>\n",
       "      <td>1.000000</td>\n",
       "      <td>-0.066603</td>\n",
       "      <td>-0.045527</td>\n",
       "      <td>0.610832</td>\n",
       "    </tr>\n",
       "    <tr>\n",
       "      <th>KM Run</th>\n",
       "      <td>-0.026450</td>\n",
       "      <td>0.043970</td>\n",
       "      <td>-0.066603</td>\n",
       "      <td>1.000000</td>\n",
       "      <td>0.045637</td>\n",
       "      <td>-0.385401</td>\n",
       "    </tr>\n",
       "    <tr>\n",
       "      <th>Max Power</th>\n",
       "      <td>-0.072469</td>\n",
       "      <td>0.989369</td>\n",
       "      <td>-0.045527</td>\n",
       "      <td>0.045637</td>\n",
       "      <td>1.000000</td>\n",
       "      <td>0.485464</td>\n",
       "    </tr>\n",
       "    <tr>\n",
       "      <th>Price</th>\n",
       "      <td>0.394459</td>\n",
       "      <td>0.487538</td>\n",
       "      <td>0.610832</td>\n",
       "      <td>-0.385401</td>\n",
       "      <td>0.485464</td>\n",
       "      <td>1.000000</td>\n",
       "    </tr>\n",
       "  </tbody>\n",
       "</table>\n",
       "</div>"
      ],
      "text/plain": [
       "              Lot No.  Engine Size   Mileage    KM Run  Max Power     Price\n",
       "Lot No.      1.000000    -0.075511 -0.030721 -0.026450  -0.072469  0.394459\n",
       "Engine Size -0.075511     1.000000 -0.051029  0.043970   0.989369  0.487538\n",
       "Mileage     -0.030721    -0.051029  1.000000 -0.066603  -0.045527  0.610832\n",
       "KM Run      -0.026450     0.043970 -0.066603  1.000000   0.045637 -0.385401\n",
       "Max Power   -0.072469     0.989369 -0.045527  0.045637   1.000000  0.485464\n",
       "Price        0.394459     0.487538  0.610832 -0.385401   0.485464  1.000000"
      ]
     },
     "execution_count": 8,
     "metadata": {},
     "output_type": "execute_result"
    }
   ],
   "source": [
    "df.corr()"
   ]
  },
  {
   "cell_type": "code",
   "execution_count": 5,
   "metadata": {},
   "outputs": [],
   "source": [
    "X = df.drop('Price', axis = 1)\n",
    "y = df['Price']\n"
   ]
  },
  {
   "cell_type": "code",
   "execution_count": 11,
   "metadata": {},
   "outputs": [
    {
     "name": "stdout",
     "output_type": "stream",
     "text": [
      "6.537122197504815 1.683778569107865\n"
     ]
    }
   ],
   "source": [
    "from sklearn.linear_model import LinearRegression\n",
    "from sklearn.metrics import mean_squared_error as mse, median_absolute_error as mae\n",
    "\n",
    "model = LinearRegression().fit(X, y)\n",
    "ypred = model.predict(X)\n",
    "print(mse(y, ypred), mae(y, ypred))"
   ]
  },
  {
   "cell_type": "code",
   "execution_count": 13,
   "metadata": {},
   "outputs": [
    {
     "data": {
      "text/plain": [
       "0      4.886867\n",
       "1      3.594386\n",
       "2     -2.059584\n",
       "3      1.396812\n",
       "4      1.858185\n",
       "         ...   \n",
       "495   -1.455648\n",
       "496    0.211151\n",
       "497   -0.678169\n",
       "498    4.007883\n",
       "499   -4.897724\n",
       "Name: Price, Length: 500, dtype: float64"
      ]
     },
     "execution_count": 13,
     "metadata": {},
     "output_type": "execute_result"
    }
   ],
   "source": [
    "residuals = ypred - y\n",
    "residuals"
   ]
  },
  {
   "cell_type": "markdown",
   "metadata": {},
   "source": [
    "Multiple collinearity is a situation where there is a strong linear relationship between two or more predictor variables in a regression model. It occurs when two or more predictor variables are highly correlated with each other.\n",
    "\n",
    "The significance of multiple collinearity lies in its potential to impact the performance of a regression model. It can lead to increased variance, increased standard errors, and reduced prediction accuracy. Multiple collinearity can make it challenging to estimate the coefficients accurately, interpret their significance, and make reliable predictions. It is therefore important to address multiple collinearity when building regression models to ensure their reliability and validity.\n",
    "\n",
    "## to remove this::\n",
    "There are several methods to address multiple collinearity in regression models:\n",
    "\n",
    "Variance Inflation Factor (VIF): The VIF is a statistical measure that can be used to assess the degree of collinearity among predictor variables. Variables with a high VIF value (typically above 5) indicate high collinearity. By examining the VIF values, you can identify variables that are highly collinear and consider removing them from the model.\n",
    "\n",
    "Principal Component Regression (PCR): PCR is a technique that reduces the dimensionality of the data by projecting it onto a lower-dimensional space while retaining the most important information. By performing PCR, you can identify the most important variables and remove the less important ones, reducing the collinearity."
   ]
  },
  {
   "cell_type": "code",
   "execution_count": 16,
   "metadata": {},
   "outputs": [
    {
     "name": "stdout",
     "output_type": "stream",
     "text": [
      "[1.0087076423300199, 12.616827778300836, 1.0089247045274492, 1.010388194748689, 12.603910494981058]\n"
     ]
    }
   ],
   "source": [
    "from statsmodels.stats.outliers_influence import variance_inflation_factor\n",
    "\n",
    "VIF = [variance_inflation_factor(X.values, i) for i in range(X.shape[1])] \n",
    "print(VIF)"
   ]
  },
  {
   "cell_type": "code",
   "execution_count": 17,
   "metadata": {},
   "outputs": [],
   "source": [
    "#This shows that the multicolinearity is a problem and specially on the 4th indexed column\n",
    "\n",
    "#remove 4th index column from X dataframe\n",
    "X = X.drop('Max Power', axis = 1)"
   ]
  },
  {
   "cell_type": "markdown",
   "metadata": {},
   "source": [
    "## check for homoscedasticity\n",
    "\n",
    "Homoscedasticity refers to the property of a regression model where the variance of the residuals (i.e., the errors) remains constant across different levels of the dependent variable.\n",
    "\n",
    "The significance of homoscedasticity lies in its impact on the interpretation and estimation of regression coefficients. When the residuals have homoscedasticity, it means that the variance of the errors is constant, regardless of the level of the dependent variable. This property allows for the estimation of the regression coefficients with high accuracy and provides a basis for interpreting the significance of the coefficients.\n",
    "\n",
    "On the other hand, when the residuals exhibit heteroscedasticity (i.e., non-constant variance), it can make it challenging to estimate the regression coefficients accurately and interpret the significance of the coefficients. Heteroscedasticity can lead to issues such as biased estimates, inflated standard errors, and reduced prediction accuracy. Therefore, it is important to assess the homoscedasticity of the residuals in a regression model to ensure the validity and reliability of the results."
   ]
  },
  {
   "cell_type": "code",
   "execution_count": 18,
   "metadata": {},
   "outputs": [
    {
     "data": {
      "image/png": "[encoded data removed]",
      "text/plain": [
       "<Figure size 640x480 with 1 Axes>"
      ]
     },
     "metadata": {},
     "output_type": "display_data"
    }
   ],
   "source": [
    "x_ax = range(500)\n",
    "\n",
    "plt.scatter(x_ax, residuals)\n",
    "plt.title('Varaince of Residuals')\n",
    "plt.xlabel('Fitted Value')\n",
    "plt.ylabel('Residuals')\n",
    "plt.show()"
   ]
  },
  {
   "cell_type": "code",
   "execution_count": null,
   "metadata": {},
   "outputs": [],
   "source": []
  }
 ],
 "metadata": {
  "kernelspec": {
   "display_name": "Python 3",
   "language": "python",
   "name": "python3"
  },
  "language_info": {
   "codemirror_mode": {
    "name": "ipython",
    "version": 3
   },
   "file_extension": ".py",
   "mimetype": "text/x-python",
   "name": "python",
   "nbconvert_exporter": "python",
   "pygments_lexer": "ipython3",
   "version": "3.12.2"
  }
 },
 "nbformat": 4,
 "nbformat_minor": 2
}
